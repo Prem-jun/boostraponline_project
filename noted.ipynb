{
 "cells": [
  {
   "cell_type": "code",
   "execution_count": 10,
   "metadata": {},
   "outputs": [],
   "source": [
    "import numpy as np\n",
    "import statistics"
   ]
  },
  {
   "cell_type": "code",
   "execution_count": 2,
   "metadata": {},
   "outputs": [
    {
     "data": {
      "text/plain": [
       "np.float64(2.0)"
      ]
     },
     "execution_count": 2,
     "metadata": {},
     "output_type": "execute_result"
    }
   ],
   "source": [
    "np.mean([1,2,3])"
   ]
  },
  {
   "cell_type": "code",
   "execution_count": 5,
   "metadata": {},
   "outputs": [],
   "source": [
    "data= [1,2,3,4]\n",
    "new = [3]*len(data)"
   ]
  },
  {
   "cell_type": "code",
   "execution_count": 14,
   "metadata": {},
   "outputs": [
    {
     "data": {
      "text/plain": [
       "1.2909944487358056"
      ]
     },
     "execution_count": 14,
     "metadata": {},
     "output_type": "execute_result"
    }
   ],
   "source": [
    "statistics.stdev(data)"
   ]
  },
  {
   "cell_type": "code",
   "execution_count": 8,
   "metadata": {},
   "outputs": [
    {
     "data": {
      "text/plain": [
       "[4, 1, 0, 1]"
      ]
     },
     "execution_count": 8,
     "metadata": {},
     "output_type": "execute_result"
    }
   ],
   "source": [
    "list(map(lambda a, b: (a - b)**2, data, new))"
   ]
  },
  {
   "cell_type": "code",
   "execution_count": 1,
   "metadata": {},
   "outputs": [],
   "source": [
    "data = [[1,2],[3,4]]"
   ]
  },
  {
   "cell_type": "code",
   "execution_count": 2,
   "metadata": {},
   "outputs": [],
   "source": [
    "import numpy as np"
   ]
  },
  {
   "cell_type": "code",
   "execution_count": 4,
   "metadata": {},
   "outputs": [
    {
     "data": {
      "text/plain": [
       "np.int64(1)"
      ]
     },
     "execution_count": 4,
     "metadata": {},
     "output_type": "execute_result"
    }
   ],
   "source": [
    "np.min(data)"
   ]
  },
  {
   "cell_type": "code",
   "execution_count": 1,
   "metadata": {},
   "outputs": [],
   "source": [
    "import pandas as pd\n",
    "file_name = 'laptop_prices.csv'\n",
    "col_name = 'Price_euros'"
   ]
  },
  {
   "cell_type": "code",
   "execution_count": 2,
   "metadata": {},
   "outputs": [],
   "source": [
    "df = pd.read_csv(file_name)"
   ]
  },
  {
   "cell_type": "code",
   "execution_count": 3,
   "metadata": {},
   "outputs": [
    {
     "data": {
      "text/plain": [
       "(1275, 23)"
      ]
     },
     "execution_count": 3,
     "metadata": {},
     "output_type": "execute_result"
    }
   ],
   "source": [
    "df.shape"
   ]
  },
  {
   "cell_type": "code",
   "execution_count": 5,
   "metadata": {},
   "outputs": [
    {
     "data": {
      "text/plain": [
       "0       1339.69\n",
       "1        898.94\n",
       "2        575.00\n",
       "3       2537.45\n",
       "4       1803.60\n",
       "         ...   \n",
       "1270     638.00\n",
       "1271    1499.00\n",
       "1272     229.00\n",
       "1273     764.00\n",
       "1274     369.00\n",
       "Name: Price_euros, Length: 1275, dtype: float64"
      ]
     },
     "execution_count": 5,
     "metadata": {},
     "output_type": "execute_result"
    }
   ],
   "source": [
    "df['Price_euros']\n"
   ]
  },
  {
   "cell_type": "markdown",
   "metadata": {},
   "source": [
    "# Create latex code for import the data table from xcel file"
   ]
  },
  {
   "cell_type": "code",
   "execution_count": 36,
   "metadata": {},
   "outputs": [],
   "source": [
    "import pandas as pd\n",
    "import numpy as np\n",
    "import os\n",
    "\n",
    "def get_file_format(filename):\n",
    "    # Extract the file extension\n",
    "    if '.' in filename:\n",
    "        file_extension = filename.rsplit('.', 1)[1].lower()\n",
    "        return file_extension\n",
    "    else:\n",
    "        return None\n",
    "    \n",
    "def dataframe_to_latex(df):\n",
    "    latex_table = \"\\\\begin{tabular}{\" + \"|c\" * len(df.columns) + \"|}\\n\\\\hline\\n\"\n",
    "    # Header\n",
    "    header = \" & \".join(df.columns) + \" \\\\\\\\ \\\\hline\\n\"\n",
    "    latex_table += header\n",
    "    # Rows\n",
    "    for index, row in df.iterrows():\n",
    "        line = \" & \".join(map(str, row.tolist())) + \" \\\\\\\\ \\\\hline\\n\"\n",
    "        latex_table += line\n",
    "    latex_table += \"\\\\end{tabular}\"\n",
    "    return latex_table"
   ]
  },
  {
   "cell_type": "code",
   "execution_count": 48,
   "metadata": {},
   "outputs": [
    {
     "data": {
      "text/html": [
       "<div>\n",
       "<style scoped>\n",
       "    .dataframe tbody tr th:only-of-type {\n",
       "        vertical-align: middle;\n",
       "    }\n",
       "\n",
       "    .dataframe tbody tr th {\n",
       "        vertical-align: top;\n",
       "    }\n",
       "\n",
       "    .dataframe thead th {\n",
       "        text-align: right;\n",
       "    }\n",
       "</style>\n",
       "<table border=\"1\" class=\"dataframe\">\n",
       "  <thead>\n",
       "    <tr style=\"text-align: right;\">\n",
       "      <th></th>\n",
       "      <th>method</th>\n",
       "      <th>samp/ch_size</th>\n",
       "      <th>error_l</th>\n",
       "      <th>error_r</th>\n",
       "      <th>error_range</th>\n",
       "      <th>n_learn_l</th>\n",
       "      <th>n_learn_r</th>\n",
       "    </tr>\n",
       "  </thead>\n",
       "  <tbody>\n",
       "    <tr>\n",
       "      <th>0</th>\n",
       "      <td>Online BT</td>\n",
       "      <td>50</td>\n",
       "      <td>-0.02</td>\n",
       "      <td>6.36</td>\n",
       "      <td>6.38</td>\n",
       "      <td>118.31</td>\n",
       "      <td>1.57</td>\n",
       "    </tr>\n",
       "    <tr>\n",
       "      <th>1</th>\n",
       "      <td>Online BT</td>\n",
       "      <td>100</td>\n",
       "      <td>-0.02</td>\n",
       "      <td>6.36</td>\n",
       "      <td>6.38</td>\n",
       "      <td>231.36</td>\n",
       "      <td>1.40</td>\n",
       "    </tr>\n",
       "    <tr>\n",
       "      <th>2</th>\n",
       "      <td>Online BT</td>\n",
       "      <td>500</td>\n",
       "      <td>-0.02</td>\n",
       "      <td>6.36</td>\n",
       "      <td>6.38</td>\n",
       "      <td>609.00</td>\n",
       "      <td>4.00</td>\n",
       "    </tr>\n",
       "    <tr>\n",
       "      <th>3</th>\n",
       "      <td>Min-max online BT</td>\n",
       "      <td>50</td>\n",
       "      <td>-0.04</td>\n",
       "      <td>6.36</td>\n",
       "      <td>6.40</td>\n",
       "      <td>165.67</td>\n",
       "      <td>1.33</td>\n",
       "    </tr>\n",
       "    <tr>\n",
       "      <th>4</th>\n",
       "      <td>Min-max online BT</td>\n",
       "      <td>100</td>\n",
       "      <td>-0.04</td>\n",
       "      <td>6.96</td>\n",
       "      <td>7.00</td>\n",
       "      <td>248.58</td>\n",
       "      <td>1.00</td>\n",
       "    </tr>\n",
       "  </tbody>\n",
       "</table>\n",
       "</div>"
      ],
      "text/plain": [
       "              method  samp/ch_size  error_l  error_r  error_range  n_learn_l  \\\n",
       "0          Online BT            50    -0.02     6.36         6.38     118.31   \n",
       "1          Online BT           100    -0.02     6.36         6.38     231.36   \n",
       "2          Online BT           500    -0.02     6.36         6.38     609.00   \n",
       "3  Min-max online BT            50    -0.04     6.36         6.40     165.67   \n",
       "4  Min-max online BT           100    -0.04     6.96         7.00     248.58   \n",
       "\n",
       "   n_learn_r  \n",
       "0       1.57  \n",
       "1       1.40  \n",
       "2       4.00  \n",
       "3       1.33  \n",
       "4       1.00  "
      ]
     },
     "execution_count": 48,
     "metadata": {},
     "output_type": "execute_result"
    }
   ],
   "source": [
    "folder = './config_sim_data/wald'\n",
    "filename = 'result_all_wald.xlsx'\n",
    "pathfile = os.path.join(folder,filename)\n",
    "sheet_name = 'waldm1sd2n10000'\n",
    "format = get_file_format(filename)\n",
    "if format =='xlsx':\n",
    "    df = pd.read_excel(pathfile,sheet_name = sheet_name)\n",
    "df = df.round(2)\n",
    "df.head()"
   ]
  },
  {
   "cell_type": "code",
   "execution_count": 49,
   "metadata": {},
   "outputs": [
    {
     "name": "stdout",
     "output_type": "stream",
     "text": [
      "LaTeX code has been written to result_all_wald.xlsx\n"
     ]
    }
   ],
   "source": [
    "latex_code = dataframe_to_latex(df)\n",
    "filename_latex = 'latex_'+sheet_name+'result_all_wald.txt'\n",
    "pathfile_latex = os.path.join(folder,filename_latex)\n",
    "# Write latex_code to the specified file\n",
    "with open(pathfile_latex, 'w') as file:\n",
    "    file.write(latex_code)\n",
    "\n",
    "print(f\"LaTeX code has been written to {filename}\")"
   ]
  },
  {
   "cell_type": "code",
   "execution_count": null,
   "metadata": {},
   "outputs": [],
   "source": []
  }
 ],
 "metadata": {
  "kernelspec": {
   "display_name": "Python 3",
   "language": "python",
   "name": "python3"
  },
  "language_info": {
   "codemirror_mode": {
    "name": "ipython",
    "version": 3
   },
   "file_extension": ".py",
   "mimetype": "text/x-python",
   "name": "python",
   "nbconvert_exporter": "python",
   "pygments_lexer": "ipython3",
   "version": "3.9.19"
  }
 },
 "nbformat": 4,
 "nbformat_minor": 2
}
