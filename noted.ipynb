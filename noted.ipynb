{
 "cells": [
  {
   "cell_type": "code",
   "execution_count": 82,
   "metadata": {},
   "outputs": [],
   "source": [
    "import numpy as np\n",
    "import statistics"
   ]
  },
  {
   "cell_type": "code",
   "execution_count": 83,
   "metadata": {},
   "outputs": [
    {
     "data": {
      "text/plain": [
       "np.float64(2.0)"
      ]
     },
     "execution_count": 83,
     "metadata": {},
     "output_type": "execute_result"
    }
   ],
   "source": [
    "np.mean([1,2,3])"
   ]
  },
  {
   "cell_type": "code",
   "execution_count": 84,
   "metadata": {},
   "outputs": [],
   "source": [
    "data= [1,2,3,4]\n",
    "new = [3]*len(data)"
   ]
  },
  {
   "cell_type": "code",
   "execution_count": 85,
   "metadata": {},
   "outputs": [
    {
     "data": {
      "text/plain": [
       "1.2909944487358056"
      ]
     },
     "execution_count": 85,
     "metadata": {},
     "output_type": "execute_result"
    }
   ],
   "source": [
    "statistics.stdev(data)"
   ]
  },
  {
   "cell_type": "code",
   "execution_count": 86,
   "metadata": {},
   "outputs": [
    {
     "data": {
      "text/plain": [
       "[4, 1, 0, 1]"
      ]
     },
     "execution_count": 86,
     "metadata": {},
     "output_type": "execute_result"
    }
   ],
   "source": [
    "list(map(lambda a, b: (a - b)**2, data, new))"
   ]
  },
  {
   "cell_type": "code",
   "execution_count": 87,
   "metadata": {},
   "outputs": [],
   "source": [
    "data = [[1,2],[3,4]]"
   ]
  },
  {
   "cell_type": "code",
   "execution_count": 88,
   "metadata": {},
   "outputs": [],
   "source": [
    "import numpy as np"
   ]
  },
  {
   "cell_type": "code",
   "execution_count": 89,
   "metadata": {},
   "outputs": [
    {
     "data": {
      "text/plain": [
       "np.int64(1)"
      ]
     },
     "execution_count": 89,
     "metadata": {},
     "output_type": "execute_result"
    }
   ],
   "source": [
    "np.min(data)"
   ]
  },
  {
   "cell_type": "code",
   "execution_count": 90,
   "metadata": {},
   "outputs": [],
   "source": [
    "import pandas as pd\n",
    "file_name = 'laptop_prices.csv'\n",
    "col_name = 'Price_euros'"
   ]
  },
  {
   "cell_type": "code",
   "execution_count": 91,
   "metadata": {},
   "outputs": [],
   "source": [
    "df = pd.read_csv(file_name)"
   ]
  },
  {
   "cell_type": "code",
   "execution_count": 92,
   "metadata": {},
   "outputs": [
    {
     "data": {
      "text/plain": [
       "(1275, 23)"
      ]
     },
     "execution_count": 92,
     "metadata": {},
     "output_type": "execute_result"
    }
   ],
   "source": [
    "df.shape"
   ]
  },
  {
   "cell_type": "code",
   "execution_count": 93,
   "metadata": {},
   "outputs": [
    {
     "data": {
      "text/plain": [
       "0       1339.69\n",
       "1        898.94\n",
       "2        575.00\n",
       "3       2537.45\n",
       "4       1803.60\n",
       "         ...   \n",
       "1270     638.00\n",
       "1271    1499.00\n",
       "1272     229.00\n",
       "1273     764.00\n",
       "1274     369.00\n",
       "Name: Price_euros, Length: 1275, dtype: float64"
      ]
     },
     "execution_count": 93,
     "metadata": {},
     "output_type": "execute_result"
    }
   ],
   "source": [
    "df['Price_euros']\n"
   ]
  },
  {
   "cell_type": "markdown",
   "metadata": {},
   "source": [
    "# Create latex code for import the data table from xcel file"
   ]
  },
  {
   "cell_type": "code",
   "execution_count": 81,
   "metadata": {},
   "outputs": [],
   "source": [
    "import pandas as pd\n",
    "import numpy as np\n",
    "import os\n",
    "\n",
    "def get_file_format(filename):\n",
    "    # Extract the file extension\n",
    "    if '.' in filename:\n",
    "        file_extension = filename.rsplit('.', 1)[1].lower()\n",
    "        return file_extension\n",
    "    else:\n",
    "        return None\n",
    "    \n",
    "def dataframe_to_latex(df):\n",
    "    latex_table = \"\\\\begin{tabular}{\" + \"|c\" * len(df.columns) + \"|}\\n\\\\hline\\n\"\n",
    "    # Header\n",
    "    header = \" & \".join(df.columns) + \" \\\\\\\\ \\\\hline\\n\"\n",
    "    latex_table += header\n",
    "    # Rows\n",
    "    for index, row in df.iterrows():\n",
    "        line = \" & \".join(map(str, row.tolist())) + \" \\\\\\\\ \\\\hline\\n\"\n",
    "        latex_table += line\n",
    "    latex_table += \"\\\\end{tabular}\"\n",
    "    return latex_table"
   ]
  },
  {
   "cell_type": "code",
   "execution_count": 82,
   "metadata": {},
   "outputs": [
    {
     "data": {
      "text/html": [
       "<div>\n",
       "<style scoped>\n",
       "    .dataframe tbody tr th:only-of-type {\n",
       "        vertical-align: middle;\n",
       "    }\n",
       "\n",
       "    .dataframe tbody tr th {\n",
       "        vertical-align: top;\n",
       "    }\n",
       "\n",
       "    .dataframe thead th {\n",
       "        text-align: right;\n",
       "    }\n",
       "</style>\n",
       "<table border=\"1\" class=\"dataframe\">\n",
       "  <thead>\n",
       "    <tr style=\"text-align: right;\">\n",
       "      <th></th>\n",
       "      <th>method</th>\n",
       "      <th>samp/ch_size</th>\n",
       "      <th>error_l</th>\n",
       "      <th>error_r</th>\n",
       "      <th>error_range</th>\n",
       "      <th>n_learn_l</th>\n",
       "      <th>n_learn_r</th>\n",
       "    </tr>\n",
       "  </thead>\n",
       "  <tbody>\n",
       "    <tr>\n",
       "      <th>0</th>\n",
       "      <td>Online BT</td>\n",
       "      <td>50</td>\n",
       "      <td>-0.02</td>\n",
       "      <td>6.36</td>\n",
       "      <td>6.38</td>\n",
       "      <td>118.31</td>\n",
       "      <td>1.57</td>\n",
       "    </tr>\n",
       "    <tr>\n",
       "      <th>1</th>\n",
       "      <td>Online BT</td>\n",
       "      <td>100</td>\n",
       "      <td>-0.02</td>\n",
       "      <td>6.36</td>\n",
       "      <td>6.38</td>\n",
       "      <td>231.36</td>\n",
       "      <td>1.40</td>\n",
       "    </tr>\n",
       "    <tr>\n",
       "      <th>2</th>\n",
       "      <td>Online BT</td>\n",
       "      <td>500</td>\n",
       "      <td>-0.02</td>\n",
       "      <td>6.36</td>\n",
       "      <td>6.38</td>\n",
       "      <td>609.00</td>\n",
       "      <td>4.00</td>\n",
       "    </tr>\n",
       "    <tr>\n",
       "      <th>3</th>\n",
       "      <td>Min-max online BT</td>\n",
       "      <td>50</td>\n",
       "      <td>-0.04</td>\n",
       "      <td>6.36</td>\n",
       "      <td>6.40</td>\n",
       "      <td>165.67</td>\n",
       "      <td>1.33</td>\n",
       "    </tr>\n",
       "    <tr>\n",
       "      <th>4</th>\n",
       "      <td>Min-max online BT</td>\n",
       "      <td>100</td>\n",
       "      <td>-0.04</td>\n",
       "      <td>6.96</td>\n",
       "      <td>7.00</td>\n",
       "      <td>248.58</td>\n",
       "      <td>1.00</td>\n",
       "    </tr>\n",
       "  </tbody>\n",
       "</table>\n",
       "</div>"
      ],
      "text/plain": [
       "              method  samp/ch_size  error_l  error_r  error_range  n_learn_l  \\\n",
       "0          Online BT            50    -0.02     6.36         6.38     118.31   \n",
       "1          Online BT           100    -0.02     6.36         6.38     231.36   \n",
       "2          Online BT           500    -0.02     6.36         6.38     609.00   \n",
       "3  Min-max online BT            50    -0.04     6.36         6.40     165.67   \n",
       "4  Min-max online BT           100    -0.04     6.96         7.00     248.58   \n",
       "\n",
       "   n_learn_r  \n",
       "0       1.57  \n",
       "1       1.40  \n",
       "2       4.00  \n",
       "3       1.33  \n",
       "4       1.00  "
      ]
     },
     "execution_count": 82,
     "metadata": {},
     "output_type": "execute_result"
    }
   ],
   "source": [
    "folder = './config_sim_data/wald'\n",
    "filename = 'result_all_wald.xlsx'\n",
    "pathfile = os.path.join(folder,filename)\n",
    "sheet_name = 'waldm1sd2n10000'\n",
    "format = get_file_format(filename)\n",
    "if format =='xlsx':\n",
    "    df = pd.read_excel(pathfile,sheet_name = sheet_name)\n",
    "df = df.round(2)\n",
    "df.head()"
   ]
  },
  {
   "cell_type": "code",
   "execution_count": 96,
   "metadata": {},
   "outputs": [
    {
     "name": "stdout",
     "output_type": "stream",
     "text": [
      "LaTeX code has been written to result_all_wald.xlsx\n"
     ]
    }
   ],
   "source": [
    "latex_code = dataframe_to_latex(df)\n",
    "filename_latex = 'latex_'+sheet_name+'result_all_wald.txt'\n",
    "pathfile_latex = os.path.join(folder,filename_latex)\n",
    "# Write latex_code to the specified file\n",
    "with open(pathfile_latex, 'w') as file:\n",
    "    file.write(latex_code)\n",
    "\n",
    "print(f\"LaTeX code has been written to {filename}\")"
   ]
  },
  {
   "cell_type": "markdown",
   "metadata": {},
   "source": [
    "# **Analysing results**"
   ]
  },
  {
   "cell_type": "code",
   "execution_count": 10,
   "metadata": {},
   "outputs": [],
   "source": [
    "import pickle, os\n",
    "import pandas as pd\n",
    "import numpy as np\n",
    "import openpyxl\n",
    "from typing import List, Union, Dict\n",
    "from dataclasses import dataclass, field\n",
    "import lib_boostrap"
   ]
  },
  {
   "cell_type": "code",
   "execution_count": 35,
   "metadata": {},
   "outputs": [],
   "source": [
    "import plotly.graph_objects as go\n",
    "import plotly.io as pio\n",
    "@dataclass\n",
    "class Res_boostrap:\n",
    "    net_name: str = ''\n",
    "    net:lib_boostrap.booststream = field(default_factory=lib_boostrap.booststream) \n",
    "    chunk_size: int=0\n",
    "    num_chunk: int =0\n",
    "    exp_l:List[float] = field(default_factory=list)\n",
    "    exp_r:List[float] = field(default_factory=list)\n",
    "    exp_range:List[float] =field(default_factory=list)\n",
    "    nlearnl:List[float] =field(default_factory=list)\n",
    "    nlearnr:List[float] =field(default_factory=list)\n",
    "    \n",
    "    def add_init_params(self, net:lib_boostrap.booststream, cum:bool=False):\n",
    "        # add net_name attributes.\n",
    "        self.net = net\n",
    "        if self.net.online:\n",
    "            if not self.net.minmax_boost:\n",
    "                self.net_name = 'online' if not cum else 'online_cum'\n",
    "            else:\n",
    "                self.net_name = 'online_mm' if not cum else 'online_mm_cum'\n",
    "        else:\n",
    "            self.net_name = 'offline'\n",
    "        \n",
    "            \n",
    "    \n",
    "    def add_params(self,net:lib_boostrap.booststream):\n",
    "        self.net = net\n",
    "        if self.num_chunk == 0:\n",
    "            self.chunk_size = self.net.chunk_size\n",
    "        self.num_chunk +=1\n",
    "        self.exp_l.append(self.net.exp_l)\n",
    "        self.exp_r.append(self.net.exp_r)\n",
    "        self.exp_range.append(self.net.range)\n",
    "        if len(self.nlearnl) == 0:\n",
    "            self.nlearnl.append(0)\n",
    "        else: \n",
    "            self.nlearnl.append(self.net.nlearn_l[-1])\n",
    "        if len(self.nlearnr) == 0:\n",
    "            self.nlearnr.append(0)\n",
    "        else:    \n",
    "            self.nlearnr.append(self.net.nlearn_r[-1])\n",
    "\n",
    "\n",
    "\n",
    "def plot_err_line(error_list:List, name:List,filesave:str, yaxis_title:str = 'range error',xaxis_title:str = 'Chunk No.',color_list:List =  ['brown','blue','green']):\n",
    "    # Sample data for the line plots\n",
    "    x = [i for i in range(len(error_list[0]))]  # Common x-axis\n",
    "\n",
    "    \"\"\"\n",
    "    # Data for three different lines\n",
    "    y1 = exp_l[0][0]     # First line\n",
    "    y2 = exp_l[0][1]     # Second line\n",
    "    y3 = exp_l[0][2]     # Third line\n",
    "    \"\"\"\n",
    "    # Create a figure\n",
    "    fig = go.Figure()\n",
    "    color = ['brown','blue','green']\n",
    "    for i in range(len(error_list)):\n",
    "        fig.add_trace(go.Scatter(x=x, y=error_list[i], mode='lines+markers', name=name[i], line=dict(color=color_list[i])))  \n",
    "    # Update layout with titles and labels\n",
    "    fig.update_layout(\n",
    "        # title='Three Line Plots with Base Value Line',\n",
    "        xaxis_title=xaxis_title,\n",
    "        yaxis_title=yaxis_title,\n",
    "        legend_title='Lines',\n",
    "        template='plotly'\n",
    "    )\n",
    "    pio.write_image(fig, filesave+'.png')  \n",
    "    fig.show()\n",
    "\n",
    "def plot_nlearn_line(nlearnl:List, name:List, filesave:str,yaxis_title:str = 'numbers of samples for boostraping',xaxis_title:str = 'Chunk No.',color_list:List =  ['brown','blue','green']):\n",
    "    # Sample data for the line plots\n",
    "    x = [i for i in range(len(nlearnl[0]))]  # Common x-axis\n",
    "    # Create a figure\n",
    "    fig = go.Figure()\n",
    "   \n",
    "    for i in range(len(nlearnl)-1):\n",
    "        fig.add_trace(go.Scatter(x=x, y=nlearnl[i], mode='lines+markers', name=name[i], line=dict(color=color_list[i])))  \n",
    "    # Update layout with titles and labels\n",
    "    fig.update_layout(\n",
    "        # title='Three Line Plots with Base Value Line',\n",
    "        xaxis_title=xaxis_title,\n",
    "        yaxis_title=yaxis_title,\n",
    "        legend_title='Lines',\n",
    "        template='plotly'\n",
    "    )  \n",
    "    pio.write_image(fig, filesave+'.png')\n",
    "    fig.show()\n",
    "    \n",
    "    \n",
    "def plot_minmax_line(exp_l:List, exp_r:List, name_l:List,name_r:List, popminmax:List,filesave:str,yaxis_title:str = 'Value',xaxis_title:str = 'Chunk No.',color_list:List =  ['brown','blue','green']):\n",
    "    # Sample data for the line plots\n",
    "    x = [i for i in range(len(exp_l[0]))]  # Common x-axis\n",
    "\n",
    "    \"\"\"\n",
    "    # Data for three different lines\n",
    "    y1 = exp_l[0][0]     # First line\n",
    "    y2 = exp_l[0][1]     # Second line\n",
    "    y3 = exp_l[0][2]     # Third line\n",
    "    \"\"\"\n",
    "    # Create a figure\n",
    "    fig = go.Figure()\n",
    "   \n",
    "    for i in range(len(exp_l)):\n",
    "        fig.add_trace(go.Scatter(x=x, y=exp_l[i], mode='lines+markers', name=name_l[i], line=dict(color=color_list[i])))  \n",
    "        fig.add_trace(go.Scatter(x=x, y=exp_r[i], mode='lines+markers', name=name_r[i], line=dict(color=color_list[i])))  \n",
    "    # Add horizontal line for the base value\n",
    "    fig.add_trace(go.Scatter(x=[min(x), max(x)], y=[popminmax[0], popminmax[0]], \n",
    "                            mode='lines', name=f'min pop: {popminmax[0]:.4f}', \n",
    "                            line=dict(color='grey', dash='dash')))\n",
    "    fig.add_trace(go.Scatter(x=[min(x), max(x)], y=[popminmax[1], popminmax[1]], \n",
    "                            mode='lines', name=f'max pop: {popminmax[1]:.4f}', \n",
    "                            line=dict(color='grey', dash='dash')))\n",
    "    # Update layout with titles and labels\n",
    "    fig.update_layout(\n",
    "        # title='Three Line Plots with Base Value Line',\n",
    "        xaxis_title=xaxis_title,\n",
    "        yaxis_title=yaxis_title,\n",
    "        legend_title='Lines',\n",
    "        template='plotly'\n",
    "    )  \n",
    "    pio.write_image(fig, filesave+'.png')\n",
    "    fig.show()\n",
    "\n",
    "\n",
    "def plot_hist(data:List,filesave:str):\n",
    "\n",
    "\n",
    "    # Generate random data for the histogram\n",
    "    data = np.array(data)  # 1000 data points from a normal distribution\n",
    "\n",
    "    # Create a histogram\n",
    "    fig = go.Figure()\n",
    "\n",
    "    fig.add_trace(go.Histogram(\n",
    "        x=data,\n",
    "        nbinsx=100,  # Number of bins\n",
    "        marker=dict(color='blue', opacity=0.7),  # Style\n",
    "        name='Data Distribution'\n",
    "    ))\n",
    "\n",
    "    # Update layout\n",
    "    fig.update_layout(\n",
    "        # title='Histogram of Data',\n",
    "        xaxis_title='Value',\n",
    "        yaxis_title='Count',\n",
    "        template='plotly'\n",
    "    )\n",
    "    pio.write_image(fig, filesave+'.png')\n",
    "    # Show the histogram\n",
    "    fig.show()"
   ]
  },
  {
   "cell_type": "code",
   "execution_count": 36,
   "metadata": {},
   "outputs": [],
   "source": [
    "import pandas as pd"
   ]
  },
  {
   "cell_type": "code",
   "execution_count": 43,
   "metadata": {},
   "outputs": [],
   "source": [
    "\"\"\"\n",
    "# Wiebull\n",
    "folder_path = './config_sim_data/wiebull/' # folder result.\n",
    "filename_list = ['wiebullshape1n10000','wiebullshape1n50000','wiebullshape5n10000',\n",
    "                        'wiebullshape5n50000'] # file names of sample data chunks (.json)\n",
    "\n",
    "folder_path = './config_sim_data/wald/' # folder result.\n",
    "filename_list = ['waldm1sd2n10000','waldm1sd05n10000',\n",
    "                    'waldm3sd2n10000','waldm3sd05n10000',\n",
    "                    'waldm3sd05n10000']# file names of sample data chunks (.json)\n",
    "folder_path = './config_sim_data/normal/'\n",
    "filename_list = ['normalm0sd1n10000','normalm0sd4n10000',\n",
    "                    'normalm0sd25n50000','normalm0sd100n50000']\n",
    "\"\"\"\n",
    "folder_path = './config_sim_data/wiebull/' # folder result.\n",
    "filename_list = ['wiebullshape1n10000','wiebullshape5n10000'] # file names of sample data chunks (.json)\n",
    "\n",
    "idx = 1\n",
    "file_re = folder_path+filename_list[idx]+'_re.pkl' # file results\n",
    "file_pop = folder_path+filename_list[idx] # file name of population data.\n",
    "# load all instances.\n",
    "with open(file_re, 'rb') as file:\n",
    "    loaded_data = pickle.load(file)\n",
    "res = loaded_data['result_all']    \n",
    "pop_data =  pd.read_pickle(file_pop+'.pkl')    \n",
    "pop_min = np.min(pop_data)\n",
    "pop_max = np.max(pop_data)\n",
    "pop_range = pop_max - pop_min"
   ]
  },
  {
   "cell_type": "code",
   "execution_count": 44,
   "metadata": {},
   "outputs": [
    {
     "data": {
      "application/vnd.plotly.v1+json": {
       "config": {
        "plotlyServerURL": "https://plot.ly"
       },
       "data": [
        {
         "marker": {
          "color": "blue",
          "opacity": 0.7
         },
         "name": "Data Distribution",
         "nbinsx": 100,
         "type": "histogram",
         "x": [
          0.4367831772467,
          1.031769034509569,
          0.6307339165743262,
          0.9538220084853162,
          1.252568030024435,
          1.0952418627940819,
          0.9862330029487814,
          0.8101214133998696,
          1.262195113803914,
          0.8260610319811253,
          0.682802546078517,
          1.1640353821253022,
          1.237356582942011,
          0.8554985201877587,
          0.8664947520185561,
          1.199218355698378,
          0.7347031563798518,
          0.6429199366802623,
          0.8109854058248407,
          0.7012022860900625,
          0.5739401454945396,
          0.8380358951552165,
          0.9433129941864034,
          1.1037095315119982,
          0.49941332461806126,
          0.6200967620735726,
          1.0519504097885577,
          1.0358699146705015,
          1.183112472955226,
          0.8407242494862006,
          0.4514199060815544,
          0.3568402774109423,
          0.7804017331909004,
          0.8685316624661935,
          1.2381844953701984,
          0.8901762336831706,
          0.6422061124114588,
          1.1961172196058734,
          0.9874400836836215,
          0.6610726318539673,
          1.187988839298756,
          0.9486638533556062,
          0.8824225870914152,
          0.5165674622095207,
          0.6798624021823154,
          0.7686927951207837,
          1.0469479860862405,
          1.0405852843605345,
          0.835628014782756,
          1.067233453813915,
          1.3659856079374542,
          0.6498773916316973,
          0.8774202910872594,
          1.2165640452211297,
          1.229666298173441,
          1.1099512568467773,
          0.9810434491828903,
          1.2232670611573202,
          1.1634723890368102,
          0.8027711663709642,
          0.9237305631617857,
          1.1336471454563755,
          1.4056487296818154,
          1.0494413196423207,
          1.1574898185893012,
          1.0260717109654802,
          0.6497120280276463,
          0.803713482512391,
          1.1943644140574194,
          1.1510996181337863,
          1.0009202358443028,
          1.0863269711696815,
          0.8597582308352307,
          0.83044913319007,
          0.5269898771526168,
          0.8459822634026002,
          0.7911399350036912,
          0.904399488037225,
          1.0527742836964877,
          0.5304756182665078,
          1.0382875595893042,
          1.052946065622688,
          1.191607761270191,
          1.199606501566319,
          0.6514444136505069,
          0.8965192951982859,
          1.14278631611288,
          0.6099744559647723,
          1.073420109570089,
          0.7346174866398841,
          0.9261453166061454,
          1.1942791688998478,
          0.897181964390699,
          0.9925765528580218,
          1.0442483869459775,
          1.2084754085514895,
          0.7801071010337723,
          0.8616250553599035,
          0.7079126051364721,
          1.1057901442329268,
          1.1496050462186762,
          1.2134765674328876,
          0.47134057315390565,
          1.1676939912543285,
          0.7610796755897269,
          0.9054411285927942,
          1.058598203691444,
          0.992925383929257,
          1.2540803754353638,
          0.6898981534617737,
          1.0469069724641216,
          1.144651475146642,
          1.2898492142082516,
          1.1675355323127192,
          0.8084046576049164,
          0.9973412569185768,
          0.7771702717722949,
          1.1462770050244735,
          0.6436532709905761,
          0.601581424652413,
          0.857757856077168,
          1.009815113750778,
          0.8424846681418717,
          0.8513886703969645,
          0.8900523544378073,
          1.3336743336964034,
          0.7902635907598928,
          1.295775638740673,
          0.8084455596807901,
          0.9336131937342466,
          1.0124831691242955,
          1.110424738966345,
          0.569320155960033,
          1.1055828370967165,
          1.1068974352761318,
          0.9875757485193694,
          0.6874305356598279,
          0.48564874253139884,
          0.9427870923634604,
          0.6017303611172196,
          1.2118614584113179,
          1.2189922272341112,
          1.0023053123080943,
          1.3143852577942121,
          0.7202611825301936,
          0.9238802552958131,
          0.7120263609057801,
          0.8175789471957265,
          0.6859869245277359,
          1.211943704891658,
          0.725793795756546,
          1.0039230556598335,
          0.7857493030146531,
          0.8165577631995575,
          0.40297461663777656,
          0.9336039293384497,
          1.2740006849534893,
          0.8426282646124676,
          0.6935834553701512,
          0.9141574716647031,
          1.1715070928077174,
          1.2285049003244224,
          1.0297534999105127,
          1.0959316467317928,
          1.0595066866999656,
          0.9627052255753699,
          0.955596018733371,
          1.098938042499685,
          0.8816847433278577,
          0.5991718632506458,
          0.9384002439022936,
          0.6996597793482359,
          0.9482951438691785,
          0.9115639949897467,
          0.684767347410969,
          1.0200713226210023,
          1.2417202021101987,
          0.9242574322382355,
          0.9674829360081763,
          1.0017290808231973,
          0.9418084719769392,
          0.5727196036602116,
          1.188975432984816,
          0.785207305702128,
          0.5408024388875591,
          0.6348492595505655,
          0.9465913784220036,
          0.8036477918522079,
          0.784752920069611,
          1.1808860292656473,
          0.8096439920314136,
          0.47192107511768566,
          0.7739586094465368,
          0.8511801677747056,
          1.1980965085381463,
          0.9266096164091957,
          0.7445212355522675,
          1.0644205839025085,
          1.2356443808247684,
          1.2394580180333492,
          1.0165180878497984,
          1.0100344396816086,
          1.138406487334523,
          0.6457331870017864,
          1.0973763351284915,
          0.9772779474597568,
          1.0527064703685611,
          0.9883199847729799,
          0.7521291797847091,
          0.9621273485721329,
          0.9547904292433897,
          0.9494302490812521,
          0.9272397363465981,
          0.7483696728074745,
          1.010749237994799,
          0.9457991868757458,
          0.884779363743165,
          1.2682140987190345,
          1.2816513476483726,
          0.8728175102338637,
          1.0546524066402272,
          0.7590202576303552,
          1.225018464734248,
          0.8283769051649253,
          0.8419026153938121,
          1.000162860994306,
          0.7712221223027246,
          0.730767950677007,
          0.9065633132842841,
          0.7867834990609547,
          1.0872821358056202,
          1.2533309873287477,
          0.46797552388583225,
          0.812344599648952,
          0.6867436196294442,
          1.030932517524701,
          0.8300499144900761,
          0.8869403207079055,
          0.3633297402333495,
          0.9829916470429266,
          0.8338922959388215,
          1.1138524465489517,
          1.0171735819840064,
          1.0347032605708226,
          1.108958395308767,
          0.854197858887143,
          0.9755479172396578,
          0.8756463309773038,
          1.100311552033904,
          1.142870464024285,
          0.9963261732517611,
          0.5450650591337167,
          0.7200660808739995,
          1.0625825929067656,
          0.8843609844266663,
          0.7835060757903859,
          1.167235411984863,
          0.9408989499864205,
          0.8726651183341066,
          0.7382337849653927,
          0.9647391670681057,
          1.0391467289594538,
          0.9107838070210514,
          1.2516229973100674,
          0.9243644398570208,
          0.6603515112066841,
          1.0504699355080822,
          0.8877611090280956,
          1.0690282014957453,
          0.9116142219638623,
          1.1303610775295274,
          0.9050451622250298,
          1.0758970499568934,
          1.1050700055968836,
          1.077567674550659,
          0.6303346160169319,
          1.0242200192232327,
          1.0349020934045792,
          1.0016032426605195,
          0.9988817434171383,
          0.8451064231294001,
          1.3002011983364965,
          0.6480712389140018,
          0.9053545171059469,
          0.89567436544185,
          0.7711683316665153,
          1.2309817017159008,
          1.0586035467415955,
          0.8549949696354281,
          1.0030811771411647,
          1.2460240015397892,
          1.056729471282644,
          0.9196771538826786,
          1.1801185838538846,
          0.9613051716284734,
          0.8311082850678174,
          1.2111395941818608,
          0.9669086366615446,
          0.8525307637140398,
          1.10503763289732,
          0.8167834245498214,
          0.9764346603436533,
          1.0634641161392975,
          0.7638512151413958,
          0.7253258055345145,
          0.978638311918235,
          0.8606742775666761,
          1.1194581325164736,
          1.0119138031865653,
          0.9820345689796391,
          0.7541759024308643,
          0.8711812714861755,
          0.695836624654234,
          1.0372653770719267,
          1.1026684294891944,
          0.7766681502994267,
          0.5392482963367746,
          1.3157367230146293,
          0.6257154213144263,
          0.6753236979405456,
          0.9326908890344539,
          0.6718855459626906,
          1.1316603681449076,
          0.6854197947174543,
          0.7836005086483081,
          1.2316595149390497,
          0.9806351040545259,
          1.1411234789277938,
          0.8322902265528958,
          1.1781433052863957,
          0.9726402859875467,
          0.7550846685559358,
          0.9163945223933342,
          0.881720016271243,
          0.831922482296923,
          0.8922432975633352,
          1.0633546785971022,
          1.1847785687786265,
          1.1952140993137357,
          0.8715378572174566,
          1.295100302005419,
          1.1241523907951982,
          0.7488969375080838,
          1.1345006384402117,
          1.0369232960359929,
          0.6590961776799558,
          1.127671204071127,
          1.154057088363619,
          0.9945978555956736,
          0.8495283039177156,
          1.0064241958891915,
          0.8399879512411346,
          1.2606890790408636,
          1.2318470236992192,
          0.8589232190406685,
          1.000008673173714,
          0.9404807769574486,
          1.0759627225993378,
          0.9821351653315861,
          0.937377199297498,
          0.7735572927607829,
          0.8279984395133838,
          0.5781433591138909,
          0.7273773444778461,
          1.113196225315111,
          1.2016791607842554,
          1.1657375212821444,
          0.8664533429469164,
          0.8710958585720563,
          0.9673306069538437,
          1.033868020785127,
          1.3116659145572203,
          1.4003674466017522,
          0.8722035220786549,
          0.7640970860270856,
          0.8842624260929601,
          1.2498239228658252,
          0.9205947109517987,
          0.8587397856978816,
          0.9192030021057314,
          0.6404817903336005,
          1.1704858090736898,
          0.5975054281100934,
          1.045054788186278,
          0.7525709219646217,
          0.8900583703009358,
          0.953059746293383,
          0.7671239948487908,
          1.102302709856614,
          1.1121287683761603,
          0.9322948165004136,
          0.6493005396720914,
          1.1183718338238193,
          0.7382107263343113,
          1.2077615266017045,
          0.677065378169099,
          0.4396583584180051,
          0.5080743800503519,
          0.6756188555243489,
          0.7731841148319111,
          0.7392240355116163,
          1.1790420745348311,
          1.0857109625180312,
          1.2068665846390447,
          0.7800401451289424,
          1.0844646142913483,
          1.0362277960971633,
          1.1990906089362356,
          1.0554234429311748,
          1.0119678316167857,
          0.6830770721143776,
          0.8014361272751724,
          0.7801251100901907,
          1.33736402643839,
          0.6630800018566266,
          0.7563352781723383,
          0.7618126254806028,
          0.7944833402269489,
          0.7359705291441936,
          0.7025183201566091,
          0.5585783931086212,
          1.2099358228320238,
          1.1999708249573027,
          1.2450655800728274,
          1.4318027066160066,
          0.8845383141568689,
          0.8283428444250119,
          0.9344464525489853,
          0.7196525758172065,
          0.8193125073523742,
          0.8966422752449832,
          0.8092306093957103,
          0.8103395744032598,
          0.9664382716597117,
          1.124851325909141,
          0.9483102484263877,
          1.1859450988198943,
          1.45065839290875,
          0.8994013773602647,
          1.1958380538332591,
          0.9383792332130253,
          0.756269451510253,
          1.1476842694052747,
          1.1382942033867662,
          0.6003338703739237,
          0.5070968632772769,
          0.7612820659504405,
          0.9823059564104912,
          1.327764584935707,
          1.2468174021769947,
          1.0485919316336523,
          1.028767007632875,
          1.0849522078447844,
          1.0674847127805065,
          1.2376365691502118,
          1.2635576325929483,
          1.1351096643144132,
          1.3929191678987207,
          1.0364030909628552,
          0.8211970018955683,
          0.5577864764189118,
          1.1046535720458903,
          1.1007344498682727,
          0.7089404440318559,
          1.2264507362032429,
          0.8353431422589918,
          0.7928762689242435,
          1.339472350124708,
          0.9578157726793188,
          1.2745682500036122,
          0.6745702573074291,
          1.4031547209485442,
          1.2000557762761426,
          0.9960987613416491,
          0.7719110518061902,
          0.8607597125614735,
          1.0746579505717375,
          0.5712599598634175,
          0.8156105745448664,
          0.5486438173183915,
          1.0299040413836669,
          0.8779543712264715,
          1.0430825533783867,
          1.1813045524920565,
          0.9379126255649546,
          0.8374035883123265,
          0.7726954936617076,
          1.1410189508427873,
          0.6370791677500337,
          1.0060727395295097,
          0.38137738521364023,
          0.9949086693380261,
          1.0289198381318947,
          1.0256418756720398,
          0.571480365272627,
          0.7104367411807647,
          0.8099234670260459,
          0.7402700345774712,
          0.9543212317553591,
          0.8967081236385229,
          1.1221358725893895,
          0.8109521976142495,
          0.8875784919346441,
          0.9908913004773086,
          0.8644952012813232,
          1.4082561677577938,
          0.4013929424075629,
          0.9946033076795023,
          1.1091496120274449,
          0.9025703781142771,
          0.6504901555181088,
          1.0349093377948178,
          0.7514768291524084,
          0.6326615762937607,
          0.7774453260842399,
          0.9924106743038795,
          1.0595953369861844,
          1.2164603873238986,
          1.1246135449166208,
          1.018414475649168,
          0.993055863363932,
          0.4093285303387817,
          0.9024937664202574,
          1.2839780545172643,
          0.8549819288025048,
          0.5451317650224663,
          1.2431726693274467,
          0.9838264920107477,
          1.2679811931924425,
          0.5106918935897168,
          0.8290446677848468,
          0.9249225185352753,
          1.389748543033029,
          1.0040775523922836,
          0.7322767575351912,
          0.7436466829231215,
          0.9180701702424154,
          0.8965514938076958,
          0.5504139959617218,
          0.8473233272272345,
          0.838452225673866,
          1.079174540082692,
          0.7504090199292995,
          1.4054861127352183,
          0.8088194487909912,
          0.9107559445871658,
          0.9701372554563862,
          1.1433349275680211,
          1.1058771435094483,
          0.8324709024225081,
          1.2504611310405627,
          0.7761558442096117,
          0.8938113525486057,
          0.8924799906299247,
          0.9095742830866665,
          0.8941946737129868,
          0.9362015988850608,
          0.9844214503493836,
          0.837527625570093,
          0.5694450507741025,
          0.7148802206931436,
          0.5485782108668379,
          0.6272433967774345,
          1.0628431166503272,
          1.0885556339120173,
          1.2590463116596913,
          0.6442324124172458,
          1.0122350111969167,
          1.0140420253743707,
          0.8115521166991265,
          1.1038555743706302,
          0.9845260145642591,
          1.0279332035835071,
          1.0878737729789156,
          1.3406053619635228,
          0.5359057665360412,
          1.0221919953366094,
          0.7326208719907383,
          0.8507773967256463,
          0.5390891357214629,
          0.8283309765826099,
          0.9756384031473727,
          1.192008496910817,
          1.063073323885766,
          0.8995237678702656,
          0.811625189803809,
          0.7595905300893673,
          1.22282983350095,
          0.812070236301528,
          0.9850295706299729,
          0.6053452672519004,
          0.8429571771048537,
          0.7094910525586612,
          1.0313541066545162,
          0.8742642205305171,
          0.8436555130338796,
          1.0222830181716958,
          0.9622476465552257,
          0.6085113537086506,
          0.8983499686815668,
          1.0239594552746658,
          1.1785578812965654,
          1.1974814646694225,
          0.4038948039133909,
          1.0719095999633628,
          0.8984184060405079,
          0.9001078943962418,
          0.8963945487818169,
          0.6960139247300495,
          1.0299841026269105,
          0.7881473445331818,
          1.1278165502656607,
          0.9278399129621527,
          0.8843949234306148,
          0.9641289186842995,
          0.4790756176565753,
          0.920907591512976,
          1.041721548381009,
          0.9125826256633985,
          1.0728726412675103,
          0.39977048751534006,
          0.7725478962439848,
          0.5021321562550883,
          0.8989102430156332,
          1.2553213657060789,
          1.1468234279892708,
          0.9036153081199856,
          0.7916669048900914,
          1.3353671307117283,
          0.9856818858901311,
          0.7783314650815976,
          0.870069833622683,
          0.7153697912782687,
          0.7708462047871026,
          0.8033873905130453,
          0.568998772523263,
          1.04274827892639,
          1.1015849757276828,
          0.8100857137174101,
          1.0343024449937332,
          0.9434407001879156,
          1.1390834395346798,
          0.8748197363485443,
          0.8399628909862079,
          1.0005411870880316,
          1.122626020826868,
          0.9721906825278627,
          0.6727462431751369,
          1.0203984559391668,
          0.5668254400976118,
          0.882638532349078,
          0.795354739185074,
          0.5592766718438252,
          0.8898579921661702,
          0.7650494485896088,
          0.9910344677355494,
          1.0114567859485841,
          0.6248255717953444,
          0.9242764145791965,
          0.6899298530271588,
          1.1177692204563945,
          1.1025049655657075,
          0.5271350522466473,
          1.1806605438521842,
          1.1840750950244396,
          0.9636822586961192,
          0.43264153588083787,
          0.681680942509808,
          1.0769278646012495,
          1.0103213452029098,
          0.9260468216749396,
          0.8100770624153858,
          0.7974918248809252,
          1.1645083171835144,
          1.2869973785800397,
          1.2281714248441373,
          0.9898341725670309,
          0.6322875782146958,
          0.7195092114442062,
          0.9756171746711981,
          1.0955774429713514,
          0.6580152964381356,
          0.9709744639462315,
          0.9703711864853032,
          0.7235296091346014,
          0.5854199732649196,
          1.045409566831717,
          1.1654217445946908,
          1.066618682010561,
          0.9771858352535153,
          1.3712727306783439,
          1.1151241649837356,
          0.45834904747013017,
          0.7608363382022076,
          0.8635574371071258,
          0.7030589471044804,
          0.9279097963666553,
          0.5954885693074616,
          0.7347551613776019,
          0.7965809989514574,
          0.9678039250543315,
          0.9167620447765539,
          0.7185201331208252,
          0.7871663746327621,
          1.0323462080295842,
          1.0321089751541,
          1.2261800685294897,
          1.1098875445484566,
          0.6215113864783688,
          0.6363025354998942,
          0.9164586305283802,
          0.9771341167270537,
          0.5343259530037432,
          0.9744282539565484,
          1.1904338265839778,
          0.7240289133882153,
          0.9798099611196803,
          1.1892047888789892,
          0.6903475334297489,
          1.0044363273512942,
          0.9373157856404398,
          0.8574679683495301,
          1.027219858559856,
          0.8395170765728128,
          1.0657469050966601,
          0.8656341901934961,
          0.7713758130114376,
          1.0630499972737928,
          0.8205768270925627,
          0.6039758468098323,
          1.002669811532741,
          1.200171788084608,
          1.083401822255464,
          0.9502750835151926,
          0.7572324715754852,
          1.2490409316538245,
          0.6676897600666875,
          0.8124043312396081,
          0.9352659318673292,
          0.9264893853982208,
          0.8119706218472559,
          0.8492677166544887,
          0.9660503699998041,
          0.8559704275132664,
          1.128446389003746,
          0.5431353639743248,
          0.8363135107611053,
          0.8349805933953474,
          0.6019119889238456,
          1.0802396578523394,
          0.9497693643338811,
          1.0729207600743509,
          0.7610191013633546,
          1.00331052436918,
          1.1359298542572267,
          0.6333736996872453,
          1.2010402941965859,
          1.2017894015330395,
          1.23763755933187,
          0.8515649391142509,
          0.9579933460437301,
          0.870874057862339,
          1.0409428113683823,
          1.0973543843413454,
          0.9814666852057956,
          0.8053184121521755,
          0.6905356363274991,
          1.0721314596532492,
          1.463255864337943,
          0.6401554040995308,
          0.8771693986102767,
          0.9881360589898032,
          0.8773920702438956,
          0.948024306017752,
          0.7723181882089217,
          1.085637117759754,
          1.1665093624939504,
          0.6571824388751595,
          0.7693400599138742,
          0.6983740896591083,
          1.008361689285929,
          0.9614151127346138,
          0.6304441055783806,
          1.032055095862524,
          0.8689932139436449,
          1.2580832740049672,
          0.7984547812209959,
          0.7167865354324136,
          1.2209457796629333,
          0.7135227336175023,
          1.066083959030672,
          0.7911033362841781,
          0.9015967841364841,
          0.5796791308054037,
          0.8371789220192559,
          1.2593381145454479,
          0.9154660324361888,
          0.7751000520364649,
          0.8542220725089573,
          0.9965291672442781,
          1.2638426665654197,
          0.9275204758761328,
          0.902564596776059,
          0.8979465217450234,
          1.1041854128837798,
          0.6345227562606657,
          1.068911503478413,
          0.9106167864816943,
          1.1233292538492563,
          1.144462175936266,
          1.0493004225719262,
          0.7480828763324312,
          0.9435440649522924,
          0.6605028748959599,
          0.8950487201012485,
          0.838343164181324,
          0.8380560045472799,
          0.9713551581838795,
          0.5656837237838983,
          1.1936534369158773,
          1.2184098114507735,
          0.963361806339616,
          1.3253055401035962,
          0.8106017856523228,
          0.7024648343485405,
          1.109141360072743,
          1.3417167527157194,
          0.7772415671960238,
          0.6631721712145732,
          1.0718515628793046,
          1.053093484799566,
          0.8933216383540015,
          1.3861651148317327,
          0.9499430492347617,
          1.2698695737607404,
          0.590003337936049,
          0.9322077808881909,
          0.882671860119477,
          0.8130297072962772,
          0.7772012543130898,
          1.066680047382841,
          0.9093752511747527,
          0.34431236855620995,
          0.7178093395911984,
          0.9791939417489772,
          1.2011588668715316,
          0.8438769222300437,
          1.0074583519746068,
          0.6865521749673477,
          0.5555558224560628,
          0.9520089858922002,
          0.9549090469569711,
          0.7477520219787549,
          0.8390731231700562,
          1.1157700529169958,
          0.9255770138176616,
          1.1749035004061141,
          0.9559939306206489,
          0.47075433999197636,
          0.694836949978754,
          1.1734463796488663,
          0.9245626367094987,
          1.0885185586526016,
          1.147791340055646,
          1.0526493378334858,
          1.1134152958045962,
          1.1881349484605566,
          1.0360748628272842,
          1.340998637042912,
          1.205153057805443,
          0.5149688837890243,
          0.973835534254534,
          1.2158374830706193,
          0.9372275765687642,
          1.155198730538722,
          0.9590734642661196,
          1.1466755474958321,
          0.5334546717212466,
          0.8236253447034049,
          1.0515790065958528,
          1.0382239153460366,
          0.8926286763202048,
          0.7884342864514711,
          1.1386422249287735,
          0.9329538784004084,
          1.1045192300395472,
          0.9407975651184003,
          0.9901822668562114,
          0.761752700960339,
          1.2622149083756335,
          0.8342969628763118,
          1.053822057386912,
          1.0515073882825856,
          1.2339017242353219,
          0.9373366684235174,
          1.2689164089323468,
          0.7895776378413217,
          0.8470795092726503,
          1.072875663234424,
          0.7869107886924905,
          0.9846047743021376,
          0.9622720383312507,
          0.8882577096456975,
          0.7903719759342065,
          0.6945356328058883,
          0.8564080978088313,
          0.5350225531774828,
          0.7729255360559183,
          1.11127614292565,
          0.9209399670499595,
          0.5950209622505499,
          1.10016876464883,
          1.010422411225074,
          0.9666815892282501,
          0.9835528273311768,
          1.0111875645316688,
          0.8185883688537848,
          0.930394431549666,
          0.8622756201445761,
          1.286047345073026,
          1.0369073549567485,
          0.29379977874949526,
          0.9745098690172114,
          1.3950615914403806,
          0.5747300208147764,
          1.269728773946635,
          1.001497817881849,
          0.9427035520937223,
          1.057234692492061,
          0.8241306423804925,
          1.1644453207943213,
          0.9900588134308727,
          0.999341996912263,
          1.2268444320467136,
          1.2704312465945744,
          1.0282172972211505,
          1.2611019875419776,
          0.8877398700193108,
          1.2409823461305822,
          0.9354805933628693,
          1.150141706923785,
          1.1211646303938685,
          0.7731783244656937,
          1.0638982371209351,
          0.9765593024808844,
          1.3496307838606483,
          0.7803862288914808,
          0.6091966871483738,
          0.9696520860261246,
          1.3618581505324003,
          0.7708444276840327,
          0.7863415095931685,
          0.6807524513060285,
          0.8110408481556352,
          1.0536164505666799,
          0.7989525542117303,
          0.9470587696447288,
          0.9670214587237255,
          0.9939688134347904,
          0.5569474850006665,
          0.8681601867933135,
          0.9424723334439729,
          0.9892823540766027,
          1.1014306150991295,
          0.8451504811046714,
          0.552209308222371,
          0.9055054144624275,
          1.149101356822676,
          0.48949629126598965,
          1.0957104661117794,
          1.0619159512360565,
          0.828622917995941,
          0.8709276396709641,
          1.3449606317584117,
          0.5491153306152375,
          0.42578249039786153,
          1.1022431073182415,
          1.2712086391011879,
          0.5958413306943926,
          1.2416686608452163,
          0.5984415533066789,
          1.2677385462829882,
          0.7209140639820445,
          0.8291272150598673,
          1.1286236323655199,
          1.1348643558713405,
          0.7920487644283409,
          0.2661658442903598,
          0.7889824670945124,
          1.1269227268456639,
          0.7100945918228947,
          0.7430954516947755,
          0.8966707074004284,
          0.8762677124388782,
          1.328603523602723,
          0.5092337355700055,
          1.0024311833064712,
          1.1006384997866603,
          0.5438650106029049,
          0.8048665859487798,
          0.8430427991369229,
          1.049939576742826,
          0.8983416623544194,
          1.1753124544117788,
          0.9988994020592653,
          0.6873813867197716,
          0.8784854225803518,
          0.9775874817276257,
          1.0105618225382973,
          0.63187763986172,
          1.1922332118572845,
          0.8770282214486215,
          1.0303551341678752,
          0.7090559415890969,
          1.1715745726727824,
          0.6473447931326747,
          1.237047037386902,
          0.989268695697614,
          0.6409388270894963,
          1.2218525987149307,
          0.7828993405674805,
          1.189587618764311,
          0.7589269105906873,
          0.8191499106536121,
          1.2055047984604244,
          0.7425177505079897,
          0.6005125006297448,
          0.8008346926110782,
          0.5527663384064679,
          0.6495279485116999,
          0.9936726618591937,
          0.8227429006166417,
          0.626456537584495,
          0.7685990479754276,
          0.8356121377525539,
          0.6850226612669987,
          1.0341508341710954,
          0.8425351903531682,
          1.4126775824567304,
          1.0685299086143847,
          0.6672078012112852,
          1.1735170944775961,
          0.8503287695470375,
          0.9512120694197483,
          1.0285418255555507,
          0.9072226451191991,
          1.2623754494906037,
          0.8153172305817867,
          1.0416394303951748,
          0.7909500956463575,
          0.623528997228854,
          0.9305542761805216,
          1.2061021334864508,
          0.7952023700855788,
          1.0382586552384012,
          0.4387883883670423,
          1.08542302702164,
          1.307680440636113,
          1.0520745600437875,
          1.051356863016912,
          0.9179000683572996,
          0.799957461276201,
          1.0214574549431017,
          1.318196300752901,
          0.9713466779518112,
          1.2894774836114589,
          1.1486817232625073,
          0.3914287928186792,
          1.1362060963632512,
          1.1938983770169511,
          1.1561546545675296,
          0.49519307006832575,
          0.744598063735399,
          0.8624909870417252,
          1.0751501003298227,
          1.275158500515687,
          1.076899469340362,
          0.7996215948472964,
          0.9921597597157867,
          1.020817754142243,
          1.2023090215149939,
          0.9069614326064904,
          0.5883042477184773,
          0.882092317740605,
          0.9745173322770165,
          0.829439475778509,
          0.7907934886212566,
          0.7410353659592535,
          1.233652795309004,
          1.2724062367679392,
          0.6756145013113831,
          0.7394956878299058,
          0.5369897263586736,
          0.5420140290080395,
          0.7756125728993807,
          1.2112309430754489,
          0.9985627250921377,
          0.8575837725801566,
          1.0900522708329885,
          0.8774848788614137,
          0.9007702967254582,
          1.1821867015565037,
          0.8779219091347207,
          0.9016972495816992,
          0.8222765558863732,
          0.9735587953773424,
          0.8136206205591882,
          1.0286579311847759,
          0.5935495457049116,
          0.9387600419306588,
          1.0676419130896573,
          1.2973698820398711,
          1.0611839012837199,
          1.0423577556074919,
          0.6792643178862927,
          0.580146934246847,
          1.0743053049270275,
          0.8758742523924912,
          1.3058541545476174,
          1.1145636937691183,
          1.28680486023866,
          0.9167623520082016,
          0.9682242486228032,
          1.1326942166363567,
          1.1699994791043984,
          0.9791115785755995,
          0.8846953885067509,
          0.7950059387668555,
          0.6682247674014988,
          0.6693390772937827,
          0.40249140940906786,
          0.9033832363204076,
          0.9155149439291396,
          0.9560504071669313,
          1.36827712672986,
          1.0001414403397482,
          1.0252534094574222,
          1.2048099200798785,
          0.41009956749808985,
          0.8773205855097542,
          1.0518025258628605,
          1.104548305850949,
          0.8026600689989317,
          1.342644597681781,
          0.5991833493308097,
          1.0006948848178445,
          0.9931756845800211,
          0.7641743266575326,
          1.0396749050071887,
          0.9309255462203683,
          0.6852278771665133,
          0.7820164567007529,
          0.8054493003528522,
          0.8890016500977796,
          1.1395447179817138,
          1.1927877715840225,
          1.1635056926959988,
          0.9721473548766262,
          0.9816732638473082,
          1.1364219860454456,
          1.440027351952292,
          0.8871698708530225,
          0.6468063337633483,
          0.5415799163448595,
          0.9119323168141461,
          0.6305647569863335,
          1.0074011182813796,
          1.3507893113073166,
          0.9996675314089911,
          0.7748990526131614,
          0.7618974316901429,
          1.0530164111824358,
          0.6228112184772092,
          1.2116173318900083,
          0.9007987240264584,
          0.6741083563053811,
          0.7157738955485516,
          0.8891410722097153,
          0.5632007346945304,
          0.6926567253108555,
          1.1893789941748945,
          0.9303712147565398,
          0.27900518626723997,
          0.9772652668193873,
          0.9446427470203823,
          1.054657910867487,
          1.180411990688224,
          0.4738694777301696,
          0.9334080610089982,
          0.7230163035341841,
          1.0448320079929543,
          0.9545273480485392,
          1.0394405479434932,
          0.6764679368596146,
          1.288072869763841,
          0.8876767878459016,
          1.1639117561919894,
          1.1347360832949975,
          1.192302459171997,
          0.6351138636127054,
          1.0186487309135512,
          0.8914881354348815,
          1.0848649100195276,
          0.7700184719600356,
          0.8129841645349472,
          0.7363034307558884,
          1.1245932498595457,
          1.2287501471100528,
          0.6114005757808961,
          0.537433333988335,
          0.9136761033652869,
          0.49950922059575936,
          1.058408329927291,
          0.9511997024360231,
          0.5153257760206694,
          1.1745384670678063,
          0.968060884194438,
          0.8160658356815312,
          0.9925905443804672,
          1.0646994562861731,
          0.5672314515121285,
          1.0392084411598344,
          0.9903485374877847,
          1.2527091438294327,
          0.8084784478981885,
          0.7629782796364569,
          1.1602030477745453,
          0.8571134598879118,
          0.9442888541543322,
          0.9278243226479354,
          0.9950117845766754,
          1.204260933941531,
          1.1179366008513434,
          1.2121457509099822,
          1.0578915438081338,
          0.9701451186397831,
          0.7567040367013397,
          0.9961268586716134,
          0.7240622216194099,
          1.1683034794345657,
          1.1426408506283132,
          0.780187236931285,
          0.7937619844903663,
          0.9480992442337722,
          0.8728066812923102,
          0.907476740767352,
          1.1995475095139336,
          0.8121243782821411,
          0.7681632280117934,
          0.7818068564213994,
          1.0248590955642924,
          0.9832194463631007,
          0.9154200512933615,
          0.81908696698766,
          0.5940454656806949,
          1.0702476850123874,
          1.0840817899761153,
          0.5631622596623835,
          1.1554543084120088,
          0.9128085826390394,
          0.37486242527874175,
          1.2081505676371633,
          0.7147630593530012,
          0.6730961026498737,
          0.7465305844410853,
          0.950496054649466,
          0.988943886814665,
          0.8249994782503691,
          0.7955888238938827,
          1.0325852405522342,
          1.2797448059465684,
          0.9770070113854833,
          0.7682364059585478,
          0.6447946835937906,
          0.6581960940769229,
          0.7976404253367991,
          1.04434986835102,
          1.31756900374523,
          0.9295682643523913,
          1.0041388766260841,
          0.9591216936306695,
          0.7760591698134921,
          1.0000143346218586,
          1.123240776006568,
          0.962783058191748,
          0.9379689409517612,
          1.1434243236989414,
          0.8120176517475627,
          0.8147691313601896,
          0.6437240268069353,
          1.0151204416423467,
          1.173811741648393,
          0.9526988387364321,
          1.1753225372900673,
          1.0871963251662111,
          1.1160426192982162,
          1.1506083105046363,
          1.0103887397821365,
          0.9646817781454039,
          0.8617570969301116,
          0.8687543846856829,
          0.5307413984850438,
          0.8062324044744882,
          0.9957051461604752,
          0.9990896105242979,
          0.8191984188108435,
          0.7196179482678708,
          0.9402047761846649,
          0.8270134401244533,
          0.6812604274917702,
          0.8911730469261896,
          0.8111799813152105,
          0.7942114400733383,
          0.7188381542364611,
          0.7806278419628091,
          0.4517941582788854,
          1.0021404493560047,
          0.9529922388609903,
          0.9135696904112577,
          1.092448065427504,
          1.0553277624332327,
          1.2168454571488303,
          0.9351258292614176,
          1.3221364015196133,
          0.7533189014130713,
          0.6547933668711792,
          1.22106272288642,
          0.5227477421155958,
          0.7320556145333922,
          0.9200230331245557,
          0.9641683368888379,
          1.1414679879870375,
          1.0918692635552079,
          0.8125943437587673,
          0.8233333182557265,
          1.0826147085556408,
          0.4466650067610461,
          1.1321576851679005,
          1.3502740764709844,
          0.7932996261642956,
          1.1645155666525253,
          0.8197457450656795,
          0.7376370481629025,
          0.7349558216282207,
          1.100528911991776,
          1.2105731437132308,
          0.9553512137098041,
          0.9252153295741997,
          0.5632836992448963,
          1.1290374147088544,
          0.690047480554725,
          1.1507322745887623,
          0.4122752395138008,
          0.98194852248827,
          1.2472250504262172,
          0.7613416777311862,
          0.6396055523197753,
          0.7946716749898165,
          1.1275774133354832,
          0.8589804140853317,
          0.8364624090832157,
          1.1744145995675053,
          1.1534588941440045,
          1.223771530837077,
          0.7138167456891711,
          1.0893141797593953,
          0.8302089381206132,
          1.091798776433188,
          1.2178778768711853,
          1.3230445695331718,
          0.9255604721132578,
          0.9040262586745875,
          0.8568741577679629,
          1.3871602680845787,
          1.3053222527918347,
          0.8913568008688574,
          1.0148633115693761,
          1.0972492356280443,
          0.9437350959853125,
          1.042613715848632,
          0.8114419351381746,
          0.9341304015373576,
          1.0705809418192376,
          0.742737614602129,
          0.9216435700416125,
          1.0857577108229433,
          0.7222230231428014,
          0.6402471953408726,
          1.030078646330785,
          0.8732314464798362,
          1.177421505450534,
          0.7197868820630242,
          0.9423322563885893,
          1.240688240553949,
          1.1827466762424756,
          0.775917588112452,
          0.9968460018754557,
          1.142759945599924,
          0.9058352768912178,
          0.8413498399158699,
          1.072435768831241,
          1.0618560030275215,
          1.4482687314020946,
          0.9471135564559181,
          0.7264368842667466,
          0.8644926806920177,
          1.070329108555567,
          1.208541158700144,
          0.6935913986973513,
          0.6698322674371836,
          0.9425759030770989,
          0.738192085960391,
          0.8935618904216385,
          1.0136588704420875,
          0.9854894296661193,
          0.6586871530435365,
          0.900608038237243,
          0.7223436203205426,
          1.088365666845406,
          1.138830331061903,
          1.079198718450692,
          0.845496711200577,
          1.2594210866801236,
          0.8793109964099581,
          0.9384437738854894,
          0.9368253018742313,
          1.0823497844848884,
          0.6760944926598669,
          0.9894744939287466,
          0.8473186778562233,
          0.9701551203815366,
          0.8596384454533582,
          0.6974937141178568,
          1.1526223711961552,
          0.4831391775704241,
          0.9994998908220355,
          1.2149146742636592,
          1.0747515117931508,
          0.8806674487712632,
          0.6043491311212394,
          0.9945420019104552,
          0.7409601577814682,
          0.8911838579257253,
          0.42772506272680344,
          0.6064411125275629,
          1.2286877007828771,
          0.7986950701884659,
          0.9862341678423538,
          0.8335627543006862,
          1.0993753563214164,
          1.0080921432225358,
          0.8038788445573559,
          0.7715086163970779,
          0.6953745524881396,
          0.5092586804713698,
          1.0320171737485586,
          0.6613431475680831,
          0.98778751289095,
          0.8795801406258383,
          1.3794625927027475,
          0.669353235660929,
          1.4390967396594048,
          0.6599027848856982,
          1.061906640051914,
          1.3941930023675444,
          0.8047185711734097,
          0.6687774561798919,
          1.0436105794831165,
          0.9601569314162015,
          0.5531630860300206,
          1.0633117882057257,
          0.882450116398498,
          0.7385981203270977,
          0.928595200009868,
          0.807761537170667,
          0.9654879546898791,
          0.8910306357692864,
          1.1737694295445913,
          0.7531336007389705,
          0.6215879060778015,
          1.3204013744493366,
          0.6953230533325049,
          0.8132779765433309,
          0.7607242096466066,
          1.0912734011485907,
          1.1195511540049923,
          1.0072591506477118,
          1.289948410036681,
          0.8331805712988499,
          1.0254781095460113,
          0.9833296744423841,
          0.9902069327399814,
          0.6540244811008055,
          0.884386236361499,
          1.0908889059014872,
          1.132414232488572,
          0.9217842404205958,
          1.0846223380586244,
          0.6679326472704571,
          0.8543302965677331,
          0.8741448205642627,
          0.7879568575782413,
          0.841189788074798,
          0.9634769739602159,
          1.2676135896922407,
          0.8562435494710833,
          0.6591800719885401,
          1.243983080702297,
          0.98488351461351,
          0.8795474992054283,
          0.68481098908042,
          0.7220387232243394,
          0.7831713837794516,
          1.0467380720075223,
          1.0543937424570142,
          0.8075523423121401,
          1.1127420157124404,
          0.5910335809619577,
          0.9182983390960376,
          1.1617187115651957,
          1.2446973307919025,
          0.8084398819517572,
          0.5959102591195256,
          1.0209207450891686,
          1.1649367602117786,
          1.0969830315910087,
          1.0401373330347254,
          1.392929441216852,
          0.7684207142489905,
          0.7713936165865077,
          0.9158174302767098,
          0.422248487337133,
          0.9078849625166517,
          1.1431981588731244,
          0.6297318704717823,
          0.7185619751997637,
          1.0070023956511602,
          0.9757581397185893,
          0.9028461178604618,
          0.8533158721231281,
          0.8817021912943301,
          0.7859631199091246,
          0.48786056371449793,
          1.0272371235925588,
          0.6924291173444672,
          0.8710393716838064,
          1.0918936461520878,
          0.9109226312060312,
          1.1438622971722079,
          0.8501394923570516,
          0.5720817107195751,
          1.030864879648336,
          1.0373213511503578,
          0.9613002234400265,
          0.9105893049051468,
          1.1749935892403938,
          1.2047760701489736,
          1.1515717292799081,
          1.3428182997707645,
          0.8423676898991996,
          1.021914165569856,
          1.1219133102848358,
          1.0428120385316972,
          0.8537108837521438,
          0.9236378205889263,
          0.5449723393637387,
          0.7392913233851655,
          1.1727972242877196,
          0.8302320728417439,
          0.7737903557153718,
          1.3712450074254856,
          1.019169790040002,
          0.8746647467742186,
          0.8468488797214185,
          0.9782702637948562,
          1.0162120652759818,
          0.8344715102495969,
          0.9416729052695255,
          0.5578996732163852,
          0.5993234618353516,
          0.2689169943190904,
          0.7650632795185035,
          1.0390531259438434,
          1.003830050040108,
          0.8037936637938023,
          1.0602664523606595,
          1.0484569269792683,
          0.6953773556138318,
          0.7981361420587145,
          1.2260153661234512,
          1.1945273482073435,
          1.001883635255921,
          0.9812730313215634,
          0.4765754610480777,
          0.5363380408318459,
          1.0237089268051605,
          0.8675440836728173,
          0.6295250013141366,
          0.941600860996176,
          1.072406031246468,
          1.048784923507044,
          0.6842581101375441,
          1.0986340220063278,
          1.1891724637046976,
          1.150479979102922,
          0.9321573253188556,
          0.92284506688029,
          1.1222505197464245,
          1.1814877372255588,
          1.0416988108627205,
          0.6219628664783639,
          0.6821134073114398,
          0.514515127956189,
          0.9075112703620264,
          0.7511719594249915,
          0.6143376102873014,
          1.0643311671810325,
          0.6704455904651403,
          0.5502214394013079,
          0.9211589248761669,
          0.8260120630855055,
          0.7391658080957484,
          1.2244845770441226,
          0.9781494610285846,
          1.3201050376035661,
          0.6089838401539139,
          0.8925737740159935,
          0.8300606818912148,
          0.6806564321932441,
          0.9775758523048537,
          0.6441777054270251,
          0.8898185753163781,
          1.3863449407688366,
          0.7971495788144969,
          1.2347377063355873,
          0.5889975550844908,
          0.9003343830019357,
          0.7553237377313704,
          0.6111979684141784,
          0.8004125245499457,
          0.9694994435765553,
          0.8428652860832263,
          0.9814545239447569,
          0.7856304466339119,
          0.8995402522056104,
          1.2010585896997812,
          0.5109789101422443,
          0.9522707113105784,
          0.5955699680621279,
          0.6721498600222854,
          1.049021098524619,
          0.9428092689814628,
          0.7119679939057549,
          1.1125011753571943,
          1.0341759798176593,
          0.8625504009030734,
          0.8716302130301817,
          0.6121220124870419,
          0.6644721579235663,
          1.2168286964902297,
          1.2437500873679888,
          1.4047390971680922,
          0.6640525650086486,
          0.7197565267840552,
          1.2969930766992541,
          0.8395737845779878,
          0.764779062508276,
          0.6128864958872355,
          1.1454671676256099,
          0.9473459911800934,
          1.1540602557569126,
          1.0702221378071293,
          0.9888663388000388,
          1.0653675690023932,
          0.9763826381574603,
          0.6591945423450857,
          0.8714648532524709,
          1.1721866045348783,
          0.9979787942073421,
          0.9209007258513754,
          1.1140540346007033,
          0.8117133251890257,
          0.9501721836585892,
          1.2551871487617208,
          0.8117988473998343,
          1.5384292511222588,
          0.9788758941146114,
          0.8122067701926851,
          1.1097618599411656,
          0.9724046583658734,
          0.9414750643522712,
          1.2760584953612872,
          0.9536050406927338,
          0.4542313974161079,
          1.1466428451036386,
          0.6637867196639562,
          0.9692724932262485,
          0.5282638950133577,
          0.8517827195761402,
          0.7167352575305898,
          0.9538729433502376,
          0.8821622137581344,
          1.2404647118262853,
          1.186064998698453,
          1.005159124968113,
          1.410525202302847,
          0.6113540172809221,
          0.7349081688668467,
          0.9535518631673803,
          0.7883208555014932,
          0.9991843823957153,
          1.2082101054207763,
          1.1564439302205793,
          0.8829941123389322,
          0.8416670296236984,
          0.4500862419095051,
          1.3002156230878406,
          0.9553533560485855,
          0.8113210203113267,
          0.7640025875958014,
          0.86985526345756,
          0.7784451055547141,
          0.6115995996136847,
          0.8370453301476091,
          0.5777262879623802,
          0.9630440192140309,
          0.776699116886701,
          1.0189463651859336,
          1.175080027929907,
          0.9144396839250786,
          0.8943255724543759,
          0.7513228757754931,
          0.7154349354641023,
          0.9157958249331491,
          0.5672581251715578,
          1.1938657499149845,
          1.0808283261594256,
          0.7873488348843523,
          0.6741619946089288,
          0.987706006082919,
          1.410340074663136,
          1.1720085522260355,
          1.1957591207427853,
          0.8628413419618206,
          0.645318957586476,
          0.664724369843857,
          0.2936495868835369,
          0.8988557577406229,
          0.6531017173836821,
          1.035045427981839,
          1.319334693597874,
          0.8301928605922982,
          1.2648039563652478,
          0.8845299891974303,
          1.1142145788432403,
          1.0957126504455401,
          1.0018900591065807,
          0.8753325508603224,
          1.3057790308900652,
          1.253659638160706,
          0.8485672070445568,
          1.0660605029948769,
          0.867276421161737,
          0.6348689846867662,
          1.2292638531361635,
          0.6217689573918427,
          0.8428705673573712,
          0.92668343944914,
          0.9971981312415055,
          1.231104493426648,
          0.852472974287626,
          1.105951740649236,
          0.7409688481251634,
          0.8687700986742342,
          1.0321028044418994,
          1.0426632016541821,
          1.2162813100855168,
          0.8334689207632224,
          0.9655242030038638,
          1.0780376836981087,
          0.39839162718768917,
          0.5816528756011191,
          0.9149174273634404,
          1.0599629140854374,
          1.1743402093119926,
          0.6109452237362802,
          0.9993587547966115,
          0.7373697454486876,
          1.08531933390109,
          0.7832953224979307,
          0.7200576979090743,
          1.0579387077689177,
          1.1537484219425846,
          1.0108523854441216,
          0.8222115569105687,
          1.3429446668189702,
          1.1294349067726375,
          0.9984834949670137,
          0.9104069093395444,
          1.0807959061175254,
          1.2154660162394133,
          0.8382072705761502,
          1.150307659742409,
          1.0028836056602968,
          0.8898373532878201,
          0.9150093171903269,
          0.40568548502725577,
          1.125187844517448,
          0.7548873454083129,
          0.6981567059287058,
          0.48035464770605013,
          1.2726118978957217,
          0.5886582480715917,
          0.9146945892292969,
          0.8435107004306911,
          0.7280839675956882,
          0.9298205950548801,
          0.7369778751805579,
          1.40787506902443,
          0.9456167753028625,
          0.903046424651665,
          1.101505703594315,
          0.8213641466425101,
          0.7501188589697027,
          0.6313380556125399,
          0.8066698644694206,
          1.0480607217921507,
          0.8297314690791486,
          0.9685579970587318,
          0.38932447241481816,
          0.7541065444597422,
          0.9920110846740898,
          0.6492281070415767,
          1.1254747789917992,
          1.0918300035167605,
          1.100797780802636,
          0.8912505977263817,
          1.1405016298254074,
          1.1654802339927297,
          0.7932842152691687,
          1.0653599506611036,
          0.7338328141849376,
          0.9975418437833167,
          0.8940662862116964,
          1.0528336606544835,
          0.6868578662597321,
          0.8855839509360164,
          1.0955154885937173,
          0.9665921710677531,
          1.109361916712765,
          0.8966178710492103,
          0.9299092470587071,
          1.1145068088590142,
          0.8301204936790818,
          0.6977098112026928,
          1.1482415718579047,
          0.8844665935640789,
          1.278928876146748,
          0.6817471350362,
          0.9196644599513997,
          0.5331547245292821,
          1.000949609650242,
          0.8466398669486108,
          0.7766417030986597,
          0.45669213108106366,
          0.7210637169783435,
          0.47786692878039955,
          1.1574339999092025,
          0.8116747212811968,
          1.1290853562750525,
          0.8126808738393451,
          0.7194127173496209,
          0.6030736043711923,
          1.2293406336998298,
          0.4750118190859708,
          0.8218303818116934,
          0.9136084109029495,
          1.1230216160925317,
          0.8250246332639131,
          1.0410047218210876,
          0.7714981630943941,
          0.8741232441445004,
          0.7675690729128266,
          1.212806772622799,
          1.20276706158635,
          0.6983977376864114,
          0.6499193418148573,
          0.7001535924927897,
          1.2287274031303814,
          1.0838178344484455,
          0.8288727020942532,
          0.993105873554462,
          0.46341391630109724,
          1.116976922083692,
          0.9492034589028727,
          0.7261551445611809,
          0.8180093653682198,
          0.9860118880778885,
          0.5062990190901887,
          0.9266306593216267,
          0.5452790604902819,
          1.1227364215389524,
          0.5786945283424975,
          1.3178182700027388,
          0.8030130896169511,
          0.8103108443272334,
          0.9258966756262206,
          0.7141540033709952,
          1.1129764691491058,
          0.9551067081296077,
          0.7369853324404297,
          1.0213723554187881,
          1.268534150729179,
          1.0551537869044814,
          0.804611178093364,
          0.5356418445739651,
          0.906777723071372,
          1.0460359436673783,
          0.8940846955047528,
          0.6819363463242029,
          0.8892043207344124,
          1.0712449979790106,
          0.627347473359914,
          0.9220942724535058,
          1.0795687936556688,
          1.119812948193404,
          0.9026574644221272,
          1.073901010454812,
          1.027561664496471,
          0.8022778250572014,
          0.6382369410654,
          0.3953011493628273,
          1.3399451856367837,
          0.775156546412034,
          0.8835131376565938,
          1.2005516414284683,
          0.939558281132305,
          0.7389051348304752,
          0.6665796141273037,
          1.043589408435386,
          0.6809951216917246,
          0.9685462840846671,
          0.9398554271187728,
          0.5233984184888881,
          0.9119033839876944,
          0.9559455962556095,
          0.47738547517454727,
          1.1969360841441434,
          1.019536531688218,
          0.9591834615467274,
          1.0207980528078775,
          0.8330368826814318,
          0.7019565642522668,
          0.8590346753447139,
          0.958040585360397,
          1.061469918261774,
          0.9588032456110962,
          1.059292034717702,
          0.9293466309598977,
          0.7602393548188585,
          1.024621339743075,
          0.8621252447315988,
          0.5883789630051053,
          0.637310072299583,
          1.1838104351435772,
          0.8411096864501504,
          0.6735870606498908,
          1.0663439849064644,
          0.5260129072314513,
          1.030444960464615,
          0.7630341555260937,
          1.1040858160271894,
          0.7083326382410537,
          0.5869089368578381,
          0.7618864340105289,
          0.8043191589819028,
          1.0738782910213032,
          0.3410449056346576,
          0.7554622808366583,
          1.0805371465914302,
          1.0299530215928185,
          1.0748470183707903,
          1.1756359204268676,
          1.070384863104635,
          0.41177137336023706,
          0.8103575390145157,
          1.175495227667512,
          1.0846524155718864,
          0.7313894904231367,
          0.9785420876208454,
          0.8865930942419536,
          1.0458389933204155,
          0.5641336733829281,
          0.9541120748480063,
          0.9376373803770098,
          1.0891368844974483,
          0.5700457041047022,
          0.9956046571458197,
          0.7820624764199534,
          1.1870574905142781,
          0.8923214065270467,
          0.9627489236148105,
          0.5889556124435612,
          0.9237355922122573,
          1.267489710241524,
          0.8667017802694019,
          1.1483819784954112,
          0.6605776135178674,
          0.7605401055106741,
          0.9684576277655927,
          0.9926759861089355,
          1.0835973668859644,
          0.916297804162977,
          0.9300469628762268,
          1.0365079247515847,
          1.1344312291970393,
          0.5271023181089031,
          1.1262009448087138,
          1.0156820814388574,
          1.3405634994133986,
          0.8794626648352482,
          0.5493309014113544,
          1.0114975782504099,
          1.0111177877948394,
          1.1921403005532474,
          0.8036723842891884,
          0.9733363148600808,
          0.7742218287825193,
          0.7297862645299871,
          0.5000928114670055,
          0.9110962460867525,
          1.059267683471376,
          1.0342634927425298,
          0.6830885799831594,
          0.7332316414182112,
          1.2178536752482745,
          0.8617496008139673,
          0.93107991326567,
          0.9093982246260859,
          1.0291764739356504,
          1.094311729862469,
          0.9670832294877085,
          0.7502512852451911,
          0.8278401717765952,
          0.952130279974829,
          1.0928919940953126,
          1.100408047223286,
          0.8985545241480161,
          1.2871426735518936,
          0.7764420916545884,
          1.2403075782950839,
          0.9737825027102144,
          0.9647635261538662,
          0.9386331488049617,
          1.1908609862388926,
          0.8426287038821137,
          1.0194159781714105,
          1.145431622679543,
          1.354797128210032,
          0.5269857531119779,
          1.4143978761065437,
          0.879164008511812,
          0.9515363768524537,
          1.1276870696961323,
          1.0606568135593704,
          1.2459724652624296,
          0.9931244923828766,
          1.0171916764451971,
          1.1819276978784432,
          0.9413998821803162,
          0.9814374398581475,
          1.0658571218722328,
          0.6328543967780874,
          0.9314143849089449,
          0.9864881442136443,
          1.014890093973919,
          0.6931820159161785,
          0.7628569280056208,
          1.0646549121884141,
          0.9072214947218114,
          0.7556145831943737,
          1.26678327113341,
          0.8114753699906223,
          0.9029808231051465,
          0.8408729754591935,
          0.7929567743046876,
          0.772928645019772,
          0.8985923824246455,
          0.7739581596982198,
          1.3770469234834102,
          0.6445167663828871,
          1.2160651140739984,
          0.7474519249321542,
          1.3306174048051218,
          1.0851176321020866,
          0.9573632651517802,
          0.9079291537574165,
          1.0995295121891397,
          1.0760408489894144,
          0.7734961197285689,
          0.7476134235888054,
          1.1345829703001493,
          0.9157728070487151,
          1.0537734778363828,
          1.1901691529196,
          0.8682774445597264,
          0.9664154062419802,
          0.7703828401477274,
          0.39594552360125157,
          0.7943759277265023,
          1.1603973595557273,
          0.9658302810450925,
          0.930394994774162,
          1.0350656394782511,
          1.1986884836554867,
          0.8428195266125428,
          1.0708844292256277,
          0.6816676555237517,
          0.9330795844713037,
          0.7368173208316733,
          0.8602716631382832,
          0.8872196278085586,
          0.7958226572612415,
          1.0001749193738185,
          1.167119510034699,
          0.7666142170964948,
          1.2969022785254851,
          0.737420098733244,
          0.8905653529593486,
          0.9789753963348043,
          0.9793272262631527,
          0.7773209505454011,
          1.034717746212201,
          1.0144165044397593,
          0.5808342100811994,
          1.1424129895969064,
          0.7968640253532246,
          0.7691812488662325,
          0.8358087866689959,
          0.8221040386610718,
          0.545137046915392,
          1.2371933054107176,
          0.9371651117137277,
          1.1700452609920966,
          1.0488073290964295,
          0.9885808194056642,
          1.0820109789334837,
          0.7410389814032442,
          0.9387403326435354,
          0.5639663226737817,
          0.6117684269064979,
          0.7894726718541724,
          0.922148761510954,
          1.3365473223521558,
          0.7607627025547933,
          0.598804255341277,
          0.9116533405057822,
          1.0462147178176677,
          1.1016099443510685,
          1.2222447232386344,
          1.1303178843894144,
          0.7937479131510092,
          0.7544550588141848,
          0.6298377016365821,
          0.8807153170947021,
          0.6341036735635855,
          0.9677576393832115,
          1.114011896602871,
          0.849416075402859,
          1.0062898606444561,
          0.676493306852325,
          1.1297669672251198,
          0.7907752612462017,
          0.7229228951091702,
          0.7536711940836249,
          0.5892355871255256,
          1.2856381125184844,
          0.8856224287762192,
          0.813730962805107,
          0.7114486668603445,
          0.9297926108000009,
          0.774764081046906,
          1.1050711235728128,
          0.9383182945778816,
          0.961870923783723,
          0.9954503638403075,
          0.5013785723875016,
          0.995982279403526,
          0.5831177856972809,
          0.6652389658333219,
          1.0989151105089834,
          0.6542419211009375,
          0.8630159377375737,
          0.7842541291157396,
          0.5422073630493741,
          1.0442949471308727,
          0.7400532926243201,
          1.110356010683553,
          0.9525432051755179,
          0.4836886079818274,
          1.1266486190303147,
          0.9424969064903979,
          0.47043708172979354,
          0.8955510775898317,
          1.207308495633452,
          1.1756979980410867,
          0.9458052540364732,
          0.9692799409690684,
          1.0725992413858676,
          1.2659159464998837,
          0.6502317751505752,
          1.3867015309057202,
          0.9187687071471954,
          0.7506306527989502,
          0.8377171325113488,
          1.141594557810304,
          0.8598770102639797,
          0.9063899995501546,
          1.0195820339885655,
          1.14028617143641,
          0.8120843387480758,
          1.0627997341510207,
          0.8934302163947441,
          1.0846950826718689,
          0.8378104437260088,
          0.7157733530664843,
          1.1375019456364446,
          0.9773142571197992,
          1.0341464461674257,
          1.4092261826972918,
          1.2285811453587232,
          0.37288251647394643,
          0.6266134109878619,
          0.9014773380521448,
          1.3278231848078415,
          1.2949735504779685,
          0.589659072344108,
          1.1418969754025217,
          1.0237747746567147,
          0.8355658965165822,
          0.8624401678651414,
          1.1789183511014822,
          1.325415091515578,
          0.9457596380611685,
          0.900381111287796,
          0.7966048089072965,
          0.836628526414228,
          0.8897583268332928,
          0.7327740772263031,
          1.220030639116177,
          1.3750648095222473,
          0.7091961525837759,
          0.8787935879306598,
          1.1502824268828333,
          1.1043873102795039,
          1.2896748516998264,
          0.8417827943494298,
          0.9261029862858748,
          1.2537668834249827,
          0.6248298660330602,
          1.120408011247269,
          0.9045111767215586,
          0.5035522154663616,
          0.4551157984034662,
          0.8638277769821258,
          1.2298003979510133,
          1.0564523124588199,
          0.7774421297832865,
          1.0317676333308308,
          0.5793503412547236,
          0.966945854736816,
          0.8931296849909901,
          0.8217215955524372,
          1.0555907583667,
          1.199107815437757,
          1.0164399627838137,
          0.635414111240159,
          1.0555062377201565,
          1.3021392033166153,
          1.037051031422206,
          0.557250600805367,
          0.26310349721889975,
          0.8739388425648666,
          0.8899832416440508,
          0.8454408447951156,
          0.5884093758325383,
          0.7999129172574402,
          0.9848755739448514,
          0.7638459407465212,
          1.0106398907006857,
          0.8006876323388598,
          0.8790568711627127,
          0.7170723503946308,
          0.8031949710150866,
          0.9307267173227058,
          1.1953994864207806,
          1.0131520505120346,
          0.4670080885866071,
          0.7145983531718472,
          1.0191911684798372,
          0.835140816901804,
          0.9660792834839959,
          0.5578118052094647,
          0.8082052243550545,
          0.5252927596161349,
          0.6100415304553928,
          1.4105279390911274,
          0.7634677564243514,
          1.3071300294750725,
          1.191980112432128,
          0.9126921191865242,
          1.2584470450521787,
          0.9395088954566728,
          0.48890503875992686,
          0.6061610976443803,
          0.565983180974702,
          1.015602233632505,
          1.3100599017607222,
          1.1202527954854125,
          0.6183763034800047,
          0.5852911703264876,
          0.7344499604737548,
          1.2217753616106402,
          1.1748785300714122,
          1.0734158721283222,
          0.6635785372465997,
          1.0451027727659323,
          0.8025312227347542,
          0.9646761868622525,
          0.9264159949330177,
          0.8515952657987199,
          1.1287478643589017,
          0.6299608078062007,
          1.3437208879035742,
          0.8138800494719765,
          0.7938370441420968,
          0.9806936255923918,
          1.0567721618213155,
          1.0776216913010452,
          1.0019207227272389,
          0.7825275193877882,
          1.1425665185017835,
          1.0305555362945906,
          1.0488471445265732,
          0.8448107339400617,
          1.0681667165696942,
          0.8787354493496845,
          0.9865234171219434,
          0.726998308419508,
          0.6831428644386557,
          1.1849280260735366,
          0.8300245549814281,
          0.6902449016075041,
          1.1812242360893404,
          0.8826084179039112,
          0.9823388813000813,
          0.9594655820516582,
          0.6410401612741736,
          0.7786241461670292,
          1.1754935762912466,
          0.8872064293071875,
          1.2268790852240568,
          1.1472251271702163,
          0.7850968504879,
          0.8178854758285814,
          0.8816907514994228,
          1.2428923429856746,
          1.1807856589077497,
          1.284015063339324,
          0.9747285611028803,
          0.822339912668977,
          0.8378793519900011,
          0.8014544538716893,
          0.990458971137099,
          0.8015286327629424,
          0.893722686470078,
          0.701440563013623,
          0.9626690331314706,
          0.984858384387823,
          0.5743593893282001,
          0.7652570692845138,
          0.7763686050760615,
          1.0402735586133802,
          1.2497432933907093,
          1.0685881927635674,
          1.1838188249412325,
          0.9641363731977786,
          1.0452344208283775,
          0.6659354048949343,
          0.9834961302462732,
          0.4886434061807717,
          0.46935359919565095,
          0.9207266801862966,
          0.6743715878314869,
          0.9986766483325674,
          1.024174600736021,
          0.9196602692059773,
          1.0390722257789402,
          1.0767403313835706,
          0.9658364022240209,
          1.3496939899390106,
          1.1970977177875277,
          0.9260896925073543,
          0.7927057672657449,
          0.9963367545911589,
          1.2229063247254515,
          0.961774472575639,
          0.900732874271457,
          0.6742851876211362,
          1.0471719011724723,
          0.8247140421430624,
          0.7516944039685246,
          0.9577404880060503,
          1.0139413698981496,
          1.1866942162949459,
          0.7433029808442289,
          0.6295185357950989,
          0.8879593350193332,
          0.6251470237327487,
          0.826170601338615,
          0.8034018441967318,
          0.793186510544819,
          0.9112718513636501,
          0.7345733728976488,
          1.2618233893344066,
          0.6449958856831427,
          1.1135753378333366,
          0.6904891694359491,
          0.7204359521728467,
          1.2836463253653316,
          0.9687917793052743,
          0.9298989346372429,
          0.9735485286698567,
          0.9818423874998996,
          1.1894242412120406,
          0.7896935782238763,
          0.6569384541490163,
          0.7103829482419204,
          1.0781596717927302,
          1.1747431718087433,
          0.8968692020692842,
          0.982049445196205,
          1.0340100910551244,
          0.9306006006592485,
          0.6894686894022655,
          1.0038488797364686,
          1.1894700380698078,
          0.7621753911009268,
          0.9047183094629105,
          1.198045625397619,
          1.1939783260537908,
          0.7955924965898853,
          1.0841566457126572,
          1.211177233930253,
          0.8670375971490726,
          0.8572398716659877,
          0.8847974008106373,
          0.6562108486870242,
          0.5867877074531037,
          0.8377045139727882,
          0.8180373563521588,
          0.9246160080941572,
          1.262196227912996,
          1.1755752320683532,
          1.157090492211117,
          0.8864325897592898,
          0.8825898034830297,
          0.6797122987087388,
          1.0758393096737653,
          1.1189956168804538,
          0.9200803038666054,
          1.0548309338178568,
          1.1195242744277176,
          0.9098163503783767,
          0.9827911079622407,
          0.5526969319450845,
          0.9424341042722733,
          0.9927105539145261,
          1.0667464188706004,
          0.8404543086513659,
          0.6467783372696538,
          0.5552577999179293,
          1.0602269524089982,
          0.7439848240142748,
          0.7559335485323775,
          0.9265138084366821,
          0.7264694040567165,
          0.8801469173850731,
          0.8789507700637132,
          0.7985988180198738,
          1.0958460626546114,
          1.0395611020456637,
          1.1086203623988882,
          0.9645960888631598,
          0.7502245530852492,
          1.0252428126685538,
          0.9383353940646686,
          0.8707870808508148,
          0.9442736410879492,
          1.130908474885219,
          0.7139559655377646,
          0.8196582709391057,
          0.9183068220173994,
          1.086592196412389,
          0.9224904633745769,
          1.0837689406695934,
          0.8701288028660454,
          0.8765925806902676,
          0.9660623603318872,
          0.619038747733951,
          0.9612861119877009,
          0.8000854215725276,
          1.039976697915731,
          1.309544132251136,
          1.001438842733852,
          1.1933170572715701,
          0.653936924662328,
          0.5889921414803978,
          1.2179830165022874,
          1.0697247496361642,
          0.5949369743269415,
          0.917979914475845,
          0.6864686565417507,
          0.5227343471342502,
          1.1700682458455125,
          0.9748263134837013,
          0.7509765656028614,
          0.7507514118746698,
          0.8289540987828719,
          0.769054903186937,
          1.2854129241760905,
          1.1251972191964918,
          0.7579813125528181,
          0.9710795933135296,
          0.7233899480271102,
          0.5736310465935678,
          1.0057659969575101,
          0.9192063574986991,
          0.7128425518529988,
          0.9414691349093284,
          0.6866624882818696,
          1.0670726946422942,
          1.0983917341259841,
          0.9358195593227967,
          0.95216876664497,
          1.0399389751464003,
          0.9435909924431578,
          1.1832754582595888,
          0.7813203797352738,
          0.6532879258985671,
          1.1334008509791258,
          1.2215340370457897,
          0.741720579066418,
          1.1046970339489401,
          0.894733547448502,
          0.8785583009672174,
          0.608473624384377,
          0.7494143210849772,
          1.0539170444359658,
          1.0719367989047874,
          0.9736544417821118,
          1.0224936413198218,
          0.7682883243265363,
          0.8147500691593944,
          0.8792185639884367,
          0.993467866490878,
          1.1754268429631791,
          1.0497863756456371,
          0.7116636363876394,
          1.0803794110892986,
          1.04333975392257,
          1.1152062587585625,
          0.7847427519462699,
          0.969219979617004,
          1.1667496127331205,
          0.9506528848243455,
          1.1294703332176734,
          1.0654659049971142,
          1.0826082086388915,
          1.091072193612334,
          0.5443191607915796,
          0.9779899992068298,
          0.6461036015320386,
          0.9095280063038015,
          1.1949511529080235,
          1.1960957954538678,
          0.8891651170577224,
          1.2832993689349386,
          0.5125913169840822,
          1.0315607799243747,
          0.9489621973183681,
          0.8288589680782431,
          1.2191551649149348,
          1.1188897659605261,
          0.1960034876693143,
          0.8722226825145745,
          0.8531442940938853,
          0.6978968628934795,
          0.6386460346698509,
          0.6055290309799747,
          1.0880382536401763,
          0.9915073116853483,
          0.6130474754967191,
          1.0489300024399253,
          1.0374343466417908,
          0.9964663580395591,
          0.7535728956259893,
          0.7746799669428037,
          0.8811893836588479,
          0.9601259664988536,
          0.5963578840123004,
          0.9749072512915262,
          1.0723330459898417,
          0.5203317620084458,
          1.2188268132635023,
          0.9251767055091966,
          0.7365828068856393,
          0.5371341243748714,
          0.7525308351621498,
          0.6092547220313688,
          1.0942621142619082,
          1.0496514088951245,
          0.996010512576498,
          0.6972997521744291,
          0.8748553753895192,
          0.9770579268932855,
          0.6590320457627937,
          0.7954990477891204,
          0.8798828555071406,
          1.0254374587961206,
          0.9299219381827641,
          1.1417891818553032,
          0.6995677054152251,
          1.144059629728235,
          0.7809510067397056,
          1.2095462993005666,
          0.7114221313777935,
          0.37659727493368805,
          1.0149311022747634,
          0.9557343232675437,
          0.6991384879510442,
          0.7627696530435999,
          0.8175948363472538,
          0.9551997573798474,
          0.6649321613409663,
          0.8742026549631647,
          0.9640918298281239,
          0.8899280267036793,
          0.7751909429447529,
          1.3004347618637677,
          0.8921332637993477,
          0.9449524895913161,
          1.0669177197332207,
          0.8463334753868018,
          0.9254027231187837,
          0.9829470324909716,
          0.8370757456818372,
          1.0527346847866663,
          0.8979427726571879,
          1.1731609376349985,
          0.8182391885962219,
          1.0935934804596905,
          0.7696991259709408,
          0.9996800918787007,
          0.5751701921321216,
          0.8717470875262154,
          0.8464447468535478,
          0.8171071098893319,
          1.304587555486713,
          1.0356745471844933,
          1.2663697736601551,
          0.6911068787151405,
          0.8354627999678906,
          0.8269799196024078,
          1.1560536448613845,
          0.7940963084462554,
          1.084441186405652,
          0.6615414916157116,
          0.573619940124395,
          1.3482322559198299,
          1.0317981736112412,
          0.44328494934474016,
          1.2085889391908347,
          0.8887821453482451,
          1.1793904087978317,
          1.0879870165540089,
          0.8918048589185533,
          0.5164808601666875,
          0.7292108798069046,
          0.8012171163447019,
          0.8062982375464381,
          0.8565434730555811,
          0.6547703189554627,
          0.9911370481008359,
          0.9153759524595428,
          0.9327995437054,
          0.8241558457257815,
          0.7728525835964177,
          1.0201890193020178,
          1.1431555875164483,
          0.5327733850355092,
          1.0835827152950925,
          1.1763162274900685,
          1.1316889741242802,
          1.092984543459832,
          1.0663116719129966,
          0.8205545122096427,
          0.7797269800759693,
          0.7082367287864987,
          0.9191969166024263,
          0.6905067371411175,
          0.9108896633512434,
          0.7370616371019442,
          1.2771886694075816,
          1.1558903972666246,
          0.7881816662575237,
          1.208161897873104,
          1.2275076256035495,
          0.9060471576566977,
          0.9321105930399372,
          0.9709861623428219,
          0.7909848959790632,
          0.6140130996809072,
          1.1037100244021318,
          0.8948080116884886,
          0.864648260959744,
          1.1865603396004385,
          0.7185460129587551,
          0.9993657984876142,
          0.8784441349849438,
          1.0748357720325634,
          0.7604778762634478,
          1.0876524018408888,
          1.364814861443436,
          0.7139667711255768,
          0.9622760131599459,
          0.5119182600931783,
          1.0187495153213433,
          0.7820596743307296,
          0.9920536791452987,
          0.9302102161573187,
          0.867782963516865,
          1.0148406250340702,
          1.1109505600415202,
          0.7595251642518792,
          0.7470285934550014,
          0.7029722561569935,
          0.9167847290672215,
          0.6364454682121087,
          0.7505395938527445,
          0.9566079590127925,
          0.8849682027271615,
          1.0205615432591557,
          0.7600099064770436,
          1.2804761237703748,
          0.7797670336423008,
          0.8361447353573627,
          1.0861425510049252,
          0.7981409819861428,
          1.0945826772334961,
          0.5293769571207446,
          0.6011417537667522,
          1.071388146187467,
          1.1523299480782392,
          0.8593447537882373,
          1.226696557121428,
          1.1634896436526407,
          1.090736846984728,
          0.6155593448280429,
          1.0821736903359034,
          1.0010309305752547,
          1.246028253881162,
          0.4659381110377105,
          0.6594480375954292,
          0.812371770912682,
          0.5128811725294865,
          0.8126997413194887,
          1.1353480026638174,
          0.9014863802110122,
          1.2801700218367014,
          1.0069108624721497,
          0.5243015135497039,
          1.1564215327671703,
          1.3076252848999879,
          1.0164134942581824,
          0.644135615039297,
          0.6750298591963858,
          0.8612269544580694,
          0.6936132101573383,
          0.9873790115351115,
          0.796653097304606,
          0.7228908210746197,
          0.9280866682903908,
          1.107837266838471,
          1.0684960358535196,
          0.9299520832669178,
          0.8603014604500898,
          0.8311894306323758,
          0.7595953271450057,
          1.087771104500629,
          1.0353798481137553,
          0.971098582282555,
          1.1352604683601055,
          0.9142698088167615,
          1.141745794323053,
          0.6666439200556717,
          1.2306288670563432,
          0.996513744845138,
          0.8373126422731839,
          1.0746926215974655,
          1.0088666050604764,
          0.9899925349363471,
          1.0231939120775202,
          1.073204597362035,
          0.6179393339079732,
          0.8578327259350685,
          0.9122924243270142,
          0.3083933977815029,
          0.9420938546320844,
          0.6794660856738808,
          0.939357251826121,
          0.8011322448852524,
          0.5166369775047526,
          1.0917720697479378,
          0.6897582614636163,
          1.0038096649643828,
          1.0828634171312383,
          1.2516468297840542,
          0.5846346051802547,
          1.171231907928456,
          0.9069998952305306,
          0.7768747074936819,
          0.9997876190908457,
          0.6969363615153452,
          0.7873520193145495,
          1.3221922775887276,
          0.5641247094969128,
          1.104433567315171,
          0.8153418838983216,
          0.8423515175574046,
          0.6518154864374506,
          1.44291872404232,
          0.9239339179870267,
          0.8485665617909653,
          1.0392258360719573,
          0.7360396625421024,
          1.1007758661008633,
          0.9619863862657968,
          1.3902573294567917,
          1.0245917103609086,
          0.9269162081318173,
          1.221730712120115,
          0.9804689660353789,
          0.6785880114095301,
          0.9774735249352063,
          0.8539173284007814,
          0.8982390921931682,
          0.9228291078566628,
          0.7499581259899106,
          1.153878481718389,
          0.8169792699974461,
          1.148415025588324,
          1.251359721792371,
          0.6841281315377462,
          0.8162009956030245,
          0.7036819595528041,
          1.0790442276184713,
          1.1837606415827595,
          0.8444794747748511,
          0.915593380395602,
          0.9098426362704051,
          0.6534947803698005,
          1.1695827613058956,
          0.785448118125711,
          1.0559021031000024,
          0.7725753953456175,
          1.1725545223693516,
          0.9690237323351142,
          1.161843514943377,
          0.9862260138730244,
          1.1437576774674358,
          0.8577063498316454,
          0.7438347130750588,
          0.8562905591453338,
          0.8049572685931528,
          0.8593180598401565,
          0.7505504474141671,
          0.9259970445742773,
          0.9315265689507204,
          0.6174607482166409,
          0.7138307983474091,
          0.9962962637810171,
          1.0448232415550038,
          1.3025997499745847,
          1.1083875464222315,
          1.0230500527745805,
          0.927711505102252,
          0.6787729188666372,
          0.8630949818053559,
          1.037585106868367,
          0.8896324197693064,
          1.1067479619909342,
          0.9892641783942011,
          1.1376503105438356,
          0.8808608029207975,
          0.979170330022849,
          0.4314143924980926,
          0.9273789957287886,
          0.41439287452857937,
          0.6650833184122223,
          1.0667828645607185,
          0.1861485854035347,
          1.3524495911445418,
          1.166251601301122,
          0.8240856495048591,
          0.9827612987324568,
          1.0961070306902918,
          1.1539163481809778,
          0.6602890718074143,
          0.9258009615233959,
          1.104774455907559,
          1.3369292977015557,
          0.6658194938458945,
          1.0120046413996258,
          0.5259682010386034,
          1.3500103007781985,
          0.8837038978082178,
          0.9043847305994184,
          1.137046526346532,
          0.9629895458921375,
          0.9023537502767603,
          0.8870332992093943,
          0.8154235444369898,
          0.9650000168479577,
          0.9876074463477691,
          0.7244370858388667,
          1.3326339193061152,
          0.7975857466986235,
          1.2726508612396272,
          0.8419056360782115,
          1.0865032180731973,
          0.970831067663597,
          1.08487075477143,
          1.1313969163757185,
          1.2374384266403111,
          0.8906115933014693,
          1.0110916853775203,
          0.9736035444812188,
          0.7854295202191504,
          0.9580615626153124,
          0.6207427145434374,
          0.9144084555075115,
          0.6878676230554142,
          1.373302327903094,
          0.8620575658934345,
          0.8871328389466682,
          0.898594329292011,
          0.4907437438030534,
          0.7320451740215538,
          0.727849111912408,
          1.0028964873858957,
          0.6186252069463115,
          0.999719985194619,
          0.8449582697954479,
          0.29649161304102495,
          0.7783837016743009,
          1.0844570298363192,
          0.7293562462296114,
          0.7672834113509177,
          0.9962672567680212,
          1.0316858200193042,
          0.9205430649726438,
          1.2739991698036313,
          0.8054558941076062,
          0.6959767047206645,
          1.0152878786421653,
          1.2310868554452092,
          1.0104168665634037,
          0.4969973688323677,
          0.8256426843543276,
          1.1191972569237039,
          0.9636274202338729,
          0.6451250941485162,
          0.749984969641438,
          0.7321553425993966,
          0.7310442531953719,
          0.7484309059182088,
          0.8850959177321217,
          1.1373385351563134,
          0.9728431577404072,
          0.5516954824541596,
          0.8642468665019876,
          0.7974436179759014,
          1.0198496629286888,
          0.6206429241235274,
          1.126118894344321,
          0.981261297833121,
          0.6977694297724204,
          0.9693540307784894,
          0.9259856996548954,
          0.9928116835458285,
          0.7560679085958912,
          0.5389805428952728,
          0.9574172217639082,
          0.5403879001476556,
          0.9216346178200291,
          1.3020686795562602,
          1.2084371675725813,
          0.8932709651236704,
          1.16835384350195,
          0.9955262514096151,
          0.749022796511331,
          0.872291465364721,
          0.9481815234883902,
          1.047519411618088,
          0.579261929331676,
          0.7492025531130361,
          0.895578189097144,
          0.7342920837382975,
          0.7167368250373859,
          1.0367688426615729,
          1.123853677510605,
          0.6883642057347084,
          0.7466696641939418,
          0.6335603316366697,
          1.1356602354264989,
          1.1013955248161689,
          0.48993139670759617,
          0.9291476767837163,
          0.9919522756515072,
          0.6975926979392211,
          1.021954451295114,
          0.9212004843670203,
          0.8934154411394251,
          1.1219163744207241,
          1.0559619848335973,
          1.2647139992505774,
          1.0881292745758275,
          0.8506292315541656,
          0.7315053936288068,
          1.1639843071548264,
          1.1922576843494035,
          0.88658968991842,
          1.0078687449495374,
          1.1985365593273103,
          0.8732002740110117,
          0.9616976534128334,
          0.8937755976140065,
          1.0915115941469056,
          1.0546390828196284,
          0.9814424065207152,
          0.6572465876620851,
          1.0956146116463328,
          0.9776473033949488,
          1.0585355559140364,
          1.0552830587632778,
          0.9921883825626038,
          0.728583539303389,
          1.0001709201420643,
          0.7850150265588984,
          1.1511226649234154,
          1.080367095011825,
          1.0624874131871924,
          1.148882221591693,
          0.7852107382447587,
          0.6631422540329651,
          0.7328665435554778,
          0.6672565854932763,
          1.0575670598219122,
          0.9834216061508569,
          0.9825085759692892,
          0.9954985029688734,
          0.6909616932962931,
          1.1406144078419624,
          1.1055810475921475,
          0.9371972450558398,
          0.8019738042837616,
          0.995151685333988,
          0.5295013475541814,
          1.0930276411221753,
          1.0889052246615096,
          0.7821823656414382,
          0.7620728751042124,
          1.045001702632175,
          0.6183925028864151,
          1.2326559123361553,
          1.0172424434290388,
          0.7902785748449592,
          1.1671875503219322,
          0.8438525819765972,
          0.8900457431559607,
          0.41327136311076723,
          0.8182248566640079,
          0.14971289228208298,
          0.9937477207654799,
          1.171013177140381,
          0.8448267395882088,
          0.81918541524661,
          0.6797241030056712,
          1.124372077541175,
          0.9636975572548673,
          0.5970322541139426,
          1.0529229273704743,
          0.9774252089233899,
          0.9969203151258776,
          1.2489558354136243,
          0.8181611397044053,
          0.9024967291841415,
          1.0040490883236728,
          0.9611504550674808,
          1.2986498797412398,
          0.745975881944569,
          0.9782295827755063,
          1.1432832790208167,
          1.0198724105753536,
          1.2027268090909753,
          0.9814955541527397,
          0.7300272216516245,
          0.8077193955268895,
          0.6147606301670743,
          1.1415393396905926,
          0.457179443534446,
          0.7543357061355804,
          0.6664748462762792,
          0.30833411299926805,
          0.8668221519631093,
          1.124160801543374,
          0.5052835266609736,
          1.2465480327432272,
          1.336916717819341,
          0.47788159526837043,
          0.9540189572619524,
          0.6472873671931667,
          1.157148230424337,
          0.9104567564801477,
          0.8545945571701979,
          0.9817694926704974,
          0.5911464748704309,
          0.5365983380243783,
          0.3387139400051141,
          0.9950063254081856,
          0.6156534606673469,
          0.9696141474345877,
          1.0664523937382335,
          1.0917706364278643,
          0.8985251400444522,
          0.8967444857132124,
          0.6973492384626607,
          1.0716511167339415,
          0.7510229704617564,
          1.1276987663341955,
          1.2188415875133265,
          0.6449986098521217,
          0.6031573920937743,
          1.0000334497277523,
          0.7702808287675078,
          0.9731815018541189,
          0.9536447616749872,
          1.0268960542243588,
          1.0454562413304733,
          0.6966075686218989,
          0.7100472869922386,
          0.7713506234344218,
          0.8251926572322846,
          1.0248679886533714,
          0.827121655179416,
          0.9060183118778072,
          0.9786157437334542,
          0.8995716643472021,
          0.9759587264825689,
          0.7952329461417963,
          0.7693664117031277,
          0.9509039013111157,
          0.8002813186458794,
          0.9541341791474075,
          0.9071273207951474,
          1.1098040575752446,
          1.0747954039411287,
          0.7757300882742789,
          0.8775766935220802,
          1.0978536086612503,
          0.9535175487263947,
          0.9235127256442682,
          0.7085061655258241,
          0.860338744105065,
          0.6310605334197646,
          0.9035729694556164,
          1.0657127129447899,
          1.0324102779501574,
          0.9304438672056919,
          1.2795714493304162,
          0.8067351051054854,
          1.1175429791381315,
          1.0723733693033524,
          1.085214269907858,
          1.139461215940648,
          1.0767210018700395,
          1.4287936114294788,
          1.073926307316771,
          1.4467772059589303,
          0.7290632493316189,
          0.782555992959928,
          0.6687838064695182,
          0.9798671485503844,
          1.055196903964962,
          0.8840695259478287,
          0.9174426411528339,
          0.8676654002590708,
          0.8423618060784908,
          0.8992627455311115,
          0.8786249034024509,
          1.3155565384383814,
          0.7505324509150146,
          0.5099265558216797,
          0.8436342185270636,
          0.8648617321511859,
          1.200454447014827,
          1.0478021650265796,
          1.2574135706370606,
          1.2512451020576076,
          0.8535701195877281,
          0.7640652996534922,
          1.4076299765710203,
          0.8888884919070098,
          1.0936882319519736,
          0.4528452634138463,
          0.9803192886418499,
          0.7783626950905999,
          1.1330639073505862,
          0.9810394149437917,
          1.032250602575696,
          1.1354307761829228,
          0.8757177801150499,
          0.7748524598789271,
          1.1897406002574558,
          0.883694980014969,
          0.9191552807978064,
          1.1317511770441877,
          0.9564423408699845,
          0.5971332718090582,
          1.012129015731692,
          0.6997755395245258,
          0.7837444297752443,
          0.8336949957452743,
          1.1290718744025892,
          0.9149725240608045,
          0.9566812341473144,
          0.7174539124677263,
          1.1152609062496535,
          0.7136087667817518,
          1.1639523882714655,
          1.17067067045523,
          0.9895283565775967,
          0.85871858174298,
          0.7973893022284887,
          0.4609284695074488,
          0.7894322171944698,
          1.0551590030262064,
          1.0326744256296982,
          1.104718992223854,
          0.48290132301009675,
          1.0383263967332321,
          1.2007004278165012,
          1.0005387772037073,
          0.6232924352322761,
          1.003753589874186,
          0.5207656013585508,
          0.507496963590921,
          1.2182455133613272,
          0.9637325915470647,
          0.8878160729187126,
          1.2419992750345017,
          0.8214693565618605,
          1.1294948659635566,
          0.6486016498567638,
          0.9160663903386601,
          0.3611797877771461,
          0.5482322105592191,
          0.8424621999014639,
          0.9744214787187684,
          1.1454351318106806,
          0.519566335579373,
          0.8279075138582782,
          1.0955195263674713,
          0.6473186497028365,
          1.0750557367753797,
          1.1166251739159851,
          1.0770148841029819,
          0.8522283209274123,
          1.1142973352071741,
          0.5223378652055335,
          0.7722527498972855,
          1.3255643708198956,
          0.6771228802917859,
          1.117307739387222,
          0.7823949839576395,
          1.1571495534472145,
          0.9438036102414743,
          0.8825318154083847,
          0.5458669157359632,
          1.1737979958153475,
          0.9484707331177313,
          0.7877552332801342,
          0.7773011499925041,
          0.761051829457232,
          0.9193060289428792,
          0.45285954110293775,
          0.8177526682090078,
          0.7016012360709033,
          1.0623406876756247,
          0.8498376405832205,
          0.9127556675963522,
          0.9485359239889589,
          1.0138951626727635,
          0.9642115057394094,
          0.7700332742116317,
          0.8580812207620157,
          1.0517849936494246,
          1.2651301614388324,
          1.1574981875645676,
          0.9901033188042223,
          0.994628710538843,
          0.8254475828363473,
          0.8008875234732175,
          1.1954452155787978,
          0.748764695789801,
          1.2588646197328652,
          0.3225816497407731,
          1.025698429640299,
          1.0826819742281524,
          0.738366417421985,
          0.901381708710866,
          0.7783262438355353,
          1.4462733409546342,
          1.1073427136127525,
          0.7312434370136257,
          0.9966835484915654,
          0.7355774387251974,
          0.6964120546369833,
          0.6545821888728688,
          0.7020663378465117,
          0.8145477293279451,
          0.973858435335967,
          0.9909360402307942,
          0.874277737306894,
          0.5909893627731511,
          0.9808345469698081,
          0.8922771719128837,
          0.8943095349989046,
          1.2706644372740268,
          1.0164448620387099,
          0.7927063833386494,
          0.8892422661178152,
          0.7379520876355382,
          0.968386713166973,
          1.2049703889431571,
          1.0940658370791236,
          0.9046143467981084,
          0.6093532066386306,
          0.9132377699318907,
          1.2921862324472664,
          1.1067611310580743,
          0.8213436644505101,
          0.5277061286146346,
          0.9720683950927927,
          0.6697959475996789,
          0.7882389192430118,
          1.358837663649014,
          1.0140350732652927,
          0.9216446849046149,
          0.7353914184465848,
          0.9717605151010879,
          1.0372198773698682,
          0.6348732211171157,
          0.6225905558253478,
          1.0114188640746355,
          1.0198065376625072,
          0.7428578401500057,
          0.9047813351246171,
          0.6259237460682617,
          0.8307112644458915,
          0.93503375415398,
          1.2397758447075826,
          0.9697673530589082,
          1.105215921055581,
          1.0387046487834186,
          0.552107947615685,
          1.0531338789121865,
          1.130285476212316,
          0.9145353490557109,
          0.7949389828236607,
          0.8967953670427851,
          0.8493984133481158,
          0.7898470521653967,
          0.9404597652144611,
          0.9081597000200844,
          0.8273374338264154,
          1.1624520322537624,
          0.7410527888789199,
          0.7080828386834231,
          0.9209047926311441,
          1.1258208422929177,
          1.0256377138377197,
          0.6856733812365402,
          0.8333564019616043,
          0.9765434937941658,
          1.0768503340113635,
          1.1016285688673273,
          0.8720068203258325,
          1.1526469037350429,
          0.7665386689788849,
          0.9440216221695845,
          1.1661180669816489,
          1.0824927325969242,
          0.6977501293084006,
          0.536910088939138,
          0.7061664395672802,
          1.2702170028746451,
          1.1657121953188883,
          0.6343828828191049,
          0.5162504988569137,
          1.093898293814275,
          0.513763880273734,
          0.7587120046628109,
          0.9390968002562665,
          0.8779858309533504,
          1.1698878688041876,
          0.8812148386032678,
          0.9811988625098704,
          0.6100027067552767,
          0.7170805306563085,
          1.1731169585104093,
          1.0770093561126046,
          0.9646587727352047,
          1.093275694478681,
          0.8059641835225498,
          1.22447514074062,
          0.6452292884215403,
          1.2861489919441913,
          0.9880280293454193,
          1.134564907378991,
          1.0350801203925892,
          0.984808047887247,
          1.0996247083441462,
          1.2511599049234199,
          0.9761149166123065,
          0.9711759332455778,
          0.5323535673357945,
          0.5877067937635339,
          1.139454346601331,
          0.927619693869148,
          1.1446604221716439,
          0.8625150360207297,
          1.0379146603701508,
          1.23315218044169,
          0.6956475394311381,
          0.9115437649047369,
          1.0336572559231234,
          0.9199685631515625,
          0.7276783339676884,
          0.9538833677333398,
          1.0749916415161227,
          0.9023199725809598,
          0.8097494294172408,
          0.8118271261522287,
          1.0354778593979936,
          1.060712266903948,
          0.9435296202985939,
          1.0815008785009363,
          1.2269825515062025,
          1.102789209668722,
          0.9030658147574345,
          1.1671666435930488,
          0.986904049576676,
          0.6885257956269416,
          1.0231852558352241,
          1.1255172261249637,
          0.8586781691892732,
          1.1329179049609512,
          1.3489098217961564,
          0.8050248573804357,
          0.837830911198745,
          0.6884449183800159,
          0.9009704412624588,
          1.0063959387371668,
          0.8585406197418055,
          1.1087521686623132,
          1.2156406609228796,
          0.8690800554077881,
          0.7918846597848955,
          0.9098152739217219,
          0.8670949485171766,
          1.0159071146504068,
          0.902792965338165,
          0.6176476682089823,
          0.6394122130350054,
          0.7640592329823056,
          0.9104146445839991,
          1.0548781223959238,
          0.5346668065547264,
          0.9749365806151019,
          1.032972348664774,
          0.9472638587734206,
          0.9267163414882503,
          1.374797491742609,
          0.6637319078253314,
          0.832605926085209,
          1.0146984439220241,
          0.9272659164100093,
          0.6374284960364458,
          1.104302236384046,
          1.06577773789754,
          0.4236141136943204,
          0.6233444977941681,
          1.0486321450703011,
          1.0563536756234901,
          0.828966880067327,
          0.9716536434174705,
          0.6443524297535986,
          0.43264125369816797,
          0.8695373359288522,
          0.932218101628538,
          1.0995471281279756,
          1.132947479117216,
          0.8299192526746993,
          1.0419087616926,
          0.6720203190207544,
          0.8136258147380756,
          1.0544984696965398,
          0.9009765932615437,
          0.8609631952570439,
          1.2670441154294054,
          0.7637376661993571,
          1.1575356642118795,
          1.2514224824055458,
          0.9218765974103037,
          1.0717021227343941,
          0.8503278808194066,
          1.2438941321256278,
          0.7192358460546335,
          1.2802011480703832,
          0.2217822394544899,
          1.190185314933132,
          0.9860305645408236,
          1.112633101289501,
          0.9473666620040914,
          0.8601131286706498,
          1.1292986932449818,
          0.31626994625730376,
          0.8825205805799042,
          1.2428276679681742,
          0.6276924830620961,
          0.8204533695302214,
          1.0925376071082347,
          0.7681102560689518,
          0.5732323616646251,
          1.034907763989008,
          0.8388030694017781,
          0.7978645161140462,
          0.8504253985800675,
          1.210835177146312,
          0.7564575360133363,
          0.6140132383151509,
          0.293742706255834,
          0.6870376767922481,
          1.0152863218231023,
          1.0307336949829504,
          1.1583013993752396,
          1.015519599220744,
          1.1500527232340587,
          0.9546407797313718,
          1.340408090010792,
          0.6154943092023099,
          0.8067328364510221,
          0.637875192475635,
          0.9390047627765791,
          0.7915160347483031,
          1.0945472098818676,
          1.0502183974984034,
          0.6652619325652355,
          0.9795935869573268,
          1.2874477311736523,
          0.4385853785628224,
          1.10908565196162,
          1.0793742634358123,
          0.8902042951453291,
          0.8361894686948657,
          0.7559761307751197,
          0.7234176806493436,
          0.9031827517666365,
          0.9031952831076482,
          0.6870942047520266,
          1.1749779251870098,
          0.7565033403870478,
          1.2207876331784777,
          0.9576821101716145,
          0.6226934631716893,
          1.0925545101494705,
          0.9260272945090605,
          0.6937204198623592,
          0.772346540606214,
          0.7965830697282498,
          0.9016181641698606,
          1.0753452011696536,
          0.9619428419029868,
          0.7224376931046401,
          1.2426116644282879,
          0.382182394645019,
          0.9703013693682115,
          1.2527208608431484,
          0.682973708605612,
          0.845071231359372,
          0.7563416342830264,
          0.8861268263759925,
          0.6889689011661253,
          1.1199439533046263,
          0.9107944444823457,
          1.0927402992943946,
          0.9903171570698437,
          1.1016009732466632,
          0.6036592197498506,
          1.137899678793648,
          0.8658883851346053,
          0.9545376809369481,
          0.6047955826956687,
          0.7489749387497339,
          1.2889446842488637,
          0.6171425790990734,
          0.6517249035367312,
          0.6052599021542328,
          1.0994093879959772,
          0.7166047422597613,
          0.8485743675007015,
          0.9869541181945631,
          0.5316754558952153,
          1.0819140399012677,
          1.0090564521937901,
          0.8959207767247405,
          0.6841622342573344,
          0.8508698590514268,
          1.317930475209595,
          1.0023877494289852,
          0.6389550010729967,
          0.85325931914958,
          0.9449380037931094,
          0.7723519589137136,
          0.8360801496285107,
          1.2181101480105754,
          1.0750713502726692,
          0.9914505812463671,
          0.6351198897846019,
          0.8354509714588778,
          0.9762853053185019,
          1.1137614092201507,
          0.7262133049190537,
          0.9496415348560875,
          1.0393517750754162,
          0.9996064305753606,
          0.9941785469422693,
          0.8489002014611826,
          0.7255908931424652,
          1.172994135341937,
          0.7071710690026667,
          0.8947154482589017,
          0.9886149906336488,
          1.0431328864095726,
          1.1511891001004027,
          0.7158270534058643,
          1.0767999995876465,
          1.1695231482458177,
          0.7539466776021861,
          1.006940671951871,
          1.135837126468343,
          0.8345238393027825,
          1.2320578662940442,
          1.097123602008272,
          1.1242106909726035,
          1.1852722376209983,
          0.5520448558175096,
          0.9501724813226047,
          0.5863485394686649,
          0.9734275373397395,
          0.822045119834911,
          1.1706301769339522,
          1.049691804110829,
          1.0439420104596713,
          0.860778986083375,
          0.7964700057970627,
          0.8055422985795742,
          1.1528697233698748,
          1.0362375753279294,
          1.051310717658171,
          0.9994311312246797,
          0.7154921641063154,
          0.7467095146280378,
          0.92322481451753,
          1.0576762279541327,
          0.9409700355870833,
          0.6379030659625513,
          1.1272938323568822,
          1.204507267316709,
          1.1207341559401067,
          0.7179316622106098,
          1.0407142540219,
          1.0251738433938815,
          0.7599533381076065,
          0.64722754692888,
          1.0281510852277722,
          0.9045394898846213,
          0.892383185186428,
          1.02356263135703,
          0.7847434235477599,
          0.682298204896863,
          0.5287008087046658,
          0.6257686097231454,
          1.0122816492485407,
          1.205969250873953,
          0.9926856394768246,
          0.6335510185691902,
          0.8240404603901778,
          1.149332835861941,
          1.1493591406998211,
          0.4544956057765115,
          0.8316022828238523,
          1.2116742749842606,
          0.9317962023689335,
          1.2525308140013895,
          0.7520054460667116,
          1.0765813906343917,
          0.9874359812785042,
          1.05269444523963,
          0.9011722095932707,
          0.5632681278294315,
          1.1522821236960428,
          1.0531241208437525,
          0.9381923622095244,
          1.0076841599232857,
          0.8696238452771766,
          0.9429461420767414,
          1.213428760067213,
          0.6785193372656152,
          0.6940417876549004,
          0.982327050911379,
          0.45898275715472653,
          0.8133251632742425,
          1.4016474519890765,
          1.0203380568068101,
          0.5411676731065391,
          1.0902817862806131,
          0.9700908386805002,
          1.0187466751404424,
          1.0198567158015872,
          0.5241998513465059,
          1.2284703907969305,
          0.8042465259649823,
          0.9773646004409975,
          0.7675864005666141,
          0.8499543953894223,
          1.2222317037760442,
          1.1541443932559365,
          1.0047198206041619,
          0.720862000738487,
          0.9964222970567224,
          0.3908941091471151,
          0.8199292149673025,
          0.8585065250805943,
          1.041009286258322,
          0.7467024494390657,
          0.9846084476270913,
          0.8356231921664535,
          0.7034601930269647,
          0.8550026725930056,
          0.5792149363468985,
          0.8509717804230407,
          0.8391525898153539,
          1.0158210476313654,
          0.5820523747298425,
          0.6435764399712826,
          0.8450717542525892,
          0.9929424646842245,
          0.8778885295646351,
          1.0574144284868632,
          0.49277095165901547,
          0.8477625700241281,
          0.7884959193389969,
          1.1214245795976838,
          0.9984514221841373,
          0.8757598420577176,
          0.5972126285727257,
          0.8924806766647229,
          1.1594670897349388,
          0.5395564463437442,
          0.8933590123216649,
          1.1805905988572023,
          0.8781213363610868,
          0.9150457821332233,
          0.6920574534308559,
          1.236008586255233,
          0.9977098732825057,
          1.059374263659133,
          0.984493630115583,
          0.5710421708405187,
          0.49826231235354995,
          0.9906611123263602,
          1.099407769694428,
          1.022336272881504,
          1.0434143270792877,
          0.6986673970255523,
          0.7957863466275834,
          1.2979405548067533,
          0.7922968053086642,
          0.663984518492026,
          0.8196452205351682,
          0.9068728113858415,
          0.9670149979042957,
          0.4824353933905299,
          0.6033388094571687,
          0.6563549600526687,
          0.5022480024860531,
          0.7550101968732504,
          1.0155298297491175,
          1.0967276196414637,
          0.5554717693460036,
          1.1656866558257197,
          0.7938430623997597,
          1.0199296502310866,
          1.2405628675095601,
          0.6603503453183819,
          1.127651393190137,
          1.1788712430470463,
          1.0203947978874945,
          0.8921782834993738,
          1.1115296191596886,
          0.41390160538837023,
          1.385251012504553,
          0.8585436827083937,
          1.0079689705050867,
          0.9057729638352131,
          0.7467299765793388,
          0.9594001832480326,
          0.8876755372175238,
          0.603026346883262,
          1.1045490841407535,
          0.8098692574217276,
          1.0831838809863474,
          1.1476324752330884,
          0.9877145030469667,
          0.974784273733006,
          0.7509136711371375,
          0.8756685127127657,
          1.040406293967056,
          1.2380647486575362,
          0.7905409913311356,
          0.8008041064543147,
          1.1545478112355951,
          0.42164785979974684,
          1.1741941949381447,
          0.6262012294218244,
          0.9006718368251939,
          1.0439270556686573,
          0.9267707217194384,
          0.6106215799643451,
          0.5213990157889206,
          0.6747894546283966,
          1.1038330841813702,
          0.9818084556990513,
          1.3118641832500306,
          0.746304529340203,
          0.9335511912011661,
          0.8887669326749039,
          0.9174180478798032,
          0.7787615927504785,
          1.050955971033101,
          0.764866527399121,
          0.7264917462109525,
          0.8539462966314076,
          0.6676540265016213,
          0.8833897524242417,
          0.8342022623749683,
          1.275971836998461,
          0.9597825122726907,
          0.88837718917308,
          0.889239585457272,
          1.3706848962074014,
          1.016263809668663,
          0.9979064734681813,
          0.49055327763181716,
          1.1266419628883988,
          1.08240529391875,
          0.9512000412278615,
          0.9018973952173619,
          0.5907245576951711,
          0.7162390659977932,
          0.8418182575038521,
          0.6181736373474719,
          0.965291612073427,
          0.6687585457364779,
          0.823215437951956,
          1.0043818477825759,
          0.7757482931444479,
          1.2340591510529657,
          0.8959062712102905,
          0.973311844110199,
          1.1227556809015484,
          1.0701389894585858,
          1.1047888090922167,
          0.5662785961944121,
          0.9198577137602898,
          0.8959927505393358,
          1.0178582146397628,
          0.8170980877454591,
          0.8561686662649076,
          0.27457875970784723,
          0.7483167998052711,
          0.6520758446744924,
          0.796664353429605,
          1.07253870761156,
          1.2755081550340068,
          0.7453756666816037,
          0.8539541603374232,
          1.017939922804386,
          0.5736282513435258,
          0.9625568305972846,
          0.9318664063012077,
          0.9494904209667087,
          0.600284586055096,
          0.8948645756297885,
          0.9903641156038802,
          0.8624936165001609,
          1.2129586508828194,
          0.8573515012891093,
          0.9968408334905754,
          1.0592245667150721,
          1.0307155675763775,
          0.8361140107337465,
          1.207965237011534,
          1.2982644351278012,
          1.099131760104396,
          0.9714599440616596,
          0.5528162345966374,
          0.8546772428178717,
          1.0737463131735923,
          0.652380750258157,
          0.6798792611708168,
          0.9266334782812214,
          0.6789998655144708,
          0.7389630900434421,
          1.2853979398860507,
          0.7799253598311252,
          1.1147173633486884,
          1.2185616403067658,
          0.9999890617725711,
          1.1844929025929074,
          0.6231880643947741,
          1.2137483616701368,
          1.0588499083134542,
          1.0493331083061521,
          0.8914760493281443,
          0.8863208249781721,
          0.8247736306756875,
          0.7407658135647833,
          0.7917023597020336,
          1.2550309695132713,
          0.8390236689247496,
          0.9667156636521331,
          0.31347248486845997,
          1.0200618544804527,
          0.8158631900784812,
          0.6512735673787958,
          0.8761755643974759,
          1.1601211669930558,
          0.8090077111810233,
          0.5543552511117655,
          0.6687350543171321,
          0.5232286309273321,
          1.101727986778854,
          1.0459097319264627,
          0.6602044988717878,
          0.6037040691139073,
          0.7784926592250898,
          0.9716613082934734,
          1.2041255639710855,
          1.0052320217682116,
          0.7950371023059475,
          1.3271165952008832,
          1.3431610858506828,
          0.4969497586041628,
          0.953453801165995,
          0.7848261826008702,
          0.9266213898972301,
          1.0530260672641638,
          0.8255084130664948,
          1.0470371976272916,
          1.1507381603948224,
          0.6125123490965548,
          1.1728251696560419,
          1.054998735006066,
          0.8704985370242454,
          0.5983660337005021,
          0.9283597547367972,
          1.0597350357800819,
          1.0790267077060942,
          0.7446223030969098,
          0.8802104868533134,
          0.7421109487258355,
          0.6869143699236797,
          1.2588609801732737,
          0.845951018582124,
          0.5016594682652433,
          1.1396019417505743,
          0.8658182948157338,
          0.7819189081400996,
          0.9288245091404495,
          1.1087978428621372,
          1.3002657678057434,
          1.111187811761248,
          1.0296696803611858,
          0.8237326550335818,
          0.699926902725326,
          0.4282957383690007,
          0.9492570180551617,
          0.8307341713348405,
          0.8698992930171354,
          0.8879558328338805,
          0.9336632298715838,
          1.172285090770672,
          0.8778003024034865,
          0.8488269951827512,
          1.0346829689993875,
          0.9745031505992982,
          0.9822825798020917,
          0.8964282712715809,
          0.4441842407294597,
          1.2702518439819588,
          0.9597090175011337,
          0.8887865270430823,
          0.9686653009506712,
          0.622336219966735,
          0.989172345597376,
          1.2259230109546386,
          0.8602674417751829,
          0.9553419172612234,
          0.7512962539447461,
          0.9780556463990201,
          0.7080989113167183,
          0.9399817229496761,
          1.0060497070401342,
          0.4756273709286765,
          0.5961738792760044,
          0.7556727567997223,
          0.9780820502601523,
          1.0249881799954093,
          0.9506734900682474,
          0.8182106073173316,
          0.6613441849088645,
          1.076981570923491,
          0.40021999795593494,
          1.3039821215043055,
          0.7417287433363324,
          0.9016254757219307,
          1.0834692793649203,
          1.105452490472758,
          0.9425311684293084,
          0.8268314398462628,
          0.7805637475723167,
          1.142963633089536,
          0.8571508918720769,
          0.98249648037893,
          1.1564137300020825,
          1.2783751221665636,
          1.0403754264700058,
          1.1398626119899482,
          0.9105438445132631,
          0.837461009837413,
          0.9726687062402931,
          0.8832464548231255,
          0.9559174609906114,
          1.090076415385725,
          0.9095028233573567,
          0.9991971596163972,
          0.8954010832123351,
          1.2391270682024387,
          1.113642570083015,
          1.2890711070740062,
          0.8698500036423431,
          1.2749545096173178,
          1.070269266686081,
          0.657718220176461,
          0.512128527546484,
          1.2854428696513642,
          0.7997084438133594,
          0.9321343683864667,
          0.5100066478562489,
          0.6978618160060228,
          0.8027151928551073,
          1.0735481178254194,
          0.6214934087296384,
          0.7528024829079041,
          1.048204050498753,
          0.8514834340368761,
          0.8322013576107159,
          0.9423301278737887,
          0.8698289450624302,
          0.9891220962732549,
          0.961182969568942,
          0.926136064144328,
          1.0488461643241642,
          0.6299854371710701,
          0.30761306386755843,
          0.8630176214534684,
          0.3966026415426405,
          0.8585759393814328,
          1.153402772681315,
          0.867136968800429,
          0.6958785443336217,
          0.7190412123683873,
          1.1512921092130493,
          0.6126480760567544,
          0.7501787699027632,
          0.8940888262287718,
          0.6433237986143463,
          1.1954710805847106,
          1.244998407671987,
          1.0867219506235555,
          0.9733339747629136,
          0.48327932244249305,
          0.9505307160556793,
          0.9240225620784374,
          0.5190248014764519,
          1.0762201588900362,
          0.6410170324511618,
          1.0602145248459018,
          0.6553981780418301,
          0.8833355418279214,
          1.079653396287125,
          1.0910816820093368,
          0.8412384285188166,
          0.9053063954704981,
          0.9988442297711928,
          0.9155450084035482,
          0.9895198570288817,
          1.030587479351175,
          0.7648929159904059,
          0.931225362014114,
          1.0125505721206833,
          1.028802253037198,
          0.6420722188101563,
          0.786339891649004,
          0.7994213576574333,
          0.8058436906815275,
          1.1455998984178213,
          0.8505995370367176,
          0.4491738349054786,
          0.2743452537938345,
          0.8200593340051191,
          1.196749341963481,
          0.920033530472429,
          1.0682384330640777,
          0.8863295327678912,
          0.9518121970882241,
          0.36539241383061877,
          1.0413498208382082,
          0.7554059995362701,
          0.8097372952564846,
          1.1115962057011524,
          1.1770252449930794,
          0.9561688029980961,
          0.756088231266577,
          0.7991601062327881,
          0.9909962129861281,
          1.1161714236231517,
          1.1393052754877973,
          0.6067577061318363,
          0.7836437885241885,
          1.0415992509632184,
          1.3663992415122128,
          1.0260559224169719,
          1.1601915358465593,
          1.1764196353309142,
          0.8494919887783617,
          0.8482907982684949,
          0.9637296927613545,
          0.7743286711324062,
          0.6899065459180075,
          0.7308998406256574,
          0.9353503532518533,
          0.8795327057550342,
          0.9628536053408604,
          0.6647277870046946,
          0.9736540902267785,
          1.0721391083353178,
          0.8939434587350312,
          0.6376249634498509,
          0.6475654159229323,
          0.6016341892234542,
          0.9951843749999517,
          0.8901945921964858,
          0.8117915689934708,
          1.0996122788539688,
          0.8456920338569875,
          1.011620110766413,
          1.1730463323017202,
          1.1916738384889907,
          1.1006416887230985,
          0.9721307874817287,
          1.3463078520658736,
          1.1122597384069648,
          0.9869820815082754,
          1.0721485555780792,
          0.8289042553022349,
          0.9046920019887429,
          1.020100037655734,
          0.8248716578295291,
          0.9460827100096267,
          0.9761021873374616,
          0.5848967558611671,
          1.0778556153319692,
          0.5875683049630507,
          1.0410519888613414,
          0.9845308920056326,
          0.8435137388776228,
          1.1493367576603009,
          0.6881409894763374,
          0.6298771478868598,
          1.0024573110028416,
          0.8758390461985772,
          1.0200840084404854,
          0.9211587308247962,
          1.1870661760807715,
          0.8463683405912356,
          0.9273619692663208,
          0.832368679019543,
          0.708316652960418,
          0.6711771192105956,
          1.2430337309079595,
          1.1511011417810504,
          0.9439655169692225,
          1.2478101257747523,
          1.0329636521178343,
          1.1955219789916693,
          0.8553122544979563,
          0.7493358055448056,
          1.0840477904113512,
          1.2120854168910176,
          0.8270067965582039,
          0.7999667551565082,
          1.0442424080613977,
          1.1468241842140199,
          1.1068848748472007,
          1.0239853393737433,
          1.3177985890646506,
          0.6469603242194849,
          1.24187558425211,
          1.0928769349742609,
          1.0311919107310783,
          0.554864455553805,
          1.128988464255457,
          1.0695196530674185,
          0.9307238433847989,
          0.9049438571790887,
          1.0105932948426268,
          0.7218274052261814,
          1.1698361554971055,
          0.8585011441188787,
          0.9826539777001451,
          0.7383318805689787,
          0.8770542074688784,
          0.36984256186888725,
          0.7133765283383138,
          0.6123270816149586,
          1.3059982786617539,
          0.811812678890268,
          1.02528826050142,
          0.6991579993297443,
          0.9019302232037822,
          1.0327891377931164,
          0.9873916681381166,
          0.8565192046252003,
          0.7773620284650384,
          0.5668954881569102,
          0.9354755807166031,
          1.123075637433482,
          0.7812553261485747,
          1.2745266430012774,
          0.5727152546928039,
          0.9772600652986313,
          1.1057970049082564,
          1.1297747487479135,
          0.8113162167990893,
          1.0443708800833835,
          0.7335743229194883,
          1.1926232372852739,
          0.8413046047869805,
          0.6578756847959656,
          1.1900021221199346,
          0.8861018615773478,
          0.8129695874752504,
          0.7989863764584447,
          0.6798116395810359,
          1.3432295020454774,
          1.0615633086523129,
          0.9877369258677514,
          0.8338372233161894,
          0.8891556237996497,
          0.4280248361769189,
          1.2621376675322902,
          0.6519888560060112,
          0.8913571636359884,
          0.5362945835641878,
          1.1056331086412914,
          0.8540632235049634,
          1.1532702870127056,
          0.9569229786887905,
          1.1416063402661574,
          0.8216339582884034,
          0.842461809836512,
          0.7709113178003245,
          1.0294098738480661,
          1.0565231661700483,
          1.0578578702933104,
          1.1012593420907533,
          0.9635931278736591,
          0.6798630748792198,
          1.175404894174064,
          1.1371468960303242,
          0.9141203599409217,
          0.5862280834474926,
          0.6019226445073648,
          0.9237486473979887,
          0.9552715714856173,
          0.8920076710067362,
          0.8233050440865387,
          1.1734656907970102,
          1.0371359737339043,
          0.8451021623412552,
          0.792226801367445,
          0.9928665489580538,
          0.9240858146071093,
          0.7904015417560414,
          0.9961764093160517,
          0.8784446452293518,
          1.285259998236157,
          0.8679463857333084,
          0.5054997717779102,
          0.696813676665558,
          0.798611251133144,
          0.8247733979815226,
          1.1028779649424099,
          1.1731699569201754,
          0.9654508075162517,
          0.8171336408224706,
          0.8723059830282566,
          0.7023524829857827,
          1.1243066765622798,
          0.8395706384128276,
          1.1780687241542194,
          1.2827779443730738,
          1.0345874002861453,
          0.9886840974998948,
          0.6778718038959568,
          1.0276765758059174,
          0.715448723467801,
          0.7128499631059038,
          0.9823285434206597,
          0.9083637424763927,
          0.865595381269221,
          1.2058015455932267,
          0.6055112351746406,
          0.6020087508869458,
          0.9001452746508568,
          0.7871526309217226,
          1.2698147977224892,
          0.8069041214849488,
          1.05685202733399,
          0.8096795436023776,
          1.0996178764689004,
          1.1349933572449296,
          0.9100366471020629,
          1.0454291212799363,
          1.1767390341437667,
          0.7439330580343353,
          0.5646843948170419,
          0.9792573262098839,
          0.8012067966380048,
          1.0452354663991148,
          1.1332331229841872,
          1.2189618321579618,
          0.7103058842802469,
          0.9327243794459653,
          0.9048189311941516,
          0.8361892390531608,
          0.8266221214814895,
          1.0033071037254544,
          1.0665770343132805,
          0.8017298141900092,
          0.8391078510885266,
          0.6654807283581885,
          0.9653798012822777,
          0.7515765564302299,
          0.7706154278029078,
          1.121169405181928,
          0.6055270278663475,
          0.7645618238397015,
          0.5433257983841354,
          0.913660398086851,
          0.9391510412076349,
          1.0990725449612508,
          1.2661080478334499,
          0.6015008380228545,
          0.9809455075548695,
          0.7842665950382296,
          0.6871913295949158,
          1.0042583215808487,
          0.8455025861460567,
          0.7062917424707023,
          0.8661018077499961,
          0.9225662520556837,
          0.7108988626995114,
          0.4502301867598989,
          0.982850485578726,
          0.823007414500625,
          1.127412570274879,
          0.7514417938653771,
          1.0369991741810085,
          0.9191981011552649,
          0.9478280859017847,
          1.187865785192418,
          0.9137669575040324,
          0.784029324162332,
          0.927016060245844,
          0.9404754269012763,
          0.6272248352284342,
          1.2409754456673088,
          1.021699023370193,
          0.8995946768142982,
          0.7255120038213748,
          1.0939177488653944,
          1.0932681546607732,
          1.0701477328593827,
          0.685773414456947,
          0.9630670564737778,
          1.3765797754474218,
          0.8144780778207261,
          0.8563084135983561,
          0.7531928638483988,
          1.1174092941504172,
          0.7343468030398751,
          1.3775796634216029,
          1.0306802592099624,
          1.0512799472335,
          1.2751729463092918,
          0.811755789629332,
          0.9045080281579518,
          1.0857475917493338,
          0.8119646909974769,
          1.211611746444071,
          0.830254119398442,
          1.166478926030783,
          1.3618800497079975,
          0.6383079478800747,
          0.650186189744089,
          1.108515621933749,
          1.1166860330710646,
          1.0762323880525728,
          1.2505349786010078,
          1.2187921472569623,
          1.0057484988611232,
          1.0880577840932233,
          0.7133495660174943,
          0.8324558780627668,
          1.0488434451501747,
          0.9624581309008753,
          0.8799119899130742,
          0.7489379547242178,
          1.192291486863058,
          1.0944665177550377,
          0.9467062497686903,
          0.7664390965178021,
          1.080935028902619,
          0.7921934053197537,
          1.0873475530293444,
          1.2577550474027315,
          0.4166468881894461,
          1.0803937262469994,
          0.9854330070792828,
          0.9055563206239047,
          1.2482037911760167,
          1.0240126481705965,
          1.0490929650405945,
          0.5618026944635368,
          1.0374032684054146,
          0.9155261452147376,
          0.4377694536250156,
          0.8497935283490249,
          1.1351909726079548,
          0.9184379522074048,
          0.8895571714771024,
          1.0492358433325715,
          0.8597940362591946,
          0.8918415586163049,
          0.933658825125567,
          0.4055830545756154,
          0.6316154061910619,
          1.0857835775571485,
          1.062652462980285,
          0.9002896639698722,
          0.8598249911487945,
          0.6575505788250013,
          1.1829703474452706,
          0.9205787572955875,
          1.1645410131338456,
          0.7915153542139428,
          1.4981362560404676,
          0.5176730116488433,
          1.1759008735245862,
          1.0317767427097977,
          0.8590757078756313,
          0.9646063788674375,
          0.8461080310237963,
          0.8944276405306993,
          0.8042924852562269,
          0.7050097702719438,
          0.9324785641837983,
          0.8200872280675553,
          0.9760603495201295,
          1.0102118100394095,
          0.7531270004623636,
          1.026866328280422,
          1.2139240413010255,
          0.7668152257633805,
          0.7471274042966858,
          0.785952275336159,
          0.986288067736728,
          0.706523409041419,
          0.8033699915055666,
          0.9607522337886976,
          0.9515420813621764,
          0.8849295095430508,
          0.5847299294086439,
          1.0391280683613402,
          0.7201903954313829,
          0.7901581418878492,
          1.0968266097351358,
          0.8267140069359172,
          1.1160818767081895,
          1.0749011860604685,
          0.7129419949958468,
          0.77435917773893,
          0.6688473507175979,
          0.7165547540829312,
          1.3995771216125006,
          0.7623066621031059,
          0.8562812015700008,
          1.014847775566232,
          0.8696173347651323,
          0.7863835997617115,
          1.1186749175090855,
          1.1581795520812266,
          0.9199003867109257,
          1.2091347663768497,
          1.371083560291759,
          1.0683510972093109,
          0.8456052073608296,
          1.1613872491215835,
          0.838980256795425,
          0.91137528733843,
          0.8623336310967972,
          0.7275223041910814,
          0.4327008629985532,
          1.0354635764075983,
          0.8337463392370504,
          0.6914474655208773,
          0.8527994622533973,
          1.5557499824198062,
          0.876227545224821,
          0.6416430202712003,
          0.8694639705946179,
          0.8513430251240685,
          0.7612625871632359,
          0.6722955232164174,
          0.8101048549697635,
          1.0881802571601022,
          0.9578754281053312,
          1.3376789613768334,
          1.1506871100422011,
          0.7982416430874484,
          1.1417553720886044,
          0.7221330199845474,
          1.1001357221397896,
          0.8759899785189436,
          1.1330487616275504,
          0.7582628584289335,
          0.7310459383160889,
          1.3000802573171932,
          0.6490476035055706,
          0.8948790006749772,
          1.095396189071723,
          0.8191796941835382,
          0.8012187581325351,
          1.1693858179633125,
          1.1204526841802966,
          0.6380479003599018,
          0.6647615594823784,
          0.927375208082489,
          0.849329111819291,
          1.0964447463621574,
          0.7962449772274607,
          0.5859278565576577,
          0.7316379532873518,
          1.0440705986776795,
          1.3111184080322162,
          1.0893682939828888,
          0.8274232712310955,
          1.2226411640538595,
          1.4075379267175339,
          0.7595283607446046,
          0.9915192708104816,
          1.1016102924149112,
          0.9116955402522129,
          0.6771229638526136,
          0.8453817507084952,
          0.9076028930815834,
          0.7916984079880256,
          1.0123127966424947,
          0.9376595674423958,
          0.8060009317775868,
          0.9106757926967097,
          0.6501761992411254,
          1.2178428744591943,
          0.8987117843087334,
          1.003573146428416,
          0.8073936846200218,
          0.8739051245089248,
          1.4395344464795556,
          1.0440927584343669,
          0.8008457102893058,
          0.8907492474068326,
          0.9284247321394845,
          1.1734539339407364,
          0.9002986886386558,
          1.0150962406995094,
          0.8154330561921045,
          0.7442576830348544,
          0.6068795552411184,
          0.5365294572772202,
          1.0390741608676348,
          1.141821747871695,
          1.129935092486706,
          0.9848068083368055,
          0.7016886103087424,
          1.3266803079561587,
          1.146654814062689,
          0.8210728975599997,
          1.3002651063123887,
          0.4179844330499201,
          0.9369867550107546,
          0.8615919026854805,
          0.6196279130264989,
          0.8311901113585466,
          0.6932621341208387,
          0.8334030951310524,
          0.6999933492032872,
          0.4347459735949519,
          0.9361474706176951,
          0.638496076441823,
          0.9522393268620363,
          0.9587387724832362,
          0.9722942544383715,
          1.293518698975635,
          0.9047296910997241,
          0.8024757965064295,
          0.7503443193952042,
          0.6999474306395012,
          0.5473166732528173,
          1.3893120429240686,
          1.0776569062732952,
          1.0532207577610408,
          0.6674756212663093,
          1.0082622561296104,
          0.8252917267644853,
          1.1479522158408018,
          1.0550347537385323,
          0.7527064830597368,
          1.1527186780708059,
          0.41722415579649746,
          0.7342960279068276,
          0.8056822121467406,
          0.9187368541410347,
          0.5703301098932052,
          0.8684031975165294,
          0.799525935865748,
          0.7124417739671604,
          0.7862510933226866,
          1.1237641055665775,
          1.191975299366155,
          0.7644822448747483,
          0.7748196750631112,
          0.6751119537396082,
          0.7891682858014551,
          0.6989098719329617,
          0.8043576123214635,
          0.7931325421593893,
          0.9327547188217957,
          1.0622003867434684,
          0.8436062422465139,
          0.8696983734029353,
          1.1536475370861532,
          1.1942968837841015,
          1.0392702993748664,
          0.8948160621906956,
          0.8819231471606486,
          0.8951160840430129,
          0.9791934659805654,
          0.7983818853041316,
          0.9862994266924886,
          0.8998675513599226,
          1.42838123815037,
          0.8958860034432043,
          1.1232292137348183,
          0.9951009035018159,
          0.9815718876273168,
          1.0379758145018934,
          1.1142183933867114,
          0.8171985064737228,
          1.146184234924469,
          0.8536511732145698,
          0.945400461778524,
          0.7160523769396642,
          1.1303858451262656,
          0.6473279261443159,
          0.9485731482499873,
          0.6478067463028474,
          1.074737395055847,
          0.7637820035601391,
          0.5459254341747554,
          1.1786171003019794,
          0.6317457180978324,
          0.9851502786313036,
          0.8715582941658943,
          0.8010714469071595,
          0.5951356134151123,
          1.4514554439895326,
          0.7747444531159756,
          0.78696265140239,
          0.9857643629406593,
          0.8923687488968329,
          0.5916535651616064,
          0.8430349416580004,
          1.2398334784305773,
          0.983466102722699,
          0.804936036054011,
          0.9423365216014473,
          0.9008751717561884,
          0.852166564238203,
          1.1206672843078396,
          1.2423714756279791,
          1.1628798553608453,
          0.9374863865386608,
          0.5330563921937375,
          0.4192357428747865,
          1.2721916506099271,
          1.1250015655058223,
          0.7719838187915703,
          1.15694391594066,
          0.7355072873266871,
          1.1293912316065493,
          0.5046792375136735,
          1.2107337602841224,
          1.4068794538598777,
          0.8335839851421963,
          0.5527116229214557,
          0.6559097063031466,
          1.092743572134612,
          0.7502073903533716,
          0.77763873040503,
          0.6956695838631424,
          0.8877296907019004,
          0.6951166656940159,
          0.9579907626832824,
          0.9574747557701744,
          0.4894734753372569,
          0.7456906401628909,
          0.8950765356257676,
          0.9486487079798677,
          0.6951053804438245,
          1.106348826009286,
          1.0023538908844922,
          1.0419979265262138,
          0.8717549494218867,
          1.0810412836215266,
          0.9518328984724528,
          0.5876728321588924,
          1.2869635369332502,
          1.0838220369758154,
          0.8947326421935606,
          0.8247621865644895,
          1.0963474379753624,
          0.7376120774007022,
          1.1619546184519076,
          0.7269327634427246,
          0.9986608206454505,
          0.8243982636539108,
          0.8524240028320301,
          1.0791123394181181,
          0.7667883408151916,
          0.8554277446817738,
          0.850019384395703,
          0.8261721078496895,
          0.9083092377045565,
          0.6676117352883203,
          0.6697440481886024,
          0.8903750124523444,
          0.9023067842413026,
          0.9229690111179383,
          1.0098437405275553,
          1.0157788278035533,
          0.887063451744774,
          0.9142254628354395,
          1.0948161091545996,
          0.9492726484703555,
          0.7598396216457203,
          1.1810871562723035,
          0.8427332348125934,
          1.226822861571821,
          1.0225141431408529,
          0.5862419501503995,
          0.5740252786544465,
          1.0429311463814361,
          1.1414735677183783,
          0.6090779096762822,
          0.7447029148602816,
          0.8530834120363099,
          0.9265335177943402,
          0.9686724715762219,
          0.6538814904001101,
          1.1294303269338821,
          1.0367958254724436,
          0.7119508277335258,
          1.1064875183121943,
          1.1876879770480255,
          1.257107558199473,
          0.8081946644120734,
          1.0654967830541566,
          0.7939609392954635,
          0.6390187562357525,
          0.9515217414484739,
          1.133238071484002,
          0.27635109184857387,
          1.0517987632398942,
          1.1962076920648208,
          1.0754175109983377,
          0.7149153619945612,
          0.9908508071947023,
          0.7217206864962904,
          0.9077672484275143,
          0.9749987413551994,
          0.8274049047860575,
          1.017101205062324,
          0.8331814804263736,
          1.1226408238489012,
          0.9803885560045038,
          0.7593545622338977,
          0.7470270833862966,
          0.9690295398870872,
          0.7631513932141375,
          1.104846603859543,
          0.6791852582880586,
          0.8086330975451517,
          0.7382212272276842,
          0.5561414809865955,
          0.9633848226605937,
          0.8330769296287822,
          0.9582410884879353,
          0.8234901225424405,
          0.899471581089438,
          0.8532500328733474,
          0.9533366195824349,
          1.240956057606663,
          0.9757832433737933,
          0.9960823894539751,
          1.1624347552186287,
          0.7668395255320662,
          1.0075687632864838,
          1.0916003132904935,
          0.8469777138922149,
          0.7899079467316233,
          1.1469809020656374,
          1.0154932122154947,
          1.0185996788966365,
          0.8374470919611916,
          1.0232337195275425,
          1.27783866501189,
          0.9258393180244792,
          0.852742011313024,
          0.696372620190812,
          0.8988745998877815,
          0.7455947416392995,
          1.1593214961943827,
          0.9126353303695256,
          0.796148653516471,
          0.6158182859693137,
          1.16722725887907,
          0.8892688049560082,
          1.1047560244983183,
          0.8180227656475498,
          1.2406016528230341,
          1.3204870252098633,
          1.0429369219794804,
          1.0416205340718514,
          0.748410297138315,
          0.6911178147513988,
          0.9717251763043525,
          0.504417477569407,
          0.850629227959935,
          0.6188932523458693,
          1.059354199262673,
          0.8289845353781877,
          0.5950939284218455,
          0.8242598024539108,
          0.8098667668118654,
          0.7145639293551607,
          1.0144869870741455,
          0.4527372513760213,
          1.2717377154252774,
          0.651101401024748,
          1.1199176008408562,
          0.9969362127363997,
          1.1075498992306043,
          0.9632945939441717,
          1.0674549011167405,
          0.7861073126547401,
          0.8910225777173899,
          0.9917168486076373,
          1.1896156817209587,
          0.7501757324823708,
          1.0103919369508514,
          0.8844603606027095,
          0.5577354608368109,
          1.1440038087412716,
          0.8209958388852009,
          0.7036321011985573,
          1.41749055115713,
          1.1148287339235499,
          1.1320334373471377,
          0.953225339529266,
          0.8603409701576963,
          0.9330555099306547,
          0.8511298232327291,
          0.7081381554854445,
          0.9791358498145097,
          0.34541547126744293,
          0.7154833884539881,
          0.7631516350743419,
          0.6888909849432894,
          1.25300882216183,
          0.8121738019051886,
          0.6545088109512095,
          0.5790800177607445,
          0.9427480949178725,
          1.2377087487938014,
          0.7400669834042937,
          1.1943115285658596,
          0.9885658373993856,
          1.2402952706740462,
          0.8884990813972432,
          0.6340087832452741,
          0.7121528530693373,
          0.8063112280007994,
          1.2615088598514057,
          0.9539545327617648,
          0.5936382169633563,
          0.7234286005905174,
          0.8235317223335232,
          0.6943162754901533,
          1.109994032914481,
          1.237189800501779,
          0.9285317450673651,
          1.0022080752395157,
          0.7905345838161902,
          1.176100304101068,
          0.7121365760536149,
          1.0300852050112101,
          1.0500732086179971,
          0.8899026387252226,
          0.710579381168928,
          0.5881635753372444,
          1.0727648087363646,
          0.9197736990689769,
          0.724256592308903,
          0.8865470055454534,
          0.6240065080780204,
          0.5462865112037554,
          0.5047060854075804,
          0.4395618849472568,
          0.967166539062741,
          0.9964915351709281,
          0.8684438549120465,
          1.0940172356778692,
          0.7874137555090954,
          0.7266574816814144,
          0.6251930678690965,
          0.8136600829568692,
          1.251952018611733,
          0.6576696669877313,
          1.0067609008136902,
          0.8655160871677219,
          1.0484286219625674,
          0.91366125123548,
          0.8422289866980576,
          0.46920645564331964,
          0.9015555454100788,
          0.9841462519677224,
          1.0437336055727382,
          0.6066122852552733,
          1.077348272282971,
          1.0463141777580434,
          1.3361450708506382,
          0.94638488279121,
          0.8396095113860196,
          0.8523960421399345,
          0.899864696429498,
          0.8769862621442456,
          1.099023642150131,
          1.0256537689546814,
          0.595546633772194,
          0.9429509103571448,
          0.32927176825246735,
          1.0763950911386986,
          0.7884331638922971,
          0.983829533916687,
          1.2747527869835273,
          0.896515897205265,
          1.0169952366517276,
          1.1243086769733683,
          0.675041831709096,
          0.8576306940336256,
          1.0962225852820653,
          1.0140864025129173,
          1.1463849599888323,
          1.567401297724829,
          0.7389397309914837,
          1.3083030766690829,
          0.8798236746137553,
          1.0209419092669318,
          0.6626672062198062,
          1.0158482149807817,
          1.028785005560898,
          0.8434432772430757,
          1.298342787337578,
          0.5569882538943323,
          0.6769261795898525,
          0.8250098531374503,
          0.7706483206130749,
          1.1261376619423284,
          1.067676994652872,
          0.5077692727246018,
          0.703286819263795,
          0.8135925566418832,
          0.9735399262851075,
          1.021154168899232,
          1.039751666160599,
          0.8545418451464766,
          1.204243134821964,
          1.1989724119766185,
          0.8729178635496619,
          1.1102422835618673,
          0.7701157726959511,
          0.7601873665082914,
          1.2935317494693723,
          0.6686968120486635,
          1.208290418258412,
          1.2095675588421086,
          0.9316904130024242,
          0.7937169216908103,
          0.9050585081478537,
          0.8553358412556135,
          0.9705918887953859,
          1.1227893536627167,
          0.5922008511772341,
          0.9820837963162016,
          1.142867115194191,
          1.1179632090247138,
          1.1214076199214067,
          0.8972908546345656,
          1.163318622829053,
          0.8143533753905948,
          1.039789977559094,
          1.0084225919979852,
          0.9252416083161189,
          1.2948476071185087,
          0.8171071325548318,
          0.9411674509043024,
          1.0502574940548557,
          0.9563295717494087,
          1.0726725339489755,
          1.0407323159524466,
          1.123478779152618,
          0.657601750124458,
          0.5676547850439487,
          0.6829597843614601,
          0.8014917006826298,
          0.987356693184519,
          1.0195078639312027,
          0.8702501706100965,
          0.9310815551577881,
          0.8494474485571514,
          0.9284336349240809,
          0.9997983105821432,
          0.9923290263148935,
          0.9299738222459433,
          0.8659430613854735,
          1.135166534379856,
          0.6713950292914612,
          1.195797735705227,
          0.8164017029395904,
          0.7728449148879393,
          0.8368316377793825,
          0.6094385938254088,
          1.094573653466327,
          0.7314347411322002,
          0.9534988014205841,
          0.8754553644401387,
          0.8946415769247879,
          0.6370405519647446,
          0.6818615723629973,
          1.3203834021002099,
          1.251469661378618,
          0.8134758540141763,
          0.8789515779540992,
          0.5547467567506245,
          1.140117704104155,
          0.9095817730322536,
          0.6171910034715677,
          1.097921005017454,
          0.8657317154251895,
          0.9006747539865673,
          1.0726277225833396,
          0.5515710644631726,
          0.7125839170298637,
          1.1774892090849396,
          1.0734826619402125,
          0.6693720733617134,
          1.2064992887998545,
          0.5820453840493456,
          1.0077105084591198,
          1.2568786696630028,
          0.8587845058977304,
          0.9807025848648081,
          0.9582360192421442,
          1.2476401519754352,
          1.0593162709916104,
          0.6909500922143427,
          0.8342607861647189,
          0.6793604137602359,
          0.7764094456420562,
          0.989734476359949,
          1.0496525789497604,
          1.0204260880555966,
          1.1902971575021826,
          0.9431247557664906,
          1.1828298985027665,
          0.9957414107760516,
          1.0018184638776193,
          0.9845047710420571,
          0.539945378904973,
          1.034728281651165,
          0.9398195777504698,
          0.9133276324078441,
          0.9191087591674918,
          1.0016775920413934,
          0.8442925181262586,
          1.2729806676590956,
          0.8659411161418219,
          1.0809794415542133,
          1.024375164571988,
          0.9507541480252896,
          0.8278568620936853,
          0.8422157872020023,
          1.1379492618865898,
          0.8793505364602237,
          0.9912034584240993,
          0.11040704538272941,
          1.1484228773271299,
          1.2150679166083351,
          0.8659022361034071,
          1.023442758178002,
          1.2468484850189987,
          1.0347955150541148,
          1.150991507543665,
          1.047293048535987,
          1.158438599901691,
          0.9458435323058179,
          1.1752626112589457,
          0.6186943290530817,
          0.8984068571328346,
          0.5536824509631926,
          0.9438077569859261,
          0.623722890106477,
          1.0024922078302776,
          0.9574053480182471,
          1.135046475084312,
          0.8875435137777458,
          0.7508694771756889,
          0.9026984925813005,
          1.075372834501216,
          1.1939215847097502,
          0.7123476973614585,
          0.7645402660877326,
          0.9432150125290581,
          0.8543602767483054,
          0.6674537083023157,
          0.800568969714961,
          0.584126614720148,
          0.9521717864455652,
          1.132238590125025,
          0.9192279533797506,
          0.7272774560201443,
          0.7959195178978415,
          0.6140538062354143,
          0.9993612460833452,
          0.8310879890379774,
          1.1704672487930312,
          0.7536329233636947,
          0.8329100570341501,
          0.3161166728713659,
          0.5647419050353919,
          0.9065343334584596,
          0.7572029021418232,
          1.2567396169955365,
          0.836802556939931,
          0.7883771939549192,
          1.111347440825004,
          0.6585098241920269,
          1.1449603462781313,
          0.704733409380175,
          0.9652269050517801,
          1.2296730897486379,
          1.0928063179526366,
          1.0506923663383756,
          0.8339163318009536,
          1.1640871765211493,
          1.1161342194461137,
          0.7785893060492568,
          1.146444650333999,
          1.1370578115839673,
          0.933718611998671,
          0.7341073658447371,
          0.78150277085941,
          0.7748317054736845,
          1.1969207001800921,
          0.8965284550648489,
          1.0953498007224467,
          0.8016541667098599,
          1.0609152690877344,
          1.2321604862203352,
          0.6296383172163178,
          0.6982119993281873,
          0.7020791944634925,
          0.7505711751588707,
          0.733826127142443,
          0.855037502120984,
          0.7108074652934128,
          1.0027912841512718,
          0.8893106041736625,
          0.8206254482813167,
          0.8377663494608539,
          1.3234425816566893,
          0.8861105239026835,
          0.8725411802193012,
          0.5965200061863125,
          0.990030547082691,
          0.6096877174058778,
          1.2452992833659022,
          1.2213701456893313,
          1.0482639398953235,
          0.823390284550293,
          0.7432242256072641,
          0.9037410647354454,
          0.964860972936724,
          0.4420740794914382,
          0.6170229320091518,
          0.7437161809363066,
          0.9890747248415246,
          1.0391639820953391,
          0.5612384567325351,
          0.9146569848475373,
          1.3689543398032624,
          1.050923797763904,
          0.9728745455431611,
          0.9735579867815191,
          0.5870019101204118,
          1.0415640931929055,
          1.0017283494305502,
          0.694378794582899,
          0.9207945653479873,
          0.8510913840434263,
          1.064509047524047,
          0.4974684996091272,
          1.0906360891440268,
          1.122245218423631,
          1.0220569861987459,
          1.178858184887621,
          0.9726704711175278,
          0.8426982566327598,
          0.41433664693504324,
          0.998552018888426,
          0.9079927543949637,
          0.5923602986859129,
          0.8692061635614969,
          1.111823125535259,
          0.8206055279821496,
          0.8158494071016343,
          0.9207353889629187,
          0.8566990649786081,
          0.914447452667309,
          1.0627709169968937,
          0.9849396351282131,
          0.7362820383147317,
          0.759466517411562,
          0.8783268486138779,
          0.7026741209038049,
          1.1174645554308396,
          1.2864303909865042,
          1.0156216692018023,
          0.9126602551685921,
          0.9336398237184855,
          0.8319432195191054,
          1.2380264027124503,
          1.189348889519956,
          1.0508706574759519,
          1.1145157518388868,
          0.9445238590333335,
          1.2601241185856196,
          0.91786291781698,
          1.2879953107346294,
          0.9255662098762808,
          0.8986277879514358,
          1.573456738819913,
          0.9578630301764359,
          0.5956248859163111,
          0.9576786810758289,
          1.257934136203685,
          0.9587240577602492,
          1.12174368347315,
          0.4454442934936593,
          0.9373022635924397,
          0.48911475472651467,
          1.147886110074049,
          0.4079976789030201,
          1.096415332644117,
          0.9068215103663552,
          1.1200947831039356,
          0.9208846849007665,
          1.088020520900332,
          1.10896605268042,
          0.999792230173456,
          0.6995270209111492,
          1.0202490272368765,
          0.7843166465201146,
          0.831901841918959,
          0.8554565811267713,
          0.7947315298937492,
          1.0471432863609509,
          1.0409478261426213,
          1.0016775327378085,
          1.0112829794819413,
          0.7254557712357951,
          0.7213972651458109,
          1.2213107989735,
          0.9891440889023942,
          0.7793322415395602,
          1.0272803404505673,
          0.8246496687181771,
          0.9420894362402242,
          0.9298021534577026,
          1.394562030606861,
          1.1676145182133755,
          0.886710913366965,
          1.269213732452151,
          1.1471147097038943,
          0.9755802178652065,
          0.7877373971254324,
          0.7289487773003345,
          0.9770373351959462,
          0.9034424746625715,
          1.173683977551653,
          0.6223877157445515,
          1.1313328502612194,
          0.8983899392593497,
          0.8326287866139019,
          0.7004089259152009,
          1.0274874378989323,
          0.868875261836757,
          0.8689903736419798,
          0.8774877198917422,
          0.7658105585259387,
          1.0546945961365355,
          1.012730623646302,
          1.0031243258246176,
          0.6481986682615739,
          0.7170085411146012,
          1.1655344919560988,
          0.7921761655032107,
          1.416784022749487,
          0.3897124120751506,
          1.1470894890781989,
          1.209081664296834,
          0.8128337571325118,
          0.8968221344921068,
          0.8227947356107189,
          0.6968468445485476,
          0.9937709844865734,
          0.9180178167456146,
          0.6568660626746512,
          1.2808613224180356,
          0.4774977384435418,
          0.5220333135008125,
          0.7171551628826984,
          0.6186412766469502,
          1.3494458772754288,
          1.1853874275424414,
          0.891301354593821,
          0.43220073968316225,
          1.3145408000851233,
          0.9704892847961711,
          1.032260507046181,
          1.2633799967432906,
          1.1180021701394074,
          0.9283712162080068,
          0.9135816167021703,
          1.3377942416917248,
          0.9117367041578129,
          0.9783280990902886,
          1.0049244934758106,
          1.0679977311194846,
          1.3431300988981147,
          0.651645132985567,
          0.5880575595657287,
          1.02679204581894,
          0.655039241003108,
          0.8442305811802209,
          0.8032487683857806,
          0.9475709331402138,
          0.7973719035486022,
          0.7793861548853404,
          0.8653164087309277,
          0.8792474056334633,
          1.0328341002346704,
          1.04138319295246,
          0.8530193719866961,
          0.7713837275317217,
          0.5779117664747329,
          0.7247032983502865,
          1.0616935527654847,
          1.004576612017971,
          0.4797131213634782,
          0.6908816857582747,
          1.0113193071937043,
          0.6986416930070196,
          1.00622761183192,
          1.1891809917792748,
          0.9679511177027365,
          0.9059214053425211,
          0.8887821839939929,
          0.9011345584516204,
          0.9374123542630457,
          0.6839601716779006,
          1.0103586407622749,
          1.1151591604652484,
          0.9312337757673809,
          0.9512477215527918,
          0.7571123826627596,
          0.8488550063660337,
          1.0042280769455847,
          0.6993148476285909,
          0.9636470249355812,
          1.2326570610344016,
          1.2628879875741692,
          1.1070114305130752,
          0.7945404685673998,
          0.8110591910550996,
          1.1825672088911217,
          1.0256565570792937,
          1.0477044888818883,
          0.9434786971285382,
          0.6417596430191275,
          0.5929875912493172,
          0.6957155790094486,
          0.8718341695009117,
          1.2019641802201928,
          1.0419366012156437,
          0.6682666812326161,
          1.355423461486984,
          1.10844929170801,
          1.0075673400608853,
          0.7381255684108655,
          0.9389096982264759,
          1.2619204083234556,
          0.6751633468154259,
          0.9378680733352532,
          1.1714805348888064,
          0.9923465414452729,
          1.1639724871264394,
          1.0174947891489978,
          1.148821866921151,
          1.1541712933959485,
          0.9477540004172165,
          1.1124129007868664,
          1.0787918635763811,
          0.9491866140584402,
          1.2064492689238702,
          1.005591743984852,
          0.8724822493633831,
          0.897061375277256,
          1.2332760247283994,
          1.0389944350605576,
          0.9474312321337661,
          1.040268448078303,
          0.4080516650616613,
          1.1769069920397022,
          0.5902139769362634,
          0.5394097215798987,
          0.9527099114920156,
          1.1612930943657975,
          0.9081688903659575,
          1.1365272234081738,
          1.167344467631227,
          0.7649420642011521,
          0.679633065891901,
          0.8028825101989436,
          1.21755615752052,
          0.7663988789081422,
          0.9893480468590478,
          0.9194119516687287,
          1.2494172931699914,
          1.2854374241377373,
          0.6490740434353265,
          0.7391849719094933,
          0.8432473595265797,
          0.8831355778591451,
          1.195031785406997,
          1.1806836074515152,
          0.6705388636258802,
          0.4650227474436096,
          0.913618338366447,
          0.9893546778705554,
          0.7582366878969433,
          0.8665293406353053,
          1.134302506337206,
          0.41107791798512444,
          0.9349148062746169,
          0.9145443680412635,
          0.9139285815970258,
          0.9047626623791754,
          0.8312758358361696,
          1.1500490561580536,
          1.00368035864807,
          0.980484517665499,
          0.8957634483437882,
          0.5721670569883681,
          0.8412060397687858,
          0.9964760652045139,
          0.9918666434977144,
          1.162011087093694,
          0.5394611453683279,
          1.0421865306013807,
          1.12265277513345,
          0.7308118671453495,
          0.9404363610129001,
          1.0297630569889513,
          1.206261248861409,
          1.124663392686817,
          0.7665601669056578,
          0.9434013557223337,
          1.024742306311703,
          0.9469230521330327,
          0.9604694855396394,
          0.5611760113488626,
          1.0471470390531277,
          0.9104426978079178,
          0.7290261738735142,
          0.6248327336581965,
          1.1394294467556083,
          0.8986252169782241,
          0.46231124115026345,
          1.222437569855367,
          0.6492044362463032,
          1.3655110076900074,
          0.8356039382019302,
          0.6967644202716027,
          0.9422712210847494,
          0.8057084055290687,
          0.5970169966055687,
          0.7565900399988168,
          1.1188545908210108,
          1.0346587908856735,
          0.7545766503443332,
          0.989794555813616,
          0.571683942536013,
          0.6844169075073794,
          0.8328478860610578,
          1.0406378427591672,
          1.0496478250559682,
          1.0896800711121575,
          0.8605312663196639,
          0.7724929936256287,
          1.0600762582566823,
          1.3145637748077659,
          0.7508016720230507,
          0.7600049977552419,
          0.6839375466496422,
          1.2303638108290216,
          0.9272439252574987,
          1.073804201491231,
          0.7806604791673022,
          0.987614428604884,
          1.2590277167627564,
          0.6669923847593884,
          0.9442269807852416,
          1.068736852253557,
          1.0659218863264228,
          0.8878180337824014,
          1.214220367025031,
          0.8298266440506379,
          0.7471346151483133,
          0.9328555984555952,
          0.8665555481012864,
          0.9473178828779684,
          0.8024764498016334,
          1.2779289718554419,
          0.7149510569569062,
          1.2226448623539425,
          0.8701415134370674,
          0.7573724923592352,
          0.6731313540725372,
          1.124858419558591,
          1.2865049256542176,
          0.9952374690578637,
          0.9472117296644835,
          0.9207114806552322,
          0.9271317672733158,
          0.636704807471768,
          0.59334844963418,
          1.131871101904433,
          1.1418459394969058,
          0.6638702834269998,
          1.1908423616484551,
          1.2287958876779543,
          1.047207784233531,
          1.008886471800972,
          0.8213431079094948,
          0.6357115745976009,
          0.8390371908190936,
          1.098796444251559,
          0.8050712925813893,
          1.4888288009918684,
          1.0485903284519524,
          0.621802365799547,
          1.1507618527471235,
          0.4832706164643356,
          0.7756313800530185,
          0.7194311976341633,
          0.8561031620740764,
          1.1425657731781398,
          0.9191083269826427,
          0.8330958234788971,
          0.33669218778433346,
          0.9917064864391382,
          0.6856794832181786,
          0.7118902581344213,
          0.940400786179338,
          0.703145554431376,
          1.2692649594022305,
          0.7566844469488055,
          1.1783163633776659,
          0.5910888318188339,
          0.8584845741044732,
          1.2487678687505166,
          0.8610946863451842,
          0.7399043537015985,
          0.8187739791528463,
          0.6732386042492201,
          0.8190522708123489,
          1.005836588696044,
          0.5439201773804491,
          0.9667031511908464,
          1.1479298804549374,
          1.198166620035543,
          1.1622872501392256,
          1.1847490715305053,
          0.985685609824042,
          1.0119882837000953,
          0.6639148364402045,
          0.9101570256766468,
          1.3188857267456813,
          0.687980170613252,
          1.1100071293891884,
          1.0374288380525971,
          0.8872382422416939,
          0.4013874310133503,
          1.2627126487811453,
          0.9540022996243324,
          1.222884224958036,
          0.8194594582314622,
          0.8702150475877756,
          0.9850085897926572,
          1.1269355395975513,
          1.0867067622433157,
          0.891187441953611,
          0.8486127008346117,
          0.4451974485882046,
          0.42290935557883985,
          1.062950266715527,
          0.5606916386873426,
          0.7451795746158749,
          1.031683414514102,
          0.8091337056775142,
          0.7679205386919903,
          0.9590636561387974,
          1.1405761938599408,
          0.8251774492026738,
          0.8858562742412154,
          1.2086197674529269,
          1.0230013448697255,
          1.1066051021269434,
          1.024985761369999,
          0.9173663375103999,
          1.148067662674207,
          0.3797051331146916,
          0.5249588840107668,
          1.0480723505936038,
          0.9822135513517118,
          1.0407699621035142,
          1.204133823183342,
          1.0524060834780908,
          1.0940843634140613,
          0.9120182622235128,
          1.065248974982512,
          0.8340739095033476,
          1.0880390519657688,
          0.9434210913015649,
          1.0403265983484355,
          0.928512016107005,
          0.6259764926961704,
          0.9396528217377046,
          0.7429210897255879,
          0.7609321910742898,
          0.9016651440478086,
          1.0934207951479467,
          1.0137602647244341,
          0.6446234938753498,
          0.553835105895762,
          0.6117586071419441,
          0.8211809420557744,
          1.1783691952253803,
          0.8364260340324254,
          0.7262559180476225,
          1.0812344435070662,
          1.411394131966148,
          0.7397587551597384,
          1.2042736703201673,
          1.3763123662420649,
          1.058722125763787,
          1.1987526574539817,
          0.9913599979548027,
          0.683893847069482,
          1.0496183157909493,
          0.8754607169619104,
          0.852606981158498,
          0.9027557780581201,
          0.6039588579437859,
          1.0654086782900418,
          0.9322278490513951,
          1.1376931636942642,
          0.879692651515439,
          1.0641093626116558,
          0.3755391281633016,
          1.04384947721632,
          0.7180360241623184,
          0.9110131737367263,
          1.0731553586141127,
          0.9647968496905744,
          1.3725960400861916,
          0.566822499451757,
          1.2315532355785244,
          1.0678847840097776,
          1.5399802384045949,
          0.26603294720256704,
          1.2520416731755553,
          0.8289132784831971,
          1.1416941069130313,
          1.0465547103654236,
          0.9722098687829501,
          0.9515351798920362,
          1.1360344659295054,
          1.064678347054312,
          0.6500972817338178,
          0.8032735414705635,
          1.0904775666073612,
          0.9401896552333908,
          0.8851131408844478,
          0.7355937576098148,
          0.7414156349857325,
          0.6139244904271562,
          1.082319951732692,
          0.8725492838763383,
          1.0213800279982712,
          0.9739490303937504,
          0.8231875982918879,
          0.8296218263327452,
          0.9546644361686417,
          1.005957259558232,
          1.202889030078249,
          1.4132153231691142,
          0.8170908628491893,
          1.1764247769189973,
          0.8822296556823414,
          0.6496421946037406,
          0.9878405742592355,
          0.9320834741336628,
          0.8009399184034623,
          0.8177273810790423,
          0.9815943497122999,
          1.1470304910017617,
          1.2741071731392728,
          1.08325903628793,
          0.7802681044594421,
          0.9597401101825837,
          0.8395492070804889,
          1.152908113720605,
          1.076119509197912,
          0.7903513734200708,
          0.989238492224424,
          0.816529004977669,
          1.0204413822618086,
          0.9801555453851045,
          0.9518652032166902,
          1.1743583794982062,
          0.8234416599050599,
          1.1672427885336705,
          0.7183114277082319,
          0.7768379331570475,
          0.6676467447638754,
          0.8237267915203095,
          0.8485370064935487,
          0.9546147579042186,
          1.0156434224396522,
          1.1109960997916906,
          0.9936085957784148,
          0.8492829007470799,
          1.0238153586000118,
          0.6974471071590554,
          1.071353550792673,
          0.3295625820988135,
          0.7464277837499436,
          1.1210516934714583,
          0.8190864920451544,
          0.5716805276550354,
          0.896823905791334,
          1.023820323395769,
          0.9195339426102213,
          0.9484358523924934,
          0.9297539867088406,
          0.7931958703834261,
          0.8560369876390785,
          0.5946096255305635,
          0.5064508014117758,
          0.8164080601970999,
          0.8680549952832975,
          1.1870066808286779,
          0.9311184231843593,
          0.6687124065039112,
          1.146437841711949,
          0.7411138242817064,
          0.8629385388443801,
          1.0176181257126544,
          1.1006897576052084,
          1.020288309376888,
          1.1474560339774194,
          0.9587376613399838,
          0.7135264779944557,
          0.8380805852926826,
          0.7690752883989203,
          0.8366500491455077,
          1.1085986567519361,
          0.4295771669324776,
          0.8347975063747827,
          1.0906148431732399,
          0.9593882827379292,
          1.103177100801531,
          0.6546729784105574,
          0.675753839933746,
          0.7091132294158541,
          0.8260533215593854,
          1.0034513434703531,
          0.7142624675181605,
          0.8409623244974371,
          0.9433085632122519,
          1.1352089421363165,
          0.724356242698108,
          1.1887213036126247,
          1.1308816167663245,
          1.064601563740053,
          0.9917056632660475,
          1.0424579715357694,
          0.853961448397956,
          0.938096120084181,
          1.0305743471000244,
          0.9383294996549427,
          0.901595321551204,
          0.8025517880839147,
          0.6797547052372233,
          1.1563871424111853,
          1.0711555976334701,
          0.42979012079494805,
          1.2035859686012804,
          1.0940295678067176,
          0.9437163288628925,
          0.9144890988417309,
          0.7631731883264378,
          0.9295966955324212,
          0.9054400425018082,
          1.0144126178673936,
          1.3264247839347592,
          0.7745159580669263,
          1.2817448875874349,
          0.9439953314243141,
          0.941454617929256,
          1.173085188934138,
          1.0240058696797119,
          1.2371252085262443,
          0.9317360195853904,
          0.6714622336299277,
          0.544286074500639,
          0.944035970337371,
          0.8241523187142217,
          0.9139041144891903,
          1.2855531344900273,
          0.8216283602022363,
          1.1755817676503126,
          1.0990172747122726,
          0.8916395815539715,
          0.6460258391128902,
          0.5221322489412766,
          0.8967552224366101,
          0.5104669903119536,
          1.164216917954876,
          0.6808448432568968,
          0.9222885018240224,
          0.9419779090871692,
          0.8873920439233662,
          0.6709168085639694,
          0.6198524551094303,
          0.849929485846254,
          1.230268091172774,
          0.9642057978816945,
          0.7872468237855154,
          1.085414796014427,
          1.0920458249462153,
          0.8937666661642392,
          0.8037887643879891,
          0.8970381640427596,
          0.42505558375454483,
          1.1876671136101966,
          0.9980489232232252,
          0.900827847508684,
          0.7384755375633815,
          0.5313248302757237,
          1.0600833454969172,
          1.092074088228319,
          1.0691706759799866,
          1.315629926042044,
          1.0298800431372495,
          1.1742610650720604,
          1.0640709950239589,
          1.1534945429244159,
          1.1842241346180697,
          1.0089208027950891,
          1.2023528544560798,
          0.6797215119184287,
          1.1993989801242249,
          0.6372506609561344,
          0.5958551770293701,
          1.0393414469115876,
          1.0466858027034927,
          1.241249079808138,
          0.919555663584977,
          1.1089970681756516,
          0.8217681368729364,
          0.8565661579947731,
          1.0329012500748982,
          0.6518386515402893,
          0.5635061009515668,
          0.902620690090545,
          1.0893822507012825,
          0.8517209775933562,
          0.6723671397843431,
          0.7398452727958578,
          1.0934228129735586,
          1.0856245655315542,
          0.9014219715299772,
          0.924448826951022,
          0.9986195055478236,
          1.1191147201243539,
          0.9361129507805988,
          0.7449031156965253,
          0.9175676220109914,
          1.028119560025359,
          0.653611564094448,
          0.8775411044345072,
          0.9976559229711305,
          0.7903423501782302,
          1.0564968976192668,
          0.7587555591945282,
          1.1718899645469392,
          1.0708769758945988,
          0.6379381635963657,
          1.2150216473347424,
          1.310623243102653,
          0.46082061406501695,
          1.1134798807965811,
          1.0033145307441698,
          0.6879630836711211,
          0.9148712250026225,
          1.0470545748590738,
          0.8610113249273494,
          0.8313555988314235,
          1.023291494200627,
          0.7928871985836355,
          1.117164565921199,
          0.6315488645219639,
          0.9822041347727583,
          0.9146041637817407,
          0.6055729965028592,
          1.3069874189984583,
          1.0334903384139578,
          0.9394689504321527,
          0.7032309111897956,
          0.6273554800357837,
          0.9187707305175159,
          0.5727045453744449,
          0.5166286044269855,
          0.8566669688060503,
          0.7915129882818646,
          1.2406793976571826,
          1.2044498263618078,
          1.175533073551079,
          1.0456644249770675,
          0.7462709805433986,
          0.9703404229420076,
          0.8695767275843393,
          1.0939487414482894,
          0.5965142077178395,
          1.109803354817461,
          1.008640979944329,
          0.7081088214222921,
          0.9378176227245885,
          0.8134595760938635,
          0.7832535651749835,
          0.8994565068588338,
          0.7965963902687356,
          1.065788622889199,
          0.41426277832554803,
          0.6163734195856068,
          0.9968896247706717,
          1.1107319895296288,
          1.1676113968297617,
          0.6070571483502658,
          0.6803999006550875,
          0.7332625791462719,
          0.7653860498170155,
          1.201334319141006,
          1.3515377411622511,
          0.58066389637262,
          0.7085288705224058,
          0.8493249422149138,
          0.8729562416250592,
          0.6873457589895977,
          0.7644236757201481,
          1.1076842612834878,
          0.7997471091104583,
          0.6967813157337612,
          0.5912146958816518,
          1.1488467994590046,
          1.2041798725782824,
          0.891116992591433,
          1.2771145691917056,
          0.6558629649004746,
          1.1215501646913981,
          1.0881910029441497,
          0.7704368622322171,
          1.200562626141775,
          0.9254778801950424,
          0.5684816896148575,
          0.8457603362981329,
          0.8937619500546802,
          0.519338943245811,
          1.083556407089686,
          0.9778700201322552,
          0.8218969524693696,
          1.0369967043963104,
          0.7512801631298037,
          0.695100991152095,
          0.993439273179497,
          0.9589383544971108,
          1.0274150900556671,
          1.1869556866891773,
          0.9839855458781788,
          0.6792261309626815,
          1.0067572344949782,
          0.8746257691241779,
          0.7195812669547001,
          0.5569537922354263,
          1.1709283796731356,
          0.7731130656897869,
          0.8034625857792402,
          0.9518206953699722,
          0.8944052166285239,
          0.8348584322280778,
          1.0843839688173076,
          0.9535178543827758,
          0.6753771400716722,
          0.7452485393888834,
          0.7639232337199865,
          1.0827796552966442,
          1.151583900653968,
          0.7729755157933073,
          0.5239568627406528,
          0.5171439008464344,
          1.2078348998792376,
          1.3136270662308271,
          0.9773482867308085,
          0.9981084209967027,
          0.8597842831234098,
          0.9802234006161215,
          1.0628151321545078,
          0.9624821042884062,
          0.9771098502342637,
          1.0251101420199793,
          0.6961438408813404,
          0.6775877415671724,
          0.626643101626346,
          0.6361522415483236,
          0.7175480182535123,
          1.0611384540039615,
          0.8706192391867584,
          1.3119259099590264,
          0.9149030116092441,
          1.0719632478004384,
          0.9251203445744234,
          1.0380624376594654,
          1.2997097564778115,
          0.9561907940542974,
          0.7469360551962081,
          0.6937170941258262,
          0.4132218857860024,
          0.7476033537334386,
          0.9641517852474465,
          1.172628105058397,
          0.9148395836965417,
          1.0607212707956137,
          0.8743666556856443,
          0.7969557995219411,
          0.6126758511261636,
          0.9769249428306845,
          0.6929969196235168,
          0.8846900926296538,
          0.8840126998726532,
          0.5393280681841492,
          0.5736018217270875,
          1.0182092491219965,
          0.902144131526558,
          1.2402378840851611,
          0.6707352140577747,
          0.7140424454098381,
          1.2371283997567641,
          1.0121049441150751,
          0.6856721638670918,
          0.4809674493178424,
          0.9981615156442245,
          0.70883694032101,
          0.5046303402302222,
          1.0151191219629891,
          0.8569718303049065,
          1.0398089772418964,
          0.7099127574131275,
          0.9357029863416724,
          1.2443082853421121,
          1.1865113677294776,
          0.7471108787867926,
          1.0569326823090248,
          0.7349191579393408,
          0.7335384824468939,
          0.9255979598786688,
          1.131986243624221,
          0.6948561998185495,
          1.3814576135585415,
          1.1498999180408191,
          0.9703993277251497,
          0.9295012294722845,
          0.8435527843189686,
          0.8097758989820661,
          0.9472791185974149,
          0.9374923253031794,
          0.7079170712459982,
          1.118635459062276,
          1.1959165564584218,
          0.9886323256409661,
          0.8649814366867884,
          0.748606286629849,
          0.8657160039215691,
          0.8245022801062276,
          1.0660822921368711,
          0.9503981525342727,
          0.9741262650346734,
          0.6561594768511517,
          1.0545254609750914,
          0.19834138858745887,
          0.7793614847140555,
          0.770800131067703,
          0.6153956153384715,
          0.8081181800376882,
          1.2601925607986075,
          0.8022598835090992,
          0.8212471988915718,
          0.9036350547330837,
          1.0392770506446685,
          1.100939468368995,
          0.7007903309620698,
          0.7469512341717806,
          0.6595267678674556,
          0.8473920384561223,
          1.1090416170255806,
          1.063290437305382,
          1.2707882690497292,
          0.852048220345201,
          0.8697272719827058,
          0.9890881278603317,
          1.1839954927574268,
          1.0327958694850086,
          1.064639253453535,
          0.5061521393240896,
          0.920291497582771,
          0.9444922635434794,
          0.9281817559456346,
          0.8972605559775189,
          1.14223172808599,
          0.9976268049055822,
          1.0752540399373065,
          0.9204510523410382,
          1.2029328521405152,
          0.9660929429381436,
          0.7322075727533132,
          1.110195269613627,
          1.1287857071781116,
          0.919513481426475,
          0.6095485959417258,
          0.9277806294133085,
          1.0654910903677528,
          0.8873829030728465,
          0.8449585938868448,
          0.5348198660531538,
          1.0610337079257122,
          0.9952280075251644,
          0.6199232562844502,
          0.867777856049089,
          0.5864974231820405,
          0.8266880052233486,
          0.7817495923060711,
          1.0577858661488881,
          0.8240158143543047,
          1.084170893610489,
          0.9146045613804906,
          1.0823431521812734,
          1.1921800537223468,
          0.7171582184054881,
          0.9072977071144206,
          0.9274349483775943,
          1.1550942362059988,
          1.257840187085162,
          0.9945862356039984,
          1.0824585036065304,
          0.5502391616423565,
          1.0215470002745857,
          0.8181338227920453,
          0.94890192544276,
          1.1030038747650688,
          1.1894686278905091,
          1.1439870182495657,
          0.6777827163276633,
          1.1322692142591821,
          0.9495804113920818,
          0.9869923420335216,
          1.0022496568053518,
          0.9854166941275669,
          0.6489613713872983,
          0.5913158182882412,
          0.8619205091000466,
          1.0828467983191683,
          1.1597307682529807,
          1.2608723321587338,
          0.9763939855148235,
          1.0106754917620036,
          0.95326440278738,
          0.8605798998830002,
          0.5896383684904832,
          0.5168102802492544,
          0.9147690415354357,
          0.8203771395855621,
          0.9721929715497121,
          1.0253175048459293,
          0.7209873263522562,
          0.8070213469148318,
          1.068486032171685,
          0.643248671766517,
          0.8998140748546128,
          0.8386899662617342,
          1.079320314639621,
          0.6881296702872848,
          0.875001152705131,
          1.041614028170796,
          0.9818130564110162,
          1.1874244391897182,
          1.0460412507034385,
          1.12582060378323,
          0.7177926246732448,
          1.0898372998765689,
          0.9545308984041548,
          1.0790715212960424,
          1.0330976680033541,
          0.9534295539563482,
          1.0432307960152651,
          0.7791211045986235,
          0.8363611172746888,
          0.7573118210899007,
          1.170054392254758,
          1.2445979363270434,
          0.6469046933988353,
          0.5587760977195874,
          0.829176302646918,
          1.010128998905741,
          0.49328586589991036,
          1.1290551897797052,
          0.7881114954127584,
          1.114452434023148,
          1.1077693320817623,
          0.8656031606275932,
          0.6186984057884527,
          0.747729934745505,
          0.5161040889957496,
          0.8098247675026458,
          0.9667453908523613,
          0.9332536203404087,
          0.775322350622978,
          1.1593308912082003,
          0.6439316552298091,
          1.255303439687809,
          0.7006409520434215,
          1.0078699952665138,
          1.3177250238787732,
          0.7331556764247558,
          0.8935678130615865,
          0.9051662420861285,
          0.9633464269035145,
          1.1404796211369201,
          1.1387305990262253,
          0.9386310289078629,
          1.0043575425103834,
          0.9176704313315095,
          0.9086195244933573,
          0.6582848530811334,
          1.1745700274173223,
          1.2245054578753933,
          0.5500701916628268,
          0.7877477798401091,
          0.9998217685731023,
          1.0383459609179573,
          0.8149534357959791,
          1.1955758068928226,
          0.8892676778920384,
          0.8065997439445085,
          0.9852347848727091,
          0.5883556431466497,
          0.9780255621641215,
          0.9516241214492567,
          1.1194872621904488,
          1.2244781330505023,
          1.1967725355469723,
          0.7477680437247668,
          1.2131809221342247,
          1.0747354841486345,
          0.8651392159179238,
          1.1280549076320134,
          0.8991710207629607,
          0.9390588873514404,
          0.9265630055966534,
          0.4133020008315594,
          0.7511138930710505,
          0.8486854628020448,
          0.9187402786702624,
          0.9458086416364211,
          1.0040584610389616,
          1.1455073216137952,
          1.0805749896633206,
          0.9274360636348269,
          1.1940377941739715,
          1.1574058677646317,
          1.1078923436157466,
          0.7530281167126052,
          0.9998983053142532,
          0.7802291628013445,
          0.8821572975256502,
          1.0292484629488974,
          1.2404631108380875,
          1.2639652399507855,
          0.9097111000856253,
          0.8878978866876945,
          0.9222653468934114,
          0.457798107250114,
          0.8831714641118825,
          1.1406082363979293,
          0.9910290823897088,
          0.7787262416468329,
          1.0716317415016496,
          0.9496687949558127,
          1.0078809635860209,
          0.9935515240692743,
          1.2000095796343015,
          0.8652847370259522,
          0.9191915246584152,
          0.9296486985303192,
          0.8382866109016561,
          0.850081864509611,
          1.1652833694949585,
          0.7068989007726275,
          0.6808450847221744,
          1.0584078629049212,
          0.9803974298363062,
          0.9767300396876089,
          1.0335029234355577,
          1.1469284695862356,
          0.8563591890812324,
          1.0823526911957455,
          0.9523013025087206,
          1.307775050110865,
          1.0105492184003564,
          0.9224963989993593,
          1.1580671854359768,
          0.771663321343511,
          1.0109882867291742,
          0.7496679616202764,
          0.3729379419523247,
          0.8017006770850243,
          0.7274562801246233,
          1.0489920096161185,
          1.2473594822177665,
          0.6808294169237172,
          0.9485679306202727,
          0.8549222514672571,
          0.9967749459211095,
          0.7448507393438408,
          0.9302594023406581,
          0.8581530695882748,
          0.9794991712327703,
          0.9215807454698002,
          0.8884378736959302,
          0.7313554498489678,
          0.8885725593917924,
          1.030569490381719,
          1.081489261831734,
          1.1378334697777805,
          1.1877199531521527,
          0.8585790783312597,
          0.8521799338770583,
          0.48322304679879113,
          1.1780579943746443,
          1.0026879594578246,
          0.7321144042489802,
          0.8352973535452827,
          1.1517200115789648,
          0.9120918229816581,
          0.826912492078662,
          0.8713050332635628,
          0.5785999023598177,
          0.7389040758534036,
          0.8380915657025607,
          0.946753406881776,
          0.9026632382843098,
          0.7522627625984175,
          0.5823186688381031,
          1.0918204566935703,
          0.8643023478323814,
          0.9176549120707653,
          0.9574254906813592,
          0.774751032215884,
          0.9360886214065406,
          0.8584010760887227,
          0.6160303965814234,
          1.1267622358118106,
          1.1706485554735626,
          1.1707340151183896,
          0.7940173614331102,
          1.1328399663664948,
          0.9427043958744569,
          0.7711632924463618,
          1.0867334493816583,
          1.0175142846701013,
          1.0128555999317745,
          1.1418575467583785,
          1.106006846575296,
          1.0696441189585786,
          0.5928449710883464,
          0.9914669331450972,
          1.2541717038069418,
          1.0616113298604204,
          0.8076951467225253,
          0.8611486034103097,
          0.8330761399212855,
          1.1031962666198674,
          0.9235795160078186,
          0.99807675201315,
          0.702701386268374,
          1.0738213257161582,
          0.9411171982185185,
          0.7033409652898891,
          1.2662547019110921,
          0.9380964625397167,
          0.9223263611107069,
          1.1282531186859448,
          0.7807084102512599,
          0.753507472782472,
          1.2390062935992503,
          0.8986799365558195,
          1.387798223226961,
          1.1267883537224237,
          1.056714864360574,
          0.9646358338806262,
          0.6933551352057404,
          0.8354213086891825,
          1.0637846225626197,
          0.8125239711949737,
          0.9792039749070511,
          0.932033579563312,
          1.164635424067999,
          0.7728951189526412,
          0.8464030773287853,
          0.312211397431923,
          1.0040939327224045,
          0.3490135717369607,
          0.9439243094962969,
          0.6204057783279486,
          0.55280288375936,
          0.740679209748768,
          0.7453687824290701,
          1.2434826349707158,
          0.8531316954328797,
          0.842988953548709,
          0.9320444629112155,
          0.7781106390103719,
          0.8986505634581055,
          1.148162957754025,
          0.8517260983962234,
          0.9906025560568003,
          1.2652323587330707,
          1.2533290656712957,
          1.0097351045669467,
          0.7409984129801359,
          0.973322835360932,
          1.1248525506304206,
          0.6518015838531734,
          0.7459563054912924,
          0.7917149637547096,
          0.9819050284523884,
          0.6860902053015546,
          1.0548959659492818,
          0.9119150016159816,
          0.6692146723923932,
          1.0570714953812255,
          0.7672005575758213,
          1.2543643164503366,
          0.6676329061527874,
          0.9541213950231978,
          1.1616175111746547,
          0.8138455787611621,
          0.7213240083234055,
          0.9816150903838506,
          1.1180714725208607,
          0.8359282807659819,
          1.114272133142673,
          1.023201827965596,
          1.0039686918974768,
          0.9391970624433972,
          0.6553043233229888,
          0.8841901389061441,
          1.079207229191156,
          1.220938377666959,
          1.1070811339877977,
          0.4953330683398959,
          0.9053767560076509,
          1.0193822765908187,
          0.48448897703175064,
          0.6851761643450804,
          1.1096209897922178,
          0.9512173006654429,
          0.9507612961894968,
          1.0498163088052583,
          0.8763764803392367,
          0.9863335089807045,
          0.8990812329165135,
          1.3835473876939186,
          0.7711783917561795,
          0.6815825498917889,
          1.0444598851822917,
          0.7805892196232708,
          0.7870137746598307,
          1.0610241940207128,
          0.7973912993364644,
          0.6721264441696746,
          1.0000614444886147,
          0.9097485132602473,
          0.8435761198241605,
          1.2737609035387332,
          1.109869430747837,
          0.9895209335663121,
          0.9774764549787036,
          0.9768147591296391,
          0.8319708383443382,
          0.40585978306887793,
          1.1385473491752394,
          1.0175053934528475,
          1.3948209772913227,
          1.0374447961095903,
          1.0399411608890439,
          1.2703121304766616,
          1.3279519252849743,
          0.9786891535464286,
          1.0968784024311808,
          0.7675846026394607,
          0.9921740146328649,
          0.9166058040848818,
          0.9193557870245314,
          1.0676413087910155,
          0.8625845949907711,
          0.8077511952790107,
          0.9335576878891099,
          1.17410950812415,
          1.1771585318033515,
          1.0707921687617132,
          0.8501220552732368,
          1.2395590539774306,
          0.5619790803850753,
          0.8904833638095309,
          1.1607986218997635,
          0.9928075546373831,
          1.0002097037814985,
          0.9422862979283776,
          0.9191489837695012,
          0.5814491508506474,
          0.7777457844184188,
          1.0569571834877707,
          1.0249203772580664,
          0.8929521564355769,
          1.1374223030306905,
          1.2237423336222983,
          1.0921852173667934,
          0.388652427289988,
          0.8810865703681067,
          0.8155688697536952,
          0.9205210398375215,
          0.9118207609575832,
          1.0892183843899381,
          1.0433935582401472,
          1.000173699346378,
          1.0117656244611715,
          0.4750608843677463,
          0.9438417006986853,
          0.6840906996170317,
          1.0830194580779318,
          0.9409331729062701,
          0.8758527549673687,
          0.8556716849599192,
          1.0023316341699646,
          0.9672734537927291,
          1.0474918286493213,
          0.8393771672652178,
          0.9301501181327892,
          0.797999919364547,
          1.166316513663809,
          1.0692136211564598,
          1.1757385461399208,
          0.8419515339668908,
          0.8279023406007057,
          1.0843354986201816,
          0.9299602970731402,
          1.077707129567318,
          0.6083601156627516,
          1.0472083122599494,
          0.9935208093046288,
          0.8301547733853237,
          0.9672995342731271,
          1.0065284199578945,
          0.7911158257227892,
          1.1074603127698552,
          0.8556469056849748,
          0.9275530562409743,
          0.7844024165787898,
          0.5093645731806826,
          1.3737019844491327,
          0.8014522103749261,
          0.7990537336384496,
          1.012069387791087,
          0.7828232503286979,
          0.9128089092393973,
          0.7636447409791686,
          0.8839688720826383,
          0.8711263979946369,
          1.0175588591528337,
          0.8425660728426129,
          1.449200659812109,
          0.807343940339503,
          0.8024169552023699,
          0.7037235582190247,
          0.9638276935685386,
          0.7846067291041924,
          1.1005574254172026,
          1.1309379204706833,
          1.0741751324010376,
          0.899296458130565,
          0.7453007816854955,
          0.945441839629394,
          0.569161815031314,
          0.7524661350896183,
          0.8489118716038168,
          0.7389542071429098,
          1.263330851193859,
          0.5618034162901336,
          0.9640878006786091,
          0.9956095277341916,
          1.0197191678640452,
          1.1123378051256263,
          1.1827544610648688,
          0.5507091517797391,
          0.6742987316584119,
          0.856460869585502,
          0.8865352616541482,
          0.9312652482962015,
          1.0926638372521302,
          1.2519423063135922,
          0.6391765707800928,
          0.7478516237791075,
          0.8505042936231115,
          0.7201933934699147,
          1.1069632677336971,
          0.8740529991052223,
          0.6046372105469974,
          0.9666072156664592,
          0.9500360464658205,
          1.0789757102070827,
          1.000984221990896,
          0.6863253323836984,
          0.8509811307734105,
          1.2676822248751694,
          0.5395048196364114,
          0.9035300177563991,
          0.8892979433337489,
          0.8559389388404625,
          0.8032424200511112,
          0.6711211552620547,
          0.7028300773605902,
          0.3558353981362597,
          0.891260957035017,
          0.974121069054402,
          0.7376353747193317,
          1.1552977321349736,
          1.1020280188625833,
          0.21327775998481918,
          1.1862316384662241,
          0.8165761877025235,
          0.9725249691104434,
          1.0260225871414455,
          1.219186755985028,
          0.9530591405299077,
          0.7213835961781002,
          1.1262391486811774,
          0.8716127080152865,
          0.8271738229623131,
          0.8044596779296104,
          0.70899755998829,
          1.0759427291839585,
          1.0950582918564273,
          0.6408407587750732,
          0.5693617130551847,
          0.9757548404753703,
          0.9454187221619115,
          0.7064443744710566,
          1.219470656296604,
          1.2277744874027205,
          0.8354389887774464,
          0.9189261322278809,
          0.9100277451870878,
          1.231986200465258,
          1.2182300435823938,
          0.7455254695906437,
          0.8702853561840946,
          1.2045342227299767,
          0.3814874905527415,
          1.2664537611511721,
          0.7434523489487843,
          0.7916479751812359,
          0.897173921345117,
          1.0577106449920428,
          1.0124791579397234,
          0.7137300657391944,
          1.1794078920534652,
          0.6358644086412345,
          1.0854020422866515,
          1.2680471701673992,
          0.6856631725621851,
          0.9506127529107866,
          0.8586368627156955,
          0.8798972139499953,
          0.7815716431055334,
          0.932664270381276,
          0.6278221388903739,
          0.6832212104418159,
          0.9309636416785321,
          1.1458114602315386,
          1.0142731566975562,
          0.5739611664554162,
          0.8442531976638566,
          1.1706247744801546,
          0.9180077017051851,
          1.0672168228439127,
          0.9889295504454096,
          1.1475120327757118,
          0.6684375522176106,
          1.4114131782533614,
          1.0860879541276547,
          1.0776869986581157,
          0.9872288611919371,
          1.0425589463799416,
          1.0696318279113612,
          0.9757694487481012,
          0.829549023091625,
          0.9141564680785685,
          0.7641597395979396,
          1.1087619361745251,
          1.0364609615846492,
          0.9438940789325275,
          0.8698393227137221,
          0.739406884351399,
          0.939092173384066,
          0.980720491633068,
          1.1060726331442094,
          1.0209471027689605,
          1.2349140475287375,
          0.8550789951639706,
          0.8948966136536454,
          1.1596039496792383,
          1.1402591430481241,
          0.7685457189628565,
          0.9179507064884157,
          1.3145908741480152,
          0.625586344635294,
          0.7917228770669051,
          0.4925468062555317,
          1.2916259752472157,
          0.862132659431157,
          0.8799170422856571,
          0.5051711320169028,
          0.3615833945436021,
          0.9874367178230294,
          0.9154761376812567,
          0.9499869253350912,
          0.9735334152675628,
          0.5749168757708043,
          1.1849952679555456,
          0.8904461195314409,
          0.9798178899280996,
          1.1667157456832344,
          0.7762318974766345,
          1.0309216780993613,
          0.9403103901321311,
          1.2948542653803385,
          0.9433692525529941,
          0.9907944141928392,
          1.0607604220912152,
          0.8164429651845103,
          0.934045152829586,
          0.6490824209962407,
          0.7935049306601775,
          0.9396929091987021,
          0.5414193517047677,
          1.013943736188732,
          0.7748415339425597,
          0.6047658267523941,
          1.0418779641741465,
          0.9212084223427043,
          0.8436614200573077,
          1.1446660677821228,
          0.972589641750335,
          0.9124564897307866,
          0.9036747100006185,
          1.0713809720639396,
          1.1672566131966169,
          0.8257931373525805,
          0.7183423965530535,
          0.9180439548667778,
          0.8149919396855849,
          0.93889550973974,
          1.248275122644405,
          0.9405449888449788,
          1.2992659439681045,
          0.9850507218360753,
          1.2459485158081547,
          1.1240850776281996,
          1.2505291432981605,
          0.9314529711427475,
          0.5367242232119072,
          0.7918864869883678,
          0.7473752510344596,
          0.5087431583843567,
          0.8188857203537147,
          0.6434129344192588,
          0.6226239143035028,
          0.9822024106862571,
          0.5986281047656352,
          0.8934928284642811,
          0.8069029690838707,
          1.1202481369379107,
          0.6484696601902225,
          0.9585372333782299,
          1.2888139362275182,
          0.756327171660198,
          0.76847678913811,
          1.1689192457878521,
          0.6485187543703566,
          0.7838598084772972,
          0.9493069048054508,
          0.8779567788097293,
          0.7408669187951984,
          0.9967581036521417,
          0.8106168601103524,
          1.0738841417461251,
          1.0597486097723459,
          1.17696498666658,
          1.0061406563922144,
          0.5235391694237495,
          0.998400240784178,
          0.8778442668834616,
          0.7243838199337631,
          1.014986933703722,
          0.5213962874492236,
          0.983048008595831,
          0.6857814377013289,
          0.8621945256786037,
          0.9050011909447582,
          1.0762942429918192,
          0.9767802487215554,
          0.7655839538268284,
          1.0683793338115155,
          0.8089295756101009,
          0.9218141705325282,
          1.1298315170216013,
          0.8366246296452295,
          1.0909407515914096,
          1.2911486524597942,
          1.2152940569774504,
          0.8303031354710214,
          1.22973656788123,
          0.7709959829840877,
          1.2591774083857863,
          0.8376499958025654,
          0.7537217638221088,
          0.9160595931544804,
          0.28268665386643504,
          1.2296612490655356,
          1.0683800819727471,
          0.9250307628590559,
          0.9913332255424876,
          0.7570935188448141,
          0.6822622572698326,
          1.2070475871440276,
          0.8237048007329888,
          1.0897551421605742,
          0.9914946386960451,
          0.6704088317221429,
          0.7405831478394589,
          0.7548877274012438,
          1.0257396203075595,
          1.0812938223426931,
          0.7712438445533331,
          1.0165977029270272,
          1.2258331607244985,
          1.0962980140327399,
          0.909525934887566,
          0.8402877981469429,
          0.849328314009831,
          1.1215243671767299,
          0.725476867703374,
          0.725669419647234,
          0.7781962111474181,
          1.074564550512671,
          0.9066283650104556,
          1.2175527509390136,
          1.0781932134283103,
          0.993238921193924,
          1.1308230573307108,
          1.1444351544146623,
          1.3909750632001565,
          0.9191090623891047,
          1.2263008664264239,
          0.8119200473451983,
          0.7349487513998834,
          1.0552098771029321,
          0.8260011173262596,
          0.7044645826677556,
          1.2419459997817945,
          0.9196168065471451,
          1.0286631280839378,
          1.0691214575195795,
          0.9548846705691255,
          0.8515118332602659,
          1.0940136455728224,
          0.8458454316217322,
          0.8509548380247803,
          0.796105376145659,
          0.8155790768819376,
          1.031527843180142,
          0.9684167056925697,
          0.7752738471824795,
          1.2345017183070026,
          1.4332160299302892,
          1.0642088348757335,
          1.0880324561516899,
          1.1072336378574557,
          0.8911539988052957,
          1.003360391412617,
          1.1678782612859753,
          0.4882257061191481,
          1.052721130067543,
          0.990188899681601,
          1.2888542385398434,
          0.9833165652626324,
          1.1395311557073362,
          0.9459546884566626,
          0.9256452182775025,
          1.1968351268354,
          0.9465795328544183,
          0.7269539540907567,
          1.2383140401730042,
          1.4045432294303457,
          0.6860917781528084,
          1.1131793638307825,
          0.784371842271049,
          1.041404698241567,
          1.0770870562813564,
          0.8636154880941587,
          1.2133348517950515,
          0.461531449910106,
          0.9004977045923217,
          0.920539583378865,
          0.9624444195510101,
          1.1025372029222726,
          0.5559918319688422,
          0.7444051877190384,
          1.293781307493266,
          0.9175851303336399,
          0.898809457321874,
          0.939465248754297,
          0.9600525995869734,
          1.1454379946102113,
          1.2445038700865865,
          0.970467396235138,
          0.8763277416762963,
          0.7654144616129394,
          0.8710235091753649,
          0.8963351927833154,
          0.750449154790807,
          0.8467649185132864,
          0.9588863625377152,
          1.096357790772752,
          1.1021236466626183,
          0.8517244940649943,
          0.9441284221458318,
          1.0733892281262722,
          1.1248461286909812,
          1.2440785352605541,
          0.8921257141384635,
          1.1143564286158352,
          1.0016956099217058,
          1.1635408769389117,
          0.45808869100305816,
          0.7501531926614953,
          1.08666073795102,
          1.1798115332919838,
          1.17494590680151,
          0.5595345824721928,
          0.7843101583897238,
          0.6509393780307366,
          0.6574121546401934,
          1.1308374689581273,
          0.5854989399516276,
          0.9579788684400351,
          0.9210977919353883,
          0.9989552925668334,
          1.2103649662224456,
          0.8085806380498435,
          0.8100923130786456,
          0.5702494431763196,
          1.0575978871771685,
          0.3243417690753656,
          0.5045563883921098,
          1.0294384823026015,
          1.0439092686309455,
          0.7515633265046429,
          0.7373297472579892,
          1.2341058308580652,
          0.9992879466019314,
          1.0200766669846488,
          0.6470310185278916,
          0.8078910153711919,
          0.6083912330049807,
          0.7353068288706881,
          0.6606506577241403,
          1.111635267012642,
          0.6475849266555499,
          0.6590734257620718,
          1.2020162156116412,
          1.029627278887444,
          1.1257324138395015,
          0.877086905691423,
          1.0488675479586245,
          1.0810536928058252,
          0.9482102018558719,
          0.9247362910731011,
          0.7685390340044367,
          0.630662490003915,
          0.6894930127818533,
          1.2225095231544798,
          1.0145286720493716,
          0.7802635024023523,
          1.0286980973796656,
          0.728779111775008,
          0.8609210631152865,
          0.830052783309563,
          1.0948409793112313,
          1.0144684224836695,
          0.9601506076004956,
          1.1770111642418573,
          1.1316655230072132,
          1.2164349866577848,
          0.9082040798156348,
          0.8331038507925664,
          0.9957843260512872,
          0.9542183610553423,
          1.1271234281390008,
          0.9913728288749235,
          1.188871139577525,
          1.2110628112879493,
          1.1941066149293271,
          1.147246008094227,
          0.9641483636789564,
          0.8298851648062688,
          1.0448844932519137,
          0.9599517870966936,
          1.0975718122169011,
          0.7130022902820459,
          1.0049821834929873,
          0.5445618582860109,
          0.764390402771138,
          0.6662577126229848,
          0.8738808874494226,
          1.307704762379118,
          0.7352773404824934,
          0.8855194757192645,
          0.9855269645300708,
          0.6550689803942897,
          1.2606556705674357,
          1.1267371974443514,
          0.9172548038289766,
          0.6077010317234582,
          0.7568242476017271,
          1.1561014942397585,
          0.9210393660803964,
          0.914501003937556,
          1.1135974669750877,
          1.1921611352055919,
          1.1535358730365834,
          0.8037548852585751,
          0.5600459311783199,
          0.8693845974710516,
          1.0435117485742806,
          0.9505841289080819,
          0.997350761964188,
          0.6360027836983283,
          1.199942752615697,
          0.6996708402451985,
          0.7714826609292618,
          1.0507801467145013,
          0.7543280699363302,
          0.978421558200572,
          1.0665071233730856,
          1.0336949903671624,
          0.7087572727641889,
          1.0128451203248552,
          1.1206670650621693,
          1.05965496364789,
          1.2855246714049817,
          0.5762441791413759,
          0.9826085523650727,
          1.0321388831082428,
          0.8687456903748418,
          1.1946182020470502,
          0.750085916793876,
          0.99056091278608,
          0.7739689144878603,
          0.9756589621570662,
          1.0956359322458926,
          1.142233803132484,
          1.1963197917049715,
          1.3431034435885543,
          1.0199114445857407,
          1.1330245923241684,
          0.8761524143962393,
          0.9843469863319807,
          1.082716272463766,
          0.7602088599613402,
          0.6693014142478145,
          0.7832280738671631,
          0.9632184726699871,
          1.1852472613896532,
          1.0326481796978475,
          0.6395998709392383,
          1.056147075678999,
          0.5005733538130368,
          0.6439174164724863,
          1.06184859167489,
          0.5988766168053306,
          0.9658091755414396,
          0.6839020674276453,
          0.7966148211865197,
          0.8862369007832065,
          0.9046990630287974,
          0.6129281668034472,
          0.7904161667440174,
          1.1433600317261048,
          1.1998097632815063,
          0.7491849717888089,
          1.1534375680893778,
          1.007648393450701,
          0.8337896444460555,
          1.1283274630562112,
          1.0212603611230475,
          0.9021523413075582,
          0.9958737146480965,
          0.7346600593418378,
          1.184634970772606,
          0.8306244549461491,
          0.8279064043406058,
          1.1678439198250856,
          1.0962337543908507,
          0.8904087009715971,
          1.0865999791914627,
          0.8426244315112494,
          0.7174476044401022,
          1.010110103689618,
          0.8838984938735054,
          0.7513894714406889,
          0.8076074711091372,
          0.9466203606746102,
          0.7405669067524517,
          1.008380669387021,
          1.2706871083874016,
          1.193252391534882,
          0.6172125602425992,
          0.5521314397078916,
          1.043969997515096,
          1.1112213437901564,
          0.8588538717179751,
          0.8633710112328244,
          0.7372000336775922,
          0.8318702615325508,
          1.078175157770197,
          0.9415138935739307,
          1.0955794009423911,
          0.7313975448131211,
          1.1555008813402687,
          0.8099386896126883,
          0.8833114025145666,
          0.850386986494324,
          0.39629831576076313,
          0.5014411567807293,
          0.6818148855905432,
          0.6142376276782247,
          0.6604488837552189,
          1.2063134176534036,
          1.0627385351062668,
          0.9894232494918981,
          0.9312226742869643,
          0.7939908969505082,
          1.040952493030435,
          0.6519455604868114,
          0.9149303740053115,
          1.2552087350834147,
          0.8614963061633061,
          1.179312124169966,
          1.0385758795605007,
          1.0235262540452823,
          0.9319344817645703,
          1.1842892829724319,
          0.8829146974184229,
          0.9247161373181345,
          0.4808742748083514,
          1.0069342139979303,
          0.4881654187554605,
          1.0948862662280654,
          1.1480224026730967,
          0.794698934511597,
          0.8057164479633693,
          1.110984833387643,
          1.1278760380027912,
          0.779253715395633,
          1.0662507146811833,
          0.766230628462072,
          1.0571543202472533,
          0.8030877346266045,
          0.8880664695578713,
          0.7598207183707171,
          0.8911737501818662,
          0.7782246720927792,
          0.5436509309829468,
          0.9974244440138966,
          0.8842352996142554,
          1.2540724351128336,
          1.2225945886426384,
          0.334769518058765,
          1.0793673987457841,
          1.0301487430572651,
          1.2315438349597918,
          0.8324760385292027,
          1.0812562843179152,
          1.2103004813748408,
          0.9538125910012218,
          0.8056530663892947,
          0.8483725103899891,
          1.1182996843070352,
          0.9448192215315967,
          0.8556109092236495,
          0.602893558348672,
          0.4065833923714547,
          1.1738154185640015,
          1.0317220129967597,
          0.6828248945598445,
          1.007959172120271,
          0.8866770792690791,
          0.28946522777795125,
          0.6159466915730792,
          0.6938700818230711,
          0.4129032814609209,
          1.0792329373542315,
          0.7974345243006051,
          0.826433754633096,
          0.7260223282546194,
          0.9536787640312241,
          1.0287105196890975,
          1.0465184573250021,
          0.7876765485179965,
          0.7805619026486615,
          0.9601962945355644,
          0.9124445651361269,
          0.9344209903595463,
          0.9237339535592888,
          1.0266054281809294,
          0.4909418080678637,
          0.8705610159535595,
          0.9748233077086695,
          0.8366269849554013,
          0.8752832404395089,
          0.8405097958595712,
          0.9760299268645577,
          1.1863046430396675,
          1.0837828083876457,
          1.0482919461411742,
          0.3820023495704362,
          0.8234007459942276,
          1.203498764242206,
          0.8404335353661648,
          0.8631813941227747,
          0.9651783447943952,
          1.035946983593554,
          1.1470046583224274,
          1.1422165364248484,
          0.8680229778766613,
          0.8119271748094545,
          0.9355719447070467,
          0.8898739674662972,
          0.6260086123864868,
          1.0371071336676028,
          0.9852980785606614,
          0.992477765265975,
          0.8484676752413405,
          1.3460682297691633,
          1.030828160855946,
          1.1288060939428581,
          0.8033684698865325,
          0.6372938694698882,
          0.9521331216798778,
          0.9906648005296681,
          0.8606060426120767,
          0.8742503095832046,
          0.567570937153926,
          1.1587521320687872,
          1.195137051446886,
          1.1335390873249775,
          0.9318318222036596,
          0.5943222482394714,
          0.956188803787083,
          0.5738332178650521,
          1.0438956879234842,
          0.5810012565751558,
          1.026484309604681,
          0.9724005919319832,
          0.7925544869517961,
          0.8466470535736473,
          1.033435271413584,
          1.0777154065901065,
          0.9836612900138577,
          1.279723455794119,
          0.805279682074052,
          1.0523703826340696,
          1.1611072590129172,
          1.090443480433862,
          0.9945826330809305,
          0.7563291333424489,
          0.9953530613482489,
          0.5690530806365145,
          0.906465516299949,
          0.9844888369241377,
          0.7091222119298123,
          0.6574606101013315,
          1.1584308858882124,
          0.9312286151381283,
          0.530419479033741,
          0.6854354461501426,
          0.9765394912662767,
          0.907475705274229,
          0.8717940132501838,
          0.19562627289176682,
          0.3014010267395719,
          1.0231898473865142,
          0.5796942855708443,
          0.751198930401681,
          1.1869364529780162,
          0.6786032505886956,
          0.7331650998265917,
          0.9714788701745226,
          1.0182404251276786,
          1.1488726162992589,
          0.41106887980123885,
          0.8147130372024503,
          0.659346801852726,
          0.8667535758658803,
          1.1725109845170998,
          0.9729465784855843,
          0.9641991364064846,
          0.9134352432033075,
          1.1520326294826844,
          1.0995223356944586,
          0.8939887734894791,
          0.9424171907722303,
          0.8415874883713861,
          0.573053236786996,
          0.9230242636961515,
          0.8645113486895041,
          0.732971045134925,
          1.1952338242708354,
          1.004029985098308,
          0.8167680561067819,
          0.7862000102725623,
          0.9843661495786232,
          1.2488330101936227,
          0.9616106803364988,
          0.9936643351692106,
          1.0952491637204445,
          1.3163863067734711,
          0.5129049766085417,
          0.8498309543674657,
          1.0941861256915624,
          1.0683947310022928,
          0.9958227866354235,
          0.8196234493789013,
          1.213695379853799,
          1.1747815673384794,
          0.5781315359079854,
          1.008290651050401,
          1.1158049650790074,
          0.8736096949770016,
          0.9835664290225701,
          1.0135451453819584,
          1.1798570370524104,
          0.9109708618778313,
          1.1633444511846456,
          1.159638708329589,
          0.7077981185588377,
          1.12337408308194,
          0.39052160639395406,
          1.18859329078663,
          1.191466602184036,
          0.7057266962740306,
          1.1133607328552342,
          0.9614166186294852,
          1.1316432645161485,
          0.8389986922899031,
          0.6117056189465525,
          0.7585844913604417,
          0.8882897670998523,
          1.263786628346391,
          0.5896225238940437,
          0.8692225031660819,
          0.7993238692676206,
          0.8734384308125648,
          0.8031837531476955,
          0.6857581989481634,
          1.1181831350256473,
          1.0018454524189686,
          0.8150428508825194,
          0.9963919471406766,
          1.1818392399533573,
          1.1147831823396357,
          1.0644693811039916,
          0.8105617902517614,
          0.7859507058585634,
          1.1131390874070275,
          0.8379654806112536,
          1.1522508963000961,
          0.6772398173452931,
          0.5218658800074181,
          0.8837245004422039,
          0.8487458960953507,
          1.2139947271679108,
          0.912506232386441,
          0.7597556362519471,
          1.0485589523406809,
          1.4624989623108495,
          1.2074619271391243,
          1.1138229236291048,
          1.0662991856508612,
          0.9361002108163756,
          0.7709726444974734,
          1.201788919553408,
          0.8408186320994597,
          1.1552996213139284,
          1.022436992631037,
          0.7468025056231226,
          0.8438597697286984,
          0.7128588639809134,
          0.9973959830150545,
          0.7984648539440604,
          1.1472529904041073,
          0.6907332322944804,
          0.8553059197773422,
          0.9431231206954377,
          0.6873152487257838,
          0.3231955718744914,
          0.7387863971478474,
          1.2972577540711994,
          0.79063638116834,
          1.1353997895073984,
          1.1307122896183952,
          1.2588014564127112,
          1.0318066023947208,
          1.1002368416151715,
          1.0854593166309656,
          1.166428444812458,
          0.9215588016008053,
          0.44826202778515284,
          0.8213956183785843,
          0.7213900433108466,
          1.1436573398687644,
          0.9173209194503998,
          0.7860737896921691,
          0.4313520377234486,
          0.49028057100000155,
          0.8721892688710043,
          0.9352400595992381,
          0.9098964492279344,
          1.039935248771474,
          0.7410041642307218,
          0.7204218273592166,
          0.8810995715834712,
          0.9536136975090668,
          0.9404326548382086,
          1.1119736676398049,
          1.2218457543938979,
          0.8669790076510479,
          0.9146371242757331,
          0.9946845186189919,
          1.0697744305775674,
          1.1311353820077426,
          0.9067823202730387,
          0.74396581168447,
          0.9448687454516774,
          0.7056540023125113,
          1.350285495736413,
          0.44955240718279604,
          1.020063840407992,
          0.9629627909532283,
          0.8730347500336696,
          0.5589183265804232,
          0.27909245046745373,
          1.1231109947075182,
          1.18218266967235,
          0.6456068307110336,
          0.9418106309478005,
          0.8885174191027282,
          0.8203874229297275,
          1.020388349879931,
          1.033160662831895,
          1.045698813149293,
          1.1128908172411434,
          1.094095327553502,
          1.1519196459148062,
          1.1073041466925506,
          1.2644827745255056,
          1.101909449508935,
          0.7559968004385571,
          1.0715433899554085,
          1.0049982864682712,
          0.8078927587965582,
          1.1651287408814426,
          1.2436719203843407,
          0.8389657561156221,
          1.1860828248113944,
          0.8052940372297259,
          1.0415572899076573,
          1.0947422353035905,
          0.5505992555360842,
          1.1802438318793087,
          1.1710753008898935,
          0.7906902265759173,
          0.5143000627977881,
          0.9996530275839932,
          0.9403618969343879,
          0.9456889473320034,
          0.6198980666912873,
          0.6666779882879702,
          0.8906815691802636,
          1.1490392941771723,
          1.1178133658575815,
          0.8161372202618145,
          1.226371372720056,
          0.9638894539008732,
          1.150958380065663,
          0.4400681432882743,
          0.7366037777357557,
          1.3021990503346086,
          1.1138967791880638,
          1.1935828711150307,
          0.8856729989872361,
          0.817272058168164,
          1.0949948474327864,
          1.1551993877798648,
          0.970142611082219,
          0.7467889442278571,
          0.919446661621921,
          0.5615937267737118,
          0.9907401288072549,
          1.1547073685478046,
          0.9862175175559669,
          0.640913881536954,
          1.0499603172987608,
          0.6840880697149899,
          0.8688721481184425,
          0.6429399947821274,
          1.020513084312072,
          0.9007320992581342,
          1.0380521981907282,
          0.6671577846956703,
          0.7512083242259715,
          0.8382943881116237,
          1.0466068928148369,
          1.0327928747948671,
          1.0410330855287626,
          0.8711476916732194,
          0.953377639647348,
          0.5036010278096548,
          1.0103119214075997,
          1.0353585331041932,
          1.0337343561486192,
          0.9429495170107689,
          0.6065236286773873,
          0.8077839126302999,
          0.9808248906662873,
          1.0632752971129094,
          1.0004583206513789,
          0.8670551513876392,
          0.6091287517747082,
          0.8164083861567514,
          1.1874373013135118,
          1.3710695997785036,
          1.2014256466528672,
          1.1852844593126193,
          1.0568606342911209,
          0.7534556812064293,
          1.2113175857548788,
          1.3743145463716278,
          0.7929018414288739,
          0.7445256506379726,
          1.0434707009829585,
          0.8315422797049918,
          0.8063327352650884,
          0.5679340140004759,
          0.697748221508706,
          1.157516490015017,
          1.322541592280364,
          0.6080298511199332,
          0.46164916233385145,
          0.47994460871736827,
          1.4558659083563366,
          0.8093684453136061,
          1.0139238546790623,
          0.6143231983099567,
          1.0490681250639244,
          0.9167613028963557,
          0.9321471998166011,
          0.6344269078812733,
          0.8188472565802861,
          0.5973030851913577,
          0.9398763172567424,
          1.1307003972531693,
          1.0657716754948987,
          1.0994875430486428,
          1.2335574447722593,
          0.9723879255583443,
          0.49945719445935116,
          1.0021610643970622,
          1.2589506326044535,
          0.6874142967954251,
          0.7645262225186568,
          0.8740336583161171,
          1.021977960009717,
          1.057556619894843,
          1.253887541334386,
          1.0634824910972025,
          1.260394431505809,
          0.5786341563725358,
          1.1012539468106022,
          0.7549458098070527,
          0.8999495613351872,
          1.0946764212528617,
          0.743341869216008,
          1.0051929631648493,
          1.0842672694812625,
          1.1201924094610187,
          0.8310968755682636,
          0.9371491305995153,
          1.1092935902392216,
          0.9024951195150033,
          1.0668717413741817,
          0.8728507759037915,
          0.8170407316165597,
          0.7302141875057008,
          1.0495444205056994,
          0.8759852885359993,
          1.0523802004254672,
          0.7503800499029206,
          0.5104349081339116,
          0.8463168308184486,
          0.6965247486810934,
          0.9510604351896242,
          0.5844269587605005,
          0.8674120099948048,
          0.9223893441587118,
          0.8520767576135018,
          1.3310726514999058,
          1.2163884694067197,
          1.2330495626254905,
          0.5529142685345317,
          1.3267275464686294,
          0.9411671501833375,
          0.926430032701294,
          0.7036044516678468,
          0.7462510408408046,
          0.6658984080348442,
          1.2030548897624445,
          0.8043395004836873,
          1.0359793558708312,
          1.1118552756229023,
          1.0781094968793097,
          1.1543108555624753,
          1.0183980991534654,
          0.9815242455592231,
          1.3038021583463915,
          1.2129537261501084,
          0.9845894294563903,
          1.0165505118284526,
          0.7384358783504821,
          1.0815754895109662,
          1.0044802927518925,
          0.8813659845575168,
          1.1805798379227723,
          0.6670879239340828,
          0.763073649844996,
          0.8350297883979813,
          0.663401095704807,
          1.2109589914211687,
          0.9119533257374589,
          1.0598477973111338,
          0.7092901017835603,
          0.559372540226661,
          0.7539639670649367,
          1.0317202725424253,
          0.64541686391936,
          0.6955757092815334,
          0.79891847855031,
          0.8219239456974344,
          1.3267127812785697,
          0.9383774503693401,
          1.1689165259409462,
          0.8836058373093306,
          0.9566753313134295,
          1.1967202456733834,
          0.6163224936033522,
          0.9656259168351622,
          0.8663899946968527,
          0.9746229184064483,
          0.7646114057168188,
          0.819339986820017,
          0.868272939019343,
          1.324515162398165,
          0.5914095471062343,
          1.2712976756934717,
          1.016829036781679,
          0.9585407312910404,
          0.9323151524536755,
          0.9270834973993329,
          0.7413801776198587,
          0.9881159979879853,
          1.1260918598301382,
          0.9497603215516697,
          0.9022075404249638,
          0.8047272305980028,
          0.695048084760858,
          0.7707719260887193,
          0.7939805774820441,
          0.6704291197839232,
          1.0905041617163553,
          0.9986097990489461,
          0.9150950323040545,
          1.0371547818608287,
          0.9882444436617741,
          0.8245563283088445,
          1.1683864859297253,
          0.8679834202559191,
          1.0510285305086233,
          0.6699448681953875,
          1.0351826529640777,
          1.1050037796911234,
          0.9972942287855213,
          1.0496288492230814,
          1.0928255874605295,
          1.0493191941089424,
          0.5539574650113859,
          0.4533689537362534,
          0.7501644224653585,
          0.5285678889050619,
          0.7569934984352374,
          0.9460743417645219,
          1.1709740610269972,
          1.3347538245113433,
          1.0743372048180189,
          0.6302935637521765,
          0.9780092021336814,
          0.8118822939329231,
          1.0119459404484363,
          0.7763292898198391,
          0.993437943761352,
          0.7139479023539526,
          1.2426018646108214,
          0.8304541021589928,
          1.2924940389158244,
          1.1621341394846159,
          0.9587783035977206,
          0.9928728309379515,
          1.3476605089883473,
          0.8605771413786215,
          0.9072463849281034,
          1.0723070558577614,
          0.7638083617156002,
          1.1365847762367038,
          0.7225845189741018,
          0.7661797931027381,
          1.045438664084818,
          1.2043441782170259,
          0.8080672351518303,
          1.2208048759823102,
          0.9378277935845957,
          1.0032681338040514,
          0.8231645984325571,
          1.0340523187240327,
          1.1768570113487826,
          0.9174405159274492,
          0.9838196960812047,
          1.3305128952298633,
          0.8636672359643829,
          1.2323760221775193,
          1.000667785151633,
          1.1588603082056463,
          0.9276282207541955,
          0.7422941825017976,
          1.1691826920502524,
          1.2636357583373483,
          0.5519743620232743,
          0.8703364998421155,
          0.8766202336267193,
          0.7909837509943748,
          0.9905209683000359,
          1.2112525779958545,
          1.1084538436127314,
          0.9659509777470564,
          0.8676444141132188,
          0.9702060096609099,
          1.0855384442989526,
          0.6679325633228792,
          0.7215473001548618,
          1.091360613049002,
          0.6798655693121687,
          0.671012483404981,
          0.7051378650488683,
          0.8493864902020959,
          1.0063344430009071,
          1.230873376457573,
          0.7887209676027194,
          0.8122255187597934,
          0.9704976622994173,
          0.9460576619518052,
          0.39310503789183066,
          0.8179099421252914,
          1.1425010104988471,
          0.6489905021325065,
          0.939635484144359,
          1.0469387304060709,
          0.7922442193111336,
          0.8137538215079928,
          1.13185020803917,
          0.9547234316162274,
          0.5186037525661766,
          0.8797799259914195,
          0.7181370061178621,
          0.8986552428889374,
          0.9442793333681779,
          0.6401936060829921,
          1.221479512128833,
          0.9359677949869142,
          0.8813629862470728,
          1.2059489554316603,
          0.8363902504905206,
          1.3236699776010896,
          1.1436381756333664,
          1.005766381099745,
          0.9054679930710944,
          1.0564221148945176,
          0.9119320284425628,
          1.0963489608514718,
          1.07806795301402,
          0.6561988895998055,
          0.9193258236133218,
          0.5484910790692289,
          1.276508653127532,
          0.5015928835227624,
          0.9304229343546991,
          0.78733483136421,
          1.1555272872365958,
          0.6390530278630828,
          1.1359689594302607,
          1.241481485013217,
          1.0778576687121137,
          1.3442415971647534,
          0.7922399707076172,
          0.7370047998724601,
          0.9618736232099062,
          1.1398087351440187,
          1.0293490397980833,
          1.2449680795693798,
          1.1929386112971379,
          0.7420349506441959,
          1.001441244308454,
          1.1111112360105364,
          1.2669443696171505,
          1.1106752422805313,
          1.3251565348720382,
          1.3072542331528447,
          0.3927003286392783,
          0.9279886549211166,
          0.6573307870186678,
          0.4009404934940112,
          1.1569954446745656,
          0.421509364002708,
          0.936823225497997,
          0.6401929762667732,
          1.0570751427218004,
          0.9824423935885311,
          1.1238081333524383,
          0.8061501915813364,
          0.7791066019509598,
          1.3218895538144775,
          0.7792810172528848,
          1.042197305725477,
          0.9788876347197947,
          1.2955889088831032,
          0.9601858472210113,
          0.6077132804972321,
          0.8540573778723243,
          1.1490689148209807,
          0.8178091509227051,
          0.7490878237074085,
          1.4443207511039964,
          0.9460623905635535,
          1.0810320247107166,
          1.0949681062222214,
          0.730609992274661,
          0.9959515134825335,
          1.1318126553431442,
          0.8189851749909084,
          0.7696371564416454,
          0.9937985922302948,
          1.0267145771830348,
          1.1095990229480492,
          0.8767255807476547,
          1.0914416364203559,
          1.288091776365073,
          0.545081407853921,
          1.1097550771458382,
          1.3632922215733319,
          0.22559987120750455,
          0.587822762727955,
          0.7527420992681069,
          1.0565649229867882,
          0.9191926682597116,
          0.8513717166987801,
          0.8559503915503346,
          0.8624540479623193,
          0.8333938754449374,
          0.8502990802488218,
          1.1211688405057525,
          1.020672169918418,
          1.1921509507991062,
          0.820071929283794,
          0.7668551192672363,
          1.0169098786821706,
          1.3732358146755093,
          0.9751661011804162,
          0.7053990839433818,
          0.7591119731280117,
          0.571526747306038,
          1.1055596389564708,
          0.5515591801059544,
          0.7233898405835121,
          1.0503944835374581,
          0.8945259494719892,
          0.6925831857271654,
          1.042888590423594,
          0.6964691168637466,
          1.0966800303867954,
          0.8540931029637858,
          0.8420721584285586,
          0.7950025237355935,
          0.6875825167828316,
          0.6590718929216286,
          1.0558213107389671,
          0.5892325281749704,
          0.9913435512113558,
          0.93034198668577,
          1.0681524820619337,
          0.92863133725507,
          0.55298316032801,
          0.9617061398655513,
          1.4127384137781722,
          1.191669280667886,
          0.8446411236186356,
          0.5656999154115143,
          0.8730018656678431,
          1.209644717773563,
          1.0567610390263367,
          0.8193710792738651,
          1.3014908737812176,
          0.6727207624465714,
          0.7938756603559314,
          1.1084837495663653,
          0.9799529912514834,
          1.0528519402924696,
          0.6553290268095112,
          0.4969851685791034,
          1.3579207382903762,
          1.0909491471498727,
          0.9286388276673924,
          0.8160105945208161,
          0.8600071867527985,
          1.1248983077779233,
          0.863405410607185,
          0.594379065588651,
          1.2073975480969468,
          0.6076685516292786,
          0.7716365044312207,
          0.8080153046586946,
          1.070624970230963,
          1.1884552401193136,
          0.8619357423691802,
          0.9069244680781262,
          0.6399493710718522,
          0.979460248858862,
          1.0479610550465253,
          0.9808935686940403,
          1.0289416755148348,
          1.0782417667956703,
          0.9209206037146609,
          0.8726166843405609,
          1.022331436094057,
          1.2000663955427862,
          0.5882253068735313,
          0.9782003612119335,
          0.9428718330850059,
          0.6310975564654382,
          1.280086084383927,
          0.931179942419765,
          0.7202635198897785,
          0.6438391521200886,
          0.876103821107056,
          0.8868355353359644,
          1.2841070939785688,
          1.0424898689695985,
          1.2495054476035181,
          0.9693460413564025,
          0.9521397021728907,
          0.9188767826041238,
          1.2915156699441879,
          0.8249105987086209,
          1.2996952787069982,
          1.2639763611306696,
          0.9475543824270425,
          0.4923327712864914,
          0.9075120962096067,
          1.0419798695552236,
          0.7975558160039458,
          0.7023667751817761,
          0.9534144452624271,
          1.0241234672012196,
          1.3210862909560062,
          0.8687183312261337,
          1.244709387489266,
          0.916544884369825,
          0.6697972854621552,
          0.9673045574844082,
          0.677665326102045,
          0.63367065760182,
          0.9411527262302007,
          1.0321881292137445,
          0.8108491613328073,
          0.9890069338550275,
          0.7586338410273006,
          1.0978243864616584,
          0.6420359540234585,
          0.9931469551785375,
          1.0912285320878115,
          0.8730283257084019,
          1.2701643992412839,
          0.21100326466405597,
          0.7842526407078716,
          1.0190222289923747,
          1.174419633101036,
          1.3582582765100701,
          0.8843958370031401,
          0.4688142567781121,
          0.7563792152281774,
          1.1739364401527068,
          0.8392224734852917,
          0.5379660677008427,
          0.7641401821512768,
          1.2361677737978474,
          1.0728858449813015,
          0.8676128527803089,
          1.1162793945651162,
          0.891802884443387,
          0.8727912815226502,
          0.8349671304710609,
          0.8681610712107958,
          0.5609316672841772,
          1.0811005397390197,
          1.0631703809750828,
          0.8232014166592533,
          1.0881688987542264,
          0.6905527539169742,
          0.8351927531960941,
          0.8772622353147068,
          0.6098851601757909,
          1.2436967676077177,
          0.9367367735483813,
          0.9796825234979366,
          0.8236026036249015,
          0.8948716920349974,
          0.9686465808097411,
          1.0701125040800237,
          0.7882398533706094,
          0.753991170394475,
          0.8191411662358442,
          0.7593426779257644,
          0.839311784029846,
          1.1027396981769215,
          0.8792927598192463,
          0.8934378406896334,
          0.7127426990450855,
          1.1770453278567399,
          0.8926016673687523,
          0.47411988399701654,
          0.7024614590659809,
          0.8222422933305672,
          0.6771882426835465,
          1.0219479166531975,
          0.9979744694699123,
          0.9166430718545857,
          0.5690350928352277,
          1.2122962753523658,
          1.1606824229765118,
          0.7297081218191497,
          0.7742911229691073,
          0.7589224859288701,
          1.1828607525905024,
          0.7246396875097312,
          1.2151701947921603,
          1.0951443718805858,
          1.1817788926289745,
          0.7918202034274376,
          0.5547109437705875,
          1.0329710801263594,
          1.159343168471802,
          0.9221713797543455,
          0.8090693044510262,
          0.9357993968107386,
          0.8677653692861461,
          0.5572543094101411,
          1.0427148514119033,
          0.8295478281436675,
          0.8082906144090143,
          1.050561052504563,
          0.9151701926991702,
          1.1170652552515041,
          0.8744292104140424,
          0.8951668483066627,
          0.6048248622025919,
          0.6754412844636409,
          0.7933551624959987,
          0.8167191584620507,
          1.1849923336023798,
          0.9742760398692151,
          0.9166390645110588,
          0.9918181594035194,
          1.0751405705678851,
          0.9903874560783527,
          0.9525901835537047,
          1.149386450348514,
          0.8366000591100259,
          0.7041073045834496,
          0.7538480237250668,
          0.8418365842106724,
          1.039967526248435,
          0.657134975325742,
          0.946467783683871,
          1.2359641246039006,
          1.2079563737928438,
          0.9648019576786581,
          0.693429156653521,
          0.8263667138110102,
          0.9434183962905455,
          1.048590068153387,
          0.9999511442271509,
          0.8612674651081722,
          1.070875942991203,
          0.9785930701776849,
          1.109115737725645,
          0.9334725904852937,
          0.8732467418900899,
          1.0741907195257492,
          0.7473702829436522,
          0.46722222949463527,
          0.875852698274339,
          1.0497396923690434,
          1.0714049606242435,
          1.1614148140435356,
          1.0358902273779993,
          1.0771177665792115,
          0.9492769577596479,
          0.9011001878745076,
          0.8726744749168839,
          0.8262734829825813,
          1.0079618015178708,
          1.1084452204778128,
          0.4091874938772392,
          0.6536505599548426,
          0.6940038061741568,
          1.125812030308432,
          0.9133941097420217,
          0.8048273893179614,
          0.9417499807063989,
          0.9051279083776106,
          0.6430874353358325,
          0.5268304245506572,
          0.8817529871439381,
          0.575231958076283,
          1.2077419331622588,
          1.09473952667859,
          1.1423525071412053,
          0.8326211101306712,
          0.3508317508391598,
          0.887811450081713,
          0.7719874849686642,
          1.0150355955661376,
          1.089816661938573,
          0.6094303827524542,
          1.057378032191425,
          1.1149357655642795,
          0.8678393102332602,
          0.8073283572596527,
          0.7888268674466825,
          1.191986707634347,
          0.7809059418012556,
          0.8796461935415647,
          1.0181817421547454,
          0.7706034493915661,
          0.6828703357356954,
          0.9854415576804404,
          0.7895890053448801,
          0.8399173288448515,
          0.6874246727080573,
          0.6329740372176639,
          0.914189418391179,
          0.41342922717244623,
          0.9313810229599989,
          0.8212588397776289,
          0.676848703562777,
          0.7860032033155243,
          1.0703224034673253,
          1.1158611281433135,
          0.9272654319892555,
          1.034252635386471,
          1.0590867319408135,
          0.8794064432475094,
          0.7186958391057078,
          0.8402117557293067,
          1.2096283698986225,
          0.8259516670323732,
          0.6557824564874956,
          1.3770991426238737,
          1.1507514849832912,
          1.26648352795809,
          0.8628996292169276,
          0.750452723513999,
          0.8508689853365874,
          0.843759454891069,
          1.0730787041550163,
          0.7333019910382906,
          1.0511081911427995,
          0.8089346166848437,
          0.9943605616106862,
          0.6646154991330093,
          1.2324622848952036,
          0.8577524482826077,
          0.6188282559713971,
          0.8113481145457128,
          0.7874745791818724,
          0.944268177806894,
          0.9764804086214224,
          0.814637439449331,
          1.181398491412465,
          1.2542954400578334,
          1.2553288343664473,
          1.1631176789207602,
          1.0631216204080907,
          0.6151185546298339,
          1.0303738867553032,
          1.1368153614366519,
          1.3026419172821664,
          0.7688428433217189,
          0.9812479858197448,
          0.8328651725277946,
          1.234549592833904,
          0.9236756991921561,
          0.7171613766439668,
          1.1672076083194518,
          1.1912841364564213,
          1.0681347966838297,
          1.0364015240918143,
          0.46976632810883057,
          0.9667340174724293,
          0.9081073664664631,
          0.7011035974898658,
          0.8734976586224713,
          1.061255434466776,
          0.8439399598401058,
          0.630665899701606,
          0.850572224683261,
          0.7807174651867276,
          0.7674378141529704,
          0.8432647517896863,
          1.2358868283508657,
          0.9695847217640348,
          0.8397723382695942,
          0.8277729171522551,
          0.47021444575409754,
          0.8762863242610205,
          1.1241160176077083,
          1.160714172049856,
          0.9775369006073562,
          0.9944606319319703,
          1.141897486473835,
          0.9991621434853721,
          0.6465035265422997,
          1.064790034732466,
          0.4276884263083748,
          0.8144835340116046,
          0.6401281223266185,
          0.6577048732768027,
          0.831430788029525,
          1.064482405990515,
          0.8637135615534525,
          1.0905439536300696,
          0.9066490051473555,
          0.9766916758562129,
          0.7244916242490307,
          0.7915636292633018,
          1.0765569863722029,
          0.6943694748869997,
          0.8513363145952826,
          0.9398198155917723,
          1.3164916989563966,
          0.9205981217938827,
          1.2959516771296158,
          1.0454488566715123,
          0.6319225779852029,
          1.1083886008733004,
          0.5157562265346707,
          1.0163255942813194,
          0.9747689899622197,
          0.69582726990634,
          0.9170897961081297,
          1.1107077357475632,
          1.030259051696651,
          0.7344461896389922,
          1.0942609977721385,
          1.110765493919955,
          0.5106345382431412,
          1.2767355035494692,
          0.7269998131166655,
          0.7904412105931818,
          0.7230113692533817,
          1.0856065256796468,
          1.0124902912643479,
          1.0545667376163261,
          0.6830158805506676,
          0.9149920134867797,
          0.7920783885509373,
          0.7152593337247946,
          0.47302239149425823,
          1.1370521472977975,
          1.135233476024646,
          0.8668972013369466,
          0.8661562145038126,
          0.981105122095175,
          0.6429872764596881,
          0.7372350290921589,
          0.5898695639759711,
          0.9974744955712745,
          0.8531672848147178,
          1.1072335934717812,
          0.8507521042083329,
          0.7559547479877935,
          0.7203380980257125,
          1.1103577819855994,
          1.353162654004863,
          0.6230338115783634,
          0.44864243246989566,
          0.6179974801903411,
          1.2097326610683237,
          1.0242129399674582,
          0.7124944990267132,
          1.1703756998826989,
          0.7954293818230923,
          1.2701877939929132,
          1.1737919665650145,
          0.9611543783315442,
          0.9478233650312008,
          0.7048898477927885,
          0.857555344378914,
          1.0570351698785694,
          0.43872153139011394,
          0.8764268972527874,
          0.9026796764916166,
          0.46082197523483365,
          1.2115413018184555,
          0.8109697318363864,
          1.1582079973389596,
          1.013045849665643,
          0.5186028804326018,
          0.7947830250786747,
          1.0592278338673295,
          1.1655140465627358,
          0.8208924715274686,
          0.6640391877591402,
          0.7396340579958096,
          0.9427662417003845,
          0.9752587014430136,
          0.9524079712936019,
          0.9281546343633714,
          1.1012359200765556,
          0.9531748303772972,
          0.6640257911931445,
          0.7107720832543445,
          1.1452899024311465,
          0.6336888912184186,
          1.0744876732571136,
          1.0904426957505273,
          1.3548104386140458,
          1.0675975495546908,
          0.9838898799085541,
          0.7364376880634526,
          0.752559956280697,
          0.620919788896197,
          0.9989961954960687,
          0.9210446046913314,
          0.9446539244725896,
          0.9316931425669198,
          0.6403327574080079,
          0.7725593409233968,
          1.0473037419806561,
          1.2179032842456903,
          1.0338789286127312,
          0.6700496362334959,
          0.7737450651784679,
          1.087043697205069,
          0.7786832582931792,
          1.0830635768404815,
          0.6638946957168282,
          0.8142529073467418,
          0.9039701409025507,
          0.7484926762418419,
          0.5729684434962856,
          0.8645090969148077,
          1.0609017141445118,
          0.8280982821221555,
          0.8145030514199583,
          1.1424011402257008,
          1.0382932261633375,
          1.1018773203175236,
          0.880570661829765,
          1.2411463997148062,
          0.5731733446713266,
          0.9469214646960303,
          1.149772885139676,
          0.5709337129718617,
          0.7230602691748027,
          0.8868051944365707,
          1.0842710781494223,
          0.9964087406008812,
          1.0921680868372698,
          1.0843139952673007,
          1.0245935690520371,
          0.9174349257417321,
          1.0378925216697985,
          0.8466723648335875,
          0.8990750393269987,
          0.6447993917391187,
          1.0159004376264307,
          0.771289327801111,
          0.554023665953151,
          1.10154637437717,
          0.684935787562603,
          0.7332915868829255,
          1.1968674665324845,
          1.035357477901158,
          0.985892228730455,
          0.9658080506066012,
          1.0010935538697854,
          0.9930406069329494,
          1.0164257347747367,
          1.1802815026796651,
          0.9898123920854304,
          1.1880987692886948,
          1.075168596622511,
          0.9337639887374721,
          1.289375087328812,
          0.5863404501276609,
          0.9580066887893947,
          0.8082979517769501,
          0.7287990648134689,
          1.2318242808112623,
          0.9138573442963074,
          1.2357962195975682,
          0.5458730260878268,
          0.8565506558107229,
          0.9369003444979019,
          1.0790787602312115,
          1.2036690014378704,
          0.7307929125054797,
          1.1710388564597707,
          0.9727221618900797,
          0.9132991792219007,
          0.9297774348510116,
          0.9794773200771758,
          0.7132993110756282,
          1.0105678616388374,
          1.082324283511859,
          0.5500413837992731,
          0.8595132793163741,
          0.7273014977208262,
          0.39626616754143656,
          0.6959527048732307,
          1.051601149355722,
          0.92288362133151,
          0.9930421505318369,
          0.8786062471775116,
          0.9478588259153942,
          0.762776227264159,
          0.7307274135958606,
          1.2046405772108157,
          1.0251404811725107,
          1.1768302868833969,
          1.0821527236177726,
          0.9058875093797577,
          0.4853139409140638,
          0.8512141914068332,
          1.2088998308388748,
          0.9454466753905332,
          1.0799629565916657,
          0.47279365458978495,
          1.0269020253010173,
          1.1745106469920192,
          0.8893743410878882,
          1.1442757676643487,
          1.233131939078316,
          0.7376316828845147,
          1.3385910748789098,
          0.7834818990114126,
          0.7626384304319375,
          0.8003968646583883,
          1.0003239961308126,
          1.27048253861644,
          0.842321554627575,
          1.095708573441656,
          1.022075499963471,
          0.9010260402419772,
          0.6613258317370692,
          0.8401647358951765,
          0.7232628552925128,
          0.7809044679654428,
          0.7112502550819425,
          0.7402334603254017,
          0.8706400035934101,
          1.4080317571036043,
          1.2475595945800175,
          0.9236394833949776,
          0.5140796765194855,
          1.0919778579599113,
          0.9699146444564669,
          1.3091813354322082,
          1.1620760614366037,
          0.43157608224612376,
          0.8382933043920049,
          0.7072130469333648,
          0.8423195119153495,
          0.4514633090666996,
          0.9515696217820507,
          0.7887810337154124,
          1.006939290053477,
          1.0694053065557052,
          0.7352345178728855,
          1.119737053978598,
          1.0417887758614641,
          1.104925092359196,
          1.2803640617319525,
          0.9933561673077616,
          0.9067549963386597,
          0.8353421457690543,
          1.047029879483837,
          1.1384201302291885,
          0.6540103704284675,
          0.8656007277789672,
          0.5066600856604393,
          1.1410468938980638,
          0.9845024931324402,
          1.334032445727659,
          1.1002675169628147,
          0.7111448823112008,
          1.0633885111064587,
          0.8963005871750065,
          1.0451158608741762,
          1.0970846746095864,
          0.5686433854990787,
          0.6622676875523511,
          0.7085787041788536,
          0.7259046087135806,
          0.3069878352036479,
          0.9937377187899193,
          0.8709333018023355,
          0.8117934055620022,
          0.9518852666897933,
          0.9142440503263107,
          1.2220235553782242,
          0.8868253862326252,
          0.7172853257166572,
          1.0447529844013712,
          1.130669571331615,
          0.6741534661601091,
          0.7920191531850505,
          0.6814478692516567,
          0.8510644416752955,
          1.119241030284762,
          1.1304898532300307,
          1.0457887644697437,
          0.7412675760391567,
          0.9691592902872226,
          1.034153457686578,
          1.1196717330238524,
          0.8569945045109375,
          0.6844592507843283,
          0.539824360336661,
          0.7986266517524443,
          1.1590432239882016,
          0.6488316002340916,
          0.9802569342666397,
          0.8701833440504453,
          0.3803157023930826,
          1.0667650727428346,
          0.6690919176215187,
          0.8966475394268892,
          1.231047494242372,
          1.1466503126851906,
          0.8848658462395129,
          1.2309701015599719,
          0.7233601571413633,
          0.7114887960951343,
          0.7954650333010632,
          1.1632756477735746,
          0.5569580071029908,
          1.004461575496746,
          0.5639734179696079,
          1.1149218658611348,
          1.0698303518314278,
          1.2338099394823845,
          0.8956585991290857,
          1.1100934165983054,
          1.0843316539789403,
          0.8252958651230253,
          1.223540479844133,
          0.5313504043467157,
          0.8707071360002527,
          0.7775158586152942,
          1.2157082298862902,
          1.1139238790316537,
          0.7826548065710038,
          0.8886869126063998,
          1.0767227299927524,
          1.0333974551291958,
          0.5894757672776324,
          0.6528954506436533,
          1.0828012233422764,
          0.9793873223773291,
          0.6956822576376526,
          1.0156760107670557,
          0.7636418209346888,
          0.6965427341115227,
          0.8259451439277753,
          1.1287172749647816,
          0.9843411778464567,
          0.8390615427529963,
          0.40406650541132616,
          1.022962988412966,
          0.5960698945862045,
          0.9950684956286941,
          0.5702052278077293,
          1.1097810168390447,
          1.0016070641847787,
          1.0332561224016017,
          0.9993986634753698,
          0.6811083961970189,
          0.5688223367242318,
          1.1495281945744302,
          0.8133498860201184,
          1.053229725708954,
          1.1564765953225478,
          0.8079178989977294,
          0.5510601632696438,
          0.8851226307599641,
          0.7784382394455162,
          0.6699564910632909,
          0.7963273533587141,
          1.0205852288140016,
          1.1087431972988266,
          0.6767661276831775,
          1.0630513517350069,
          1.0383595734407844,
          0.8929737621133744,
          0.8160461681354721,
          0.9356037924158032,
          1.195980047405586,
          0.9933827682371806,
          0.937119077187674,
          1.064810250671266,
          1.258234911206079,
          1.010984213357844,
          1.2891367219270335,
          1.131388217138904,
          1.1312036849040437,
          0.6573606990739879,
          1.0903723076566227,
          1.1217641416583548,
          0.7513827872739655,
          0.4569990602432027,
          0.9165401984364426,
          0.8979197440347212,
          0.9598693303504868,
          1.1718407433660012,
          0.6122589463180849,
          0.8535200963691143,
          1.0274493065707224,
          0.8103131348694937,
          0.6293336990066098,
          1.144095793840544,
          0.8644632274226849,
          0.8987824306793388,
          1.0824260139313988,
          0.8327280508412191,
          0.8853480505455295,
          0.8647365255160204,
          0.7649536183952345,
          1.0569472478169033,
          1.0739965044968744,
          0.6559432528470973,
          0.9635278512827532,
          1.035557438076412,
          0.7254829317076797,
          1.1123635625602535,
          1.2966863864369802,
          0.7677828994947437,
          1.0489992489398967,
          0.5141970204513244,
          1.0885902996566765,
          0.8567588937829724,
          1.1295476008287197,
          0.5871294097986198,
          0.6856540400192325,
          0.9601294477672668,
          0.47082722945781424,
          1.063469975643293,
          1.038420767392886,
          0.7194837427981452,
          0.513097757225719,
          0.8348728171982912,
          0.9521404731216835,
          1.0175383195041439,
          1.1374706575097246,
          1.1296158175071227,
          0.7967921026574346,
          0.9277436211401099,
          1.0076113806169258,
          1.1030109945431215,
          1.1260199209658508,
          0.9761340729113949,
          0.9720261991524999,
          0.7708213211443701,
          0.6592802296260152,
          0.5861918446689985,
          1.1512678821921902,
          0.7937295802691128,
          0.4894175362571522,
          0.8470432784399814,
          0.7242308607563045,
          0.6617103325627405,
          0.835717225577858,
          0.37678786788947993,
          1.1013658934856796,
          0.7166745514012598,
          1.01161201933018,
          1.125347600134051,
          0.9775630760035386,
          0.8605063239400457,
          0.8434142895316572,
          0.6233871517528963,
          1.423930161966266,
          1.1520900097241162,
          0.8654202312353888,
          0.6803060592053058,
          0.5131348420917501,
          1.0390098054221082,
          0.8884598147828026,
          1.0166581721851,
          0.6741415629223201,
          0.6888310919458805,
          1.0424512949665978,
          1.092410331992913,
          0.867548898456944,
          0.3454826878715199,
          1.1097842160385993,
          0.8026057318367492,
          0.8578905730484867,
          0.7689284832938548,
          0.8391787433236123,
          0.9795807786442237,
          0.9914570386429483,
          0.856215989005785,
          0.6045046218396795,
          0.991223057347046,
          0.6254717997566375,
          1.0336064394415239,
          1.0834596620522812,
          1.041763909055532,
          1.013280566931121,
          1.105987580374958,
          0.5101980138193639,
          1.1721507376901192,
          1.2594135536513484,
          0.6438081963555103,
          0.928408511643692,
          0.54657763674655,
          0.9636717982599823,
          0.8968721023227547,
          1.4250375007212195,
          1.2394799547955768,
          1.1983256628497592,
          1.172717256105661,
          0.9075316086525249,
          0.771045742929556,
          1.1680298051645057,
          1.0551474134564212,
          0.7943830605843106,
          1.2417537136601677,
          1.0667106854283306,
          1.255456005368286,
          1.1500869029754666,
          0.8512023705660309,
          0.7654635968334852,
          1.223608415599134,
          0.9957999108719703,
          1.240069114933877,
          1.0361897926959416,
          0.6064671158659468,
          0.8659991632261373,
          0.8709728675445838,
          0.9875440993833134,
          1.1164995919792824,
          1.148732575244728,
          0.5853431647751866,
          0.9784302716375456,
          1.2610729210551332,
          0.9504274271991369,
          1.013298727617337,
          1.500202480227763,
          0.8194493979936753,
          1.007873441174192,
          0.634699235529663,
          0.9723197833425004,
          0.4803831611780444,
          0.9928153385044264,
          1.0498705201618717,
          0.4994137585581226,
          1.0918312582740939,
          1.2156124487890243,
          0.6903426261412942,
          1.0647297611885944,
          0.9780401614621507,
          1.3479781475688004,
          0.7339438379910165,
          0.8224657727772633,
          1.0362146911396783,
          0.8993191281830684,
          1.0311685470991003,
          0.8058965120191783,
          0.9662450623779981,
          1.177028161239335,
          0.9804636920819466,
          1.2736298508073767,
          1.0147008047239305,
          0.6540292398643558,
          0.8838269895863267,
          0.7358612328424506,
          0.9896083960128339,
          0.6917460093575991,
          0.7776918705297224,
          1.2653304293305414,
          1.0553369330330316,
          0.9270161758531351,
          0.8333377623203927,
          0.850323189129977,
          0.8351414084766301,
          0.7710071476578084,
          0.9880769690899361,
          0.7330084237981732,
          0.8223662732279842,
          1.1042751834315683,
          1.2302775229743244,
          0.8865142770200802,
          0.8914986496964549,
          0.6986162120293707,
          1.1269958286554285,
          0.8952275409094629,
          1.0133358562780923,
          0.8222965611644297,
          0.9358111970812903,
          0.7137386213718759,
          0.8812876131899323,
          0.5877393489297399,
          1.0581485964064965,
          0.46719442268864075,
          0.8595963121503499,
          0.8902706109816498,
          0.8065276757542749,
          0.7401576750659851,
          1.1312790598201934,
          1.1663462704439098,
          1.1976172137354517,
          0.6837022801964951,
          0.8487555005345141,
          0.7600005098412341,
          1.0170225656844427,
          0.7165325907439897,
          0.6988351407491429,
          0.9134225392687583,
          1.0537161830874322,
          1.1092293977407128,
          0.9293473690469675,
          0.8947739885133262,
          0.9467840029985196,
          1.1331342604036239,
          0.954536180358321,
          0.6335881932267343,
          0.8024182281380293,
          1.2669020304939889,
          1.0335854716271835,
          1.3217089184823891,
          1.010015748207495,
          1.1145953041241825,
          0.37595628262744957,
          0.7733112771433784,
          0.9187991669663838,
          0.9366598316357149,
          1.1219270627162337,
          0.9215660101710409,
          1.2841166934972863,
          0.9273390909858086,
          0.7715888566341809,
          1.2198962683714565,
          0.8781943083745658,
          1.1072141079458597,
          0.9021769539655368,
          1.0172651336503553,
          0.5743152340651606,
          0.8649512638011291,
          1.2006253907950597,
          0.940658778963466,
          1.04230417873547,
          0.8811814399147466,
          1.2139821154555237,
          1.0952169250582002,
          0.9477439329919172,
          1.0481347008684625,
          1.0184169467224697,
          0.9152122320040499,
          0.8512571903295579,
          0.2962161014175798,
          0.8376540169606458,
          0.5762022736032578,
          0.7791598694491665,
          1.1144007806384193,
          0.9723645044954143,
          1.1400346678510154,
          0.9076566295756789,
          0.8702333809031684,
          0.6287414799910594,
          0.8455119981828116,
          0.8387635232516468,
          0.6937226987302944,
          0.8212794065758617,
          1.0425058789712165,
          1.061965774087437,
          1.1500390372379277,
          0.8462567908843327,
          0.9798052104617789,
          1.0281679292329242,
          0.802705112940489,
          0.5799247847838392,
          1.0530983976102153,
          1.1713060213968576,
          0.4830418562481273,
          0.9066342093625954,
          0.7044535728372561,
          0.8618300605324641,
          0.9819276421043874,
          1.0661878694009488,
          0.8654891737714003,
          0.7712476833591524,
          1.0443135564367199,
          0.8433327903043109,
          1.0266235882578685,
          0.8431909543481618,
          1.0107084707405913,
          0.7493096857457027,
          0.3683059005018118,
          0.7853158509673908,
          0.6658334257802653,
          1.2107726994432735,
          1.0847898300704424,
          0.6930550086484148,
          1.012643380758901,
          0.5919317663854025,
          1.2134541659864364,
          1.0711763593117976,
          0.8491016848832172,
          0.6496196706772019,
          1.274093189268605,
          1.0428963594651333,
          0.6948350315426302,
          1.0413418460091,
          1.3622573808825742,
          1.1829897066240598,
          1.0598647270221453,
          1.0802344537319164,
          0.9899918891894406,
          0.9881699809469207,
          0.8582688833654772,
          0.9584854350702349,
          1.0554205752901418,
          0.8456459662752196,
          0.7213392587718478,
          1.1170037850281753,
          0.5663839012289353,
          1.1799034999142013,
          1.1718707417640144,
          0.8834032852847035,
          1.052274367508281,
          0.7295145728400053,
          1.07584684296438,
          0.7773386254409494,
          0.9040864567940522,
          0.8856718404004617,
          1.029008713496695,
          1.3136583414514946,
          0.9968898502308015,
          0.7598840285376224,
          0.9642538234019158,
          1.037071388022539,
          1.1931570902703532,
          0.7892064563803088,
          1.1366604907839843,
          0.9294936181416624,
          0.6976881798234769,
          0.807392679706497,
          0.9217525326444395,
          1.1382773131366293,
          0.8408244974055187,
          0.8629163487336183,
          0.8185393911783391,
          0.7393464909233752,
          0.6874341269243268,
          1.0923925207840155,
          1.061161554870458,
          0.914879610292096,
          0.9196701808535361,
          0.8400450041989184,
          0.852332672030872,
          0.7940448203598611,
          0.7685440961351425,
          0.9597138319822778,
          0.6893800705746124,
          1.039609826994909,
          0.6741824172390667,
          1.1512520937044608,
          0.9023065150010994,
          0.9693034839160419,
          0.717402516591694,
          0.731835479073681,
          1.3324215079410324,
          0.8934328597122166,
          0.4644681714932435,
          0.9895490325071845,
          0.8098534000496541,
          1.0509615534447325,
          1.121794940894013,
          1.2314338724154124,
          0.5687039554050667,
          0.9818888692725304,
          1.1571664749364052,
          1.1454312025480857,
          0.9553865061506774,
          1.0938232441040947,
          0.9744094968568605,
          0.6317235538847953,
          0.674980888164414,
          1.2229215826945357,
          1.0997248203189913,
          0.8700242949778471,
          1.2104774831732463,
          0.9762816655097983,
          1.0813856867278715,
          1.155543967539186,
          0.6137479845053684,
          0.9012456049987426,
          0.7535940430702974,
          1.107976036637608,
          0.9611936109771653,
          1.146946455725852,
          0.5715072436044196,
          0.5447308377098583,
          0.7709275772340567,
          0.8671797509277666,
          0.8510372082954193,
          0.49377471390636013,
          0.6171635582925576,
          0.9271606948880393,
          0.5899371888162398,
          0.9678741623878658,
          0.8453132935744192,
          1.0850502737403809,
          0.862113411441395,
          1.000532283471794,
          1.1370061993448186,
          0.6282456590291884,
          0.6685691784314192,
          1.0800509418936768,
          0.8595019279777758,
          0.8322283660551963,
          0.9608787960039669,
          0.42261645527913244,
          0.22455550037088864,
          0.8224182761523343,
          0.8065076528747391,
          1.1247999228349777,
          0.7062769145792615,
          0.8102774347497114,
          1.078733231478497,
          0.7914930416805762,
          1.1124970852955713,
          0.9109753018272031,
          0.964198302342203,
          1.1622351163496583,
          1.0115774218434608,
          1.1278889134653558,
          1.37982243081825,
          0.8957468892270165,
          1.2250635758012849,
          0.7646816529735699,
          1.0351259687137317,
          0.960216405867677,
          1.0772924877554362,
          1.1273373758314902,
          1.1044284772641624,
          0.739909136887796,
          1.1524474696537477,
          0.6742193046406334,
          0.6582075951737989,
          0.7015664454090597,
          0.816530460660189,
          0.5057412783608654,
          1.0811875123555896,
          1.0647228541985747,
          0.7437827645012673,
          0.5233252650574424,
          0.9596229524815562,
          0.9153564896272312,
          0.6990628856123321,
          0.448850084579913,
          0.4941520084650359,
          0.6988515693120332,
          1.2492760850771387,
          0.6146732403147938,
          1.2878188092548468,
          0.9465692297973025,
          0.9315118095902745,
          0.6192780046817284,
          0.840984855993314,
          0.9192870679681193,
          0.7437954398386837,
          0.40299907851478467,
          1.0379619423905262,
          0.8413873653743718,
          0.6044706021590258,
          1.2833050375970794,
          1.302209422696835,
          0.9916136061325401,
          0.7267448671641429,
          0.9281015338512933,
          0.42512880507477085,
          0.967937351830758,
          0.6444426150685371,
          0.7222118438500976,
          1.0080234912641202,
          1.0299763446021404,
          1.307834899305351,
          1.0887186845510917,
          0.9529920400712634,
          1.10143125147278,
          0.7009303191223782,
          0.8807201535596056,
          0.9064008413816421,
          0.6161222855405748,
          0.8759178476019728,
          0.992347909926331,
          0.8009991591994324,
          1.3142667875052938,
          0.7210153254238895,
          0.8171345406271991,
          0.5905505741755495,
          0.9118138247262183,
          0.7282669683704551,
          0.5696541320300008,
          1.051176346082416,
          0.8376634930375009,
          0.885861308233621,
          1.0931021561669227,
          0.7735319346564722,
          0.9581270759003699,
          0.9715036764874792,
          1.0948061452736548,
          0.9889376013938486,
          0.8174638601920435,
          1.1559182840257967,
          0.8453860567077871,
          0.9686986468607816,
          0.6635682826469425,
          0.9596263708340804,
          0.9155230486448184,
          0.7839784611607281,
          1.099969150713348,
          0.7288404445394904,
          0.9071786467635571,
          0.9992146456702562,
          1.1258330708758828,
          0.6965164213159636,
          0.8212272952661201,
          0.7590683648964707,
          0.7437363243523933,
          0.7662345086599971,
          1.1744338655015238,
          1.220320477111083,
          0.7423949442537707,
          0.8570342158695223,
          0.49331518964302,
          0.9687999898764758,
          0.8311693039777959,
          1.0127540612840982,
          0.7587142391185281,
          0.8945886710667296,
          0.8442368962529949,
          1.116940459960697,
          0.9486279505832703,
          0.9543242163664165,
          0.9697297568338005,
          1.0088383030225716,
          1.1307129524447468,
          0.49699107978267587,
          0.5552877159593496,
          1.1647592361942198,
          0.8782366154040973,
          1.100040397409951,
          0.8474708584751731,
          1.2156887210819978,
          1.1668171616989023,
          0.8752937208552225,
          1.1650327332284252,
          1.3976382456360794,
          0.9009609953369673,
          1.0825213380738565,
          0.9028059512140176,
          0.7942931936109567,
          0.601294644389531,
          1.0378161938433235,
          1.287859439539402,
          1.1982031181531552,
          1.0215597308260465,
          0.5129866509680183,
          0.9953544930792364,
          1.2918648110670627,
          1.0672025622484913,
          0.35878924547869945,
          0.8122502186860119,
          1.0522788622654644,
          0.5827939672975644,
          1.2872248986000927,
          1.3418939740021278,
          1.0737965609992133,
          0.46913273898515556,
          0.8094137224129592,
          1.0301492337380622,
          0.736632391279275,
          0.7002593557026586,
          0.7344836750240848,
          0.6973369766856042,
          0.6785949630017806,
          1.0059722260407054,
          1.1577448934038939,
          0.6448979414443043,
          1.2274131816582574,
          0.44473572762856933,
          0.8754500422577501,
          0.9086798259254669,
          1.2663120355622646,
          1.039689590420406,
          0.7386139428067691,
          1.2499199081058487,
          0.7889070545357925,
          0.7931751360989792,
          0.8483815805979366,
          0.9811383301950245,
          0.8557925561384478,
          0.8580863554052128,
          1.2279079874695085,
          0.8346931303280666,
          0.8004579639030321,
          0.8007794239265532,
          1.3610303399103945,
          1.2154895788938012,
          1.0881193908194964,
          0.6635156370381202,
          0.8901417951018523,
          1.178685906857249,
          0.7411247395207529,
          1.0268259467129077,
          0.7922189393131814,
          0.77161240887548,
          1.1785107468598692,
          0.30298851572730967,
          0.2915048337887584,
          1.1671675577662919,
          0.5747584083215859,
          1.319681090135437,
          0.474992780306072,
          0.9283575410131992,
          0.7979746612708021,
          1.3627189593482898,
          1.2014868092989284,
          1.3338565135868978,
          1.1953004094145785,
          0.6806291011826419,
          0.7453879064201369,
          0.8961975212275334,
          0.8834203301180393,
          1.042166520436342,
          0.8589160739705285,
          0.9565122132706277,
          0.9116060865886386,
          0.7884384552687778,
          0.9320774686154505,
          1.0227946813832816,
          0.9029451062454837,
          0.8780346650138823,
          0.8988121665703124,
          0.7579567485070229,
          1.0148575306426515,
          0.9743914020511903,
          0.6940666923037581,
          0.8679299634223422,
          0.9834937123542162,
          0.9420029267669426,
          0.7875028556659027,
          1.0174395567975953,
          1.0017915184580568,
          0.6377113984694498,
          1.0752478833469161,
          1.119312554213438,
          0.6502201867794869,
          1.020872012252491,
          0.9301311619715282,
          0.6506444251351622,
          1.0308637627763906,
          1.2378501166576226,
          1.020289380685941,
          0.8671078977987444,
          1.2813547234044884,
          0.8456356009186795,
          0.7000143946277216,
          0.9707254399613343,
          0.6828126668434666,
          1.0823463132006061,
          0.6153044883869777,
          1.1084456505592257,
          1.0470264734417507,
          0.9588199222650713,
          0.7902899554428459,
          1.3602245541827922,
          0.65033392585218,
          1.0992154876818472,
          1.070312124877558,
          1.115360200063204,
          0.7886525557111402,
          0.8040250241228735,
          0.6234433294617652,
          1.050445088391953,
          0.6225745217543935,
          1.2241307624800595,
          0.9999655265363405,
          0.6510609452194123,
          1.3238731945688962,
          0.8999566246020233,
          0.8665327984792754,
          0.8586904219373059,
          1.055483200732328,
          1.3794628588827782,
          0.5321232566082081,
          0.9512768447768611,
          0.7057502878297993,
          0.9131588763620463,
          0.7333805654106513,
          0.5558019305515381,
          1.2284209489213906,
          0.51713569228485,
          0.788331283878397,
          0.7336811031307922,
          1.28113316916584,
          0.5860492094243387,
          0.489458206227068,
          0.3013888961907627,
          0.9842636019093368,
          0.8312844875196628,
          0.6019700972316223,
          0.46149284687303316,
          0.6971688746837762,
          1.0009912563534098,
          1.2670754969131686,
          0.8910607494052011,
          1.036086118127748,
          1.0343890531414355,
          0.6114201989593772,
          0.8314008899971693,
          0.9954783368974106,
          1.0785152859126381,
          0.8008064638383438,
          0.9477230231362036,
          0.9637970703445007,
          0.8087762939024132,
          1.3277252782146634,
          1.0779343896690405,
          0.9439256943935388,
          1.1060888943204845,
          0.7555205803601396,
          1.0567816855052488,
          1.1912357684811246,
          0.6263296070735255,
          0.8520650448065694,
          0.9962032282659702,
          1.1953873313403542,
          0.9188671975135813,
          1.0489270011068699,
          1.075003228451251,
          1.3635947453902573,
          0.7119665498079008,
          1.0844629127712664,
          0.931495206664062,
          0.5169476590327616,
          0.5978036290235305,
          0.8739058860446024,
          1.1848248127259258,
          0.969109441313076,
          0.914888383162697,
          0.9493022448678439,
          0.8681312814540966,
          0.8893173050646479,
          1.215240805011658,
          0.9673350399959573,
          0.8004157360551919,
          0.7869616806248642,
          0.7061407398202243,
          1.002490947493764,
          1.1597790988839076,
          1.1226016419569744,
          0.9729662903678362,
          1.0365002367824367,
          0.5679909096180797,
          1.1313680687120644,
          0.9454761808432312,
          0.7711320355002608,
          0.9616017005902292,
          0.8728105815346483,
          0.6792260675385681,
          0.7296304347706457,
          0.6955307602791778,
          1.074497608392641,
          0.668667183847884,
          0.8231114027942064,
          0.8818403496879481,
          1.2498234244700417,
          1.1035110156923262,
          1.3543437888735836,
          0.8157623499410472,
          0.6887522789550805,
          1.0733955843506437,
          1.0306051392853415,
          0.9851696291273998,
          0.8265230194805472,
          0.7474668598638915,
          0.7989353704360871,
          0.889535865474368,
          0.4623915018420955,
          0.837626323456818,
          1.0495602931489267,
          1.186289667577141,
          0.754283302387325,
          1.0682986648120494,
          0.903199637971859,
          0.587768188806421,
          0.9589014912360392,
          1.1556248769534374,
          0.5743781783968572,
          0.7070323534188627,
          0.9930488018409259,
          1.004173073011739,
          0.9080542491767509,
          0.9865180957348877,
          1.2378389767860065,
          1.1302022608960702,
          0.8401883706598573,
          0.9300315912765501,
          0.7047344791537534,
          0.9689788243992186,
          0.4742095970059833,
          0.9383766917388058,
          1.1200584733334964,
          0.7974806530143763,
          0.6797576633294972,
          1.0527141230233505,
          0.9182990395905144,
          1.132699933070516,
          0.9544019078213856,
          0.4800708219693166,
          1.1071620048122452,
          0.6382202872400905,
          0.8085697146161123,
          1.026481150601991,
          0.8590204989890897,
          0.7976031578232384,
          0.8678872879369659,
          0.84026878944799,
          0.9934140334790739,
          0.8677386230462308,
          0.9030489246672261,
          0.6710192976439643,
          1.0255452250779198,
          0.7464327138483572,
          1.0526005202238065,
          1.1096491610990018,
          0.8428636858672955,
          0.8536061442625086,
          0.9911431596367893,
          0.8683604363819006,
          0.7665964678921119,
          0.9076805177064768,
          0.755473465984286,
          0.7223334577578264,
          0.7728570890751886,
          0.946706980822267,
          1.0635831469401233,
          0.8558562690846785,
          1.0096438120786277,
          0.7682044302267037,
          0.897512769577518,
          0.38548597008850116,
          0.9838398102269398,
          0.4031750297168819,
          0.7774119204430929,
          1.017595715271102,
          0.8254673657363141,
          0.8591988681142697,
          1.0463610292541339,
          1.271664932745569,
          1.0877374840446252,
          0.8133114005448848,
          1.2021933414061383,
          0.790380768476657,
          0.9782881407951832,
          1.0298140343135704,
          0.9481205040665315,
          1.0906201950550025,
          1.2152504348943294,
          0.8875208751436956,
          0.982968183428374,
          0.902995786385819,
          0.9872644307483471,
          1.359217489437556,
          1.0310702014950976,
          1.174035236085674,
          0.9952140457314844,
          0.6331139068943941,
          1.0357148318573977,
          1.0321478669607445,
          0.858982036100117,
          1.0611078047217,
          1.149939285137707,
          1.3448659632442668,
          0.9220032164638562,
          0.9053136109603785,
          0.8325131368842147,
          0.8128589976625832,
          0.8109744205866893,
          0.8778791789607986,
          0.8845195805842914,
          1.3034570672085068,
          1.1755484437484527,
          1.1019169490444056,
          1.037081077727427,
          0.8881725126619945,
          0.9545437114329808,
          0.6324537149390395,
          1.2195283803855743,
          0.47778776350221486,
          1.0685892077270722,
          0.8680097481970439,
          0.9927257455328053,
          0.8499515554406113,
          0.4854546728116537,
          0.7448143207615222,
          0.9282083923216248,
          1.0146894841866967,
          1.0352663950568832,
          0.9601600068066941,
          0.996406375874626,
          0.8289857824596163,
          1.2781321668341608,
          0.897753345953939,
          1.0575031767321403,
          0.8058693767634201,
          0.7257345004383091,
          0.929452091867233,
          0.7990963788297623,
          1.031156966097793,
          0.6648915109993877,
          0.9024628551129182,
          1.2357245228510394,
          1.1673537719015787,
          1.1567919242816453,
          0.8697257247747224,
          0.9558004688503323,
          1.184589657874676,
          0.8492722902546838,
          1.0507005988651723,
          0.8407720649844831,
          0.910267818707837,
          0.8630574401794519,
          1.123540236686693,
          1.0744627000058078,
          1.1143357025396488,
          1.0743232421801703,
          0.5123308679864887,
          1.0711836797273444,
          0.970062122764858,
          0.9581273050764184,
          0.31244940971713636,
          1.1203901030863896,
          1.3327530517404584,
          0.7786796863593846,
          1.1289423688969213,
          1.0015766450211356,
          0.9108677926213736,
          0.6312773526437716,
          0.8313434121932597,
          0.842691816330012,
          1.0237144098271698,
          0.7526101198156278,
          0.7842021996111982,
          1.1620443096576027,
          1.0207589130458243,
          1.06543048470817,
          0.9535261684085844,
          1.2083733008730626,
          0.8701743572845515,
          1.1560225234707975,
          1.1788662686769134,
          0.8163145410192275,
          0.722300563539659,
          0.9591379017172132,
          1.1002042188804875,
          0.7575495157665375,
          1.3017956427483062,
          1.1701817889180335,
          1.0323911411872237,
          1.1238134183413726,
          0.6871742370860762,
          1.0582014712621661,
          0.8670118049285418,
          0.9318342756530925,
          0.5670136801939932,
          0.8169480458054813,
          0.7684352891574021,
          1.0739604228347466,
          1.1441139053533822,
          1.1477196734887356,
          0.7381091402625882,
          0.9354630172941538,
          1.0820278800069183,
          0.8323474216043686,
          0.9694360887987018,
          0.6900877560840961,
          0.8670333149347342,
          1.254963527534521,
          1.196646052485505,
          1.1619129598678446,
          1.1241505594408128,
          0.8230236704300575,
          0.6370160639546378,
          0.7596717208666051,
          0.8686043544298644,
          0.7152622082754582,
          0.8385795144526651,
          0.9778253034331958,
          1.064479476778212,
          0.4796559597739242,
          1.107823483365067,
          0.6002653845692233,
          0.7238545329799202,
          0.4873989365494314,
          1.2284417871664866,
          0.9627312283135363,
          1.2479304332049974,
          1.0893638826990104,
          0.7735630766526539,
          1.0529200456275363,
          0.7399970549909834,
          0.9929645081877232,
          0.9850612956616522,
          0.6350556721568158,
          0.778789658552123,
          0.7748286824132316,
          0.9752857318932907,
          0.9667770370084233,
          0.7572122126310514,
          0.5785966700794991,
          0.5004305124276434,
          0.7238540400893076,
          0.8049937085550929,
          0.7074204328525387,
          0.9180926380218487,
          1.1319419365504377,
          1.0024016928306314,
          0.6629258309948888,
          0.7563165592717405,
          1.291111355599364,
          1.1106875656148718,
          0.7728822555742129,
          1.080417874117412,
          1.302269560425097,
          0.5674252961706258,
          1.1466856283751519,
          0.8549615200980044,
          1.2835535840279104,
          0.7763007273675736,
          0.8330895279266195,
          0.8408774373377564,
          1.0870219243649026,
          0.8793160763636705,
          0.6388598611882326,
          0.9801823286247705,
          1.098139866127096,
          0.8936032188233825,
          0.8636044307616562,
          0.7647843935222937,
          0.824536036644817,
          1.0954601544393787,
          1.1048861899252138,
          0.8797678851234055,
          0.9736536981185263,
          1.0812834630379768,
          0.8778317701278312,
          0.8490486140952741,
          1.1968877677842014,
          0.5398518546952666,
          0.8586198666778969,
          0.8636266795749237,
          1.0770825170114242,
          0.8555373632605939,
          1.2920372259687314,
          1.117937964250845,
          0.7000051527090635,
          1.1642401904782445,
          1.318840147761167,
          0.7017083590815205,
          0.9225804965629062,
          0.8653030533814868,
          1.193204770775087,
          0.5779404696671895,
          1.1536392095990082,
          1.1213183795089856,
          0.661656277834677,
          0.7876120358181623,
          0.97330996239618,
          0.7350167523116667,
          1.1620029977458577,
          1.114788559539292,
          0.9578478872938971,
          0.5266383025546046,
          0.7456040929739033,
          1.115195052505856,
          1.0079672746534958,
          0.6548584295392266,
          1.1082207639369808,
          0.594311540487663,
          1.0254236032240354,
          0.8174728101060963,
          0.8756276212033464,
          0.9903152828932166,
          0.8553877263945658,
          0.7003348988088374,
          0.9072287229386025,
          0.5303743286488537,
          1.2524692218593014,
          1.1936767398470087,
          0.5233943347281801,
          1.007846721343265,
          0.5648551685993252,
          1.160955611600716,
          0.9524875269444163,
          0.8758300711102543,
          0.9081087389866854,
          0.8418850532597518,
          1.0436568031214162,
          0.8773033148079519,
          0.9235353087598306,
          0.5872794809005093,
          1.2370006097063722,
          1.0574892131411648,
          1.1748028499359893,
          1.0514344028336777,
          1.003026556149908,
          0.6707461633987549,
          0.6356837332009199,
          0.9300365505799607,
          1.266694555052787,
          0.8241403680830031,
          0.8460004028314656,
          0.9311016623740817,
          0.598684825723698,
          0.8406831834115995,
          1.0212544454300296,
          1.0494441060647317,
          1.1580219568237873,
          0.9187104230693878,
          0.691950572669535,
          0.6773030978198246,
          1.0296405800789141,
          0.7629876800801974,
          0.5519459600744603,
          1.145699857918691,
          1.152708675589862,
          1.228561622860846,
          1.2965541353738728,
          0.7816200219637797,
          1.0442568791175275,
          1.0096931920387193,
          1.2007979641588935,
          0.6433569593034969,
          1.0050161159482753,
          0.9113687354830656,
          0.7709210678698136,
          0.8880504712923416,
          1.0303335540251806,
          0.9809012557407142,
          0.9136860495343715,
          0.7691809603231317,
          0.9629339039426424,
          0.6634749641256087,
          0.9522916535128271,
          1.126376127025351,
          1.0983238394544073,
          0.7804277625420236,
          0.8547542548912448,
          0.9028537080158833,
          1.2101523580219926,
          1.0473914518921281,
          0.9777340822194364,
          0.8028158604300962,
          0.65064774396477,
          0.4008826075558239,
          1.2834611110144352,
          1.1201391596433232,
          0.7861437231682793,
          0.9635646842919887,
          0.6559653632684197,
          0.9882887003559925,
          1.0712719005014852,
          1.1565702937578275,
          0.9895851031807739,
          1.257249215848459,
          1.0043376524639005,
          0.8633905336476047,
          1.24548920821764,
          0.6098405485830413,
          0.5512899723358169,
          0.9998434446761639,
          0.308374590578381,
          1.1090911374224435,
          1.1203644966188915,
          0.9393611152208104,
          1.0880098385754515,
          0.586311261487167,
          1.0582772842384647
         ]
        }
       ],
       "layout": {
        "template": {
         "data": {
          "bar": [
           {
            "error_x": {
             "color": "#2a3f5f"
            },
            "error_y": {
             "color": "#2a3f5f"
            },
            "marker": {
             "line": {
              "color": "#E5ECF6",
              "width": 0.5
             },
             "pattern": {
              "fillmode": "overlay",
              "size": 10,
              "solidity": 0.2
             }
            },
            "type": "bar"
           }
          ],
          "barpolar": [
           {
            "marker": {
             "line": {
              "color": "#E5ECF6",
              "width": 0.5
             },
             "pattern": {
              "fillmode": "overlay",
              "size": 10,
              "solidity": 0.2
             }
            },
            "type": "barpolar"
           }
          ],
          "carpet": [
           {
            "aaxis": {
             "endlinecolor": "#2a3f5f",
             "gridcolor": "white",
             "linecolor": "white",
             "minorgridcolor": "white",
             "startlinecolor": "#2a3f5f"
            },
            "baxis": {
             "endlinecolor": "#2a3f5f",
             "gridcolor": "white",
             "linecolor": "white",
             "minorgridcolor": "white",
             "startlinecolor": "#2a3f5f"
            },
            "type": "carpet"
           }
          ],
          "choropleth": [
           {
            "colorbar": {
             "outlinewidth": 0,
             "ticks": ""
            },
            "type": "choropleth"
           }
          ],
          "contour": [
           {
            "colorbar": {
             "outlinewidth": 0,
             "ticks": ""
            },
            "colorscale": [
             [
              0,
              "#0d0887"
             ],
             [
              0.1111111111111111,
              "#46039f"
             ],
             [
              0.2222222222222222,
              "#7201a8"
             ],
             [
              0.3333333333333333,
              "#9c179e"
             ],
             [
              0.4444444444444444,
              "#bd3786"
             ],
             [
              0.5555555555555556,
              "#d8576b"
             ],
             [
              0.6666666666666666,
              "#ed7953"
             ],
             [
              0.7777777777777778,
              "#fb9f3a"
             ],
             [
              0.8888888888888888,
              "#fdca26"
             ],
             [
              1,
              "#f0f921"
             ]
            ],
            "type": "contour"
           }
          ],
          "contourcarpet": [
           {
            "colorbar": {
             "outlinewidth": 0,
             "ticks": ""
            },
            "type": "contourcarpet"
           }
          ],
          "heatmap": [
           {
            "colorbar": {
             "outlinewidth": 0,
             "ticks": ""
            },
            "colorscale": [
             [
              0,
              "#0d0887"
             ],
             [
              0.1111111111111111,
              "#46039f"
             ],
             [
              0.2222222222222222,
              "#7201a8"
             ],
             [
              0.3333333333333333,
              "#9c179e"
             ],
             [
              0.4444444444444444,
              "#bd3786"
             ],
             [
              0.5555555555555556,
              "#d8576b"
             ],
             [
              0.6666666666666666,
              "#ed7953"
             ],
             [
              0.7777777777777778,
              "#fb9f3a"
             ],
             [
              0.8888888888888888,
              "#fdca26"
             ],
             [
              1,
              "#f0f921"
             ]
            ],
            "type": "heatmap"
           }
          ],
          "heatmapgl": [
           {
            "colorbar": {
             "outlinewidth": 0,
             "ticks": ""
            },
            "colorscale": [
             [
              0,
              "#0d0887"
             ],
             [
              0.1111111111111111,
              "#46039f"
             ],
             [
              0.2222222222222222,
              "#7201a8"
             ],
             [
              0.3333333333333333,
              "#9c179e"
             ],
             [
              0.4444444444444444,
              "#bd3786"
             ],
             [
              0.5555555555555556,
              "#d8576b"
             ],
             [
              0.6666666666666666,
              "#ed7953"
             ],
             [
              0.7777777777777778,
              "#fb9f3a"
             ],
             [
              0.8888888888888888,
              "#fdca26"
             ],
             [
              1,
              "#f0f921"
             ]
            ],
            "type": "heatmapgl"
           }
          ],
          "histogram": [
           {
            "marker": {
             "pattern": {
              "fillmode": "overlay",
              "size": 10,
              "solidity": 0.2
             }
            },
            "type": "histogram"
           }
          ],
          "histogram2d": [
           {
            "colorbar": {
             "outlinewidth": 0,
             "ticks": ""
            },
            "colorscale": [
             [
              0,
              "#0d0887"
             ],
             [
              0.1111111111111111,
              "#46039f"
             ],
             [
              0.2222222222222222,
              "#7201a8"
             ],
             [
              0.3333333333333333,
              "#9c179e"
             ],
             [
              0.4444444444444444,
              "#bd3786"
             ],
             [
              0.5555555555555556,
              "#d8576b"
             ],
             [
              0.6666666666666666,
              "#ed7953"
             ],
             [
              0.7777777777777778,
              "#fb9f3a"
             ],
             [
              0.8888888888888888,
              "#fdca26"
             ],
             [
              1,
              "#f0f921"
             ]
            ],
            "type": "histogram2d"
           }
          ],
          "histogram2dcontour": [
           {
            "colorbar": {
             "outlinewidth": 0,
             "ticks": ""
            },
            "colorscale": [
             [
              0,
              "#0d0887"
             ],
             [
              0.1111111111111111,
              "#46039f"
             ],
             [
              0.2222222222222222,
              "#7201a8"
             ],
             [
              0.3333333333333333,
              "#9c179e"
             ],
             [
              0.4444444444444444,
              "#bd3786"
             ],
             [
              0.5555555555555556,
              "#d8576b"
             ],
             [
              0.6666666666666666,
              "#ed7953"
             ],
             [
              0.7777777777777778,
              "#fb9f3a"
             ],
             [
              0.8888888888888888,
              "#fdca26"
             ],
             [
              1,
              "#f0f921"
             ]
            ],
            "type": "histogram2dcontour"
           }
          ],
          "mesh3d": [
           {
            "colorbar": {
             "outlinewidth": 0,
             "ticks": ""
            },
            "type": "mesh3d"
           }
          ],
          "parcoords": [
           {
            "line": {
             "colorbar": {
              "outlinewidth": 0,
              "ticks": ""
             }
            },
            "type": "parcoords"
           }
          ],
          "pie": [
           {
            "automargin": true,
            "type": "pie"
           }
          ],
          "scatter": [
           {
            "fillpattern": {
             "fillmode": "overlay",
             "size": 10,
             "solidity": 0.2
            },
            "type": "scatter"
           }
          ],
          "scatter3d": [
           {
            "line": {
             "colorbar": {
              "outlinewidth": 0,
              "ticks": ""
             }
            },
            "marker": {
             "colorbar": {
              "outlinewidth": 0,
              "ticks": ""
             }
            },
            "type": "scatter3d"
           }
          ],
          "scattercarpet": [
           {
            "marker": {
             "colorbar": {
              "outlinewidth": 0,
              "ticks": ""
             }
            },
            "type": "scattercarpet"
           }
          ],
          "scattergeo": [
           {
            "marker": {
             "colorbar": {
              "outlinewidth": 0,
              "ticks": ""
             }
            },
            "type": "scattergeo"
           }
          ],
          "scattergl": [
           {
            "marker": {
             "colorbar": {
              "outlinewidth": 0,
              "ticks": ""
             }
            },
            "type": "scattergl"
           }
          ],
          "scattermapbox": [
           {
            "marker": {
             "colorbar": {
              "outlinewidth": 0,
              "ticks": ""
             }
            },
            "type": "scattermapbox"
           }
          ],
          "scatterpolar": [
           {
            "marker": {
             "colorbar": {
              "outlinewidth": 0,
              "ticks": ""
             }
            },
            "type": "scatterpolar"
           }
          ],
          "scatterpolargl": [
           {
            "marker": {
             "colorbar": {
              "outlinewidth": 0,
              "ticks": ""
             }
            },
            "type": "scatterpolargl"
           }
          ],
          "scatterternary": [
           {
            "marker": {
             "colorbar": {
              "outlinewidth": 0,
              "ticks": ""
             }
            },
            "type": "scatterternary"
           }
          ],
          "surface": [
           {
            "colorbar": {
             "outlinewidth": 0,
             "ticks": ""
            },
            "colorscale": [
             [
              0,
              "#0d0887"
             ],
             [
              0.1111111111111111,
              "#46039f"
             ],
             [
              0.2222222222222222,
              "#7201a8"
             ],
             [
              0.3333333333333333,
              "#9c179e"
             ],
             [
              0.4444444444444444,
              "#bd3786"
             ],
             [
              0.5555555555555556,
              "#d8576b"
             ],
             [
              0.6666666666666666,
              "#ed7953"
             ],
             [
              0.7777777777777778,
              "#fb9f3a"
             ],
             [
              0.8888888888888888,
              "#fdca26"
             ],
             [
              1,
              "#f0f921"
             ]
            ],
            "type": "surface"
           }
          ],
          "table": [
           {
            "cells": {
             "fill": {
              "color": "#EBF0F8"
             },
             "line": {
              "color": "white"
             }
            },
            "header": {
             "fill": {
              "color": "#C8D4E3"
             },
             "line": {
              "color": "white"
             }
            },
            "type": "table"
           }
          ]
         },
         "layout": {
          "annotationdefaults": {
           "arrowcolor": "#2a3f5f",
           "arrowhead": 0,
           "arrowwidth": 1
          },
          "autotypenumbers": "strict",
          "coloraxis": {
           "colorbar": {
            "outlinewidth": 0,
            "ticks": ""
           }
          },
          "colorscale": {
           "diverging": [
            [
             0,
             "#8e0152"
            ],
            [
             0.1,
             "#c51b7d"
            ],
            [
             0.2,
             "#de77ae"
            ],
            [
             0.3,
             "#f1b6da"
            ],
            [
             0.4,
             "#fde0ef"
            ],
            [
             0.5,
             "#f7f7f7"
            ],
            [
             0.6,
             "#e6f5d0"
            ],
            [
             0.7,
             "#b8e186"
            ],
            [
             0.8,
             "#7fbc41"
            ],
            [
             0.9,
             "#4d9221"
            ],
            [
             1,
             "#276419"
            ]
           ],
           "sequential": [
            [
             0,
             "#0d0887"
            ],
            [
             0.1111111111111111,
             "#46039f"
            ],
            [
             0.2222222222222222,
             "#7201a8"
            ],
            [
             0.3333333333333333,
             "#9c179e"
            ],
            [
             0.4444444444444444,
             "#bd3786"
            ],
            [
             0.5555555555555556,
             "#d8576b"
            ],
            [
             0.6666666666666666,
             "#ed7953"
            ],
            [
             0.7777777777777778,
             "#fb9f3a"
            ],
            [
             0.8888888888888888,
             "#fdca26"
            ],
            [
             1,
             "#f0f921"
            ]
           ],
           "sequentialminus": [
            [
             0,
             "#0d0887"
            ],
            [
             0.1111111111111111,
             "#46039f"
            ],
            [
             0.2222222222222222,
             "#7201a8"
            ],
            [
             0.3333333333333333,
             "#9c179e"
            ],
            [
             0.4444444444444444,
             "#bd3786"
            ],
            [
             0.5555555555555556,
             "#d8576b"
            ],
            [
             0.6666666666666666,
             "#ed7953"
            ],
            [
             0.7777777777777778,
             "#fb9f3a"
            ],
            [
             0.8888888888888888,
             "#fdca26"
            ],
            [
             1,
             "#f0f921"
            ]
           ]
          },
          "colorway": [
           "#636efa",
           "#EF553B",
           "#00cc96",
           "#ab63fa",
           "#FFA15A",
           "#19d3f3",
           "#FF6692",
           "#B6E880",
           "#FF97FF",
           "#FECB52"
          ],
          "font": {
           "color": "#2a3f5f"
          },
          "geo": {
           "bgcolor": "white",
           "lakecolor": "white",
           "landcolor": "#E5ECF6",
           "showlakes": true,
           "showland": true,
           "subunitcolor": "white"
          },
          "hoverlabel": {
           "align": "left"
          },
          "hovermode": "closest",
          "mapbox": {
           "style": "light"
          },
          "paper_bgcolor": "white",
          "plot_bgcolor": "#E5ECF6",
          "polar": {
           "angularaxis": {
            "gridcolor": "white",
            "linecolor": "white",
            "ticks": ""
           },
           "bgcolor": "#E5ECF6",
           "radialaxis": {
            "gridcolor": "white",
            "linecolor": "white",
            "ticks": ""
           }
          },
          "scene": {
           "xaxis": {
            "backgroundcolor": "#E5ECF6",
            "gridcolor": "white",
            "gridwidth": 2,
            "linecolor": "white",
            "showbackground": true,
            "ticks": "",
            "zerolinecolor": "white"
           },
           "yaxis": {
            "backgroundcolor": "#E5ECF6",
            "gridcolor": "white",
            "gridwidth": 2,
            "linecolor": "white",
            "showbackground": true,
            "ticks": "",
            "zerolinecolor": "white"
           },
           "zaxis": {
            "backgroundcolor": "#E5ECF6",
            "gridcolor": "white",
            "gridwidth": 2,
            "linecolor": "white",
            "showbackground": true,
            "ticks": "",
            "zerolinecolor": "white"
           }
          },
          "shapedefaults": {
           "line": {
            "color": "#2a3f5f"
           }
          },
          "ternary": {
           "aaxis": {
            "gridcolor": "white",
            "linecolor": "white",
            "ticks": ""
           },
           "baxis": {
            "gridcolor": "white",
            "linecolor": "white",
            "ticks": ""
           },
           "bgcolor": "#E5ECF6",
           "caxis": {
            "gridcolor": "white",
            "linecolor": "white",
            "ticks": ""
           }
          },
          "title": {
           "x": 0.05
          },
          "xaxis": {
           "automargin": true,
           "gridcolor": "white",
           "linecolor": "white",
           "ticks": "",
           "title": {
            "standoff": 15
           },
           "zerolinecolor": "white",
           "zerolinewidth": 2
          },
          "yaxis": {
           "automargin": true,
           "gridcolor": "white",
           "linecolor": "white",
           "ticks": "",
           "title": {
            "standoff": 15
           },
           "zerolinecolor": "white",
           "zerolinewidth": 2
          }
         }
        },
        "xaxis": {
         "title": {
          "text": "Value"
         }
        },
        "yaxis": {
         "title": {
          "text": "Count"
         }
        }
       }
      }
     },
     "metadata": {},
     "output_type": "display_data"
    }
   ],
   "source": [
    "# plot population distribution\n",
    "plot_hist(pop_data,filesave=file_pop)"
   ]
  },
  {
   "cell_type": "code",
   "execution_count": 45,
   "metadata": {},
   "outputs": [],
   "source": [
    "ch_size = list(set([res1.chunk_size for res1 in res]))\n",
    "exp_l = []\n",
    "exp_r = []\n",
    "exp_range = []\n",
    "nlearn = []\n",
    "name_l = []\n",
    "name_r = []\n",
    "for size in ch_size:\n",
    "    name_l.append(['min_'+res1.net_name+str(size) for res1 in res if res1.chunk_size==size])\n",
    "    name_r.append(['max_'+res1.net_name+str(size) for res1 in res if res1.chunk_size==size])\n",
    "    exp_l.append([res1.exp_l for res1 in res if res1.chunk_size==size])\n",
    "    exp_r.append([res1.exp_r for res1 in res if res1.chunk_size==size])\n",
    "    exp_range.append([res1.exp_range for res1 in res if res1.chunk_size==size])\n",
    "    \n",
    "    nlearn.append([[a+b for a,b in zip(res1.nlearnl,res1.nlearnr)] for res1 in res if res1.chunk_size==size])\n",
    "    "
   ]
  },
  {
   "cell_type": "code",
   "execution_count": 46,
   "metadata": {},
   "outputs": [],
   "source": [
    "error_l = []\n",
    "error_r = []\n",
    "error_range = []\n",
    "name = []\n",
    "for size in ch_size:\n",
    "    name.append([res1.net_name+str(size) for res1 in res if res1.chunk_size==size])\n",
    "    error_l.append([list(map(lambda x: pop_min - x, res1.exp_l)) for res1 in res if res1.chunk_size==size])\n",
    "    error_r.append([list(map(lambda x: pop_max - x, res1.exp_r)) for res1 in res if res1.chunk_size==size])\n",
    "    error_range.append([list(map(lambda x: pop_range - x, res1.exp_range)) for res1 in res if res1.chunk_size==size])    "
   ]
  },
  {
   "cell_type": "code",
   "execution_count": 47,
   "metadata": {},
   "outputs": [
    {
     "data": {
      "application/vnd.plotly.v1+json": {
       "config": {
        "plotlyServerURL": "https://plot.ly"
       },
       "data": [
        {
         "line": {
          "color": "brown"
         },
         "mode": "lines+markers",
         "name": "min_online50",
         "type": "scatter",
         "x": [
          0,
          1,
          2,
          3,
          4,
          5,
          6,
          7,
          8,
          9,
          10,
          11,
          12,
          13,
          14,
          15,
          16,
          17,
          18,
          19,
          20,
          21,
          22,
          23,
          24,
          25,
          26,
          27,
          28,
          29,
          30,
          31,
          32,
          33,
          34,
          35,
          36,
          37,
          38,
          39,
          40,
          41,
          42,
          43,
          44,
          45,
          46,
          47,
          48,
          49,
          50,
          51,
          52,
          53,
          54,
          55,
          56,
          57,
          58,
          59
         ],
         "y": [
          0.3559774384949263,
          0.3559774384949263,
          0.3559774384949263,
          0.3559774384949263,
          0.3559774384949263,
          0.3559774384949263,
          0.3559774384949263,
          0.3559774384949263,
          0.3559774384949263,
          0.3559774384949263,
          0.3559774384949263,
          0.3559774384949263,
          0.3559774384949263,
          0.3559774384949263,
          0.3559774384949263,
          0.3559774384949263,
          0.34365553524064,
          0.34365553524064,
          0.29270043245044935,
          0.2661658442903598,
          0.2661658442903598,
          0.2661658442903598,
          0.2661658442903598,
          0.2661658442903598,
          0.2661658442903598,
          0.2661658442903598,
          0.2661658442903598,
          0.2661658442903598,
          0.2661658442903598,
          0.2661658442903598,
          0.2661658442903598,
          0.2661658442903598,
          0.2661658442903598,
          0.2661658442903598,
          0.2661658442903598,
          0.2661658442903598,
          0.2661658442903598,
          0.2661658442903598,
          0.2661658442903598,
          0.2661658442903598,
          0.2661658442903598,
          0.2661658442903598,
          0.2661658442903598,
          0.2661658442903598,
          0.2661658442903598,
          0.26151118456198386,
          0.26151118456198386,
          0.26151118456198386,
          0.26151118456198386,
          0.26151118456198386,
          0.26151118456198386,
          0.1960034876693143,
          0.1960034876693143,
          0.1960034876693143,
          0.1960034876693143,
          0.1960034876693143,
          0.1960034876693143,
          0.1960034876693143,
          0.1861485854035347,
          0.1861485854035347
         ]
        },
        {
         "line": {
          "color": "brown"
         },
         "mode": "lines+markers",
         "name": "max_online50",
         "type": "scatter",
         "x": [
          0,
          1,
          2,
          3,
          4,
          5,
          6,
          7,
          8,
          9,
          10,
          11,
          12,
          13,
          14,
          15,
          16,
          17,
          18,
          19,
          20,
          21,
          22,
          23,
          24,
          25,
          26,
          27,
          28,
          29,
          30,
          31,
          32,
          33,
          34,
          35,
          36,
          37,
          38,
          39,
          40,
          41,
          42,
          43,
          44,
          45,
          46,
          47,
          48,
          49,
          50,
          51,
          52,
          53,
          54,
          55,
          56,
          57,
          58,
          59
         ],
         "y": [
          1.2623071386228726,
          1.4056487296818154,
          1.4056487296818154,
          1.4056487296818154,
          1.4056487296818154,
          1.4056487296818154,
          1.4056487296818154,
          1.4056487296818154,
          1.45065839290875,
          1.45065839290875,
          1.45065839290875,
          1.45065839290875,
          1.45065839290875,
          1.45065839290875,
          1.45065839290875,
          1.463722675538613,
          1.463722675538613,
          1.463722675538613,
          1.463722675538613,
          1.463722675538613,
          1.463722675538613,
          1.463722675538613,
          1.463722675538613,
          1.463722675538613,
          1.463722675538613,
          1.463722675538613,
          1.463722675538613,
          1.463722675538613,
          1.463722675538613,
          1.463722675538613,
          1.463722675538613,
          1.463722675538613,
          1.463722675538613,
          1.5384292511222588,
          1.5384292511222588,
          1.5384292511222588,
          1.5384292511222588,
          1.5384292511222588,
          1.5384292511222588,
          1.5384292511222588,
          1.5384292511222588,
          1.5384292511222588,
          1.5384292511222588,
          1.5384292511222588,
          1.5384292511222588,
          1.5384292511222588,
          1.5384292511222588,
          1.5384292511222588,
          1.5384292511222588,
          1.5384292511222588,
          1.5384292511222588,
          1.5384292511222588,
          1.5384292511222588,
          1.5384292511222588,
          1.5384292511222588,
          1.5384292511222588,
          1.5384292511222588,
          1.5384292511222588,
          1.5404179177968038,
          1.5404179177968038
         ]
        },
        {
         "line": {
          "color": "blue"
         },
         "mode": "lines+markers",
         "name": "min_online_mm50",
         "type": "scatter",
         "x": [
          0,
          1,
          2,
          3,
          4,
          5,
          6,
          7,
          8,
          9,
          10,
          11,
          12,
          13,
          14,
          15,
          16,
          17,
          18,
          19,
          20,
          21,
          22,
          23,
          24,
          25,
          26,
          27,
          28,
          29,
          30,
          31,
          32,
          33,
          34,
          35,
          36,
          37,
          38,
          39,
          40,
          41,
          42,
          43,
          44,
          45,
          46,
          47,
          48,
          49,
          50,
          51,
          52,
          53,
          54,
          55,
          56,
          57,
          58,
          59
         ],
         "y": [
          0.3568402774109423,
          0.3568402774109423,
          0.3568402774109423,
          0.3568402774109423,
          0.3568402774109423,
          0.3568402774109423,
          0.3568402774109423,
          0.3568402774109423,
          0.3568402774109423,
          0.3568402774109423,
          0.3568402774109423,
          0.3568402774109423,
          0.3568402774109423,
          0.3568402774109423,
          0.3568402774109423,
          0.3568402774109423,
          0.3540318590276572,
          0.3540318590276572,
          0.31661723487780147,
          0.30254082318040254,
          0.30254082318040254,
          0.30254082318040254,
          0.30254082318040254,
          0.30254082318040254,
          0.30254082318040254,
          0.30254082318040254,
          0.30254082318040254,
          0.30254082318040254,
          0.30254082318040254,
          0.30254082318040254,
          0.30254082318040254,
          0.30205439427717445,
          0.30205439427717445,
          0.30205439427717445,
          0.30205439427717445,
          0.30205439427717445,
          0.30205439427717445,
          0.30205439427717445,
          0.30205439427717445,
          0.30205439427717445,
          0.30205439427717445,
          0.30205439427717445,
          0.30205439427717445,
          0.30205439427717445,
          0.30205439427717445,
          0.29999067260150675,
          0.29999067260150675,
          0.29999067260150675,
          0.29999067260150675,
          0.29999067260150675,
          0.29999067260150675,
          0.24852579300583083,
          0.24852579300583083,
          0.24852579300583083,
          0.24852579300583083,
          0.24852579300583083,
          0.24852579300583083,
          0.24852579300583083,
          0.1861485854035347,
          0.1861485854035347
         ]
        },
        {
         "line": {
          "color": "blue"
         },
         "mode": "lines+markers",
         "name": "max_online_mm50",
         "type": "scatter",
         "x": [
          0,
          1,
          2,
          3,
          4,
          5,
          6,
          7,
          8,
          9,
          10,
          11,
          12,
          13,
          14,
          15,
          16,
          17,
          18,
          19,
          20,
          21,
          22,
          23,
          24,
          25,
          26,
          27,
          28,
          29,
          30,
          31,
          32,
          33,
          34,
          35,
          36,
          37,
          38,
          39,
          40,
          41,
          42,
          43,
          44,
          45,
          46,
          47,
          48,
          49,
          50,
          51,
          52,
          53,
          54,
          55,
          56,
          57,
          58,
          59
         ],
         "y": [
          1.262195113803914,
          1.3574239149577758,
          1.3574239149577758,
          1.3574239149577758,
          1.3574239149577758,
          1.3574239149577758,
          1.3574239149577758,
          1.3574239149577758,
          1.404518119784317,
          1.404518119784317,
          1.404518119784317,
          1.404518119784317,
          1.404518119784317,
          1.404518119784317,
          1.404518119784317,
          1.4390323812206887,
          1.4390323812206887,
          1.4390323812206887,
          1.4390323812206887,
          1.4390323812206887,
          1.4390323812206887,
          1.4390323812206887,
          1.4390323812206887,
          1.4390323812206887,
          1.4390323812206887,
          1.4390323812206887,
          1.4390323812206887,
          1.4390323812206887,
          1.4390323812206887,
          1.4390323812206887,
          1.4390323812206887,
          1.4390323812206887,
          1.4390323812206887,
          1.4942969152763068,
          1.4942969152763068,
          1.4942969152763068,
          1.4942969152763068,
          1.4942969152763068,
          1.4942969152763068,
          1.4942969152763068,
          1.4942969152763068,
          1.4942969152763068,
          1.4942969152763068,
          1.4942969152763068,
          1.4942969152763068,
          1.4942969152763068,
          1.4942969152763068,
          1.4942969152763068,
          1.4942969152763068,
          1.4942969152763068,
          1.4942969152763068,
          1.4942969152763068,
          1.4942969152763068,
          1.4942969152763068,
          1.4942969152763068,
          1.4942969152763068,
          1.4942969152763068,
          1.4942969152763068,
          1.4942969152763068,
          1.4942969152763068
         ]
        },
        {
         "line": {
          "color": "green"
         },
         "mode": "lines+markers",
         "name": "min_offline50",
         "type": "scatter",
         "x": [
          0,
          1,
          2,
          3,
          4,
          5,
          6,
          7,
          8,
          9,
          10,
          11,
          12,
          13,
          14,
          15,
          16,
          17,
          18,
          19,
          20,
          21,
          22,
          23,
          24,
          25,
          26,
          27,
          28,
          29,
          30,
          31,
          32,
          33,
          34,
          35,
          36,
          37,
          38,
          39,
          40,
          41,
          42,
          43,
          44,
          45,
          46,
          47,
          48,
          49,
          50,
          51,
          52,
          53,
          54,
          55,
          56,
          57,
          58,
          59
         ],
         "y": [
          0.3888591134891313,
          0.3932264702614547,
          0.3857916773211654,
          0.37911942860757314,
          0.3668638561725394,
          0.36632445275696246,
          0.3667994803545009,
          0.36597380182863515,
          0.3658083129519213,
          0.3640914036161495,
          0.36260168943834503,
          0.36329463987620403,
          0.3623638276157579,
          0.36286559727515216,
          0.3625014854929599,
          0.3630327808835272,
          0.3511228409036141,
          0.35135553761178645,
          0.31410700448939527,
          0.28570733528844744,
          0.28587552592451276,
          0.28428589707019947,
          0.2844400501329084,
          0.2756101661057107,
          0.27432974479440486,
          0.27775164713415884,
          0.27511605044276316,
          0.2747501895207676,
          0.2754838345474451,
          0.2758310775943867,
          0.27599260476677523,
          0.27046243504589,
          0.2698549779719603,
          0.27036084160317436,
          0.26991026556227493,
          0.26978346416792465,
          0.2698911899869744,
          0.26976565763275334,
          0.2697225301634587,
          0.2694588906703,
          0.2694994575148133,
          0.2698345776457166,
          0.26954951810621725,
          0.26969330200929525,
          0.26937398948136493,
          0.2651678658164357,
          0.2653156329645854,
          0.26568952906003385,
          0.265312654745305,
          0.26564047741089764,
          0.26535429085528867,
          0.22275795173860233,
          0.2205418536128078,
          0.22154530847184162,
          0.21959410302460872,
          0.21989653480333346,
          0.22275602327402064,
          0.22064551826440193,
          0.19982813356229445,
          0.19989484502903604
         ]
        },
        {
         "line": {
          "color": "green"
         },
         "mode": "lines+markers",
         "name": "max_offline50",
         "type": "scatter",
         "x": [
          0,
          1,
          2,
          3,
          4,
          5,
          6,
          7,
          8,
          9,
          10,
          11,
          12,
          13,
          14,
          15,
          16,
          17,
          18,
          19,
          20,
          21,
          22,
          23,
          24,
          25,
          26,
          27,
          28,
          29,
          30,
          31,
          32,
          33,
          34,
          35,
          36,
          37,
          38,
          39,
          40,
          41,
          42,
          43,
          44,
          45,
          46,
          47,
          48,
          49,
          50,
          51,
          52,
          53,
          54,
          55,
          56,
          57,
          58,
          59
         ],
         "y": [
          1.256038035388689,
          1.378819757310349,
          1.3853011761830223,
          1.3855880900434208,
          1.3852061434491925,
          1.3853946907221912,
          1.3872749737718997,
          1.3954484025503826,
          1.4384872502529198,
          1.4402656767951258,
          1.440171845234865,
          1.440867404975591,
          1.4399786304827698,
          1.4400889797434888,
          1.440142661401816,
          1.4548145491462534,
          1.4551237424734031,
          1.4548953650077068,
          1.4542644614860762,
          1.4540668269505903,
          1.4548979823997397,
          1.4550750006484297,
          1.455001271723287,
          1.4565441258967706,
          1.4557720683205113,
          1.4555242866107767,
          1.4565656049830507,
          1.455720578454004,
          1.457724751737565,
          1.45737588017291,
          1.4576377700847458,
          1.4583721874262863,
          1.4575199362497449,
          1.5078424488098836,
          1.5087408797491386,
          1.5088168891121938,
          1.5072950951666917,
          1.5091398974996257,
          1.506504610495954,
          1.5072904651089527,
          1.509366284011693,
          1.5100159609354684,
          1.510077630048393,
          1.5081160385995567,
          1.5098375978713163,
          1.5074532460280128,
          1.5111164073866854,
          1.5087540698956121,
          1.5087944813351397,
          1.5110184600183072,
          1.5067487049862698,
          1.5104175873074885,
          1.5098568835495791,
          1.5069150810437901,
          1.5103413146569817,
          1.5093706352864205,
          1.5101315483848967,
          1.5088902510153963,
          1.5108780594942215,
          1.502689731210349
         ]
        },
        {
         "line": {
          "color": "grey",
          "dash": "dash"
         },
         "mode": "lines",
         "name": "min pop: 0.1104",
         "type": "scatter",
         "x": [
          0,
          59
         ],
         "y": [
          0.11040704538272941,
          0.11040704538272941
         ]
        },
        {
         "line": {
          "color": "grey",
          "dash": "dash"
         },
         "mode": "lines",
         "name": "max pop: 1.5735",
         "type": "scatter",
         "x": [
          0,
          59
         ],
         "y": [
          1.573456738819913,
          1.573456738819913
         ]
        }
       ],
       "layout": {
        "legend": {
         "title": {
          "text": "Lines"
         }
        },
        "template": {
         "data": {
          "bar": [
           {
            "error_x": {
             "color": "#2a3f5f"
            },
            "error_y": {
             "color": "#2a3f5f"
            },
            "marker": {
             "line": {
              "color": "#E5ECF6",
              "width": 0.5
             },
             "pattern": {
              "fillmode": "overlay",
              "size": 10,
              "solidity": 0.2
             }
            },
            "type": "bar"
           }
          ],
          "barpolar": [
           {
            "marker": {
             "line": {
              "color": "#E5ECF6",
              "width": 0.5
             },
             "pattern": {
              "fillmode": "overlay",
              "size": 10,
              "solidity": 0.2
             }
            },
            "type": "barpolar"
           }
          ],
          "carpet": [
           {
            "aaxis": {
             "endlinecolor": "#2a3f5f",
             "gridcolor": "white",
             "linecolor": "white",
             "minorgridcolor": "white",
             "startlinecolor": "#2a3f5f"
            },
            "baxis": {
             "endlinecolor": "#2a3f5f",
             "gridcolor": "white",
             "linecolor": "white",
             "minorgridcolor": "white",
             "startlinecolor": "#2a3f5f"
            },
            "type": "carpet"
           }
          ],
          "choropleth": [
           {
            "colorbar": {
             "outlinewidth": 0,
             "ticks": ""
            },
            "type": "choropleth"
           }
          ],
          "contour": [
           {
            "colorbar": {
             "outlinewidth": 0,
             "ticks": ""
            },
            "colorscale": [
             [
              0,
              "#0d0887"
             ],
             [
              0.1111111111111111,
              "#46039f"
             ],
             [
              0.2222222222222222,
              "#7201a8"
             ],
             [
              0.3333333333333333,
              "#9c179e"
             ],
             [
              0.4444444444444444,
              "#bd3786"
             ],
             [
              0.5555555555555556,
              "#d8576b"
             ],
             [
              0.6666666666666666,
              "#ed7953"
             ],
             [
              0.7777777777777778,
              "#fb9f3a"
             ],
             [
              0.8888888888888888,
              "#fdca26"
             ],
             [
              1,
              "#f0f921"
             ]
            ],
            "type": "contour"
           }
          ],
          "contourcarpet": [
           {
            "colorbar": {
             "outlinewidth": 0,
             "ticks": ""
            },
            "type": "contourcarpet"
           }
          ],
          "heatmap": [
           {
            "colorbar": {
             "outlinewidth": 0,
             "ticks": ""
            },
            "colorscale": [
             [
              0,
              "#0d0887"
             ],
             [
              0.1111111111111111,
              "#46039f"
             ],
             [
              0.2222222222222222,
              "#7201a8"
             ],
             [
              0.3333333333333333,
              "#9c179e"
             ],
             [
              0.4444444444444444,
              "#bd3786"
             ],
             [
              0.5555555555555556,
              "#d8576b"
             ],
             [
              0.6666666666666666,
              "#ed7953"
             ],
             [
              0.7777777777777778,
              "#fb9f3a"
             ],
             [
              0.8888888888888888,
              "#fdca26"
             ],
             [
              1,
              "#f0f921"
             ]
            ],
            "type": "heatmap"
           }
          ],
          "heatmapgl": [
           {
            "colorbar": {
             "outlinewidth": 0,
             "ticks": ""
            },
            "colorscale": [
             [
              0,
              "#0d0887"
             ],
             [
              0.1111111111111111,
              "#46039f"
             ],
             [
              0.2222222222222222,
              "#7201a8"
             ],
             [
              0.3333333333333333,
              "#9c179e"
             ],
             [
              0.4444444444444444,
              "#bd3786"
             ],
             [
              0.5555555555555556,
              "#d8576b"
             ],
             [
              0.6666666666666666,
              "#ed7953"
             ],
             [
              0.7777777777777778,
              "#fb9f3a"
             ],
             [
              0.8888888888888888,
              "#fdca26"
             ],
             [
              1,
              "#f0f921"
             ]
            ],
            "type": "heatmapgl"
           }
          ],
          "histogram": [
           {
            "marker": {
             "pattern": {
              "fillmode": "overlay",
              "size": 10,
              "solidity": 0.2
             }
            },
            "type": "histogram"
           }
          ],
          "histogram2d": [
           {
            "colorbar": {
             "outlinewidth": 0,
             "ticks": ""
            },
            "colorscale": [
             [
              0,
              "#0d0887"
             ],
             [
              0.1111111111111111,
              "#46039f"
             ],
             [
              0.2222222222222222,
              "#7201a8"
             ],
             [
              0.3333333333333333,
              "#9c179e"
             ],
             [
              0.4444444444444444,
              "#bd3786"
             ],
             [
              0.5555555555555556,
              "#d8576b"
             ],
             [
              0.6666666666666666,
              "#ed7953"
             ],
             [
              0.7777777777777778,
              "#fb9f3a"
             ],
             [
              0.8888888888888888,
              "#fdca26"
             ],
             [
              1,
              "#f0f921"
             ]
            ],
            "type": "histogram2d"
           }
          ],
          "histogram2dcontour": [
           {
            "colorbar": {
             "outlinewidth": 0,
             "ticks": ""
            },
            "colorscale": [
             [
              0,
              "#0d0887"
             ],
             [
              0.1111111111111111,
              "#46039f"
             ],
             [
              0.2222222222222222,
              "#7201a8"
             ],
             [
              0.3333333333333333,
              "#9c179e"
             ],
             [
              0.4444444444444444,
              "#bd3786"
             ],
             [
              0.5555555555555556,
              "#d8576b"
             ],
             [
              0.6666666666666666,
              "#ed7953"
             ],
             [
              0.7777777777777778,
              "#fb9f3a"
             ],
             [
              0.8888888888888888,
              "#fdca26"
             ],
             [
              1,
              "#f0f921"
             ]
            ],
            "type": "histogram2dcontour"
           }
          ],
          "mesh3d": [
           {
            "colorbar": {
             "outlinewidth": 0,
             "ticks": ""
            },
            "type": "mesh3d"
           }
          ],
          "parcoords": [
           {
            "line": {
             "colorbar": {
              "outlinewidth": 0,
              "ticks": ""
             }
            },
            "type": "parcoords"
           }
          ],
          "pie": [
           {
            "automargin": true,
            "type": "pie"
           }
          ],
          "scatter": [
           {
            "fillpattern": {
             "fillmode": "overlay",
             "size": 10,
             "solidity": 0.2
            },
            "type": "scatter"
           }
          ],
          "scatter3d": [
           {
            "line": {
             "colorbar": {
              "outlinewidth": 0,
              "ticks": ""
             }
            },
            "marker": {
             "colorbar": {
              "outlinewidth": 0,
              "ticks": ""
             }
            },
            "type": "scatter3d"
           }
          ],
          "scattercarpet": [
           {
            "marker": {
             "colorbar": {
              "outlinewidth": 0,
              "ticks": ""
             }
            },
            "type": "scattercarpet"
           }
          ],
          "scattergeo": [
           {
            "marker": {
             "colorbar": {
              "outlinewidth": 0,
              "ticks": ""
             }
            },
            "type": "scattergeo"
           }
          ],
          "scattergl": [
           {
            "marker": {
             "colorbar": {
              "outlinewidth": 0,
              "ticks": ""
             }
            },
            "type": "scattergl"
           }
          ],
          "scattermapbox": [
           {
            "marker": {
             "colorbar": {
              "outlinewidth": 0,
              "ticks": ""
             }
            },
            "type": "scattermapbox"
           }
          ],
          "scatterpolar": [
           {
            "marker": {
             "colorbar": {
              "outlinewidth": 0,
              "ticks": ""
             }
            },
            "type": "scatterpolar"
           }
          ],
          "scatterpolargl": [
           {
            "marker": {
             "colorbar": {
              "outlinewidth": 0,
              "ticks": ""
             }
            },
            "type": "scatterpolargl"
           }
          ],
          "scatterternary": [
           {
            "marker": {
             "colorbar": {
              "outlinewidth": 0,
              "ticks": ""
             }
            },
            "type": "scatterternary"
           }
          ],
          "surface": [
           {
            "colorbar": {
             "outlinewidth": 0,
             "ticks": ""
            },
            "colorscale": [
             [
              0,
              "#0d0887"
             ],
             [
              0.1111111111111111,
              "#46039f"
             ],
             [
              0.2222222222222222,
              "#7201a8"
             ],
             [
              0.3333333333333333,
              "#9c179e"
             ],
             [
              0.4444444444444444,
              "#bd3786"
             ],
             [
              0.5555555555555556,
              "#d8576b"
             ],
             [
              0.6666666666666666,
              "#ed7953"
             ],
             [
              0.7777777777777778,
              "#fb9f3a"
             ],
             [
              0.8888888888888888,
              "#fdca26"
             ],
             [
              1,
              "#f0f921"
             ]
            ],
            "type": "surface"
           }
          ],
          "table": [
           {
            "cells": {
             "fill": {
              "color": "#EBF0F8"
             },
             "line": {
              "color": "white"
             }
            },
            "header": {
             "fill": {
              "color": "#C8D4E3"
             },
             "line": {
              "color": "white"
             }
            },
            "type": "table"
           }
          ]
         },
         "layout": {
          "annotationdefaults": {
           "arrowcolor": "#2a3f5f",
           "arrowhead": 0,
           "arrowwidth": 1
          },
          "autotypenumbers": "strict",
          "coloraxis": {
           "colorbar": {
            "outlinewidth": 0,
            "ticks": ""
           }
          },
          "colorscale": {
           "diverging": [
            [
             0,
             "#8e0152"
            ],
            [
             0.1,
             "#c51b7d"
            ],
            [
             0.2,
             "#de77ae"
            ],
            [
             0.3,
             "#f1b6da"
            ],
            [
             0.4,
             "#fde0ef"
            ],
            [
             0.5,
             "#f7f7f7"
            ],
            [
             0.6,
             "#e6f5d0"
            ],
            [
             0.7,
             "#b8e186"
            ],
            [
             0.8,
             "#7fbc41"
            ],
            [
             0.9,
             "#4d9221"
            ],
            [
             1,
             "#276419"
            ]
           ],
           "sequential": [
            [
             0,
             "#0d0887"
            ],
            [
             0.1111111111111111,
             "#46039f"
            ],
            [
             0.2222222222222222,
             "#7201a8"
            ],
            [
             0.3333333333333333,
             "#9c179e"
            ],
            [
             0.4444444444444444,
             "#bd3786"
            ],
            [
             0.5555555555555556,
             "#d8576b"
            ],
            [
             0.6666666666666666,
             "#ed7953"
            ],
            [
             0.7777777777777778,
             "#fb9f3a"
            ],
            [
             0.8888888888888888,
             "#fdca26"
            ],
            [
             1,
             "#f0f921"
            ]
           ],
           "sequentialminus": [
            [
             0,
             "#0d0887"
            ],
            [
             0.1111111111111111,
             "#46039f"
            ],
            [
             0.2222222222222222,
             "#7201a8"
            ],
            [
             0.3333333333333333,
             "#9c179e"
            ],
            [
             0.4444444444444444,
             "#bd3786"
            ],
            [
             0.5555555555555556,
             "#d8576b"
            ],
            [
             0.6666666666666666,
             "#ed7953"
            ],
            [
             0.7777777777777778,
             "#fb9f3a"
            ],
            [
             0.8888888888888888,
             "#fdca26"
            ],
            [
             1,
             "#f0f921"
            ]
           ]
          },
          "colorway": [
           "#636efa",
           "#EF553B",
           "#00cc96",
           "#ab63fa",
           "#FFA15A",
           "#19d3f3",
           "#FF6692",
           "#B6E880",
           "#FF97FF",
           "#FECB52"
          ],
          "font": {
           "color": "#2a3f5f"
          },
          "geo": {
           "bgcolor": "white",
           "lakecolor": "white",
           "landcolor": "#E5ECF6",
           "showlakes": true,
           "showland": true,
           "subunitcolor": "white"
          },
          "hoverlabel": {
           "align": "left"
          },
          "hovermode": "closest",
          "mapbox": {
           "style": "light"
          },
          "paper_bgcolor": "white",
          "plot_bgcolor": "#E5ECF6",
          "polar": {
           "angularaxis": {
            "gridcolor": "white",
            "linecolor": "white",
            "ticks": ""
           },
           "bgcolor": "#E5ECF6",
           "radialaxis": {
            "gridcolor": "white",
            "linecolor": "white",
            "ticks": ""
           }
          },
          "scene": {
           "xaxis": {
            "backgroundcolor": "#E5ECF6",
            "gridcolor": "white",
            "gridwidth": 2,
            "linecolor": "white",
            "showbackground": true,
            "ticks": "",
            "zerolinecolor": "white"
           },
           "yaxis": {
            "backgroundcolor": "#E5ECF6",
            "gridcolor": "white",
            "gridwidth": 2,
            "linecolor": "white",
            "showbackground": true,
            "ticks": "",
            "zerolinecolor": "white"
           },
           "zaxis": {
            "backgroundcolor": "#E5ECF6",
            "gridcolor": "white",
            "gridwidth": 2,
            "linecolor": "white",
            "showbackground": true,
            "ticks": "",
            "zerolinecolor": "white"
           }
          },
          "shapedefaults": {
           "line": {
            "color": "#2a3f5f"
           }
          },
          "ternary": {
           "aaxis": {
            "gridcolor": "white",
            "linecolor": "white",
            "ticks": ""
           },
           "baxis": {
            "gridcolor": "white",
            "linecolor": "white",
            "ticks": ""
           },
           "bgcolor": "#E5ECF6",
           "caxis": {
            "gridcolor": "white",
            "linecolor": "white",
            "ticks": ""
           }
          },
          "title": {
           "x": 0.05
          },
          "xaxis": {
           "automargin": true,
           "gridcolor": "white",
           "linecolor": "white",
           "ticks": "",
           "title": {
            "standoff": 15
           },
           "zerolinecolor": "white",
           "zerolinewidth": 2
          },
          "yaxis": {
           "automargin": true,
           "gridcolor": "white",
           "linecolor": "white",
           "ticks": "",
           "title": {
            "standoff": 15
           },
           "zerolinecolor": "white",
           "zerolinewidth": 2
          }
         }
        },
        "xaxis": {
         "title": {
          "text": "Chunk No."
         }
        },
        "yaxis": {
         "title": {
          "text": "Value"
         }
        }
       }
      }
     },
     "metadata": {},
     "output_type": "display_data"
    },
    {
     "data": {
      "application/vnd.plotly.v1+json": {
       "config": {
        "plotlyServerURL": "https://plot.ly"
       },
       "data": [
        {
         "line": {
          "color": "brown"
         },
         "mode": "lines+markers",
         "name": "online50",
         "type": "scatter",
         "x": [
          0,
          1,
          2,
          3,
          4,
          5,
          6,
          7,
          8,
          9,
          10,
          11,
          12,
          13,
          14,
          15,
          16,
          17,
          18,
          19,
          20,
          21,
          22,
          23,
          24,
          25,
          26,
          27,
          28,
          29,
          30,
          31,
          32,
          33,
          34,
          35,
          36,
          37,
          38,
          39,
          40,
          41,
          42,
          43,
          44,
          45,
          46,
          47,
          48,
          49,
          50,
          51,
          52,
          53,
          54,
          55,
          56,
          57,
          58,
          59
         ],
         "y": [
          0.5567199933092373,
          0.41337840225029443,
          0.41337840225029443,
          0.41337840225029443,
          0.41337840225029443,
          0.41337840225029443,
          0.41337840225029443,
          0.41337840225029443,
          0.36836873902335987,
          0.36836873902335987,
          0.36836873902335987,
          0.36836873902335987,
          0.36836873902335987,
          0.36836873902335987,
          0.36836873902335987,
          0.35530445639349684,
          0.34298255313921056,
          0.34298255313921056,
          0.2920274503490199,
          0.2654928621889303,
          0.2654928621889303,
          0.2654928621889303,
          0.2654928621889303,
          0.2654928621889303,
          0.2654928621889303,
          0.2654928621889303,
          0.2654928621889303,
          0.2654928621889303,
          0.2654928621889303,
          0.2654928621889303,
          0.2654928621889303,
          0.2654928621889303,
          0.2654928621889303,
          0.19078628660528452,
          0.19078628660528452,
          0.19078628660528452,
          0.19078628660528452,
          0.19078628660528452,
          0.19078628660528452,
          0.19078628660528452,
          0.19078628660528452,
          0.19078628660528452,
          0.19078628660528452,
          0.19078628660528452,
          0.19078628660528452,
          0.18613162687690865,
          0.18613162687690865,
          0.18613162687690865,
          0.18613162687690865,
          0.18613162687690865,
          0.18613162687690865,
          0.1206239299842391,
          0.1206239299842391,
          0.1206239299842391,
          0.1206239299842391,
          0.1206239299842391,
          0.1206239299842391,
          0.1206239299842391,
          0.10878036104391442,
          0.10878036104391442
         ]
        },
        {
         "line": {
          "color": "blue"
         },
         "mode": "lines+markers",
         "name": "online_mm50",
         "type": "scatter",
         "x": [
          0,
          1,
          2,
          3,
          4,
          5,
          6,
          7,
          8,
          9,
          10,
          11,
          12,
          13,
          14,
          15,
          16,
          17,
          18,
          19,
          20,
          21,
          22,
          23,
          24,
          25,
          26,
          27,
          28,
          29,
          30,
          31,
          32,
          33,
          34,
          35,
          36,
          37,
          38,
          39,
          40,
          41,
          42,
          43,
          44,
          45,
          46,
          47,
          48,
          49,
          50,
          51,
          52,
          53,
          54,
          55,
          56,
          57,
          58,
          59
         ],
         "y": [
          0.5576948570442117,
          0.46246605589034995,
          0.46246605589034995,
          0.46246605589034995,
          0.46246605589034995,
          0.46246605589034995,
          0.46246605589034995,
          0.46246605589034995,
          0.4153718510638087,
          0.4153718510638087,
          0.4153718510638087,
          0.4153718510638087,
          0.4153718510638087,
          0.4153718510638087,
          0.4153718510638087,
          0.3808575896274371,
          0.37804917124415205,
          0.37804917124415205,
          0.3406345470942962,
          0.3265581353968974,
          0.3265581353968974,
          0.3265581353968974,
          0.3265581353968974,
          0.3265581353968974,
          0.3265581353968974,
          0.3265581353968974,
          0.3265581353968974,
          0.3265581353968974,
          0.3265581353968974,
          0.3265581353968974,
          0.3265581353968974,
          0.32607170649366934,
          0.32607170649366934,
          0.2708071724380512,
          0.2708071724380512,
          0.2708071724380512,
          0.2708071724380512,
          0.2708071724380512,
          0.2708071724380512,
          0.2708071724380512,
          0.2708071724380512,
          0.2708071724380512,
          0.2708071724380512,
          0.2708071724380512,
          0.2708071724380512,
          0.2687434507623834,
          0.2687434507623834,
          0.2687434507623834,
          0.2687434507623834,
          0.2687434507623834,
          0.2687434507623834,
          0.21727857116670757,
          0.21727857116670757,
          0.21727857116670757,
          0.21727857116670757,
          0.21727857116670757,
          0.21727857116670757,
          0.21727857116670757,
          0.15490136356441142,
          0.15490136356441142
         ]
        },
        {
         "line": {
          "color": "green"
         },
         "mode": "lines+markers",
         "name": "offline50",
         "type": "scatter",
         "x": [
          0,
          1,
          2,
          3,
          4,
          5,
          6,
          7,
          8,
          9,
          10,
          11,
          12,
          13,
          14,
          15,
          16,
          17,
          18,
          19,
          20,
          21,
          22,
          23,
          24,
          25,
          26,
          27,
          28,
          29,
          30,
          31,
          32,
          33,
          34,
          35,
          36,
          37,
          38,
          39,
          40,
          41,
          42,
          43,
          44,
          45,
          46,
          47,
          48,
          49,
          50,
          51,
          52,
          53,
          54,
          55,
          56,
          57,
          58,
          59
         ],
         "y": [
          0.5958707715376257,
          0.47745640638828934,
          0.4635401945753266,
          0.45658103200133593,
          0.4447074061605305,
          0.4439794554719547,
          0.44257420001978476,
          0.43357509271543604,
          0.3903707561361851,
          0.3868754202582072,
          0.38547953764066345,
          0.38547692833779656,
          0.38543489057017166,
          0.3858263109688469,
          0.3854085175283273,
          0.3712679251744573,
          0.35904879186739436,
          0.3595098660412632,
          0.32289223644050247,
          0.29469020177504057,
          0.29402723696195654,
          0.2922605898589534,
          0.2924884718468048,
          0.2821157336461235,
          0.28160736991107704,
          0.2852770539605656,
          0.28160013889689606,
          0.28207930450394714,
          0.28080877624706346,
          0.28150489085866015,
          0.281404528119213,
          0.2751399410567872,
          0.275384735159399,
          0.2255680862304743,
          0.2242190792503198,
          0.22401626849291434,
          0.22564578825746628,
          0.22367545357031116,
          0.22626761310468813,
          0.22521811899853073,
          0.22318286694030376,
          0.2228683101474318,
          0.2225215814950079,
          0.22462695684692213,
          0.2225860850472321,
          0.2207643132256063,
          0.21724891901508347,
          0.21998515260160523,
          0.21956786684734886,
          0.21767171082977388,
          0.22165527930620232,
          0.1753900578682972,
          0.17373466350041222,
          0.1776799208652351,
          0.17230248180481045,
          0.17357559295409652,
          0.17567416832630744,
          0.17480496068618923,
          0.15199976750525646,
          0.1602548072558705
         ]
        }
       ],
       "layout": {
        "legend": {
         "title": {
          "text": "Lines"
         }
        },
        "template": {
         "data": {
          "bar": [
           {
            "error_x": {
             "color": "#2a3f5f"
            },
            "error_y": {
             "color": "#2a3f5f"
            },
            "marker": {
             "line": {
              "color": "#E5ECF6",
              "width": 0.5
             },
             "pattern": {
              "fillmode": "overlay",
              "size": 10,
              "solidity": 0.2
             }
            },
            "type": "bar"
           }
          ],
          "barpolar": [
           {
            "marker": {
             "line": {
              "color": "#E5ECF6",
              "width": 0.5
             },
             "pattern": {
              "fillmode": "overlay",
              "size": 10,
              "solidity": 0.2
             }
            },
            "type": "barpolar"
           }
          ],
          "carpet": [
           {
            "aaxis": {
             "endlinecolor": "#2a3f5f",
             "gridcolor": "white",
             "linecolor": "white",
             "minorgridcolor": "white",
             "startlinecolor": "#2a3f5f"
            },
            "baxis": {
             "endlinecolor": "#2a3f5f",
             "gridcolor": "white",
             "linecolor": "white",
             "minorgridcolor": "white",
             "startlinecolor": "#2a3f5f"
            },
            "type": "carpet"
           }
          ],
          "choropleth": [
           {
            "colorbar": {
             "outlinewidth": 0,
             "ticks": ""
            },
            "type": "choropleth"
           }
          ],
          "contour": [
           {
            "colorbar": {
             "outlinewidth": 0,
             "ticks": ""
            },
            "colorscale": [
             [
              0,
              "#0d0887"
             ],
             [
              0.1111111111111111,
              "#46039f"
             ],
             [
              0.2222222222222222,
              "#7201a8"
             ],
             [
              0.3333333333333333,
              "#9c179e"
             ],
             [
              0.4444444444444444,
              "#bd3786"
             ],
             [
              0.5555555555555556,
              "#d8576b"
             ],
             [
              0.6666666666666666,
              "#ed7953"
             ],
             [
              0.7777777777777778,
              "#fb9f3a"
             ],
             [
              0.8888888888888888,
              "#fdca26"
             ],
             [
              1,
              "#f0f921"
             ]
            ],
            "type": "contour"
           }
          ],
          "contourcarpet": [
           {
            "colorbar": {
             "outlinewidth": 0,
             "ticks": ""
            },
            "type": "contourcarpet"
           }
          ],
          "heatmap": [
           {
            "colorbar": {
             "outlinewidth": 0,
             "ticks": ""
            },
            "colorscale": [
             [
              0,
              "#0d0887"
             ],
             [
              0.1111111111111111,
              "#46039f"
             ],
             [
              0.2222222222222222,
              "#7201a8"
             ],
             [
              0.3333333333333333,
              "#9c179e"
             ],
             [
              0.4444444444444444,
              "#bd3786"
             ],
             [
              0.5555555555555556,
              "#d8576b"
             ],
             [
              0.6666666666666666,
              "#ed7953"
             ],
             [
              0.7777777777777778,
              "#fb9f3a"
             ],
             [
              0.8888888888888888,
              "#fdca26"
             ],
             [
              1,
              "#f0f921"
             ]
            ],
            "type": "heatmap"
           }
          ],
          "heatmapgl": [
           {
            "colorbar": {
             "outlinewidth": 0,
             "ticks": ""
            },
            "colorscale": [
             [
              0,
              "#0d0887"
             ],
             [
              0.1111111111111111,
              "#46039f"
             ],
             [
              0.2222222222222222,
              "#7201a8"
             ],
             [
              0.3333333333333333,
              "#9c179e"
             ],
             [
              0.4444444444444444,
              "#bd3786"
             ],
             [
              0.5555555555555556,
              "#d8576b"
             ],
             [
              0.6666666666666666,
              "#ed7953"
             ],
             [
              0.7777777777777778,
              "#fb9f3a"
             ],
             [
              0.8888888888888888,
              "#fdca26"
             ],
             [
              1,
              "#f0f921"
             ]
            ],
            "type": "heatmapgl"
           }
          ],
          "histogram": [
           {
            "marker": {
             "pattern": {
              "fillmode": "overlay",
              "size": 10,
              "solidity": 0.2
             }
            },
            "type": "histogram"
           }
          ],
          "histogram2d": [
           {
            "colorbar": {
             "outlinewidth": 0,
             "ticks": ""
            },
            "colorscale": [
             [
              0,
              "#0d0887"
             ],
             [
              0.1111111111111111,
              "#46039f"
             ],
             [
              0.2222222222222222,
              "#7201a8"
             ],
             [
              0.3333333333333333,
              "#9c179e"
             ],
             [
              0.4444444444444444,
              "#bd3786"
             ],
             [
              0.5555555555555556,
              "#d8576b"
             ],
             [
              0.6666666666666666,
              "#ed7953"
             ],
             [
              0.7777777777777778,
              "#fb9f3a"
             ],
             [
              0.8888888888888888,
              "#fdca26"
             ],
             [
              1,
              "#f0f921"
             ]
            ],
            "type": "histogram2d"
           }
          ],
          "histogram2dcontour": [
           {
            "colorbar": {
             "outlinewidth": 0,
             "ticks": ""
            },
            "colorscale": [
             [
              0,
              "#0d0887"
             ],
             [
              0.1111111111111111,
              "#46039f"
             ],
             [
              0.2222222222222222,
              "#7201a8"
             ],
             [
              0.3333333333333333,
              "#9c179e"
             ],
             [
              0.4444444444444444,
              "#bd3786"
             ],
             [
              0.5555555555555556,
              "#d8576b"
             ],
             [
              0.6666666666666666,
              "#ed7953"
             ],
             [
              0.7777777777777778,
              "#fb9f3a"
             ],
             [
              0.8888888888888888,
              "#fdca26"
             ],
             [
              1,
              "#f0f921"
             ]
            ],
            "type": "histogram2dcontour"
           }
          ],
          "mesh3d": [
           {
            "colorbar": {
             "outlinewidth": 0,
             "ticks": ""
            },
            "type": "mesh3d"
           }
          ],
          "parcoords": [
           {
            "line": {
             "colorbar": {
              "outlinewidth": 0,
              "ticks": ""
             }
            },
            "type": "parcoords"
           }
          ],
          "pie": [
           {
            "automargin": true,
            "type": "pie"
           }
          ],
          "scatter": [
           {
            "fillpattern": {
             "fillmode": "overlay",
             "size": 10,
             "solidity": 0.2
            },
            "type": "scatter"
           }
          ],
          "scatter3d": [
           {
            "line": {
             "colorbar": {
              "outlinewidth": 0,
              "ticks": ""
             }
            },
            "marker": {
             "colorbar": {
              "outlinewidth": 0,
              "ticks": ""
             }
            },
            "type": "scatter3d"
           }
          ],
          "scattercarpet": [
           {
            "marker": {
             "colorbar": {
              "outlinewidth": 0,
              "ticks": ""
             }
            },
            "type": "scattercarpet"
           }
          ],
          "scattergeo": [
           {
            "marker": {
             "colorbar": {
              "outlinewidth": 0,
              "ticks": ""
             }
            },
            "type": "scattergeo"
           }
          ],
          "scattergl": [
           {
            "marker": {
             "colorbar": {
              "outlinewidth": 0,
              "ticks": ""
             }
            },
            "type": "scattergl"
           }
          ],
          "scattermapbox": [
           {
            "marker": {
             "colorbar": {
              "outlinewidth": 0,
              "ticks": ""
             }
            },
            "type": "scattermapbox"
           }
          ],
          "scatterpolar": [
           {
            "marker": {
             "colorbar": {
              "outlinewidth": 0,
              "ticks": ""
             }
            },
            "type": "scatterpolar"
           }
          ],
          "scatterpolargl": [
           {
            "marker": {
             "colorbar": {
              "outlinewidth": 0,
              "ticks": ""
             }
            },
            "type": "scatterpolargl"
           }
          ],
          "scatterternary": [
           {
            "marker": {
             "colorbar": {
              "outlinewidth": 0,
              "ticks": ""
             }
            },
            "type": "scatterternary"
           }
          ],
          "surface": [
           {
            "colorbar": {
             "outlinewidth": 0,
             "ticks": ""
            },
            "colorscale": [
             [
              0,
              "#0d0887"
             ],
             [
              0.1111111111111111,
              "#46039f"
             ],
             [
              0.2222222222222222,
              "#7201a8"
             ],
             [
              0.3333333333333333,
              "#9c179e"
             ],
             [
              0.4444444444444444,
              "#bd3786"
             ],
             [
              0.5555555555555556,
              "#d8576b"
             ],
             [
              0.6666666666666666,
              "#ed7953"
             ],
             [
              0.7777777777777778,
              "#fb9f3a"
             ],
             [
              0.8888888888888888,
              "#fdca26"
             ],
             [
              1,
              "#f0f921"
             ]
            ],
            "type": "surface"
           }
          ],
          "table": [
           {
            "cells": {
             "fill": {
              "color": "#EBF0F8"
             },
             "line": {
              "color": "white"
             }
            },
            "header": {
             "fill": {
              "color": "#C8D4E3"
             },
             "line": {
              "color": "white"
             }
            },
            "type": "table"
           }
          ]
         },
         "layout": {
          "annotationdefaults": {
           "arrowcolor": "#2a3f5f",
           "arrowhead": 0,
           "arrowwidth": 1
          },
          "autotypenumbers": "strict",
          "coloraxis": {
           "colorbar": {
            "outlinewidth": 0,
            "ticks": ""
           }
          },
          "colorscale": {
           "diverging": [
            [
             0,
             "#8e0152"
            ],
            [
             0.1,
             "#c51b7d"
            ],
            [
             0.2,
             "#de77ae"
            ],
            [
             0.3,
             "#f1b6da"
            ],
            [
             0.4,
             "#fde0ef"
            ],
            [
             0.5,
             "#f7f7f7"
            ],
            [
             0.6,
             "#e6f5d0"
            ],
            [
             0.7,
             "#b8e186"
            ],
            [
             0.8,
             "#7fbc41"
            ],
            [
             0.9,
             "#4d9221"
            ],
            [
             1,
             "#276419"
            ]
           ],
           "sequential": [
            [
             0,
             "#0d0887"
            ],
            [
             0.1111111111111111,
             "#46039f"
            ],
            [
             0.2222222222222222,
             "#7201a8"
            ],
            [
             0.3333333333333333,
             "#9c179e"
            ],
            [
             0.4444444444444444,
             "#bd3786"
            ],
            [
             0.5555555555555556,
             "#d8576b"
            ],
            [
             0.6666666666666666,
             "#ed7953"
            ],
            [
             0.7777777777777778,
             "#fb9f3a"
            ],
            [
             0.8888888888888888,
             "#fdca26"
            ],
            [
             1,
             "#f0f921"
            ]
           ],
           "sequentialminus": [
            [
             0,
             "#0d0887"
            ],
            [
             0.1111111111111111,
             "#46039f"
            ],
            [
             0.2222222222222222,
             "#7201a8"
            ],
            [
             0.3333333333333333,
             "#9c179e"
            ],
            [
             0.4444444444444444,
             "#bd3786"
            ],
            [
             0.5555555555555556,
             "#d8576b"
            ],
            [
             0.6666666666666666,
             "#ed7953"
            ],
            [
             0.7777777777777778,
             "#fb9f3a"
            ],
            [
             0.8888888888888888,
             "#fdca26"
            ],
            [
             1,
             "#f0f921"
            ]
           ]
          },
          "colorway": [
           "#636efa",
           "#EF553B",
           "#00cc96",
           "#ab63fa",
           "#FFA15A",
           "#19d3f3",
           "#FF6692",
           "#B6E880",
           "#FF97FF",
           "#FECB52"
          ],
          "font": {
           "color": "#2a3f5f"
          },
          "geo": {
           "bgcolor": "white",
           "lakecolor": "white",
           "landcolor": "#E5ECF6",
           "showlakes": true,
           "showland": true,
           "subunitcolor": "white"
          },
          "hoverlabel": {
           "align": "left"
          },
          "hovermode": "closest",
          "mapbox": {
           "style": "light"
          },
          "paper_bgcolor": "white",
          "plot_bgcolor": "#E5ECF6",
          "polar": {
           "angularaxis": {
            "gridcolor": "white",
            "linecolor": "white",
            "ticks": ""
           },
           "bgcolor": "#E5ECF6",
           "radialaxis": {
            "gridcolor": "white",
            "linecolor": "white",
            "ticks": ""
           }
          },
          "scene": {
           "xaxis": {
            "backgroundcolor": "#E5ECF6",
            "gridcolor": "white",
            "gridwidth": 2,
            "linecolor": "white",
            "showbackground": true,
            "ticks": "",
            "zerolinecolor": "white"
           },
           "yaxis": {
            "backgroundcolor": "#E5ECF6",
            "gridcolor": "white",
            "gridwidth": 2,
            "linecolor": "white",
            "showbackground": true,
            "ticks": "",
            "zerolinecolor": "white"
           },
           "zaxis": {
            "backgroundcolor": "#E5ECF6",
            "gridcolor": "white",
            "gridwidth": 2,
            "linecolor": "white",
            "showbackground": true,
            "ticks": "",
            "zerolinecolor": "white"
           }
          },
          "shapedefaults": {
           "line": {
            "color": "#2a3f5f"
           }
          },
          "ternary": {
           "aaxis": {
            "gridcolor": "white",
            "linecolor": "white",
            "ticks": ""
           },
           "baxis": {
            "gridcolor": "white",
            "linecolor": "white",
            "ticks": ""
           },
           "bgcolor": "#E5ECF6",
           "caxis": {
            "gridcolor": "white",
            "linecolor": "white",
            "ticks": ""
           }
          },
          "title": {
           "x": 0.05
          },
          "xaxis": {
           "automargin": true,
           "gridcolor": "white",
           "linecolor": "white",
           "ticks": "",
           "title": {
            "standoff": 15
           },
           "zerolinecolor": "white",
           "zerolinewidth": 2
          },
          "yaxis": {
           "automargin": true,
           "gridcolor": "white",
           "linecolor": "white",
           "ticks": "",
           "title": {
            "standoff": 15
           },
           "zerolinecolor": "white",
           "zerolinewidth": 2
          }
         }
        },
        "xaxis": {
         "title": {
          "text": "Chunk No."
         }
        },
        "yaxis": {
         "title": {
          "text": "range error"
         }
        }
       }
      }
     },
     "metadata": {},
     "output_type": "display_data"
    },
    {
     "data": {
      "application/vnd.plotly.v1+json": {
       "config": {
        "plotlyServerURL": "https://plot.ly"
       },
       "data": [
        {
         "line": {
          "color": "brown"
         },
         "mode": "lines+markers",
         "name": "online50",
         "type": "scatter",
         "x": [
          0,
          1,
          2,
          3,
          4,
          5,
          6,
          7,
          8,
          9,
          10,
          11,
          12,
          13,
          14,
          15,
          16,
          17,
          18,
          19,
          20,
          21,
          22,
          23,
          24,
          25,
          26,
          27,
          28,
          29,
          30,
          31,
          32,
          33,
          34,
          35,
          36,
          37,
          38,
          39,
          40,
          41,
          42,
          43,
          44,
          45,
          46,
          47,
          48,
          49,
          50,
          51,
          52,
          53,
          54,
          55,
          56,
          57,
          58,
          59
         ],
         "y": [
          0,
          5,
          5,
          5,
          5,
          5,
          5,
          5,
          3,
          3,
          3,
          3,
          3,
          3,
          3,
          10,
          14,
          14,
          17,
          18,
          18,
          18,
          18,
          18,
          18,
          18,
          18,
          18,
          18,
          18,
          18,
          18,
          18,
          3,
          3,
          3,
          3,
          3,
          3,
          3,
          3,
          3,
          3,
          3,
          3,
          4,
          4,
          4,
          4,
          4,
          4,
          4,
          4,
          4,
          4,
          4,
          4,
          4,
          8,
          8
         ]
        },
        {
         "line": {
          "color": "blue"
         },
         "mode": "lines+markers",
         "name": "online_mm50",
         "type": "scatter",
         "x": [
          0,
          1,
          2,
          3,
          4,
          5,
          6,
          7,
          8,
          9,
          10,
          11,
          12,
          13,
          14,
          15,
          16,
          17,
          18,
          19,
          20,
          21,
          22,
          23,
          24,
          25,
          26,
          27,
          28,
          29,
          30,
          31,
          32,
          33,
          34,
          35,
          36,
          37,
          38,
          39,
          40,
          41,
          42,
          43,
          44,
          45,
          46,
          47,
          48,
          49,
          50,
          51,
          52,
          53,
          54,
          55,
          56,
          57,
          58,
          59
         ],
         "y": [
          0,
          7,
          7,
          7,
          7,
          7,
          7,
          4,
          4,
          4,
          11,
          11,
          11,
          11,
          11,
          10,
          13,
          13,
          16,
          18,
          18,
          18,
          18,
          19,
          19,
          19,
          19,
          19,
          7,
          7,
          7,
          25,
          25,
          17,
          20,
          20,
          20,
          20,
          20,
          20,
          20,
          20,
          20,
          20,
          20,
          20,
          20,
          20,
          20,
          20,
          20,
          2,
          2,
          2,
          2,
          2,
          2,
          2,
          17,
          17
         ]
        }
       ],
       "layout": {
        "legend": {
         "title": {
          "text": "Lines"
         }
        },
        "template": {
         "data": {
          "bar": [
           {
            "error_x": {
             "color": "#2a3f5f"
            },
            "error_y": {
             "color": "#2a3f5f"
            },
            "marker": {
             "line": {
              "color": "#E5ECF6",
              "width": 0.5
             },
             "pattern": {
              "fillmode": "overlay",
              "size": 10,
              "solidity": 0.2
             }
            },
            "type": "bar"
           }
          ],
          "barpolar": [
           {
            "marker": {
             "line": {
              "color": "#E5ECF6",
              "width": 0.5
             },
             "pattern": {
              "fillmode": "overlay",
              "size": 10,
              "solidity": 0.2
             }
            },
            "type": "barpolar"
           }
          ],
          "carpet": [
           {
            "aaxis": {
             "endlinecolor": "#2a3f5f",
             "gridcolor": "white",
             "linecolor": "white",
             "minorgridcolor": "white",
             "startlinecolor": "#2a3f5f"
            },
            "baxis": {
             "endlinecolor": "#2a3f5f",
             "gridcolor": "white",
             "linecolor": "white",
             "minorgridcolor": "white",
             "startlinecolor": "#2a3f5f"
            },
            "type": "carpet"
           }
          ],
          "choropleth": [
           {
            "colorbar": {
             "outlinewidth": 0,
             "ticks": ""
            },
            "type": "choropleth"
           }
          ],
          "contour": [
           {
            "colorbar": {
             "outlinewidth": 0,
             "ticks": ""
            },
            "colorscale": [
             [
              0,
              "#0d0887"
             ],
             [
              0.1111111111111111,
              "#46039f"
             ],
             [
              0.2222222222222222,
              "#7201a8"
             ],
             [
              0.3333333333333333,
              "#9c179e"
             ],
             [
              0.4444444444444444,
              "#bd3786"
             ],
             [
              0.5555555555555556,
              "#d8576b"
             ],
             [
              0.6666666666666666,
              "#ed7953"
             ],
             [
              0.7777777777777778,
              "#fb9f3a"
             ],
             [
              0.8888888888888888,
              "#fdca26"
             ],
             [
              1,
              "#f0f921"
             ]
            ],
            "type": "contour"
           }
          ],
          "contourcarpet": [
           {
            "colorbar": {
             "outlinewidth": 0,
             "ticks": ""
            },
            "type": "contourcarpet"
           }
          ],
          "heatmap": [
           {
            "colorbar": {
             "outlinewidth": 0,
             "ticks": ""
            },
            "colorscale": [
             [
              0,
              "#0d0887"
             ],
             [
              0.1111111111111111,
              "#46039f"
             ],
             [
              0.2222222222222222,
              "#7201a8"
             ],
             [
              0.3333333333333333,
              "#9c179e"
             ],
             [
              0.4444444444444444,
              "#bd3786"
             ],
             [
              0.5555555555555556,
              "#d8576b"
             ],
             [
              0.6666666666666666,
              "#ed7953"
             ],
             [
              0.7777777777777778,
              "#fb9f3a"
             ],
             [
              0.8888888888888888,
              "#fdca26"
             ],
             [
              1,
              "#f0f921"
             ]
            ],
            "type": "heatmap"
           }
          ],
          "heatmapgl": [
           {
            "colorbar": {
             "outlinewidth": 0,
             "ticks": ""
            },
            "colorscale": [
             [
              0,
              "#0d0887"
             ],
             [
              0.1111111111111111,
              "#46039f"
             ],
             [
              0.2222222222222222,
              "#7201a8"
             ],
             [
              0.3333333333333333,
              "#9c179e"
             ],
             [
              0.4444444444444444,
              "#bd3786"
             ],
             [
              0.5555555555555556,
              "#d8576b"
             ],
             [
              0.6666666666666666,
              "#ed7953"
             ],
             [
              0.7777777777777778,
              "#fb9f3a"
             ],
             [
              0.8888888888888888,
              "#fdca26"
             ],
             [
              1,
              "#f0f921"
             ]
            ],
            "type": "heatmapgl"
           }
          ],
          "histogram": [
           {
            "marker": {
             "pattern": {
              "fillmode": "overlay",
              "size": 10,
              "solidity": 0.2
             }
            },
            "type": "histogram"
           }
          ],
          "histogram2d": [
           {
            "colorbar": {
             "outlinewidth": 0,
             "ticks": ""
            },
            "colorscale": [
             [
              0,
              "#0d0887"
             ],
             [
              0.1111111111111111,
              "#46039f"
             ],
             [
              0.2222222222222222,
              "#7201a8"
             ],
             [
              0.3333333333333333,
              "#9c179e"
             ],
             [
              0.4444444444444444,
              "#bd3786"
             ],
             [
              0.5555555555555556,
              "#d8576b"
             ],
             [
              0.6666666666666666,
              "#ed7953"
             ],
             [
              0.7777777777777778,
              "#fb9f3a"
             ],
             [
              0.8888888888888888,
              "#fdca26"
             ],
             [
              1,
              "#f0f921"
             ]
            ],
            "type": "histogram2d"
           }
          ],
          "histogram2dcontour": [
           {
            "colorbar": {
             "outlinewidth": 0,
             "ticks": ""
            },
            "colorscale": [
             [
              0,
              "#0d0887"
             ],
             [
              0.1111111111111111,
              "#46039f"
             ],
             [
              0.2222222222222222,
              "#7201a8"
             ],
             [
              0.3333333333333333,
              "#9c179e"
             ],
             [
              0.4444444444444444,
              "#bd3786"
             ],
             [
              0.5555555555555556,
              "#d8576b"
             ],
             [
              0.6666666666666666,
              "#ed7953"
             ],
             [
              0.7777777777777778,
              "#fb9f3a"
             ],
             [
              0.8888888888888888,
              "#fdca26"
             ],
             [
              1,
              "#f0f921"
             ]
            ],
            "type": "histogram2dcontour"
           }
          ],
          "mesh3d": [
           {
            "colorbar": {
             "outlinewidth": 0,
             "ticks": ""
            },
            "type": "mesh3d"
           }
          ],
          "parcoords": [
           {
            "line": {
             "colorbar": {
              "outlinewidth": 0,
              "ticks": ""
             }
            },
            "type": "parcoords"
           }
          ],
          "pie": [
           {
            "automargin": true,
            "type": "pie"
           }
          ],
          "scatter": [
           {
            "fillpattern": {
             "fillmode": "overlay",
             "size": 10,
             "solidity": 0.2
            },
            "type": "scatter"
           }
          ],
          "scatter3d": [
           {
            "line": {
             "colorbar": {
              "outlinewidth": 0,
              "ticks": ""
             }
            },
            "marker": {
             "colorbar": {
              "outlinewidth": 0,
              "ticks": ""
             }
            },
            "type": "scatter3d"
           }
          ],
          "scattercarpet": [
           {
            "marker": {
             "colorbar": {
              "outlinewidth": 0,
              "ticks": ""
             }
            },
            "type": "scattercarpet"
           }
          ],
          "scattergeo": [
           {
            "marker": {
             "colorbar": {
              "outlinewidth": 0,
              "ticks": ""
             }
            },
            "type": "scattergeo"
           }
          ],
          "scattergl": [
           {
            "marker": {
             "colorbar": {
              "outlinewidth": 0,
              "ticks": ""
             }
            },
            "type": "scattergl"
           }
          ],
          "scattermapbox": [
           {
            "marker": {
             "colorbar": {
              "outlinewidth": 0,
              "ticks": ""
             }
            },
            "type": "scattermapbox"
           }
          ],
          "scatterpolar": [
           {
            "marker": {
             "colorbar": {
              "outlinewidth": 0,
              "ticks": ""
             }
            },
            "type": "scatterpolar"
           }
          ],
          "scatterpolargl": [
           {
            "marker": {
             "colorbar": {
              "outlinewidth": 0,
              "ticks": ""
             }
            },
            "type": "scatterpolargl"
           }
          ],
          "scatterternary": [
           {
            "marker": {
             "colorbar": {
              "outlinewidth": 0,
              "ticks": ""
             }
            },
            "type": "scatterternary"
           }
          ],
          "surface": [
           {
            "colorbar": {
             "outlinewidth": 0,
             "ticks": ""
            },
            "colorscale": [
             [
              0,
              "#0d0887"
             ],
             [
              0.1111111111111111,
              "#46039f"
             ],
             [
              0.2222222222222222,
              "#7201a8"
             ],
             [
              0.3333333333333333,
              "#9c179e"
             ],
             [
              0.4444444444444444,
              "#bd3786"
             ],
             [
              0.5555555555555556,
              "#d8576b"
             ],
             [
              0.6666666666666666,
              "#ed7953"
             ],
             [
              0.7777777777777778,
              "#fb9f3a"
             ],
             [
              0.8888888888888888,
              "#fdca26"
             ],
             [
              1,
              "#f0f921"
             ]
            ],
            "type": "surface"
           }
          ],
          "table": [
           {
            "cells": {
             "fill": {
              "color": "#EBF0F8"
             },
             "line": {
              "color": "white"
             }
            },
            "header": {
             "fill": {
              "color": "#C8D4E3"
             },
             "line": {
              "color": "white"
             }
            },
            "type": "table"
           }
          ]
         },
         "layout": {
          "annotationdefaults": {
           "arrowcolor": "#2a3f5f",
           "arrowhead": 0,
           "arrowwidth": 1
          },
          "autotypenumbers": "strict",
          "coloraxis": {
           "colorbar": {
            "outlinewidth": 0,
            "ticks": ""
           }
          },
          "colorscale": {
           "diverging": [
            [
             0,
             "#8e0152"
            ],
            [
             0.1,
             "#c51b7d"
            ],
            [
             0.2,
             "#de77ae"
            ],
            [
             0.3,
             "#f1b6da"
            ],
            [
             0.4,
             "#fde0ef"
            ],
            [
             0.5,
             "#f7f7f7"
            ],
            [
             0.6,
             "#e6f5d0"
            ],
            [
             0.7,
             "#b8e186"
            ],
            [
             0.8,
             "#7fbc41"
            ],
            [
             0.9,
             "#4d9221"
            ],
            [
             1,
             "#276419"
            ]
           ],
           "sequential": [
            [
             0,
             "#0d0887"
            ],
            [
             0.1111111111111111,
             "#46039f"
            ],
            [
             0.2222222222222222,
             "#7201a8"
            ],
            [
             0.3333333333333333,
             "#9c179e"
            ],
            [
             0.4444444444444444,
             "#bd3786"
            ],
            [
             0.5555555555555556,
             "#d8576b"
            ],
            [
             0.6666666666666666,
             "#ed7953"
            ],
            [
             0.7777777777777778,
             "#fb9f3a"
            ],
            [
             0.8888888888888888,
             "#fdca26"
            ],
            [
             1,
             "#f0f921"
            ]
           ],
           "sequentialminus": [
            [
             0,
             "#0d0887"
            ],
            [
             0.1111111111111111,
             "#46039f"
            ],
            [
             0.2222222222222222,
             "#7201a8"
            ],
            [
             0.3333333333333333,
             "#9c179e"
            ],
            [
             0.4444444444444444,
             "#bd3786"
            ],
            [
             0.5555555555555556,
             "#d8576b"
            ],
            [
             0.6666666666666666,
             "#ed7953"
            ],
            [
             0.7777777777777778,
             "#fb9f3a"
            ],
            [
             0.8888888888888888,
             "#fdca26"
            ],
            [
             1,
             "#f0f921"
            ]
           ]
          },
          "colorway": [
           "#636efa",
           "#EF553B",
           "#00cc96",
           "#ab63fa",
           "#FFA15A",
           "#19d3f3",
           "#FF6692",
           "#B6E880",
           "#FF97FF",
           "#FECB52"
          ],
          "font": {
           "color": "#2a3f5f"
          },
          "geo": {
           "bgcolor": "white",
           "lakecolor": "white",
           "landcolor": "#E5ECF6",
           "showlakes": true,
           "showland": true,
           "subunitcolor": "white"
          },
          "hoverlabel": {
           "align": "left"
          },
          "hovermode": "closest",
          "mapbox": {
           "style": "light"
          },
          "paper_bgcolor": "white",
          "plot_bgcolor": "#E5ECF6",
          "polar": {
           "angularaxis": {
            "gridcolor": "white",
            "linecolor": "white",
            "ticks": ""
           },
           "bgcolor": "#E5ECF6",
           "radialaxis": {
            "gridcolor": "white",
            "linecolor": "white",
            "ticks": ""
           }
          },
          "scene": {
           "xaxis": {
            "backgroundcolor": "#E5ECF6",
            "gridcolor": "white",
            "gridwidth": 2,
            "linecolor": "white",
            "showbackground": true,
            "ticks": "",
            "zerolinecolor": "white"
           },
           "yaxis": {
            "backgroundcolor": "#E5ECF6",
            "gridcolor": "white",
            "gridwidth": 2,
            "linecolor": "white",
            "showbackground": true,
            "ticks": "",
            "zerolinecolor": "white"
           },
           "zaxis": {
            "backgroundcolor": "#E5ECF6",
            "gridcolor": "white",
            "gridwidth": 2,
            "linecolor": "white",
            "showbackground": true,
            "ticks": "",
            "zerolinecolor": "white"
           }
          },
          "shapedefaults": {
           "line": {
            "color": "#2a3f5f"
           }
          },
          "ternary": {
           "aaxis": {
            "gridcolor": "white",
            "linecolor": "white",
            "ticks": ""
           },
           "baxis": {
            "gridcolor": "white",
            "linecolor": "white",
            "ticks": ""
           },
           "bgcolor": "#E5ECF6",
           "caxis": {
            "gridcolor": "white",
            "linecolor": "white",
            "ticks": ""
           }
          },
          "title": {
           "x": 0.05
          },
          "xaxis": {
           "automargin": true,
           "gridcolor": "white",
           "linecolor": "white",
           "ticks": "",
           "title": {
            "standoff": 15
           },
           "zerolinecolor": "white",
           "zerolinewidth": 2
          },
          "yaxis": {
           "automargin": true,
           "gridcolor": "white",
           "linecolor": "white",
           "ticks": "",
           "title": {
            "standoff": 15
           },
           "zerolinecolor": "white",
           "zerolinewidth": 2
          }
         }
        },
        "xaxis": {
         "title": {
          "text": "Chunk No."
         }
        },
        "yaxis": {
         "title": {
          "text": "numbers of samples for boostraping"
         }
        }
       }
      }
     },
     "metadata": {},
     "output_type": "display_data"
    },
    {
     "data": {
      "application/vnd.plotly.v1+json": {
       "config": {
        "plotlyServerURL": "https://plot.ly"
       },
       "data": [
        {
         "line": {
          "color": "brown"
         },
         "mode": "lines+markers",
         "name": "min_online100",
         "type": "scatter",
         "x": [
          0,
          1,
          2,
          3,
          4,
          5,
          6,
          7,
          8,
          9,
          10,
          11,
          12,
          13,
          14,
          15,
          16,
          17,
          18,
          19,
          20,
          21,
          22,
          23,
          24,
          25,
          26,
          27,
          28,
          29
         ],
         "y": [
          0.35516703461509036,
          0.35516703461509036,
          0.35516703461509036,
          0.35516703461509036,
          0.35516703461509036,
          0.35516703461509036,
          0.35516703461509036,
          0.35516703461509036,
          0.34300008880900495,
          0.2661658442903598,
          0.2661658442903598,
          0.2661658442903598,
          0.2661658442903598,
          0.2661658442903598,
          0.2661658442903598,
          0.2661658442903598,
          0.2661658442903598,
          0.2661658442903598,
          0.2661658442903598,
          0.2661658442903598,
          0.2661658442903598,
          0.2661658442903598,
          0.2607163112009729,
          0.2607163112009729,
          0.2607163112009729,
          0.1960034876693143,
          0.1960034876693143,
          0.1960034876693143,
          0.1960034876693143,
          0.1861485854035347
         ]
        },
        {
         "line": {
          "color": "brown"
         },
         "mode": "lines+markers",
         "name": "max_online100",
         "type": "scatter",
         "x": [
          0,
          1,
          2,
          3,
          4,
          5,
          6,
          7,
          8,
          9,
          10,
          11,
          12,
          13,
          14,
          15,
          16,
          17,
          18,
          19,
          20,
          21,
          22,
          23,
          24,
          25,
          26,
          27,
          28,
          29
         ],
         "y": [
          1.4056487296818154,
          1.4056487296818154,
          1.4056487296818154,
          1.4056487296818154,
          1.4509507290002897,
          1.4509507290002897,
          1.4509507290002897,
          1.4635787093910964,
          1.4635787093910964,
          1.4635787093910964,
          1.4635787093910964,
          1.4635787093910964,
          1.4635787093910964,
          1.4635787093910964,
          1.4635787093910964,
          1.4635787093910964,
          1.5414092404952728,
          1.5414092404952728,
          1.5414092404952728,
          1.5414092404952728,
          1.5414092404952728,
          1.5414092404952728,
          1.5414092404952728,
          1.5414092404952728,
          1.5414092404952728,
          1.5414092404952728,
          1.5414092404952728,
          1.5414092404952728,
          1.5414092404952728,
          1.5414092404952728
         ]
        },
        {
         "line": {
          "color": "blue"
         },
         "mode": "lines+markers",
         "name": "min_online_mm100",
         "type": "scatter",
         "x": [
          0,
          1,
          2,
          3,
          4,
          5,
          6,
          7,
          8,
          9,
          10,
          11,
          12,
          13,
          14,
          15,
          16,
          17,
          18,
          19,
          20,
          21,
          22,
          23,
          24,
          25,
          26,
          27,
          28,
          29
         ],
         "y": [
          0.3568402774109423,
          0.3568402774109423,
          0.3568402774109423,
          0.3568402774109423,
          0.3568402774109423,
          0.3568402774109423,
          0.3568402774109423,
          0.3568402774109423,
          0.3500276832706324,
          0.29879120051552527,
          0.29879120051552527,
          0.29879120051552527,
          0.29879120051552527,
          0.29879120051552527,
          0.29879120051552527,
          0.29879120051552527,
          0.29879120051552527,
          0.29879120051552527,
          0.29879120051552527,
          0.29879120051552527,
          0.29879120051552527,
          0.29879120051552527,
          0.29600129130460734,
          0.29600129130460734,
          0.29600129130460734,
          0.2566395622344353,
          0.2566395622344353,
          0.2566395622344353,
          0.2566395622344353,
          0.2390548145017848
         ]
        },
        {
         "line": {
          "color": "blue"
         },
         "mode": "lines+markers",
         "name": "max_online_mm100",
         "type": "scatter",
         "x": [
          0,
          1,
          2,
          3,
          4,
          5,
          6,
          7,
          8,
          9,
          10,
          11,
          12,
          13,
          14,
          15,
          16,
          17,
          18,
          19,
          20,
          21,
          22,
          23,
          24,
          25,
          26,
          27,
          28,
          29
         ],
         "y": [
          1.4056487296818154,
          1.4056487296818154,
          1.4056487296818154,
          1.4056487296818154,
          1.45065839290875,
          1.45065839290875,
          1.45065839290875,
          1.457423880380472,
          1.457423880380472,
          1.457423880380472,
          1.457423880380472,
          1.457423880380472,
          1.457423880380472,
          1.457423880380472,
          1.457423880380472,
          1.457423880380472,
          1.5056260074295453,
          1.5056260074295453,
          1.5056260074295453,
          1.5056260074295453,
          1.5056260074295453,
          1.5056260074295453,
          1.5056260074295453,
          1.5056260074295453,
          1.5056260074295453,
          1.5056260074295453,
          1.5056260074295453,
          1.5056260074295453,
          1.5056260074295453,
          1.5056260074295453
         ]
        },
        {
         "line": {
          "color": "green"
         },
         "mode": "lines+markers",
         "name": "min_offline100",
         "type": "scatter",
         "x": [
          0,
          1,
          2,
          3,
          4,
          5,
          6,
          7,
          8,
          9,
          10,
          11,
          12,
          13,
          14,
          15,
          16,
          17,
          18,
          19,
          20,
          21,
          22,
          23,
          24,
          25,
          26,
          27,
          28,
          29
         ],
         "y": [
          0.39049641744745256,
          0.3793330504013528,
          0.366893894744748,
          0.3668315699843947,
          0.36301296399697863,
          0.3623451103618403,
          0.36301992622211043,
          0.3626788955404121,
          0.35086103019492876,
          0.28508444139401684,
          0.28474429184463057,
          0.27778588808955607,
          0.2768086258432176,
          0.275928630018852,
          0.2749127355313346,
          0.2700481347040267,
          0.27052797097311204,
          0.2700391528553355,
          0.2693573898736914,
          0.26989551380655985,
          0.2695338574055013,
          0.26900995894944724,
          0.2654968245608224,
          0.26564744419694925,
          0.2652898749165194,
          0.21935829223368303,
          0.2210944748903441,
          0.22106824259809657,
          0.22081262459734205,
          0.19999668799080453
         ]
        },
        {
         "line": {
          "color": "green"
         },
         "mode": "lines+markers",
         "name": "max_offline100",
         "type": "scatter",
         "x": [
          0,
          1,
          2,
          3,
          4,
          5,
          6,
          7,
          8,
          9,
          10,
          11,
          12,
          13,
          14,
          15,
          16,
          17,
          18,
          19,
          20,
          21,
          22,
          23,
          24,
          25,
          26,
          27,
          28,
          29
         ],
         "y": [
          1.379487086719212,
          1.384893890625879,
          1.3876585674796673,
          1.3963827566515352,
          1.440233286549118,
          1.4405847175612254,
          1.4405879504795012,
          1.454951111990804,
          1.4550872342882244,
          1.4543629179565023,
          1.4556300800039783,
          1.4562889745871757,
          1.456267037306872,
          1.456091645095529,
          1.457523799126332,
          1.4575257686617489,
          1.5114198243317667,
          1.509761096532726,
          1.5072485583732937,
          1.5100373802846268,
          1.5095041744927122,
          1.5085333598604167,
          1.5095280597529181,
          1.5095623477363802,
          1.5077393864827395,
          1.5077076790475594,
          1.5074970672042856,
          1.5065977889270248,
          1.5089979114936356,
          1.51223113192695
         ]
        },
        {
         "line": {
          "color": "grey",
          "dash": "dash"
         },
         "mode": "lines",
         "name": "min pop: 0.1104",
         "type": "scatter",
         "x": [
          0,
          29
         ],
         "y": [
          0.11040704538272941,
          0.11040704538272941
         ]
        },
        {
         "line": {
          "color": "grey",
          "dash": "dash"
         },
         "mode": "lines",
         "name": "max pop: 1.5735",
         "type": "scatter",
         "x": [
          0,
          29
         ],
         "y": [
          1.573456738819913,
          1.573456738819913
         ]
        }
       ],
       "layout": {
        "legend": {
         "title": {
          "text": "Lines"
         }
        },
        "template": {
         "data": {
          "bar": [
           {
            "error_x": {
             "color": "#2a3f5f"
            },
            "error_y": {
             "color": "#2a3f5f"
            },
            "marker": {
             "line": {
              "color": "#E5ECF6",
              "width": 0.5
             },
             "pattern": {
              "fillmode": "overlay",
              "size": 10,
              "solidity": 0.2
             }
            },
            "type": "bar"
           }
          ],
          "barpolar": [
           {
            "marker": {
             "line": {
              "color": "#E5ECF6",
              "width": 0.5
             },
             "pattern": {
              "fillmode": "overlay",
              "size": 10,
              "solidity": 0.2
             }
            },
            "type": "barpolar"
           }
          ],
          "carpet": [
           {
            "aaxis": {
             "endlinecolor": "#2a3f5f",
             "gridcolor": "white",
             "linecolor": "white",
             "minorgridcolor": "white",
             "startlinecolor": "#2a3f5f"
            },
            "baxis": {
             "endlinecolor": "#2a3f5f",
             "gridcolor": "white",
             "linecolor": "white",
             "minorgridcolor": "white",
             "startlinecolor": "#2a3f5f"
            },
            "type": "carpet"
           }
          ],
          "choropleth": [
           {
            "colorbar": {
             "outlinewidth": 0,
             "ticks": ""
            },
            "type": "choropleth"
           }
          ],
          "contour": [
           {
            "colorbar": {
             "outlinewidth": 0,
             "ticks": ""
            },
            "colorscale": [
             [
              0,
              "#0d0887"
             ],
             [
              0.1111111111111111,
              "#46039f"
             ],
             [
              0.2222222222222222,
              "#7201a8"
             ],
             [
              0.3333333333333333,
              "#9c179e"
             ],
             [
              0.4444444444444444,
              "#bd3786"
             ],
             [
              0.5555555555555556,
              "#d8576b"
             ],
             [
              0.6666666666666666,
              "#ed7953"
             ],
             [
              0.7777777777777778,
              "#fb9f3a"
             ],
             [
              0.8888888888888888,
              "#fdca26"
             ],
             [
              1,
              "#f0f921"
             ]
            ],
            "type": "contour"
           }
          ],
          "contourcarpet": [
           {
            "colorbar": {
             "outlinewidth": 0,
             "ticks": ""
            },
            "type": "contourcarpet"
           }
          ],
          "heatmap": [
           {
            "colorbar": {
             "outlinewidth": 0,
             "ticks": ""
            },
            "colorscale": [
             [
              0,
              "#0d0887"
             ],
             [
              0.1111111111111111,
              "#46039f"
             ],
             [
              0.2222222222222222,
              "#7201a8"
             ],
             [
              0.3333333333333333,
              "#9c179e"
             ],
             [
              0.4444444444444444,
              "#bd3786"
             ],
             [
              0.5555555555555556,
              "#d8576b"
             ],
             [
              0.6666666666666666,
              "#ed7953"
             ],
             [
              0.7777777777777778,
              "#fb9f3a"
             ],
             [
              0.8888888888888888,
              "#fdca26"
             ],
             [
              1,
              "#f0f921"
             ]
            ],
            "type": "heatmap"
           }
          ],
          "heatmapgl": [
           {
            "colorbar": {
             "outlinewidth": 0,
             "ticks": ""
            },
            "colorscale": [
             [
              0,
              "#0d0887"
             ],
             [
              0.1111111111111111,
              "#46039f"
             ],
             [
              0.2222222222222222,
              "#7201a8"
             ],
             [
              0.3333333333333333,
              "#9c179e"
             ],
             [
              0.4444444444444444,
              "#bd3786"
             ],
             [
              0.5555555555555556,
              "#d8576b"
             ],
             [
              0.6666666666666666,
              "#ed7953"
             ],
             [
              0.7777777777777778,
              "#fb9f3a"
             ],
             [
              0.8888888888888888,
              "#fdca26"
             ],
             [
              1,
              "#f0f921"
             ]
            ],
            "type": "heatmapgl"
           }
          ],
          "histogram": [
           {
            "marker": {
             "pattern": {
              "fillmode": "overlay",
              "size": 10,
              "solidity": 0.2
             }
            },
            "type": "histogram"
           }
          ],
          "histogram2d": [
           {
            "colorbar": {
             "outlinewidth": 0,
             "ticks": ""
            },
            "colorscale": [
             [
              0,
              "#0d0887"
             ],
             [
              0.1111111111111111,
              "#46039f"
             ],
             [
              0.2222222222222222,
              "#7201a8"
             ],
             [
              0.3333333333333333,
              "#9c179e"
             ],
             [
              0.4444444444444444,
              "#bd3786"
             ],
             [
              0.5555555555555556,
              "#d8576b"
             ],
             [
              0.6666666666666666,
              "#ed7953"
             ],
             [
              0.7777777777777778,
              "#fb9f3a"
             ],
             [
              0.8888888888888888,
              "#fdca26"
             ],
             [
              1,
              "#f0f921"
             ]
            ],
            "type": "histogram2d"
           }
          ],
          "histogram2dcontour": [
           {
            "colorbar": {
             "outlinewidth": 0,
             "ticks": ""
            },
            "colorscale": [
             [
              0,
              "#0d0887"
             ],
             [
              0.1111111111111111,
              "#46039f"
             ],
             [
              0.2222222222222222,
              "#7201a8"
             ],
             [
              0.3333333333333333,
              "#9c179e"
             ],
             [
              0.4444444444444444,
              "#bd3786"
             ],
             [
              0.5555555555555556,
              "#d8576b"
             ],
             [
              0.6666666666666666,
              "#ed7953"
             ],
             [
              0.7777777777777778,
              "#fb9f3a"
             ],
             [
              0.8888888888888888,
              "#fdca26"
             ],
             [
              1,
              "#f0f921"
             ]
            ],
            "type": "histogram2dcontour"
           }
          ],
          "mesh3d": [
           {
            "colorbar": {
             "outlinewidth": 0,
             "ticks": ""
            },
            "type": "mesh3d"
           }
          ],
          "parcoords": [
           {
            "line": {
             "colorbar": {
              "outlinewidth": 0,
              "ticks": ""
             }
            },
            "type": "parcoords"
           }
          ],
          "pie": [
           {
            "automargin": true,
            "type": "pie"
           }
          ],
          "scatter": [
           {
            "fillpattern": {
             "fillmode": "overlay",
             "size": 10,
             "solidity": 0.2
            },
            "type": "scatter"
           }
          ],
          "scatter3d": [
           {
            "line": {
             "colorbar": {
              "outlinewidth": 0,
              "ticks": ""
             }
            },
            "marker": {
             "colorbar": {
              "outlinewidth": 0,
              "ticks": ""
             }
            },
            "type": "scatter3d"
           }
          ],
          "scattercarpet": [
           {
            "marker": {
             "colorbar": {
              "outlinewidth": 0,
              "ticks": ""
             }
            },
            "type": "scattercarpet"
           }
          ],
          "scattergeo": [
           {
            "marker": {
             "colorbar": {
              "outlinewidth": 0,
              "ticks": ""
             }
            },
            "type": "scattergeo"
           }
          ],
          "scattergl": [
           {
            "marker": {
             "colorbar": {
              "outlinewidth": 0,
              "ticks": ""
             }
            },
            "type": "scattergl"
           }
          ],
          "scattermapbox": [
           {
            "marker": {
             "colorbar": {
              "outlinewidth": 0,
              "ticks": ""
             }
            },
            "type": "scattermapbox"
           }
          ],
          "scatterpolar": [
           {
            "marker": {
             "colorbar": {
              "outlinewidth": 0,
              "ticks": ""
             }
            },
            "type": "scatterpolar"
           }
          ],
          "scatterpolargl": [
           {
            "marker": {
             "colorbar": {
              "outlinewidth": 0,
              "ticks": ""
             }
            },
            "type": "scatterpolargl"
           }
          ],
          "scatterternary": [
           {
            "marker": {
             "colorbar": {
              "outlinewidth": 0,
              "ticks": ""
             }
            },
            "type": "scatterternary"
           }
          ],
          "surface": [
           {
            "colorbar": {
             "outlinewidth": 0,
             "ticks": ""
            },
            "colorscale": [
             [
              0,
              "#0d0887"
             ],
             [
              0.1111111111111111,
              "#46039f"
             ],
             [
              0.2222222222222222,
              "#7201a8"
             ],
             [
              0.3333333333333333,
              "#9c179e"
             ],
             [
              0.4444444444444444,
              "#bd3786"
             ],
             [
              0.5555555555555556,
              "#d8576b"
             ],
             [
              0.6666666666666666,
              "#ed7953"
             ],
             [
              0.7777777777777778,
              "#fb9f3a"
             ],
             [
              0.8888888888888888,
              "#fdca26"
             ],
             [
              1,
              "#f0f921"
             ]
            ],
            "type": "surface"
           }
          ],
          "table": [
           {
            "cells": {
             "fill": {
              "color": "#EBF0F8"
             },
             "line": {
              "color": "white"
             }
            },
            "header": {
             "fill": {
              "color": "#C8D4E3"
             },
             "line": {
              "color": "white"
             }
            },
            "type": "table"
           }
          ]
         },
         "layout": {
          "annotationdefaults": {
           "arrowcolor": "#2a3f5f",
           "arrowhead": 0,
           "arrowwidth": 1
          },
          "autotypenumbers": "strict",
          "coloraxis": {
           "colorbar": {
            "outlinewidth": 0,
            "ticks": ""
           }
          },
          "colorscale": {
           "diverging": [
            [
             0,
             "#8e0152"
            ],
            [
             0.1,
             "#c51b7d"
            ],
            [
             0.2,
             "#de77ae"
            ],
            [
             0.3,
             "#f1b6da"
            ],
            [
             0.4,
             "#fde0ef"
            ],
            [
             0.5,
             "#f7f7f7"
            ],
            [
             0.6,
             "#e6f5d0"
            ],
            [
             0.7,
             "#b8e186"
            ],
            [
             0.8,
             "#7fbc41"
            ],
            [
             0.9,
             "#4d9221"
            ],
            [
             1,
             "#276419"
            ]
           ],
           "sequential": [
            [
             0,
             "#0d0887"
            ],
            [
             0.1111111111111111,
             "#46039f"
            ],
            [
             0.2222222222222222,
             "#7201a8"
            ],
            [
             0.3333333333333333,
             "#9c179e"
            ],
            [
             0.4444444444444444,
             "#bd3786"
            ],
            [
             0.5555555555555556,
             "#d8576b"
            ],
            [
             0.6666666666666666,
             "#ed7953"
            ],
            [
             0.7777777777777778,
             "#fb9f3a"
            ],
            [
             0.8888888888888888,
             "#fdca26"
            ],
            [
             1,
             "#f0f921"
            ]
           ],
           "sequentialminus": [
            [
             0,
             "#0d0887"
            ],
            [
             0.1111111111111111,
             "#46039f"
            ],
            [
             0.2222222222222222,
             "#7201a8"
            ],
            [
             0.3333333333333333,
             "#9c179e"
            ],
            [
             0.4444444444444444,
             "#bd3786"
            ],
            [
             0.5555555555555556,
             "#d8576b"
            ],
            [
             0.6666666666666666,
             "#ed7953"
            ],
            [
             0.7777777777777778,
             "#fb9f3a"
            ],
            [
             0.8888888888888888,
             "#fdca26"
            ],
            [
             1,
             "#f0f921"
            ]
           ]
          },
          "colorway": [
           "#636efa",
           "#EF553B",
           "#00cc96",
           "#ab63fa",
           "#FFA15A",
           "#19d3f3",
           "#FF6692",
           "#B6E880",
           "#FF97FF",
           "#FECB52"
          ],
          "font": {
           "color": "#2a3f5f"
          },
          "geo": {
           "bgcolor": "white",
           "lakecolor": "white",
           "landcolor": "#E5ECF6",
           "showlakes": true,
           "showland": true,
           "subunitcolor": "white"
          },
          "hoverlabel": {
           "align": "left"
          },
          "hovermode": "closest",
          "mapbox": {
           "style": "light"
          },
          "paper_bgcolor": "white",
          "plot_bgcolor": "#E5ECF6",
          "polar": {
           "angularaxis": {
            "gridcolor": "white",
            "linecolor": "white",
            "ticks": ""
           },
           "bgcolor": "#E5ECF6",
           "radialaxis": {
            "gridcolor": "white",
            "linecolor": "white",
            "ticks": ""
           }
          },
          "scene": {
           "xaxis": {
            "backgroundcolor": "#E5ECF6",
            "gridcolor": "white",
            "gridwidth": 2,
            "linecolor": "white",
            "showbackground": true,
            "ticks": "",
            "zerolinecolor": "white"
           },
           "yaxis": {
            "backgroundcolor": "#E5ECF6",
            "gridcolor": "white",
            "gridwidth": 2,
            "linecolor": "white",
            "showbackground": true,
            "ticks": "",
            "zerolinecolor": "white"
           },
           "zaxis": {
            "backgroundcolor": "#E5ECF6",
            "gridcolor": "white",
            "gridwidth": 2,
            "linecolor": "white",
            "showbackground": true,
            "ticks": "",
            "zerolinecolor": "white"
           }
          },
          "shapedefaults": {
           "line": {
            "color": "#2a3f5f"
           }
          },
          "ternary": {
           "aaxis": {
            "gridcolor": "white",
            "linecolor": "white",
            "ticks": ""
           },
           "baxis": {
            "gridcolor": "white",
            "linecolor": "white",
            "ticks": ""
           },
           "bgcolor": "#E5ECF6",
           "caxis": {
            "gridcolor": "white",
            "linecolor": "white",
            "ticks": ""
           }
          },
          "title": {
           "x": 0.05
          },
          "xaxis": {
           "automargin": true,
           "gridcolor": "white",
           "linecolor": "white",
           "ticks": "",
           "title": {
            "standoff": 15
           },
           "zerolinecolor": "white",
           "zerolinewidth": 2
          },
          "yaxis": {
           "automargin": true,
           "gridcolor": "white",
           "linecolor": "white",
           "ticks": "",
           "title": {
            "standoff": 15
           },
           "zerolinecolor": "white",
           "zerolinewidth": 2
          }
         }
        },
        "xaxis": {
         "title": {
          "text": "Chunk No."
         }
        },
        "yaxis": {
         "title": {
          "text": "Value"
         }
        }
       }
      }
     },
     "metadata": {},
     "output_type": "display_data"
    },
    {
     "data": {
      "application/vnd.plotly.v1+json": {
       "config": {
        "plotlyServerURL": "https://plot.ly"
       },
       "data": [
        {
         "line": {
          "color": "brown"
         },
         "mode": "lines+markers",
         "name": "online100",
         "type": "scatter",
         "x": [
          0,
          1,
          2,
          3,
          4,
          5,
          6,
          7,
          8,
          9,
          10,
          11,
          12,
          13,
          14,
          15,
          16,
          17,
          18,
          19,
          20,
          21,
          22,
          23,
          24,
          25,
          26,
          27,
          28,
          29
         ],
         "y": [
          0.41256799837045843,
          0.41256799837045843,
          0.41256799837045843,
          0.41256799837045843,
          0.3672659990519842,
          0.3672659990519842,
          0.3672659990519842,
          0.3546380186611775,
          0.34247107285509215,
          0.265636828336447,
          0.265636828336447,
          0.265636828336447,
          0.265636828336447,
          0.265636828336447,
          0.265636828336447,
          0.265636828336447,
          0.1878062972322705,
          0.1878062972322705,
          0.1878062972322705,
          0.1878062972322705,
          0.1878062972322705,
          0.1878062972322705,
          0.1823567641428836,
          0.1823567641428836,
          0.1823567641428836,
          0.11764394061122507,
          0.11764394061122507,
          0.11764394061122507,
          0.11764394061122507,
          0.1077890383454454
         ]
        },
        {
         "line": {
          "color": "blue"
         },
         "mode": "lines+markers",
         "name": "online_mm100",
         "type": "scatter",
         "x": [
          0,
          1,
          2,
          3,
          4,
          5,
          6,
          7,
          8,
          9,
          10,
          11,
          12,
          13,
          14,
          15,
          16,
          17,
          18,
          19,
          20,
          21,
          22,
          23,
          24,
          25,
          26,
          27,
          28,
          29
         ],
         "y": [
          0.41424124116631034,
          0.41424124116631034,
          0.41424124116631034,
          0.41424124116631034,
          0.3692315779393758,
          0.3692315779393758,
          0.3692315779393758,
          0.36246609046765377,
          0.3556534963273439,
          0.3044170135722368,
          0.3044170135722368,
          0.3044170135722368,
          0.3044170135722368,
          0.3044170135722368,
          0.3044170135722368,
          0.3044170135722368,
          0.2562148865231635,
          0.2562148865231635,
          0.2562148865231635,
          0.2562148865231635,
          0.2562148865231635,
          0.2562148865231635,
          0.25342497731224545,
          0.25342497731224545,
          0.25342497731224545,
          0.21406324824207346,
          0.21406324824207346,
          0.21406324824207346,
          0.21406324824207346,
          0.19647850050942295
         ]
        },
        {
         "line": {
          "color": "green"
         },
         "mode": "lines+markers",
         "name": "offline100",
         "type": "scatter",
         "x": [
          0,
          1,
          2,
          3,
          4,
          5,
          6,
          7,
          8,
          9,
          10,
          11,
          12,
          13,
          14,
          15,
          16,
          17,
          18,
          19,
          20,
          21,
          22,
          23,
          24,
          25,
          26,
          27,
          28,
          29
         ],
         "y": [
          0.4740590241654241,
          0.4574888532126573,
          0.44228502070226416,
          0.433498506770043,
          0.385829370885044,
          0.38481008623779833,
          0.3854816691797929,
          0.37077747698679153,
          0.35882348934388775,
          0.293771216874698,
          0.29216390527783576,
          0.2845466069395639,
          0.2835912819735291,
          0.2828866783605064,
          0.28043862984218615,
          0.2755720594794613,
          0.2221578400785289,
          0.22332774975979297,
          0.22515852493758115,
          0.22290782695911648,
          0.22307937634997255,
          0.22352629252621403,
          0.2190184582450878,
          0.21913478989775248,
          0.2206001818709633,
          0.17470030662330704,
          0.176647101123242,
          0.17752014710825526,
          0.17486440654088997,
          0.1508152495010382
         ]
        }
       ],
       "layout": {
        "legend": {
         "title": {
          "text": "Lines"
         }
        },
        "template": {
         "data": {
          "bar": [
           {
            "error_x": {
             "color": "#2a3f5f"
            },
            "error_y": {
             "color": "#2a3f5f"
            },
            "marker": {
             "line": {
              "color": "#E5ECF6",
              "width": 0.5
             },
             "pattern": {
              "fillmode": "overlay",
              "size": 10,
              "solidity": 0.2
             }
            },
            "type": "bar"
           }
          ],
          "barpolar": [
           {
            "marker": {
             "line": {
              "color": "#E5ECF6",
              "width": 0.5
             },
             "pattern": {
              "fillmode": "overlay",
              "size": 10,
              "solidity": 0.2
             }
            },
            "type": "barpolar"
           }
          ],
          "carpet": [
           {
            "aaxis": {
             "endlinecolor": "#2a3f5f",
             "gridcolor": "white",
             "linecolor": "white",
             "minorgridcolor": "white",
             "startlinecolor": "#2a3f5f"
            },
            "baxis": {
             "endlinecolor": "#2a3f5f",
             "gridcolor": "white",
             "linecolor": "white",
             "minorgridcolor": "white",
             "startlinecolor": "#2a3f5f"
            },
            "type": "carpet"
           }
          ],
          "choropleth": [
           {
            "colorbar": {
             "outlinewidth": 0,
             "ticks": ""
            },
            "type": "choropleth"
           }
          ],
          "contour": [
           {
            "colorbar": {
             "outlinewidth": 0,
             "ticks": ""
            },
            "colorscale": [
             [
              0,
              "#0d0887"
             ],
             [
              0.1111111111111111,
              "#46039f"
             ],
             [
              0.2222222222222222,
              "#7201a8"
             ],
             [
              0.3333333333333333,
              "#9c179e"
             ],
             [
              0.4444444444444444,
              "#bd3786"
             ],
             [
              0.5555555555555556,
              "#d8576b"
             ],
             [
              0.6666666666666666,
              "#ed7953"
             ],
             [
              0.7777777777777778,
              "#fb9f3a"
             ],
             [
              0.8888888888888888,
              "#fdca26"
             ],
             [
              1,
              "#f0f921"
             ]
            ],
            "type": "contour"
           }
          ],
          "contourcarpet": [
           {
            "colorbar": {
             "outlinewidth": 0,
             "ticks": ""
            },
            "type": "contourcarpet"
           }
          ],
          "heatmap": [
           {
            "colorbar": {
             "outlinewidth": 0,
             "ticks": ""
            },
            "colorscale": [
             [
              0,
              "#0d0887"
             ],
             [
              0.1111111111111111,
              "#46039f"
             ],
             [
              0.2222222222222222,
              "#7201a8"
             ],
             [
              0.3333333333333333,
              "#9c179e"
             ],
             [
              0.4444444444444444,
              "#bd3786"
             ],
             [
              0.5555555555555556,
              "#d8576b"
             ],
             [
              0.6666666666666666,
              "#ed7953"
             ],
             [
              0.7777777777777778,
              "#fb9f3a"
             ],
             [
              0.8888888888888888,
              "#fdca26"
             ],
             [
              1,
              "#f0f921"
             ]
            ],
            "type": "heatmap"
           }
          ],
          "heatmapgl": [
           {
            "colorbar": {
             "outlinewidth": 0,
             "ticks": ""
            },
            "colorscale": [
             [
              0,
              "#0d0887"
             ],
             [
              0.1111111111111111,
              "#46039f"
             ],
             [
              0.2222222222222222,
              "#7201a8"
             ],
             [
              0.3333333333333333,
              "#9c179e"
             ],
             [
              0.4444444444444444,
              "#bd3786"
             ],
             [
              0.5555555555555556,
              "#d8576b"
             ],
             [
              0.6666666666666666,
              "#ed7953"
             ],
             [
              0.7777777777777778,
              "#fb9f3a"
             ],
             [
              0.8888888888888888,
              "#fdca26"
             ],
             [
              1,
              "#f0f921"
             ]
            ],
            "type": "heatmapgl"
           }
          ],
          "histogram": [
           {
            "marker": {
             "pattern": {
              "fillmode": "overlay",
              "size": 10,
              "solidity": 0.2
             }
            },
            "type": "histogram"
           }
          ],
          "histogram2d": [
           {
            "colorbar": {
             "outlinewidth": 0,
             "ticks": ""
            },
            "colorscale": [
             [
              0,
              "#0d0887"
             ],
             [
              0.1111111111111111,
              "#46039f"
             ],
             [
              0.2222222222222222,
              "#7201a8"
             ],
             [
              0.3333333333333333,
              "#9c179e"
             ],
             [
              0.4444444444444444,
              "#bd3786"
             ],
             [
              0.5555555555555556,
              "#d8576b"
             ],
             [
              0.6666666666666666,
              "#ed7953"
             ],
             [
              0.7777777777777778,
              "#fb9f3a"
             ],
             [
              0.8888888888888888,
              "#fdca26"
             ],
             [
              1,
              "#f0f921"
             ]
            ],
            "type": "histogram2d"
           }
          ],
          "histogram2dcontour": [
           {
            "colorbar": {
             "outlinewidth": 0,
             "ticks": ""
            },
            "colorscale": [
             [
              0,
              "#0d0887"
             ],
             [
              0.1111111111111111,
              "#46039f"
             ],
             [
              0.2222222222222222,
              "#7201a8"
             ],
             [
              0.3333333333333333,
              "#9c179e"
             ],
             [
              0.4444444444444444,
              "#bd3786"
             ],
             [
              0.5555555555555556,
              "#d8576b"
             ],
             [
              0.6666666666666666,
              "#ed7953"
             ],
             [
              0.7777777777777778,
              "#fb9f3a"
             ],
             [
              0.8888888888888888,
              "#fdca26"
             ],
             [
              1,
              "#f0f921"
             ]
            ],
            "type": "histogram2dcontour"
           }
          ],
          "mesh3d": [
           {
            "colorbar": {
             "outlinewidth": 0,
             "ticks": ""
            },
            "type": "mesh3d"
           }
          ],
          "parcoords": [
           {
            "line": {
             "colorbar": {
              "outlinewidth": 0,
              "ticks": ""
             }
            },
            "type": "parcoords"
           }
          ],
          "pie": [
           {
            "automargin": true,
            "type": "pie"
           }
          ],
          "scatter": [
           {
            "fillpattern": {
             "fillmode": "overlay",
             "size": 10,
             "solidity": 0.2
            },
            "type": "scatter"
           }
          ],
          "scatter3d": [
           {
            "line": {
             "colorbar": {
              "outlinewidth": 0,
              "ticks": ""
             }
            },
            "marker": {
             "colorbar": {
              "outlinewidth": 0,
              "ticks": ""
             }
            },
            "type": "scatter3d"
           }
          ],
          "scattercarpet": [
           {
            "marker": {
             "colorbar": {
              "outlinewidth": 0,
              "ticks": ""
             }
            },
            "type": "scattercarpet"
           }
          ],
          "scattergeo": [
           {
            "marker": {
             "colorbar": {
              "outlinewidth": 0,
              "ticks": ""
             }
            },
            "type": "scattergeo"
           }
          ],
          "scattergl": [
           {
            "marker": {
             "colorbar": {
              "outlinewidth": 0,
              "ticks": ""
             }
            },
            "type": "scattergl"
           }
          ],
          "scattermapbox": [
           {
            "marker": {
             "colorbar": {
              "outlinewidth": 0,
              "ticks": ""
             }
            },
            "type": "scattermapbox"
           }
          ],
          "scatterpolar": [
           {
            "marker": {
             "colorbar": {
              "outlinewidth": 0,
              "ticks": ""
             }
            },
            "type": "scatterpolar"
           }
          ],
          "scatterpolargl": [
           {
            "marker": {
             "colorbar": {
              "outlinewidth": 0,
              "ticks": ""
             }
            },
            "type": "scatterpolargl"
           }
          ],
          "scatterternary": [
           {
            "marker": {
             "colorbar": {
              "outlinewidth": 0,
              "ticks": ""
             }
            },
            "type": "scatterternary"
           }
          ],
          "surface": [
           {
            "colorbar": {
             "outlinewidth": 0,
             "ticks": ""
            },
            "colorscale": [
             [
              0,
              "#0d0887"
             ],
             [
              0.1111111111111111,
              "#46039f"
             ],
             [
              0.2222222222222222,
              "#7201a8"
             ],
             [
              0.3333333333333333,
              "#9c179e"
             ],
             [
              0.4444444444444444,
              "#bd3786"
             ],
             [
              0.5555555555555556,
              "#d8576b"
             ],
             [
              0.6666666666666666,
              "#ed7953"
             ],
             [
              0.7777777777777778,
              "#fb9f3a"
             ],
             [
              0.8888888888888888,
              "#fdca26"
             ],
             [
              1,
              "#f0f921"
             ]
            ],
            "type": "surface"
           }
          ],
          "table": [
           {
            "cells": {
             "fill": {
              "color": "#EBF0F8"
             },
             "line": {
              "color": "white"
             }
            },
            "header": {
             "fill": {
              "color": "#C8D4E3"
             },
             "line": {
              "color": "white"
             }
            },
            "type": "table"
           }
          ]
         },
         "layout": {
          "annotationdefaults": {
           "arrowcolor": "#2a3f5f",
           "arrowhead": 0,
           "arrowwidth": 1
          },
          "autotypenumbers": "strict",
          "coloraxis": {
           "colorbar": {
            "outlinewidth": 0,
            "ticks": ""
           }
          },
          "colorscale": {
           "diverging": [
            [
             0,
             "#8e0152"
            ],
            [
             0.1,
             "#c51b7d"
            ],
            [
             0.2,
             "#de77ae"
            ],
            [
             0.3,
             "#f1b6da"
            ],
            [
             0.4,
             "#fde0ef"
            ],
            [
             0.5,
             "#f7f7f7"
            ],
            [
             0.6,
             "#e6f5d0"
            ],
            [
             0.7,
             "#b8e186"
            ],
            [
             0.8,
             "#7fbc41"
            ],
            [
             0.9,
             "#4d9221"
            ],
            [
             1,
             "#276419"
            ]
           ],
           "sequential": [
            [
             0,
             "#0d0887"
            ],
            [
             0.1111111111111111,
             "#46039f"
            ],
            [
             0.2222222222222222,
             "#7201a8"
            ],
            [
             0.3333333333333333,
             "#9c179e"
            ],
            [
             0.4444444444444444,
             "#bd3786"
            ],
            [
             0.5555555555555556,
             "#d8576b"
            ],
            [
             0.6666666666666666,
             "#ed7953"
            ],
            [
             0.7777777777777778,
             "#fb9f3a"
            ],
            [
             0.8888888888888888,
             "#fdca26"
            ],
            [
             1,
             "#f0f921"
            ]
           ],
           "sequentialminus": [
            [
             0,
             "#0d0887"
            ],
            [
             0.1111111111111111,
             "#46039f"
            ],
            [
             0.2222222222222222,
             "#7201a8"
            ],
            [
             0.3333333333333333,
             "#9c179e"
            ],
            [
             0.4444444444444444,
             "#bd3786"
            ],
            [
             0.5555555555555556,
             "#d8576b"
            ],
            [
             0.6666666666666666,
             "#ed7953"
            ],
            [
             0.7777777777777778,
             "#fb9f3a"
            ],
            [
             0.8888888888888888,
             "#fdca26"
            ],
            [
             1,
             "#f0f921"
            ]
           ]
          },
          "colorway": [
           "#636efa",
           "#EF553B",
           "#00cc96",
           "#ab63fa",
           "#FFA15A",
           "#19d3f3",
           "#FF6692",
           "#B6E880",
           "#FF97FF",
           "#FECB52"
          ],
          "font": {
           "color": "#2a3f5f"
          },
          "geo": {
           "bgcolor": "white",
           "lakecolor": "white",
           "landcolor": "#E5ECF6",
           "showlakes": true,
           "showland": true,
           "subunitcolor": "white"
          },
          "hoverlabel": {
           "align": "left"
          },
          "hovermode": "closest",
          "mapbox": {
           "style": "light"
          },
          "paper_bgcolor": "white",
          "plot_bgcolor": "#E5ECF6",
          "polar": {
           "angularaxis": {
            "gridcolor": "white",
            "linecolor": "white",
            "ticks": ""
           },
           "bgcolor": "#E5ECF6",
           "radialaxis": {
            "gridcolor": "white",
            "linecolor": "white",
            "ticks": ""
           }
          },
          "scene": {
           "xaxis": {
            "backgroundcolor": "#E5ECF6",
            "gridcolor": "white",
            "gridwidth": 2,
            "linecolor": "white",
            "showbackground": true,
            "ticks": "",
            "zerolinecolor": "white"
           },
           "yaxis": {
            "backgroundcolor": "#E5ECF6",
            "gridcolor": "white",
            "gridwidth": 2,
            "linecolor": "white",
            "showbackground": true,
            "ticks": "",
            "zerolinecolor": "white"
           },
           "zaxis": {
            "backgroundcolor": "#E5ECF6",
            "gridcolor": "white",
            "gridwidth": 2,
            "linecolor": "white",
            "showbackground": true,
            "ticks": "",
            "zerolinecolor": "white"
           }
          },
          "shapedefaults": {
           "line": {
            "color": "#2a3f5f"
           }
          },
          "ternary": {
           "aaxis": {
            "gridcolor": "white",
            "linecolor": "white",
            "ticks": ""
           },
           "baxis": {
            "gridcolor": "white",
            "linecolor": "white",
            "ticks": ""
           },
           "bgcolor": "#E5ECF6",
           "caxis": {
            "gridcolor": "white",
            "linecolor": "white",
            "ticks": ""
           }
          },
          "title": {
           "x": 0.05
          },
          "xaxis": {
           "automargin": true,
           "gridcolor": "white",
           "linecolor": "white",
           "ticks": "",
           "title": {
            "standoff": 15
           },
           "zerolinecolor": "white",
           "zerolinewidth": 2
          },
          "yaxis": {
           "automargin": true,
           "gridcolor": "white",
           "linecolor": "white",
           "ticks": "",
           "title": {
            "standoff": 15
           },
           "zerolinecolor": "white",
           "zerolinewidth": 2
          }
         }
        },
        "xaxis": {
         "title": {
          "text": "Chunk No."
         }
        },
        "yaxis": {
         "title": {
          "text": "range error"
         }
        }
       }
      }
     },
     "metadata": {},
     "output_type": "display_data"
    },
    {
     "data": {
      "application/vnd.plotly.v1+json": {
       "config": {
        "plotlyServerURL": "https://plot.ly"
       },
       "data": [
        {
         "line": {
          "color": "brown"
         },
         "mode": "lines+markers",
         "name": "online100",
         "type": "scatter",
         "x": [
          0,
          1,
          2,
          3,
          4,
          5,
          6,
          7,
          8,
          9,
          10,
          11,
          12,
          13,
          14,
          15,
          16,
          17,
          18,
          19,
          20,
          21,
          22,
          23,
          24,
          25,
          26,
          27,
          28,
          29
         ],
         "y": [
          0,
          5,
          5,
          5,
          13,
          13,
          13,
          14,
          20,
          4,
          4,
          4,
          4,
          4,
          4,
          4,
          15,
          15,
          15,
          15,
          15,
          15,
          19,
          19,
          19,
          19,
          19,
          19,
          19,
          4
         ]
        },
        {
         "line": {
          "color": "blue"
         },
         "mode": "lines+markers",
         "name": "online_mm100",
         "type": "scatter",
         "x": [
          0,
          1,
          2,
          3,
          4,
          5,
          6,
          7,
          8,
          9,
          10,
          11,
          12,
          13,
          14,
          15,
          16,
          17,
          18,
          19,
          20,
          21,
          22,
          23,
          24,
          25,
          26,
          27,
          28,
          29
         ],
         "y": [
          0,
          5,
          5,
          5,
          13,
          13,
          13,
          4,
          18,
          4,
          4,
          6,
          6,
          6,
          6,
          32,
          22,
          25,
          25,
          25,
          25,
          25,
          29,
          29,
          29,
          6,
          6,
          6,
          6,
          4
         ]
        }
       ],
       "layout": {
        "legend": {
         "title": {
          "text": "Lines"
         }
        },
        "template": {
         "data": {
          "bar": [
           {
            "error_x": {
             "color": "#2a3f5f"
            },
            "error_y": {
             "color": "#2a3f5f"
            },
            "marker": {
             "line": {
              "color": "#E5ECF6",
              "width": 0.5
             },
             "pattern": {
              "fillmode": "overlay",
              "size": 10,
              "solidity": 0.2
             }
            },
            "type": "bar"
           }
          ],
          "barpolar": [
           {
            "marker": {
             "line": {
              "color": "#E5ECF6",
              "width": 0.5
             },
             "pattern": {
              "fillmode": "overlay",
              "size": 10,
              "solidity": 0.2
             }
            },
            "type": "barpolar"
           }
          ],
          "carpet": [
           {
            "aaxis": {
             "endlinecolor": "#2a3f5f",
             "gridcolor": "white",
             "linecolor": "white",
             "minorgridcolor": "white",
             "startlinecolor": "#2a3f5f"
            },
            "baxis": {
             "endlinecolor": "#2a3f5f",
             "gridcolor": "white",
             "linecolor": "white",
             "minorgridcolor": "white",
             "startlinecolor": "#2a3f5f"
            },
            "type": "carpet"
           }
          ],
          "choropleth": [
           {
            "colorbar": {
             "outlinewidth": 0,
             "ticks": ""
            },
            "type": "choropleth"
           }
          ],
          "contour": [
           {
            "colorbar": {
             "outlinewidth": 0,
             "ticks": ""
            },
            "colorscale": [
             [
              0,
              "#0d0887"
             ],
             [
              0.1111111111111111,
              "#46039f"
             ],
             [
              0.2222222222222222,
              "#7201a8"
             ],
             [
              0.3333333333333333,
              "#9c179e"
             ],
             [
              0.4444444444444444,
              "#bd3786"
             ],
             [
              0.5555555555555556,
              "#d8576b"
             ],
             [
              0.6666666666666666,
              "#ed7953"
             ],
             [
              0.7777777777777778,
              "#fb9f3a"
             ],
             [
              0.8888888888888888,
              "#fdca26"
             ],
             [
              1,
              "#f0f921"
             ]
            ],
            "type": "contour"
           }
          ],
          "contourcarpet": [
           {
            "colorbar": {
             "outlinewidth": 0,
             "ticks": ""
            },
            "type": "contourcarpet"
           }
          ],
          "heatmap": [
           {
            "colorbar": {
             "outlinewidth": 0,
             "ticks": ""
            },
            "colorscale": [
             [
              0,
              "#0d0887"
             ],
             [
              0.1111111111111111,
              "#46039f"
             ],
             [
              0.2222222222222222,
              "#7201a8"
             ],
             [
              0.3333333333333333,
              "#9c179e"
             ],
             [
              0.4444444444444444,
              "#bd3786"
             ],
             [
              0.5555555555555556,
              "#d8576b"
             ],
             [
              0.6666666666666666,
              "#ed7953"
             ],
             [
              0.7777777777777778,
              "#fb9f3a"
             ],
             [
              0.8888888888888888,
              "#fdca26"
             ],
             [
              1,
              "#f0f921"
             ]
            ],
            "type": "heatmap"
           }
          ],
          "heatmapgl": [
           {
            "colorbar": {
             "outlinewidth": 0,
             "ticks": ""
            },
            "colorscale": [
             [
              0,
              "#0d0887"
             ],
             [
              0.1111111111111111,
              "#46039f"
             ],
             [
              0.2222222222222222,
              "#7201a8"
             ],
             [
              0.3333333333333333,
              "#9c179e"
             ],
             [
              0.4444444444444444,
              "#bd3786"
             ],
             [
              0.5555555555555556,
              "#d8576b"
             ],
             [
              0.6666666666666666,
              "#ed7953"
             ],
             [
              0.7777777777777778,
              "#fb9f3a"
             ],
             [
              0.8888888888888888,
              "#fdca26"
             ],
             [
              1,
              "#f0f921"
             ]
            ],
            "type": "heatmapgl"
           }
          ],
          "histogram": [
           {
            "marker": {
             "pattern": {
              "fillmode": "overlay",
              "size": 10,
              "solidity": 0.2
             }
            },
            "type": "histogram"
           }
          ],
          "histogram2d": [
           {
            "colorbar": {
             "outlinewidth": 0,
             "ticks": ""
            },
            "colorscale": [
             [
              0,
              "#0d0887"
             ],
             [
              0.1111111111111111,
              "#46039f"
             ],
             [
              0.2222222222222222,
              "#7201a8"
             ],
             [
              0.3333333333333333,
              "#9c179e"
             ],
             [
              0.4444444444444444,
              "#bd3786"
             ],
             [
              0.5555555555555556,
              "#d8576b"
             ],
             [
              0.6666666666666666,
              "#ed7953"
             ],
             [
              0.7777777777777778,
              "#fb9f3a"
             ],
             [
              0.8888888888888888,
              "#fdca26"
             ],
             [
              1,
              "#f0f921"
             ]
            ],
            "type": "histogram2d"
           }
          ],
          "histogram2dcontour": [
           {
            "colorbar": {
             "outlinewidth": 0,
             "ticks": ""
            },
            "colorscale": [
             [
              0,
              "#0d0887"
             ],
             [
              0.1111111111111111,
              "#46039f"
             ],
             [
              0.2222222222222222,
              "#7201a8"
             ],
             [
              0.3333333333333333,
              "#9c179e"
             ],
             [
              0.4444444444444444,
              "#bd3786"
             ],
             [
              0.5555555555555556,
              "#d8576b"
             ],
             [
              0.6666666666666666,
              "#ed7953"
             ],
             [
              0.7777777777777778,
              "#fb9f3a"
             ],
             [
              0.8888888888888888,
              "#fdca26"
             ],
             [
              1,
              "#f0f921"
             ]
            ],
            "type": "histogram2dcontour"
           }
          ],
          "mesh3d": [
           {
            "colorbar": {
             "outlinewidth": 0,
             "ticks": ""
            },
            "type": "mesh3d"
           }
          ],
          "parcoords": [
           {
            "line": {
             "colorbar": {
              "outlinewidth": 0,
              "ticks": ""
             }
            },
            "type": "parcoords"
           }
          ],
          "pie": [
           {
            "automargin": true,
            "type": "pie"
           }
          ],
          "scatter": [
           {
            "fillpattern": {
             "fillmode": "overlay",
             "size": 10,
             "solidity": 0.2
            },
            "type": "scatter"
           }
          ],
          "scatter3d": [
           {
            "line": {
             "colorbar": {
              "outlinewidth": 0,
              "ticks": ""
             }
            },
            "marker": {
             "colorbar": {
              "outlinewidth": 0,
              "ticks": ""
             }
            },
            "type": "scatter3d"
           }
          ],
          "scattercarpet": [
           {
            "marker": {
             "colorbar": {
              "outlinewidth": 0,
              "ticks": ""
             }
            },
            "type": "scattercarpet"
           }
          ],
          "scattergeo": [
           {
            "marker": {
             "colorbar": {
              "outlinewidth": 0,
              "ticks": ""
             }
            },
            "type": "scattergeo"
           }
          ],
          "scattergl": [
           {
            "marker": {
             "colorbar": {
              "outlinewidth": 0,
              "ticks": ""
             }
            },
            "type": "scattergl"
           }
          ],
          "scattermapbox": [
           {
            "marker": {
             "colorbar": {
              "outlinewidth": 0,
              "ticks": ""
             }
            },
            "type": "scattermapbox"
           }
          ],
          "scatterpolar": [
           {
            "marker": {
             "colorbar": {
              "outlinewidth": 0,
              "ticks": ""
             }
            },
            "type": "scatterpolar"
           }
          ],
          "scatterpolargl": [
           {
            "marker": {
             "colorbar": {
              "outlinewidth": 0,
              "ticks": ""
             }
            },
            "type": "scatterpolargl"
           }
          ],
          "scatterternary": [
           {
            "marker": {
             "colorbar": {
              "outlinewidth": 0,
              "ticks": ""
             }
            },
            "type": "scatterternary"
           }
          ],
          "surface": [
           {
            "colorbar": {
             "outlinewidth": 0,
             "ticks": ""
            },
            "colorscale": [
             [
              0,
              "#0d0887"
             ],
             [
              0.1111111111111111,
              "#46039f"
             ],
             [
              0.2222222222222222,
              "#7201a8"
             ],
             [
              0.3333333333333333,
              "#9c179e"
             ],
             [
              0.4444444444444444,
              "#bd3786"
             ],
             [
              0.5555555555555556,
              "#d8576b"
             ],
             [
              0.6666666666666666,
              "#ed7953"
             ],
             [
              0.7777777777777778,
              "#fb9f3a"
             ],
             [
              0.8888888888888888,
              "#fdca26"
             ],
             [
              1,
              "#f0f921"
             ]
            ],
            "type": "surface"
           }
          ],
          "table": [
           {
            "cells": {
             "fill": {
              "color": "#EBF0F8"
             },
             "line": {
              "color": "white"
             }
            },
            "header": {
             "fill": {
              "color": "#C8D4E3"
             },
             "line": {
              "color": "white"
             }
            },
            "type": "table"
           }
          ]
         },
         "layout": {
          "annotationdefaults": {
           "arrowcolor": "#2a3f5f",
           "arrowhead": 0,
           "arrowwidth": 1
          },
          "autotypenumbers": "strict",
          "coloraxis": {
           "colorbar": {
            "outlinewidth": 0,
            "ticks": ""
           }
          },
          "colorscale": {
           "diverging": [
            [
             0,
             "#8e0152"
            ],
            [
             0.1,
             "#c51b7d"
            ],
            [
             0.2,
             "#de77ae"
            ],
            [
             0.3,
             "#f1b6da"
            ],
            [
             0.4,
             "#fde0ef"
            ],
            [
             0.5,
             "#f7f7f7"
            ],
            [
             0.6,
             "#e6f5d0"
            ],
            [
             0.7,
             "#b8e186"
            ],
            [
             0.8,
             "#7fbc41"
            ],
            [
             0.9,
             "#4d9221"
            ],
            [
             1,
             "#276419"
            ]
           ],
           "sequential": [
            [
             0,
             "#0d0887"
            ],
            [
             0.1111111111111111,
             "#46039f"
            ],
            [
             0.2222222222222222,
             "#7201a8"
            ],
            [
             0.3333333333333333,
             "#9c179e"
            ],
            [
             0.4444444444444444,
             "#bd3786"
            ],
            [
             0.5555555555555556,
             "#d8576b"
            ],
            [
             0.6666666666666666,
             "#ed7953"
            ],
            [
             0.7777777777777778,
             "#fb9f3a"
            ],
            [
             0.8888888888888888,
             "#fdca26"
            ],
            [
             1,
             "#f0f921"
            ]
           ],
           "sequentialminus": [
            [
             0,
             "#0d0887"
            ],
            [
             0.1111111111111111,
             "#46039f"
            ],
            [
             0.2222222222222222,
             "#7201a8"
            ],
            [
             0.3333333333333333,
             "#9c179e"
            ],
            [
             0.4444444444444444,
             "#bd3786"
            ],
            [
             0.5555555555555556,
             "#d8576b"
            ],
            [
             0.6666666666666666,
             "#ed7953"
            ],
            [
             0.7777777777777778,
             "#fb9f3a"
            ],
            [
             0.8888888888888888,
             "#fdca26"
            ],
            [
             1,
             "#f0f921"
            ]
           ]
          },
          "colorway": [
           "#636efa",
           "#EF553B",
           "#00cc96",
           "#ab63fa",
           "#FFA15A",
           "#19d3f3",
           "#FF6692",
           "#B6E880",
           "#FF97FF",
           "#FECB52"
          ],
          "font": {
           "color": "#2a3f5f"
          },
          "geo": {
           "bgcolor": "white",
           "lakecolor": "white",
           "landcolor": "#E5ECF6",
           "showlakes": true,
           "showland": true,
           "subunitcolor": "white"
          },
          "hoverlabel": {
           "align": "left"
          },
          "hovermode": "closest",
          "mapbox": {
           "style": "light"
          },
          "paper_bgcolor": "white",
          "plot_bgcolor": "#E5ECF6",
          "polar": {
           "angularaxis": {
            "gridcolor": "white",
            "linecolor": "white",
            "ticks": ""
           },
           "bgcolor": "#E5ECF6",
           "radialaxis": {
            "gridcolor": "white",
            "linecolor": "white",
            "ticks": ""
           }
          },
          "scene": {
           "xaxis": {
            "backgroundcolor": "#E5ECF6",
            "gridcolor": "white",
            "gridwidth": 2,
            "linecolor": "white",
            "showbackground": true,
            "ticks": "",
            "zerolinecolor": "white"
           },
           "yaxis": {
            "backgroundcolor": "#E5ECF6",
            "gridcolor": "white",
            "gridwidth": 2,
            "linecolor": "white",
            "showbackground": true,
            "ticks": "",
            "zerolinecolor": "white"
           },
           "zaxis": {
            "backgroundcolor": "#E5ECF6",
            "gridcolor": "white",
            "gridwidth": 2,
            "linecolor": "white",
            "showbackground": true,
            "ticks": "",
            "zerolinecolor": "white"
           }
          },
          "shapedefaults": {
           "line": {
            "color": "#2a3f5f"
           }
          },
          "ternary": {
           "aaxis": {
            "gridcolor": "white",
            "linecolor": "white",
            "ticks": ""
           },
           "baxis": {
            "gridcolor": "white",
            "linecolor": "white",
            "ticks": ""
           },
           "bgcolor": "#E5ECF6",
           "caxis": {
            "gridcolor": "white",
            "linecolor": "white",
            "ticks": ""
           }
          },
          "title": {
           "x": 0.05
          },
          "xaxis": {
           "automargin": true,
           "gridcolor": "white",
           "linecolor": "white",
           "ticks": "",
           "title": {
            "standoff": 15
           },
           "zerolinecolor": "white",
           "zerolinewidth": 2
          },
          "yaxis": {
           "automargin": true,
           "gridcolor": "white",
           "linecolor": "white",
           "ticks": "",
           "title": {
            "standoff": 15
           },
           "zerolinecolor": "white",
           "zerolinewidth": 2
          }
         }
        },
        "xaxis": {
         "title": {
          "text": "Chunk No."
         }
        },
        "yaxis": {
         "title": {
          "text": "numbers of samples for boostraping"
         }
        }
       }
      }
     },
     "metadata": {},
     "output_type": "display_data"
    },
    {
     "data": {
      "application/vnd.plotly.v1+json": {
       "config": {
        "plotlyServerURL": "https://plot.ly"
       },
       "data": [
        {
         "line": {
          "color": "brown"
         },
         "mode": "lines+markers",
         "name": "min_online500",
         "type": "scatter",
         "x": [
          0,
          1,
          2,
          3,
          4,
          5
         ],
         "y": [
          0.35558435221030527,
          0.2661658442903598,
          0.2661658442903598,
          0.2661658442903598,
          0.26154146514862,
          0.1861485854035347
         ]
        },
        {
         "line": {
          "color": "brown"
         },
         "mode": "lines+markers",
         "name": "max_online500",
         "type": "scatter",
         "x": [
          0,
          1,
          2,
          3,
          4,
          5
         ],
         "y": [
          1.4507833800583576,
          1.4636942581374102,
          1.4636942581374102,
          1.5384292511222588,
          1.5384292511222588,
          1.5384292511222588
         ]
        },
        {
         "line": {
          "color": "blue"
         },
         "mode": "lines+markers",
         "name": "min_online_mm500",
         "type": "scatter",
         "x": [
          0,
          1,
          2,
          3,
          4,
          5
         ],
         "y": [
          0.3568402774109423,
          0.3004739682561424,
          0.3004739682561424,
          0.29640114610410817,
          0.29159227593159054,
          0.23868199515102648
         ]
        },
        {
         "line": {
          "color": "blue"
         },
         "mode": "lines+markers",
         "name": "max_online_mm500",
         "type": "scatter",
         "x": [
          0,
          1,
          2,
          3,
          4,
          5
         ],
         "y": [
          1.45065839290875,
          1.4554041642359887,
          1.4554041642359887,
          1.5027186769689052,
          1.5027186769689052,
          1.5027186769689052
         ]
        },
        {
         "line": {
          "color": "green"
         },
         "mode": "lines+markers",
         "name": "min_offline500",
         "type": "scatter",
         "x": [
          0,
          1,
          2,
          3,
          4,
          5
         ],
         "y": [
          0.3626223789699872,
          0.28325963770310353,
          0.27632026016288885,
          0.27037330810191257,
          0.2656675389622241,
          0.20109088932003671
         ]
        },
        {
         "line": {
          "color": "green"
         },
         "mode": "lines+markers",
         "name": "max_offline500",
         "type": "scatter",
         "x": [
          0,
          1,
          2,
          3,
          4,
          5
         ],
         "y": [
          1.44055306281375,
          1.4544572222806145,
          1.4577930401342667,
          1.5095286619373958,
          1.5096708600022115,
          1.5085059736211412
         ]
        },
        {
         "line": {
          "color": "grey",
          "dash": "dash"
         },
         "mode": "lines",
         "name": "min pop: 0.1104",
         "type": "scatter",
         "x": [
          0,
          5
         ],
         "y": [
          0.11040704538272941,
          0.11040704538272941
         ]
        },
        {
         "line": {
          "color": "grey",
          "dash": "dash"
         },
         "mode": "lines",
         "name": "max pop: 1.5735",
         "type": "scatter",
         "x": [
          0,
          5
         ],
         "y": [
          1.573456738819913,
          1.573456738819913
         ]
        }
       ],
       "layout": {
        "legend": {
         "title": {
          "text": "Lines"
         }
        },
        "template": {
         "data": {
          "bar": [
           {
            "error_x": {
             "color": "#2a3f5f"
            },
            "error_y": {
             "color": "#2a3f5f"
            },
            "marker": {
             "line": {
              "color": "#E5ECF6",
              "width": 0.5
             },
             "pattern": {
              "fillmode": "overlay",
              "size": 10,
              "solidity": 0.2
             }
            },
            "type": "bar"
           }
          ],
          "barpolar": [
           {
            "marker": {
             "line": {
              "color": "#E5ECF6",
              "width": 0.5
             },
             "pattern": {
              "fillmode": "overlay",
              "size": 10,
              "solidity": 0.2
             }
            },
            "type": "barpolar"
           }
          ],
          "carpet": [
           {
            "aaxis": {
             "endlinecolor": "#2a3f5f",
             "gridcolor": "white",
             "linecolor": "white",
             "minorgridcolor": "white",
             "startlinecolor": "#2a3f5f"
            },
            "baxis": {
             "endlinecolor": "#2a3f5f",
             "gridcolor": "white",
             "linecolor": "white",
             "minorgridcolor": "white",
             "startlinecolor": "#2a3f5f"
            },
            "type": "carpet"
           }
          ],
          "choropleth": [
           {
            "colorbar": {
             "outlinewidth": 0,
             "ticks": ""
            },
            "type": "choropleth"
           }
          ],
          "contour": [
           {
            "colorbar": {
             "outlinewidth": 0,
             "ticks": ""
            },
            "colorscale": [
             [
              0,
              "#0d0887"
             ],
             [
              0.1111111111111111,
              "#46039f"
             ],
             [
              0.2222222222222222,
              "#7201a8"
             ],
             [
              0.3333333333333333,
              "#9c179e"
             ],
             [
              0.4444444444444444,
              "#bd3786"
             ],
             [
              0.5555555555555556,
              "#d8576b"
             ],
             [
              0.6666666666666666,
              "#ed7953"
             ],
             [
              0.7777777777777778,
              "#fb9f3a"
             ],
             [
              0.8888888888888888,
              "#fdca26"
             ],
             [
              1,
              "#f0f921"
             ]
            ],
            "type": "contour"
           }
          ],
          "contourcarpet": [
           {
            "colorbar": {
             "outlinewidth": 0,
             "ticks": ""
            },
            "type": "contourcarpet"
           }
          ],
          "heatmap": [
           {
            "colorbar": {
             "outlinewidth": 0,
             "ticks": ""
            },
            "colorscale": [
             [
              0,
              "#0d0887"
             ],
             [
              0.1111111111111111,
              "#46039f"
             ],
             [
              0.2222222222222222,
              "#7201a8"
             ],
             [
              0.3333333333333333,
              "#9c179e"
             ],
             [
              0.4444444444444444,
              "#bd3786"
             ],
             [
              0.5555555555555556,
              "#d8576b"
             ],
             [
              0.6666666666666666,
              "#ed7953"
             ],
             [
              0.7777777777777778,
              "#fb9f3a"
             ],
             [
              0.8888888888888888,
              "#fdca26"
             ],
             [
              1,
              "#f0f921"
             ]
            ],
            "type": "heatmap"
           }
          ],
          "heatmapgl": [
           {
            "colorbar": {
             "outlinewidth": 0,
             "ticks": ""
            },
            "colorscale": [
             [
              0,
              "#0d0887"
             ],
             [
              0.1111111111111111,
              "#46039f"
             ],
             [
              0.2222222222222222,
              "#7201a8"
             ],
             [
              0.3333333333333333,
              "#9c179e"
             ],
             [
              0.4444444444444444,
              "#bd3786"
             ],
             [
              0.5555555555555556,
              "#d8576b"
             ],
             [
              0.6666666666666666,
              "#ed7953"
             ],
             [
              0.7777777777777778,
              "#fb9f3a"
             ],
             [
              0.8888888888888888,
              "#fdca26"
             ],
             [
              1,
              "#f0f921"
             ]
            ],
            "type": "heatmapgl"
           }
          ],
          "histogram": [
           {
            "marker": {
             "pattern": {
              "fillmode": "overlay",
              "size": 10,
              "solidity": 0.2
             }
            },
            "type": "histogram"
           }
          ],
          "histogram2d": [
           {
            "colorbar": {
             "outlinewidth": 0,
             "ticks": ""
            },
            "colorscale": [
             [
              0,
              "#0d0887"
             ],
             [
              0.1111111111111111,
              "#46039f"
             ],
             [
              0.2222222222222222,
              "#7201a8"
             ],
             [
              0.3333333333333333,
              "#9c179e"
             ],
             [
              0.4444444444444444,
              "#bd3786"
             ],
             [
              0.5555555555555556,
              "#d8576b"
             ],
             [
              0.6666666666666666,
              "#ed7953"
             ],
             [
              0.7777777777777778,
              "#fb9f3a"
             ],
             [
              0.8888888888888888,
              "#fdca26"
             ],
             [
              1,
              "#f0f921"
             ]
            ],
            "type": "histogram2d"
           }
          ],
          "histogram2dcontour": [
           {
            "colorbar": {
             "outlinewidth": 0,
             "ticks": ""
            },
            "colorscale": [
             [
              0,
              "#0d0887"
             ],
             [
              0.1111111111111111,
              "#46039f"
             ],
             [
              0.2222222222222222,
              "#7201a8"
             ],
             [
              0.3333333333333333,
              "#9c179e"
             ],
             [
              0.4444444444444444,
              "#bd3786"
             ],
             [
              0.5555555555555556,
              "#d8576b"
             ],
             [
              0.6666666666666666,
              "#ed7953"
             ],
             [
              0.7777777777777778,
              "#fb9f3a"
             ],
             [
              0.8888888888888888,
              "#fdca26"
             ],
             [
              1,
              "#f0f921"
             ]
            ],
            "type": "histogram2dcontour"
           }
          ],
          "mesh3d": [
           {
            "colorbar": {
             "outlinewidth": 0,
             "ticks": ""
            },
            "type": "mesh3d"
           }
          ],
          "parcoords": [
           {
            "line": {
             "colorbar": {
              "outlinewidth": 0,
              "ticks": ""
             }
            },
            "type": "parcoords"
           }
          ],
          "pie": [
           {
            "automargin": true,
            "type": "pie"
           }
          ],
          "scatter": [
           {
            "fillpattern": {
             "fillmode": "overlay",
             "size": 10,
             "solidity": 0.2
            },
            "type": "scatter"
           }
          ],
          "scatter3d": [
           {
            "line": {
             "colorbar": {
              "outlinewidth": 0,
              "ticks": ""
             }
            },
            "marker": {
             "colorbar": {
              "outlinewidth": 0,
              "ticks": ""
             }
            },
            "type": "scatter3d"
           }
          ],
          "scattercarpet": [
           {
            "marker": {
             "colorbar": {
              "outlinewidth": 0,
              "ticks": ""
             }
            },
            "type": "scattercarpet"
           }
          ],
          "scattergeo": [
           {
            "marker": {
             "colorbar": {
              "outlinewidth": 0,
              "ticks": ""
             }
            },
            "type": "scattergeo"
           }
          ],
          "scattergl": [
           {
            "marker": {
             "colorbar": {
              "outlinewidth": 0,
              "ticks": ""
             }
            },
            "type": "scattergl"
           }
          ],
          "scattermapbox": [
           {
            "marker": {
             "colorbar": {
              "outlinewidth": 0,
              "ticks": ""
             }
            },
            "type": "scattermapbox"
           }
          ],
          "scatterpolar": [
           {
            "marker": {
             "colorbar": {
              "outlinewidth": 0,
              "ticks": ""
             }
            },
            "type": "scatterpolar"
           }
          ],
          "scatterpolargl": [
           {
            "marker": {
             "colorbar": {
              "outlinewidth": 0,
              "ticks": ""
             }
            },
            "type": "scatterpolargl"
           }
          ],
          "scatterternary": [
           {
            "marker": {
             "colorbar": {
              "outlinewidth": 0,
              "ticks": ""
             }
            },
            "type": "scatterternary"
           }
          ],
          "surface": [
           {
            "colorbar": {
             "outlinewidth": 0,
             "ticks": ""
            },
            "colorscale": [
             [
              0,
              "#0d0887"
             ],
             [
              0.1111111111111111,
              "#46039f"
             ],
             [
              0.2222222222222222,
              "#7201a8"
             ],
             [
              0.3333333333333333,
              "#9c179e"
             ],
             [
              0.4444444444444444,
              "#bd3786"
             ],
             [
              0.5555555555555556,
              "#d8576b"
             ],
             [
              0.6666666666666666,
              "#ed7953"
             ],
             [
              0.7777777777777778,
              "#fb9f3a"
             ],
             [
              0.8888888888888888,
              "#fdca26"
             ],
             [
              1,
              "#f0f921"
             ]
            ],
            "type": "surface"
           }
          ],
          "table": [
           {
            "cells": {
             "fill": {
              "color": "#EBF0F8"
             },
             "line": {
              "color": "white"
             }
            },
            "header": {
             "fill": {
              "color": "#C8D4E3"
             },
             "line": {
              "color": "white"
             }
            },
            "type": "table"
           }
          ]
         },
         "layout": {
          "annotationdefaults": {
           "arrowcolor": "#2a3f5f",
           "arrowhead": 0,
           "arrowwidth": 1
          },
          "autotypenumbers": "strict",
          "coloraxis": {
           "colorbar": {
            "outlinewidth": 0,
            "ticks": ""
           }
          },
          "colorscale": {
           "diverging": [
            [
             0,
             "#8e0152"
            ],
            [
             0.1,
             "#c51b7d"
            ],
            [
             0.2,
             "#de77ae"
            ],
            [
             0.3,
             "#f1b6da"
            ],
            [
             0.4,
             "#fde0ef"
            ],
            [
             0.5,
             "#f7f7f7"
            ],
            [
             0.6,
             "#e6f5d0"
            ],
            [
             0.7,
             "#b8e186"
            ],
            [
             0.8,
             "#7fbc41"
            ],
            [
             0.9,
             "#4d9221"
            ],
            [
             1,
             "#276419"
            ]
           ],
           "sequential": [
            [
             0,
             "#0d0887"
            ],
            [
             0.1111111111111111,
             "#46039f"
            ],
            [
             0.2222222222222222,
             "#7201a8"
            ],
            [
             0.3333333333333333,
             "#9c179e"
            ],
            [
             0.4444444444444444,
             "#bd3786"
            ],
            [
             0.5555555555555556,
             "#d8576b"
            ],
            [
             0.6666666666666666,
             "#ed7953"
            ],
            [
             0.7777777777777778,
             "#fb9f3a"
            ],
            [
             0.8888888888888888,
             "#fdca26"
            ],
            [
             1,
             "#f0f921"
            ]
           ],
           "sequentialminus": [
            [
             0,
             "#0d0887"
            ],
            [
             0.1111111111111111,
             "#46039f"
            ],
            [
             0.2222222222222222,
             "#7201a8"
            ],
            [
             0.3333333333333333,
             "#9c179e"
            ],
            [
             0.4444444444444444,
             "#bd3786"
            ],
            [
             0.5555555555555556,
             "#d8576b"
            ],
            [
             0.6666666666666666,
             "#ed7953"
            ],
            [
             0.7777777777777778,
             "#fb9f3a"
            ],
            [
             0.8888888888888888,
             "#fdca26"
            ],
            [
             1,
             "#f0f921"
            ]
           ]
          },
          "colorway": [
           "#636efa",
           "#EF553B",
           "#00cc96",
           "#ab63fa",
           "#FFA15A",
           "#19d3f3",
           "#FF6692",
           "#B6E880",
           "#FF97FF",
           "#FECB52"
          ],
          "font": {
           "color": "#2a3f5f"
          },
          "geo": {
           "bgcolor": "white",
           "lakecolor": "white",
           "landcolor": "#E5ECF6",
           "showlakes": true,
           "showland": true,
           "subunitcolor": "white"
          },
          "hoverlabel": {
           "align": "left"
          },
          "hovermode": "closest",
          "mapbox": {
           "style": "light"
          },
          "paper_bgcolor": "white",
          "plot_bgcolor": "#E5ECF6",
          "polar": {
           "angularaxis": {
            "gridcolor": "white",
            "linecolor": "white",
            "ticks": ""
           },
           "bgcolor": "#E5ECF6",
           "radialaxis": {
            "gridcolor": "white",
            "linecolor": "white",
            "ticks": ""
           }
          },
          "scene": {
           "xaxis": {
            "backgroundcolor": "#E5ECF6",
            "gridcolor": "white",
            "gridwidth": 2,
            "linecolor": "white",
            "showbackground": true,
            "ticks": "",
            "zerolinecolor": "white"
           },
           "yaxis": {
            "backgroundcolor": "#E5ECF6",
            "gridcolor": "white",
            "gridwidth": 2,
            "linecolor": "white",
            "showbackground": true,
            "ticks": "",
            "zerolinecolor": "white"
           },
           "zaxis": {
            "backgroundcolor": "#E5ECF6",
            "gridcolor": "white",
            "gridwidth": 2,
            "linecolor": "white",
            "showbackground": true,
            "ticks": "",
            "zerolinecolor": "white"
           }
          },
          "shapedefaults": {
           "line": {
            "color": "#2a3f5f"
           }
          },
          "ternary": {
           "aaxis": {
            "gridcolor": "white",
            "linecolor": "white",
            "ticks": ""
           },
           "baxis": {
            "gridcolor": "white",
            "linecolor": "white",
            "ticks": ""
           },
           "bgcolor": "#E5ECF6",
           "caxis": {
            "gridcolor": "white",
            "linecolor": "white",
            "ticks": ""
           }
          },
          "title": {
           "x": 0.05
          },
          "xaxis": {
           "automargin": true,
           "gridcolor": "white",
           "linecolor": "white",
           "ticks": "",
           "title": {
            "standoff": 15
           },
           "zerolinecolor": "white",
           "zerolinewidth": 2
          },
          "yaxis": {
           "automargin": true,
           "gridcolor": "white",
           "linecolor": "white",
           "ticks": "",
           "title": {
            "standoff": 15
           },
           "zerolinecolor": "white",
           "zerolinewidth": 2
          }
         }
        },
        "xaxis": {
         "title": {
          "text": "Chunk No."
         }
        },
        "yaxis": {
         "title": {
          "text": "Value"
         }
        }
       }
      }
     },
     "metadata": {},
     "output_type": "display_data"
    },
    {
     "data": {
      "application/vnd.plotly.v1+json": {
       "config": {
        "plotlyServerURL": "https://plot.ly"
       },
       "data": [
        {
         "line": {
          "color": "brown"
         },
         "mode": "lines+markers",
         "name": "online500",
         "type": "scatter",
         "x": [
          0,
          1,
          2,
          3,
          4,
          5
         ],
         "y": [
          0.36785066558913115,
          0.26552127959013316,
          0.26552127959013316,
          0.19078628660528452,
          0.18616190746354455,
          0.11076902771845942
         ]
        },
        {
         "line": {
          "color": "blue"
         },
         "mode": "lines+markers",
         "name": "online_mm500",
         "type": "scatter",
         "x": [
          0,
          1,
          2,
          3,
          4,
          5
         ],
         "y": [
          0.3692315779393758,
          0.30811949745733713,
          0.30811949745733713,
          0.2567321625723866,
          0.2519232923998689,
          0.19901301161930474
         ]
        },
        {
         "line": {
          "color": "green"
         },
         "mode": "lines+markers",
         "name": "offline500",
         "type": "scatter",
         "x": [
          0,
          1,
          2,
          3,
          4,
          5
         ],
         "y": [
          0.3851190095934207,
          0.2918521088596726,
          0.2815769134658057,
          0.22389433960170035,
          0.21904637239719604,
          0.15563460913607896
         ]
        }
       ],
       "layout": {
        "legend": {
         "title": {
          "text": "Lines"
         }
        },
        "template": {
         "data": {
          "bar": [
           {
            "error_x": {
             "color": "#2a3f5f"
            },
            "error_y": {
             "color": "#2a3f5f"
            },
            "marker": {
             "line": {
              "color": "#E5ECF6",
              "width": 0.5
             },
             "pattern": {
              "fillmode": "overlay",
              "size": 10,
              "solidity": 0.2
             }
            },
            "type": "bar"
           }
          ],
          "barpolar": [
           {
            "marker": {
             "line": {
              "color": "#E5ECF6",
              "width": 0.5
             },
             "pattern": {
              "fillmode": "overlay",
              "size": 10,
              "solidity": 0.2
             }
            },
            "type": "barpolar"
           }
          ],
          "carpet": [
           {
            "aaxis": {
             "endlinecolor": "#2a3f5f",
             "gridcolor": "white",
             "linecolor": "white",
             "minorgridcolor": "white",
             "startlinecolor": "#2a3f5f"
            },
            "baxis": {
             "endlinecolor": "#2a3f5f",
             "gridcolor": "white",
             "linecolor": "white",
             "minorgridcolor": "white",
             "startlinecolor": "#2a3f5f"
            },
            "type": "carpet"
           }
          ],
          "choropleth": [
           {
            "colorbar": {
             "outlinewidth": 0,
             "ticks": ""
            },
            "type": "choropleth"
           }
          ],
          "contour": [
           {
            "colorbar": {
             "outlinewidth": 0,
             "ticks": ""
            },
            "colorscale": [
             [
              0,
              "#0d0887"
             ],
             [
              0.1111111111111111,
              "#46039f"
             ],
             [
              0.2222222222222222,
              "#7201a8"
             ],
             [
              0.3333333333333333,
              "#9c179e"
             ],
             [
              0.4444444444444444,
              "#bd3786"
             ],
             [
              0.5555555555555556,
              "#d8576b"
             ],
             [
              0.6666666666666666,
              "#ed7953"
             ],
             [
              0.7777777777777778,
              "#fb9f3a"
             ],
             [
              0.8888888888888888,
              "#fdca26"
             ],
             [
              1,
              "#f0f921"
             ]
            ],
            "type": "contour"
           }
          ],
          "contourcarpet": [
           {
            "colorbar": {
             "outlinewidth": 0,
             "ticks": ""
            },
            "type": "contourcarpet"
           }
          ],
          "heatmap": [
           {
            "colorbar": {
             "outlinewidth": 0,
             "ticks": ""
            },
            "colorscale": [
             [
              0,
              "#0d0887"
             ],
             [
              0.1111111111111111,
              "#46039f"
             ],
             [
              0.2222222222222222,
              "#7201a8"
             ],
             [
              0.3333333333333333,
              "#9c179e"
             ],
             [
              0.4444444444444444,
              "#bd3786"
             ],
             [
              0.5555555555555556,
              "#d8576b"
             ],
             [
              0.6666666666666666,
              "#ed7953"
             ],
             [
              0.7777777777777778,
              "#fb9f3a"
             ],
             [
              0.8888888888888888,
              "#fdca26"
             ],
             [
              1,
              "#f0f921"
             ]
            ],
            "type": "heatmap"
           }
          ],
          "heatmapgl": [
           {
            "colorbar": {
             "outlinewidth": 0,
             "ticks": ""
            },
            "colorscale": [
             [
              0,
              "#0d0887"
             ],
             [
              0.1111111111111111,
              "#46039f"
             ],
             [
              0.2222222222222222,
              "#7201a8"
             ],
             [
              0.3333333333333333,
              "#9c179e"
             ],
             [
              0.4444444444444444,
              "#bd3786"
             ],
             [
              0.5555555555555556,
              "#d8576b"
             ],
             [
              0.6666666666666666,
              "#ed7953"
             ],
             [
              0.7777777777777778,
              "#fb9f3a"
             ],
             [
              0.8888888888888888,
              "#fdca26"
             ],
             [
              1,
              "#f0f921"
             ]
            ],
            "type": "heatmapgl"
           }
          ],
          "histogram": [
           {
            "marker": {
             "pattern": {
              "fillmode": "overlay",
              "size": 10,
              "solidity": 0.2
             }
            },
            "type": "histogram"
           }
          ],
          "histogram2d": [
           {
            "colorbar": {
             "outlinewidth": 0,
             "ticks": ""
            },
            "colorscale": [
             [
              0,
              "#0d0887"
             ],
             [
              0.1111111111111111,
              "#46039f"
             ],
             [
              0.2222222222222222,
              "#7201a8"
             ],
             [
              0.3333333333333333,
              "#9c179e"
             ],
             [
              0.4444444444444444,
              "#bd3786"
             ],
             [
              0.5555555555555556,
              "#d8576b"
             ],
             [
              0.6666666666666666,
              "#ed7953"
             ],
             [
              0.7777777777777778,
              "#fb9f3a"
             ],
             [
              0.8888888888888888,
              "#fdca26"
             ],
             [
              1,
              "#f0f921"
             ]
            ],
            "type": "histogram2d"
           }
          ],
          "histogram2dcontour": [
           {
            "colorbar": {
             "outlinewidth": 0,
             "ticks": ""
            },
            "colorscale": [
             [
              0,
              "#0d0887"
             ],
             [
              0.1111111111111111,
              "#46039f"
             ],
             [
              0.2222222222222222,
              "#7201a8"
             ],
             [
              0.3333333333333333,
              "#9c179e"
             ],
             [
              0.4444444444444444,
              "#bd3786"
             ],
             [
              0.5555555555555556,
              "#d8576b"
             ],
             [
              0.6666666666666666,
              "#ed7953"
             ],
             [
              0.7777777777777778,
              "#fb9f3a"
             ],
             [
              0.8888888888888888,
              "#fdca26"
             ],
             [
              1,
              "#f0f921"
             ]
            ],
            "type": "histogram2dcontour"
           }
          ],
          "mesh3d": [
           {
            "colorbar": {
             "outlinewidth": 0,
             "ticks": ""
            },
            "type": "mesh3d"
           }
          ],
          "parcoords": [
           {
            "line": {
             "colorbar": {
              "outlinewidth": 0,
              "ticks": ""
             }
            },
            "type": "parcoords"
           }
          ],
          "pie": [
           {
            "automargin": true,
            "type": "pie"
           }
          ],
          "scatter": [
           {
            "fillpattern": {
             "fillmode": "overlay",
             "size": 10,
             "solidity": 0.2
            },
            "type": "scatter"
           }
          ],
          "scatter3d": [
           {
            "line": {
             "colorbar": {
              "outlinewidth": 0,
              "ticks": ""
             }
            },
            "marker": {
             "colorbar": {
              "outlinewidth": 0,
              "ticks": ""
             }
            },
            "type": "scatter3d"
           }
          ],
          "scattercarpet": [
           {
            "marker": {
             "colorbar": {
              "outlinewidth": 0,
              "ticks": ""
             }
            },
            "type": "scattercarpet"
           }
          ],
          "scattergeo": [
           {
            "marker": {
             "colorbar": {
              "outlinewidth": 0,
              "ticks": ""
             }
            },
            "type": "scattergeo"
           }
          ],
          "scattergl": [
           {
            "marker": {
             "colorbar": {
              "outlinewidth": 0,
              "ticks": ""
             }
            },
            "type": "scattergl"
           }
          ],
          "scattermapbox": [
           {
            "marker": {
             "colorbar": {
              "outlinewidth": 0,
              "ticks": ""
             }
            },
            "type": "scattermapbox"
           }
          ],
          "scatterpolar": [
           {
            "marker": {
             "colorbar": {
              "outlinewidth": 0,
              "ticks": ""
             }
            },
            "type": "scatterpolar"
           }
          ],
          "scatterpolargl": [
           {
            "marker": {
             "colorbar": {
              "outlinewidth": 0,
              "ticks": ""
             }
            },
            "type": "scatterpolargl"
           }
          ],
          "scatterternary": [
           {
            "marker": {
             "colorbar": {
              "outlinewidth": 0,
              "ticks": ""
             }
            },
            "type": "scatterternary"
           }
          ],
          "surface": [
           {
            "colorbar": {
             "outlinewidth": 0,
             "ticks": ""
            },
            "colorscale": [
             [
              0,
              "#0d0887"
             ],
             [
              0.1111111111111111,
              "#46039f"
             ],
             [
              0.2222222222222222,
              "#7201a8"
             ],
             [
              0.3333333333333333,
              "#9c179e"
             ],
             [
              0.4444444444444444,
              "#bd3786"
             ],
             [
              0.5555555555555556,
              "#d8576b"
             ],
             [
              0.6666666666666666,
              "#ed7953"
             ],
             [
              0.7777777777777778,
              "#fb9f3a"
             ],
             [
              0.8888888888888888,
              "#fdca26"
             ],
             [
              1,
              "#f0f921"
             ]
            ],
            "type": "surface"
           }
          ],
          "table": [
           {
            "cells": {
             "fill": {
              "color": "#EBF0F8"
             },
             "line": {
              "color": "white"
             }
            },
            "header": {
             "fill": {
              "color": "#C8D4E3"
             },
             "line": {
              "color": "white"
             }
            },
            "type": "table"
           }
          ]
         },
         "layout": {
          "annotationdefaults": {
           "arrowcolor": "#2a3f5f",
           "arrowhead": 0,
           "arrowwidth": 1
          },
          "autotypenumbers": "strict",
          "coloraxis": {
           "colorbar": {
            "outlinewidth": 0,
            "ticks": ""
           }
          },
          "colorscale": {
           "diverging": [
            [
             0,
             "#8e0152"
            ],
            [
             0.1,
             "#c51b7d"
            ],
            [
             0.2,
             "#de77ae"
            ],
            [
             0.3,
             "#f1b6da"
            ],
            [
             0.4,
             "#fde0ef"
            ],
            [
             0.5,
             "#f7f7f7"
            ],
            [
             0.6,
             "#e6f5d0"
            ],
            [
             0.7,
             "#b8e186"
            ],
            [
             0.8,
             "#7fbc41"
            ],
            [
             0.9,
             "#4d9221"
            ],
            [
             1,
             "#276419"
            ]
           ],
           "sequential": [
            [
             0,
             "#0d0887"
            ],
            [
             0.1111111111111111,
             "#46039f"
            ],
            [
             0.2222222222222222,
             "#7201a8"
            ],
            [
             0.3333333333333333,
             "#9c179e"
            ],
            [
             0.4444444444444444,
             "#bd3786"
            ],
            [
             0.5555555555555556,
             "#d8576b"
            ],
            [
             0.6666666666666666,
             "#ed7953"
            ],
            [
             0.7777777777777778,
             "#fb9f3a"
            ],
            [
             0.8888888888888888,
             "#fdca26"
            ],
            [
             1,
             "#f0f921"
            ]
           ],
           "sequentialminus": [
            [
             0,
             "#0d0887"
            ],
            [
             0.1111111111111111,
             "#46039f"
            ],
            [
             0.2222222222222222,
             "#7201a8"
            ],
            [
             0.3333333333333333,
             "#9c179e"
            ],
            [
             0.4444444444444444,
             "#bd3786"
            ],
            [
             0.5555555555555556,
             "#d8576b"
            ],
            [
             0.6666666666666666,
             "#ed7953"
            ],
            [
             0.7777777777777778,
             "#fb9f3a"
            ],
            [
             0.8888888888888888,
             "#fdca26"
            ],
            [
             1,
             "#f0f921"
            ]
           ]
          },
          "colorway": [
           "#636efa",
           "#EF553B",
           "#00cc96",
           "#ab63fa",
           "#FFA15A",
           "#19d3f3",
           "#FF6692",
           "#B6E880",
           "#FF97FF",
           "#FECB52"
          ],
          "font": {
           "color": "#2a3f5f"
          },
          "geo": {
           "bgcolor": "white",
           "lakecolor": "white",
           "landcolor": "#E5ECF6",
           "showlakes": true,
           "showland": true,
           "subunitcolor": "white"
          },
          "hoverlabel": {
           "align": "left"
          },
          "hovermode": "closest",
          "mapbox": {
           "style": "light"
          },
          "paper_bgcolor": "white",
          "plot_bgcolor": "#E5ECF6",
          "polar": {
           "angularaxis": {
            "gridcolor": "white",
            "linecolor": "white",
            "ticks": ""
           },
           "bgcolor": "#E5ECF6",
           "radialaxis": {
            "gridcolor": "white",
            "linecolor": "white",
            "ticks": ""
           }
          },
          "scene": {
           "xaxis": {
            "backgroundcolor": "#E5ECF6",
            "gridcolor": "white",
            "gridwidth": 2,
            "linecolor": "white",
            "showbackground": true,
            "ticks": "",
            "zerolinecolor": "white"
           },
           "yaxis": {
            "backgroundcolor": "#E5ECF6",
            "gridcolor": "white",
            "gridwidth": 2,
            "linecolor": "white",
            "showbackground": true,
            "ticks": "",
            "zerolinecolor": "white"
           },
           "zaxis": {
            "backgroundcolor": "#E5ECF6",
            "gridcolor": "white",
            "gridwidth": 2,
            "linecolor": "white",
            "showbackground": true,
            "ticks": "",
            "zerolinecolor": "white"
           }
          },
          "shapedefaults": {
           "line": {
            "color": "#2a3f5f"
           }
          },
          "ternary": {
           "aaxis": {
            "gridcolor": "white",
            "linecolor": "white",
            "ticks": ""
           },
           "baxis": {
            "gridcolor": "white",
            "linecolor": "white",
            "ticks": ""
           },
           "bgcolor": "#E5ECF6",
           "caxis": {
            "gridcolor": "white",
            "linecolor": "white",
            "ticks": ""
           }
          },
          "title": {
           "x": 0.05
          },
          "xaxis": {
           "automargin": true,
           "gridcolor": "white",
           "linecolor": "white",
           "ticks": "",
           "title": {
            "standoff": 15
           },
           "zerolinecolor": "white",
           "zerolinewidth": 2
          },
          "yaxis": {
           "automargin": true,
           "gridcolor": "white",
           "linecolor": "white",
           "ticks": "",
           "title": {
            "standoff": 15
           },
           "zerolinecolor": "white",
           "zerolinewidth": 2
          }
         }
        },
        "xaxis": {
         "title": {
          "text": "Chunk No."
         }
        },
        "yaxis": {
         "title": {
          "text": "range error"
         }
        }
       }
      }
     },
     "metadata": {},
     "output_type": "display_data"
    },
    {
     "data": {
      "application/vnd.plotly.v1+json": {
       "config": {
        "plotlyServerURL": "https://plot.ly"
       },
       "data": [
        {
         "line": {
          "color": "brown"
         },
         "mode": "lines+markers",
         "name": "online500",
         "type": "scatter",
         "x": [
          0,
          1,
          2,
          3,
          4,
          5
         ],
         "y": [
          0,
          39,
          39,
          19,
          22,
          9
         ]
        },
        {
         "line": {
          "color": "blue"
         },
         "mode": "lines+markers",
         "name": "online_mm500",
         "type": "scatter",
         "x": [
          0,
          1,
          2,
          3,
          4,
          5
         ],
         "y": [
          0,
          41,
          20,
          27,
          29,
          57
         ]
        }
       ],
       "layout": {
        "legend": {
         "title": {
          "text": "Lines"
         }
        },
        "template": {
         "data": {
          "bar": [
           {
            "error_x": {
             "color": "#2a3f5f"
            },
            "error_y": {
             "color": "#2a3f5f"
            },
            "marker": {
             "line": {
              "color": "#E5ECF6",
              "width": 0.5
             },
             "pattern": {
              "fillmode": "overlay",
              "size": 10,
              "solidity": 0.2
             }
            },
            "type": "bar"
           }
          ],
          "barpolar": [
           {
            "marker": {
             "line": {
              "color": "#E5ECF6",
              "width": 0.5
             },
             "pattern": {
              "fillmode": "overlay",
              "size": 10,
              "solidity": 0.2
             }
            },
            "type": "barpolar"
           }
          ],
          "carpet": [
           {
            "aaxis": {
             "endlinecolor": "#2a3f5f",
             "gridcolor": "white",
             "linecolor": "white",
             "minorgridcolor": "white",
             "startlinecolor": "#2a3f5f"
            },
            "baxis": {
             "endlinecolor": "#2a3f5f",
             "gridcolor": "white",
             "linecolor": "white",
             "minorgridcolor": "white",
             "startlinecolor": "#2a3f5f"
            },
            "type": "carpet"
           }
          ],
          "choropleth": [
           {
            "colorbar": {
             "outlinewidth": 0,
             "ticks": ""
            },
            "type": "choropleth"
           }
          ],
          "contour": [
           {
            "colorbar": {
             "outlinewidth": 0,
             "ticks": ""
            },
            "colorscale": [
             [
              0,
              "#0d0887"
             ],
             [
              0.1111111111111111,
              "#46039f"
             ],
             [
              0.2222222222222222,
              "#7201a8"
             ],
             [
              0.3333333333333333,
              "#9c179e"
             ],
             [
              0.4444444444444444,
              "#bd3786"
             ],
             [
              0.5555555555555556,
              "#d8576b"
             ],
             [
              0.6666666666666666,
              "#ed7953"
             ],
             [
              0.7777777777777778,
              "#fb9f3a"
             ],
             [
              0.8888888888888888,
              "#fdca26"
             ],
             [
              1,
              "#f0f921"
             ]
            ],
            "type": "contour"
           }
          ],
          "contourcarpet": [
           {
            "colorbar": {
             "outlinewidth": 0,
             "ticks": ""
            },
            "type": "contourcarpet"
           }
          ],
          "heatmap": [
           {
            "colorbar": {
             "outlinewidth": 0,
             "ticks": ""
            },
            "colorscale": [
             [
              0,
              "#0d0887"
             ],
             [
              0.1111111111111111,
              "#46039f"
             ],
             [
              0.2222222222222222,
              "#7201a8"
             ],
             [
              0.3333333333333333,
              "#9c179e"
             ],
             [
              0.4444444444444444,
              "#bd3786"
             ],
             [
              0.5555555555555556,
              "#d8576b"
             ],
             [
              0.6666666666666666,
              "#ed7953"
             ],
             [
              0.7777777777777778,
              "#fb9f3a"
             ],
             [
              0.8888888888888888,
              "#fdca26"
             ],
             [
              1,
              "#f0f921"
             ]
            ],
            "type": "heatmap"
           }
          ],
          "heatmapgl": [
           {
            "colorbar": {
             "outlinewidth": 0,
             "ticks": ""
            },
            "colorscale": [
             [
              0,
              "#0d0887"
             ],
             [
              0.1111111111111111,
              "#46039f"
             ],
             [
              0.2222222222222222,
              "#7201a8"
             ],
             [
              0.3333333333333333,
              "#9c179e"
             ],
             [
              0.4444444444444444,
              "#bd3786"
             ],
             [
              0.5555555555555556,
              "#d8576b"
             ],
             [
              0.6666666666666666,
              "#ed7953"
             ],
             [
              0.7777777777777778,
              "#fb9f3a"
             ],
             [
              0.8888888888888888,
              "#fdca26"
             ],
             [
              1,
              "#f0f921"
             ]
            ],
            "type": "heatmapgl"
           }
          ],
          "histogram": [
           {
            "marker": {
             "pattern": {
              "fillmode": "overlay",
              "size": 10,
              "solidity": 0.2
             }
            },
            "type": "histogram"
           }
          ],
          "histogram2d": [
           {
            "colorbar": {
             "outlinewidth": 0,
             "ticks": ""
            },
            "colorscale": [
             [
              0,
              "#0d0887"
             ],
             [
              0.1111111111111111,
              "#46039f"
             ],
             [
              0.2222222222222222,
              "#7201a8"
             ],
             [
              0.3333333333333333,
              "#9c179e"
             ],
             [
              0.4444444444444444,
              "#bd3786"
             ],
             [
              0.5555555555555556,
              "#d8576b"
             ],
             [
              0.6666666666666666,
              "#ed7953"
             ],
             [
              0.7777777777777778,
              "#fb9f3a"
             ],
             [
              0.8888888888888888,
              "#fdca26"
             ],
             [
              1,
              "#f0f921"
             ]
            ],
            "type": "histogram2d"
           }
          ],
          "histogram2dcontour": [
           {
            "colorbar": {
             "outlinewidth": 0,
             "ticks": ""
            },
            "colorscale": [
             [
              0,
              "#0d0887"
             ],
             [
              0.1111111111111111,
              "#46039f"
             ],
             [
              0.2222222222222222,
              "#7201a8"
             ],
             [
              0.3333333333333333,
              "#9c179e"
             ],
             [
              0.4444444444444444,
              "#bd3786"
             ],
             [
              0.5555555555555556,
              "#d8576b"
             ],
             [
              0.6666666666666666,
              "#ed7953"
             ],
             [
              0.7777777777777778,
              "#fb9f3a"
             ],
             [
              0.8888888888888888,
              "#fdca26"
             ],
             [
              1,
              "#f0f921"
             ]
            ],
            "type": "histogram2dcontour"
           }
          ],
          "mesh3d": [
           {
            "colorbar": {
             "outlinewidth": 0,
             "ticks": ""
            },
            "type": "mesh3d"
           }
          ],
          "parcoords": [
           {
            "line": {
             "colorbar": {
              "outlinewidth": 0,
              "ticks": ""
             }
            },
            "type": "parcoords"
           }
          ],
          "pie": [
           {
            "automargin": true,
            "type": "pie"
           }
          ],
          "scatter": [
           {
            "fillpattern": {
             "fillmode": "overlay",
             "size": 10,
             "solidity": 0.2
            },
            "type": "scatter"
           }
          ],
          "scatter3d": [
           {
            "line": {
             "colorbar": {
              "outlinewidth": 0,
              "ticks": ""
             }
            },
            "marker": {
             "colorbar": {
              "outlinewidth": 0,
              "ticks": ""
             }
            },
            "type": "scatter3d"
           }
          ],
          "scattercarpet": [
           {
            "marker": {
             "colorbar": {
              "outlinewidth": 0,
              "ticks": ""
             }
            },
            "type": "scattercarpet"
           }
          ],
          "scattergeo": [
           {
            "marker": {
             "colorbar": {
              "outlinewidth": 0,
              "ticks": ""
             }
            },
            "type": "scattergeo"
           }
          ],
          "scattergl": [
           {
            "marker": {
             "colorbar": {
              "outlinewidth": 0,
              "ticks": ""
             }
            },
            "type": "scattergl"
           }
          ],
          "scattermapbox": [
           {
            "marker": {
             "colorbar": {
              "outlinewidth": 0,
              "ticks": ""
             }
            },
            "type": "scattermapbox"
           }
          ],
          "scatterpolar": [
           {
            "marker": {
             "colorbar": {
              "outlinewidth": 0,
              "ticks": ""
             }
            },
            "type": "scatterpolar"
           }
          ],
          "scatterpolargl": [
           {
            "marker": {
             "colorbar": {
              "outlinewidth": 0,
              "ticks": ""
             }
            },
            "type": "scatterpolargl"
           }
          ],
          "scatterternary": [
           {
            "marker": {
             "colorbar": {
              "outlinewidth": 0,
              "ticks": ""
             }
            },
            "type": "scatterternary"
           }
          ],
          "surface": [
           {
            "colorbar": {
             "outlinewidth": 0,
             "ticks": ""
            },
            "colorscale": [
             [
              0,
              "#0d0887"
             ],
             [
              0.1111111111111111,
              "#46039f"
             ],
             [
              0.2222222222222222,
              "#7201a8"
             ],
             [
              0.3333333333333333,
              "#9c179e"
             ],
             [
              0.4444444444444444,
              "#bd3786"
             ],
             [
              0.5555555555555556,
              "#d8576b"
             ],
             [
              0.6666666666666666,
              "#ed7953"
             ],
             [
              0.7777777777777778,
              "#fb9f3a"
             ],
             [
              0.8888888888888888,
              "#fdca26"
             ],
             [
              1,
              "#f0f921"
             ]
            ],
            "type": "surface"
           }
          ],
          "table": [
           {
            "cells": {
             "fill": {
              "color": "#EBF0F8"
             },
             "line": {
              "color": "white"
             }
            },
            "header": {
             "fill": {
              "color": "#C8D4E3"
             },
             "line": {
              "color": "white"
             }
            },
            "type": "table"
           }
          ]
         },
         "layout": {
          "annotationdefaults": {
           "arrowcolor": "#2a3f5f",
           "arrowhead": 0,
           "arrowwidth": 1
          },
          "autotypenumbers": "strict",
          "coloraxis": {
           "colorbar": {
            "outlinewidth": 0,
            "ticks": ""
           }
          },
          "colorscale": {
           "diverging": [
            [
             0,
             "#8e0152"
            ],
            [
             0.1,
             "#c51b7d"
            ],
            [
             0.2,
             "#de77ae"
            ],
            [
             0.3,
             "#f1b6da"
            ],
            [
             0.4,
             "#fde0ef"
            ],
            [
             0.5,
             "#f7f7f7"
            ],
            [
             0.6,
             "#e6f5d0"
            ],
            [
             0.7,
             "#b8e186"
            ],
            [
             0.8,
             "#7fbc41"
            ],
            [
             0.9,
             "#4d9221"
            ],
            [
             1,
             "#276419"
            ]
           ],
           "sequential": [
            [
             0,
             "#0d0887"
            ],
            [
             0.1111111111111111,
             "#46039f"
            ],
            [
             0.2222222222222222,
             "#7201a8"
            ],
            [
             0.3333333333333333,
             "#9c179e"
            ],
            [
             0.4444444444444444,
             "#bd3786"
            ],
            [
             0.5555555555555556,
             "#d8576b"
            ],
            [
             0.6666666666666666,
             "#ed7953"
            ],
            [
             0.7777777777777778,
             "#fb9f3a"
            ],
            [
             0.8888888888888888,
             "#fdca26"
            ],
            [
             1,
             "#f0f921"
            ]
           ],
           "sequentialminus": [
            [
             0,
             "#0d0887"
            ],
            [
             0.1111111111111111,
             "#46039f"
            ],
            [
             0.2222222222222222,
             "#7201a8"
            ],
            [
             0.3333333333333333,
             "#9c179e"
            ],
            [
             0.4444444444444444,
             "#bd3786"
            ],
            [
             0.5555555555555556,
             "#d8576b"
            ],
            [
             0.6666666666666666,
             "#ed7953"
            ],
            [
             0.7777777777777778,
             "#fb9f3a"
            ],
            [
             0.8888888888888888,
             "#fdca26"
            ],
            [
             1,
             "#f0f921"
            ]
           ]
          },
          "colorway": [
           "#636efa",
           "#EF553B",
           "#00cc96",
           "#ab63fa",
           "#FFA15A",
           "#19d3f3",
           "#FF6692",
           "#B6E880",
           "#FF97FF",
           "#FECB52"
          ],
          "font": {
           "color": "#2a3f5f"
          },
          "geo": {
           "bgcolor": "white",
           "lakecolor": "white",
           "landcolor": "#E5ECF6",
           "showlakes": true,
           "showland": true,
           "subunitcolor": "white"
          },
          "hoverlabel": {
           "align": "left"
          },
          "hovermode": "closest",
          "mapbox": {
           "style": "light"
          },
          "paper_bgcolor": "white",
          "plot_bgcolor": "#E5ECF6",
          "polar": {
           "angularaxis": {
            "gridcolor": "white",
            "linecolor": "white",
            "ticks": ""
           },
           "bgcolor": "#E5ECF6",
           "radialaxis": {
            "gridcolor": "white",
            "linecolor": "white",
            "ticks": ""
           }
          },
          "scene": {
           "xaxis": {
            "backgroundcolor": "#E5ECF6",
            "gridcolor": "white",
            "gridwidth": 2,
            "linecolor": "white",
            "showbackground": true,
            "ticks": "",
            "zerolinecolor": "white"
           },
           "yaxis": {
            "backgroundcolor": "#E5ECF6",
            "gridcolor": "white",
            "gridwidth": 2,
            "linecolor": "white",
            "showbackground": true,
            "ticks": "",
            "zerolinecolor": "white"
           },
           "zaxis": {
            "backgroundcolor": "#E5ECF6",
            "gridcolor": "white",
            "gridwidth": 2,
            "linecolor": "white",
            "showbackground": true,
            "ticks": "",
            "zerolinecolor": "white"
           }
          },
          "shapedefaults": {
           "line": {
            "color": "#2a3f5f"
           }
          },
          "ternary": {
           "aaxis": {
            "gridcolor": "white",
            "linecolor": "white",
            "ticks": ""
           },
           "baxis": {
            "gridcolor": "white",
            "linecolor": "white",
            "ticks": ""
           },
           "bgcolor": "#E5ECF6",
           "caxis": {
            "gridcolor": "white",
            "linecolor": "white",
            "ticks": ""
           }
          },
          "title": {
           "x": 0.05
          },
          "xaxis": {
           "automargin": true,
           "gridcolor": "white",
           "linecolor": "white",
           "ticks": "",
           "title": {
            "standoff": 15
           },
           "zerolinecolor": "white",
           "zerolinewidth": 2
          },
          "yaxis": {
           "automargin": true,
           "gridcolor": "white",
           "linecolor": "white",
           "ticks": "",
           "title": {
            "standoff": 15
           },
           "zerolinecolor": "white",
           "zerolinewidth": 2
          }
         }
        },
        "xaxis": {
         "title": {
          "text": "Chunk No."
         }
        },
        "yaxis": {
         "title": {
          "text": "numbers of samples for boostraping"
         }
        }
       }
      }
     },
     "metadata": {},
     "output_type": "display_data"
    }
   ],
   "source": [
    "popminmax = [pop_min,pop_max]\n",
    "for idx in range(len(exp_l)):\n",
    "    plot_minmax_line(exp_l[idx], exp_r[idx], name_l[idx],name_r[idx], popminmax,filesave=file_pop+name[idx][0])\n",
    "    plot_err_line(error_range[idx], name[idx],filesave = file_pop+name[idx][0]+'error')\n",
    "    plot_nlearn_line(nlearn[idx], name[idx], filesave=file_pop+name[idx][0]+'_n')"
   ]
  },
  {
   "cell_type": "code",
   "execution_count": 56,
   "metadata": {},
   "outputs": [],
   "source": [
    "\n",
    "ch_size = list(set([res1.chunk_size for res1 in res]))\n",
    "error_l = []\n",
    "error_r = []\n",
    "error_range = []\n",
    "name = []\n",
    "for size in ch_size:\n",
    "    name.append([res1.net_name+str(size) for res1 in res if res1.chunk_size==size])\n",
    "    error_l.append([list(map(lambda x: pop_min - x, res1.exp_l)) for res1 in res if res1.chunk_size==size])\n",
    "    error_r.append([list(map(lambda x: pop_max - x, res1.exp_r)) for res1 in res if res1.chunk_size==size])\n",
    "    error_range.append([list(map(lambda x: pop_range - x, res1.exp_range)) for res1 in res if res1.chunk_size==size])"
   ]
  },
  {
   "cell_type": "code",
   "execution_count": 48,
   "metadata": {},
   "outputs": [],
   "source": [
    "vars_dict = {}\n",
    "id_ch = 1\n",
    "for i in range(3):\n",
    "    vars_dict[f'name{i}'] = name[i]\n",
    "    vars_dict[f'exp_l{i}'] = error_l[i]\n",
    "    vars_dict[f'exp_r{i}'] = error_r[i]\n",
    "    vars_dict[f'exp_range{i}'] = error_range[i]"
   ]
  }
 ],
 "metadata": {
  "kernelspec": {
   "display_name": ".conda",
   "language": "python",
   "name": "python3"
  },
  "language_info": {
   "codemirror_mode": {
    "name": "ipython",
    "version": 3
   },
   "file_extension": ".py",
   "mimetype": "text/x-python",
   "name": "python",
   "nbconvert_exporter": "python",
   "pygments_lexer": "ipython3",
   "version": "3.9.19"
  }
 },
 "nbformat": 4,
 "nbformat_minor": 2
}
